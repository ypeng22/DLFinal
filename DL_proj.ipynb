{
  "nbformat": 4,
  "nbformat_minor": 0,
  "metadata": {
    "colab": {
      "name": "Copy of Copy of DL_proj.ipynb",
      "provenance": [],
      "collapsed_sections": [],
      "toc_visible": true,
      "include_colab_link": true
    },
    "kernelspec": {
      "display_name": "Python 3",
      "language": "python",
      "name": "python3"
    },
    "language_info": {
      "codemirror_mode": {
        "name": "ipython",
        "version": 3
      },
      "file_extension": ".py",
      "mimetype": "text/x-python",
      "name": "python",
      "nbconvert_exporter": "python",
      "pygments_lexer": "ipython3",
      "version": "3.8.8"
    },
    "accelerator": "GPU"
  },
  "cells": [
    {
      "cell_type": "markdown",
      "metadata": {
        "id": "view-in-github",
        "colab_type": "text"
      },
      "source": [
        "<a href=\"https://colab.research.google.com/github/ypeng22/DLFinal/blob/main/DL_proj.ipynb\" target=\"_parent\"><img src=\"https://colab.research.google.com/assets/colab-badge.svg\" alt=\"Open In Colab\"/></a>"
      ]
    },
    {
      "cell_type": "markdown",
      "metadata": {
        "id": "jEk7c_MDbSgX"
      },
      "source": [
        "#Setup"
      ]
    },
    {
      "cell_type": "code",
      "metadata": {
        "id": "WZyv_9X0kb6s",
        "colab": {
          "base_uri": "https://localhost:8080/"
        },
        "outputId": "97d795b3-1bf1-4894-eb27-5df91e0f8141"
      },
      "source": [
        "!pip install plantcv\n",
        "!pip install c3d\n"
      ],
      "execution_count": 2,
      "outputs": [
        {
          "output_type": "stream",
          "text": [
            "Collecting plantcv\n",
            "\u001b[?25l  Downloading https://files.pythonhosted.org/packages/c5/0c/f630364077ef27282906f46e56c670d1e9abd5d6cca0de67bc91388f0a14/plantcv-3.12.0-py3-none-any.whl (222kB)\n",
            "\u001b[K     |████████████████████████████████| 225kB 8.6MB/s \n",
            "\u001b[?25hCollecting opencv-python<4,>=3.4\n",
            "\u001b[?25l  Downloading https://files.pythonhosted.org/packages/93/a2/e081e1d8831ce4dc1629ba36f1e010a56225b00532e2edad76e1bc7faef9/opencv_python-3.4.13.47-cp37-cp37m-manylinux2014_x86_64.whl (48.6MB)\n",
            "\u001b[K     |████████████████████████████████| 48.6MB 122kB/s \n",
            "\u001b[?25hRequirement already satisfied: python-dateutil in /usr/local/lib/python3.7/dist-packages (from plantcv) (2.8.1)\n",
            "Requirement already satisfied: scikit-image in /usr/local/lib/python3.7/dist-packages (from plantcv) (0.16.2)\n",
            "Requirement already satisfied: scipy in /usr/local/lib/python3.7/dist-packages (from plantcv) (1.4.1)\n",
            "Requirement already satisfied: plotnine in /usr/local/lib/python3.7/dist-packages (from plantcv) (0.6.0)\n",
            "Requirement already satisfied: numpy>=1.11 in /usr/local/lib/python3.7/dist-packages (from plantcv) (1.19.5)\n",
            "Collecting dask-jobqueue\n",
            "  Downloading https://files.pythonhosted.org/packages/22/4a/bf4ea9c12c825d0926899d9c08d1abc009ac0779c6b2476aa419a02de719/dask_jobqueue-0.7.2-py2.py3-none-any.whl\n",
            "Requirement already satisfied: pandas in /usr/local/lib/python3.7/dist-packages (from plantcv) (1.1.5)\n",
            "Requirement already satisfied: matplotlib>=1.5 in /usr/local/lib/python3.7/dist-packages (from plantcv) (3.2.2)\n",
            "Requirement already satisfied: dask in /usr/local/lib/python3.7/dist-packages (from plantcv) (2.12.0)\n",
            "Requirement already satisfied: scikit-learn in /usr/local/lib/python3.7/dist-packages (from plantcv) (0.22.2.post1)\n",
            "Requirement already satisfied: six>=1.5 in /usr/local/lib/python3.7/dist-packages (from python-dateutil->plantcv) (1.15.0)\n",
            "Requirement already satisfied: pillow>=4.3.0 in /usr/local/lib/python3.7/dist-packages (from scikit-image->plantcv) (7.1.2)\n",
            "Requirement already satisfied: imageio>=2.3.0 in /usr/local/lib/python3.7/dist-packages (from scikit-image->plantcv) (2.4.1)\n",
            "Requirement already satisfied: networkx>=2.0 in /usr/local/lib/python3.7/dist-packages (from scikit-image->plantcv) (2.5.1)\n",
            "Requirement already satisfied: PyWavelets>=0.4.0 in /usr/local/lib/python3.7/dist-packages (from scikit-image->plantcv) (1.1.1)\n",
            "Requirement already satisfied: statsmodels>=0.9.0 in /usr/local/lib/python3.7/dist-packages (from plotnine->plantcv) (0.10.2)\n",
            "Requirement already satisfied: patsy>=0.4.1 in /usr/local/lib/python3.7/dist-packages (from plotnine->plantcv) (0.5.1)\n",
            "Requirement already satisfied: descartes>=1.1.0 in /usr/local/lib/python3.7/dist-packages (from plotnine->plantcv) (1.1.0)\n",
            "Requirement already satisfied: mizani>=0.6.0 in /usr/local/lib/python3.7/dist-packages (from plotnine->plantcv) (0.6.0)\n",
            "Collecting distributed>=2.19\n",
            "\u001b[?25l  Downloading https://files.pythonhosted.org/packages/63/f8/ac2c18adde6477bca3881c4d3cfa74c7f4da7ee82f3c83c201aa3b9ca5ee/distributed-2021.4.1-py3-none-any.whl (696kB)\n",
            "\u001b[K     |████████████████████████████████| 706kB 26.2MB/s \n",
            "\u001b[?25hRequirement already satisfied: pytz>=2017.2 in /usr/local/lib/python3.7/dist-packages (from pandas->plantcv) (2018.9)\n",
            "Requirement already satisfied: cycler>=0.10 in /usr/local/lib/python3.7/dist-packages (from matplotlib>=1.5->plantcv) (0.10.0)\n",
            "Requirement already satisfied: kiwisolver>=1.0.1 in /usr/local/lib/python3.7/dist-packages (from matplotlib>=1.5->plantcv) (1.3.1)\n",
            "Requirement already satisfied: pyparsing!=2.0.4,!=2.1.2,!=2.1.6,>=2.0.1 in /usr/local/lib/python3.7/dist-packages (from matplotlib>=1.5->plantcv) (2.4.7)\n",
            "Requirement already satisfied: joblib>=0.11 in /usr/local/lib/python3.7/dist-packages (from scikit-learn->plantcv) (1.0.1)\n",
            "Requirement already satisfied: decorator<5,>=4.3 in /usr/local/lib/python3.7/dist-packages (from networkx>=2.0->scikit-image->plantcv) (4.4.2)\n",
            "Requirement already satisfied: palettable in /usr/local/lib/python3.7/dist-packages (from mizani>=0.6.0->plotnine->plantcv) (3.3.0)\n",
            "Requirement already satisfied: setuptools in /usr/local/lib/python3.7/dist-packages (from distributed>=2.19->dask-jobqueue->plantcv) (56.0.0)\n",
            "Requirement already satisfied: pyyaml in /usr/local/lib/python3.7/dist-packages (from distributed>=2.19->dask-jobqueue->plantcv) (3.13)\n",
            "Requirement already satisfied: tblib>=1.6.0 in /usr/local/lib/python3.7/dist-packages (from distributed>=2.19->dask-jobqueue->plantcv) (1.7.0)\n",
            "Requirement already satisfied: toolz>=0.8.2 in /usr/local/lib/python3.7/dist-packages (from distributed>=2.19->dask-jobqueue->plantcv) (0.11.1)\n",
            "Requirement already satisfied: zict>=0.1.3 in /usr/local/lib/python3.7/dist-packages (from distributed>=2.19->dask-jobqueue->plantcv) (2.0.0)\n",
            "Requirement already satisfied: msgpack>=0.6.0 in /usr/local/lib/python3.7/dist-packages (from distributed>=2.19->dask-jobqueue->plantcv) (1.0.2)\n",
            "Requirement already satisfied: tornado>=5; python_version < \"3.8\" in /usr/local/lib/python3.7/dist-packages (from distributed>=2.19->dask-jobqueue->plantcv) (5.1.1)\n",
            "Requirement already satisfied: psutil>=5.0 in /usr/local/lib/python3.7/dist-packages (from distributed>=2.19->dask-jobqueue->plantcv) (5.4.8)\n",
            "Requirement already satisfied: sortedcontainers!=2.0.0,!=2.0.1 in /usr/local/lib/python3.7/dist-packages (from distributed>=2.19->dask-jobqueue->plantcv) (2.3.0)\n",
            "Collecting cloudpickle>=1.5.0\n",
            "  Downloading https://files.pythonhosted.org/packages/e7/e3/898487e5dbeb612054cf2e0c188463acb358167fef749c53c8bb8918cea1/cloudpickle-1.6.0-py3-none-any.whl\n",
            "Requirement already satisfied: click>=6.6 in /usr/local/lib/python3.7/dist-packages (from distributed>=2.19->dask-jobqueue->plantcv) (7.1.2)\n",
            "Requirement already satisfied: heapdict in /usr/local/lib/python3.7/dist-packages (from zict>=0.1.3->distributed>=2.19->dask-jobqueue->plantcv) (1.0.1)\n",
            "\u001b[31mERROR: distributed 2021.4.1 has requirement dask>=2021.03.0, but you'll have dask 2.12.0 which is incompatible.\u001b[0m\n",
            "\u001b[31mERROR: albumentations 0.1.12 has requirement imgaug<0.2.7,>=0.2.5, but you'll have imgaug 0.2.9 which is incompatible.\u001b[0m\n",
            "\u001b[31mERROR: dask-jobqueue 0.7.2 has requirement dask>=2.19, but you'll have dask 2.12.0 which is incompatible.\u001b[0m\n",
            "Installing collected packages: opencv-python, cloudpickle, distributed, dask-jobqueue, plantcv\n",
            "  Found existing installation: opencv-python 4.1.2.30\n",
            "    Uninstalling opencv-python-4.1.2.30:\n",
            "      Successfully uninstalled opencv-python-4.1.2.30\n",
            "  Found existing installation: cloudpickle 1.3.0\n",
            "    Uninstalling cloudpickle-1.3.0:\n",
            "      Successfully uninstalled cloudpickle-1.3.0\n",
            "  Found existing installation: distributed 1.25.3\n",
            "    Uninstalling distributed-1.25.3:\n",
            "      Successfully uninstalled distributed-1.25.3\n",
            "Successfully installed cloudpickle-1.6.0 dask-jobqueue-0.7.2 distributed-2021.4.1 opencv-python-3.4.13.47 plantcv-3.12.0\n",
            "Collecting c3d\n",
            "  Downloading https://files.pythonhosted.org/packages/80/39/1fddfb01d5f142b2ec1c199c78eaca1094f053af66235c76ba4d14fc7950/c3d-0.3.0-py3-none-any.whl\n",
            "Requirement already satisfied: numpy in /usr/local/lib/python3.7/dist-packages (from c3d) (1.19.5)\n",
            "Installing collected packages: c3d\n",
            "Successfully installed c3d-0.3.0\n"
          ],
          "name": "stdout"
        }
      ]
    },
    {
      "cell_type": "code",
      "metadata": {
        "id": "_gnveOQLzZs-"
      },
      "source": [
        "import numpy as np\n",
        "import matplotlib.pyplot as plt\n",
        "import c3d\n",
        "import cv2\n",
        "import torch\n",
        "import torch.nn as nn\n",
        "from torch.utils.data import Dataset, DataLoader\n",
        "from torch.autograd import Variable\n",
        "import os\n",
        "from plantcv import plantcv as pcv\n",
        "from scipy import ndimage\n",
        "import torchvision\n",
        "import time"
      ],
      "execution_count": 3,
      "outputs": []
    },
    {
      "cell_type": "code",
      "metadata": {
        "colab": {
          "base_uri": "https://localhost:8080/"
        },
        "id": "WCAC2zBMNOjE",
        "outputId": "4b288d03-018d-4759-9b31-90887723ea49"
      },
      "source": [
        "## Mount Google Drive Data (If using Google Colaboratory)\n",
        "try:\n",
        "    from google.colab import drive\n",
        "    drive.mount('/content/gdrive')\n",
        "except:\n",
        "    print(\"Mounting Failed.\")\n"
      ],
      "execution_count": 5,
      "outputs": [
        {
          "output_type": "stream",
          "text": [
            "Mounted at /content/gdrive\n"
          ],
          "name": "stdout"
        }
      ]
    },
    {
      "cell_type": "code",
      "metadata": {
        "id": "prEI4BySN1tM"
      },
      "source": [
        "data_dir = \"/content/gdrive/MyDrive/BerkeleyMHAD/\"\n",
        "subjects = ['S01', 'S02', 'S03', 'S04', 'S05','S06', 'S07', 'S08', 'S09', 'S10', 'S11', 'S12']\n",
        "actions = ['A01', 'A02', 'A03', 'A04', 'A05','A06', 'A07', 'A08', 'A09', 'A10', 'A11']\n",
        "reps = ['R01', 'R02', 'R03', 'R04', 'R05']"
      ],
      "execution_count": 7,
      "outputs": []
    },
    {
      "cell_type": "markdown",
      "metadata": {
        "id": "uPQyI2ZUbV7Z"
      },
      "source": [
        "#LSTM on Skeleton Data"
      ]
    },
    {
      "cell_type": "code",
      "metadata": {
        "id": "pSGM-xw4cj4_"
      },
      "source": [
        "################ Dataloader for Berkeley Mocap Optical Data #################\n",
        "\n",
        "def c3d2array(loc: str, frame_rate):\n",
        "    \"\"\"\n",
        "    Takes in the file location of the c3d file as a string and returns a \n",
        "    numpy array w/ the sensor data\n",
        "    Array Shape: Num_frames x 43 x 3 \n",
        "      43 corresponds to the number of nodes on the person\n",
        "      3 corresponds to spatial coordinates of the nodes\n",
        "    \"\"\"\n",
        "    point_series = []\n",
        "    reader = c3d.Reader(open(loc, 'rb'))\n",
        "    for i, points, analog in reader.read_frames():     \n",
        "        if i % frame_rate == 0: ## Set Frame Rate to approximately 22 Hz instead of 480 Hz\n",
        "            point_series.append(points[:, 0:3])\n",
        "    point_series = np.array(point_series)\n",
        "    return point_series\n",
        "\n",
        "class BerkeleyMocapOpticalDataset(Dataset):\n",
        "    \"\"\"Berkeley Mocap Optical Dataset.\"\"\"\n",
        "\n",
        "    def __init__(self, root_dir, train, frame_rate, transform=None):\n",
        "        \"\"\"\n",
        "        Args:\n",
        "            root_dir (string): Directory with all the data\n",
        "            train (string): has to be one of \"train\", \"test\", or \"val\"\n",
        "            frame_rate (integer): In Hz \n",
        "            transform (callable, optional): Optional transform to be applied\n",
        "                on a sample.\n",
        "        \"\"\"\n",
        "        self.root_dir = root_dir\n",
        "        if train == 'train':\n",
        "            self.list_c3d = [file for file in os.listdir(root_dir) if (os.path.isfile(os.path.join(root_dir, file)) and file[-1] != 't' and int(file[5:7]) < 9) ] #list of all the c3d file names for the first 8 subjects\n",
        "        elif train == 'test':\n",
        "            self.list_c3d = [file for file in os.listdir(root_dir) if (os.path.isfile(os.path.join(root_dir, file)) and file[-1] != 't' and int(file[5:7]) > 8 and int(file[5:7]) < 12) ] #list of all the c3d file names for the subjects 9, 10, 11\n",
        "        else:\n",
        "            self.list_c3d = [file for file in os.listdir(root_dir) if (os.path.isfile(os.path.join(root_dir, file)) and file[-1] != 't' and int(file[5:7]) == 12) ] #list of all the c3d file names for the subject 12\n",
        "        self.frame_rate = frame_rate\n",
        "        self.transform = transform\n",
        "        for idx, item in enumerate(self.list_c3d): \n",
        "            item_loc = os.path.join(self.root_dir, item)\n",
        "            self.list_c3d[idx] = (c3d2array(item_loc, self.frame_rate), item)\n",
        "\n",
        "    def __len__(self):\n",
        "        return len(self.list_c3d)\n",
        "\n",
        "    def __getitem__(self, idx):\n",
        "        if torch.is_tensor(idx):\n",
        "            idx = idx.tolist()\n",
        "        sample = self.list_c3d[idx][0]\n",
        "        c3d_file_location = os.path.join(self.root_dir,\n",
        "                                self.list_c3d[idx][1])\n",
        "        label_location = c3d_file_location.find('_a')\n",
        "        if label_location == -1: # FUCK T-POSE\n",
        "            label = 12\n",
        "        else: \n",
        "            label = int(c3d_file_location[label_location+2:label_location+4])\n",
        "        if self.transform:\n",
        "            sample = self.transform(sample)\n",
        "        # Flatten Samples \n",
        "        sample = torch.transpose(sample, 0, 1)\n",
        "        sample = torch.flatten(sample, 1, 2)\n",
        "        sample = torch.unsqueeze(sample, 0)\n",
        "        sample = sample.float()\n",
        "        # I think labels should go from 0 through 11 since we are using argmax later for loss/accuracy\n",
        "        return sample, label - 1\n",
        "\n",
        "\n",
        "############### Compute Mean and SD across the dataset #############\n",
        "## If you wish to uncomment the code below and rerun it, you might have to comment out the three lines which cflatten the sample in the class above\n",
        "'''transform = None\n",
        "root_dir = data_dir + 'Mocap/OpticalData'\n",
        "frame_rate = 1\n",
        "\n",
        "dataloader = BerkeleyMocapOpticalDataset(root_dir, \"train\", 1)\n",
        "x_list = []\n",
        "y_list = []\n",
        "z_list = []\n",
        "\n",
        "for sample,_ in dataloader:\n",
        "  x_list.append(np.ndarray.flatten(sample[:,:,0]))\n",
        "  y_list.append(np.ndarray.flatten(sample[:,:,1]))\n",
        "  z_list.append(np.ndarray.flatten(sample[:,:,2]))\n",
        "\n",
        "x_list = np.concatenate(np.array(x_list))\n",
        "y_list = np.concatenate(np.array(y_list))\n",
        "z_list = np.concatenate(np.array(z_list))\n",
        "x_mean = np.mean(x_list)\n",
        "x_sd = np.std(x_list)\n",
        "y_mean = np.mean(y_list)\n",
        "y_sd = np.std(y_list)\n",
        "z_mean = np.mean(z_list)\n",
        "z_sd = np.std(z_list)\n",
        "print([x_mean, y_mean, z_mean, x_sd, y_sd, z_sd])'''\n",
        "\n",
        "############### Define a transform with mean, std, and tensor ############\n",
        "## So we don't need to rerun for the mean and standard deviations every time\n",
        "x_mean, x_sd, y_mean, y_sd, z_mean, z_sd = -455.09898495222086, 245.84348947768748, 148.47916727630624, 183.09031602408763, 814.4396506806088, 538.2824468734605\n",
        "transform = torchvision.transforms.Compose([\n",
        "  torchvision.transforms.ToTensor(),\n",
        "  torchvision.transforms.Normalize((x_mean, y_mean, z_mean), (x_sd, y_sd, z_sd)),\n",
        "])\n",
        "\n",
        "\n",
        "############# Final Dataloaders ####################\n",
        "root_dir = data_dir + 'Mocap/OpticalData'\n",
        "frame_rate = 22\n",
        "val_dataloader = BerkeleyMocapOpticalDataset(root_dir, \"val\", frame_rate, transform=transform)\n",
        "train_dataloader = BerkeleyMocapOpticalDataset(root_dir, \"train\", frame_rate, transform=transform)\n",
        "test_dataloader = BerkeleyMocapOpticalDataset(root_dir, \"test\", frame_rate, transform=transform)\n",
        "\n"
      ],
      "execution_count": 8,
      "outputs": []
    },
    {
      "cell_type": "code",
      "metadata": {
        "id": "Ehz48DvAcqVk",
        "colab": {
          "base_uri": "https://localhost:8080/",
          "height": 736
        },
        "outputId": "6ea44734-cb93-4fb8-bc8e-c08450cae3ee"
      },
      "source": [
        "############ Test The Dataloader ######################\n",
        "\n",
        "## This code is for case in which the sample is NOT flattened\n",
        "'''i = 3\n",
        "for sample,_ in train_dataloader:\n",
        "  if i == 0:\n",
        "    break\n",
        "  i = i - 1\n",
        "  frame = 1\n",
        "  xs, ys, zs = sample[0, frame, :], sample[1, frame, :], sample[2, frame, :]\n",
        "  plt.figure()\n",
        "  plt.scatter(xs, zs)\n",
        "  plt.axis('scaled')\n",
        "  xs, ys, zs = sample[0, frame+10, :], sample[1, frame+10, :], sample[2, frame+10, :]\n",
        "  plt.scatter(xs, zs)\n",
        "  plt.axis('scaled')'''\n",
        "\n",
        "## This code is for the case in which the sample IS flattened\n",
        "i = 3\n",
        "for sample,_ in train_dataloader:\n",
        "  if i == 0:\n",
        "    break\n",
        "  i = i - 1\n",
        "  frame = 1\n",
        "  xs, ys, zs = sample[0, frame, 0:43], sample[0, frame, 43:86], sample[0, frame, 86:]\n",
        "  plt.figure()\n",
        "  plt.scatter(xs, zs)\n",
        "  plt.axis('scaled')\n",
        "  xs, ys, zs = sample[0, frame+10, 0:43], sample[0, frame+10, 43:86], sample[0, frame+10, 86:]\n",
        "  plt.scatter(xs, zs)\n",
        "  plt.axis('scaled')"
      ],
      "execution_count": 113,
      "outputs": [
        {
          "output_type": "display_data",
          "data": {
            "image/png": "[encoded data removed]",
            "text/plain": [
              "<Figure size 432x288 with 1 Axes>"
            ]
          },
          "metadata": {
            "tags": [],
            "needs_background": "light"
          }
        },
        {
          "output_type": "display_data",
          "data": {
            "image/png": "[encoded data removed]",
            "text/plain": [
              "<Figure size 432x288 with 1 Axes>"
            ]
          },
          "metadata": {
            "tags": [],
            "needs_background": "light"
          }
        },
        {
          "output_type": "display_data",
          "data": {
            "image/png": "[encoded data removed]",
            "text/plain": [
              "<Figure size 432x288 with 1 Axes>"
            ]
          },
          "metadata": {
            "tags": [],
            "needs_background": "light"
          }
        }
      ]
    },
    {
      "cell_type": "code",
      "metadata": {
        "id": "xNccTDNGxYdG"
      },
      "source": [
        "class skeletonLSTM(nn.Module):\n",
        "    def __init__(self, classes):\n",
        "        super(skeletonLSTM, self).__init__()\n",
        "        self.n_hidden = 100\n",
        "        self.n_layers = 2\n",
        "        self.l_lstm = torch.nn.LSTM(input_size = 129, \n",
        "                                 hidden_size = self.n_hidden,\n",
        "                                 num_layers = self.n_layers, \n",
        "                                 batch_first = True)\n",
        "        self.fc1 = nn.Linear(100, 50)\n",
        "        self.fc2 = nn.Linear(50, classes)\n",
        "        self.relu = nn.ReLU()\n",
        "    def forward(self, x):\n",
        "        #intialize lstm hidden state\n",
        "        hidden_state = torch.zeros(self.n_layers, 1, self.n_hidden).cuda()\n",
        "        cell_state = torch.zeros(self.n_layers, 1, self.n_hidden).cuda()\n",
        "        self.hidden = (hidden_state, cell_state)      \n",
        "        #print(x.shape)\n",
        "        hidden_states, _ = self.l_lstm(x, self.hidden) #lstm_out shape is batch_size, seq len, hidden state\n",
        "        hidden_states.retain_grad()\n",
        "        lstm_out = hidden_states[:,-1,:] #last hidden state fed to FC layer\n",
        "        lstm_out = self.relu(self.fc1(lstm_out.squeeze()))\n",
        "        lstm_out = self.fc2(lstm_out)\n",
        "        return lstm_out, hidden_states\n",
        "    "
      ],
      "execution_count": 29,
      "outputs": []
    },
    {
      "cell_type": "code",
      "metadata": {
        "id": "mYYtqLfyyC0Z",
        "colab": {
          "base_uri": "https://localhost:8080/"
        },
        "outputId": "eab17608-0905-4e7e-aca3-fb4702ae938b"
      },
      "source": [
        " num_epochs = 50\n",
        " num_classes = 11\n",
        " model = skeletonLSTM(num_classes)\n",
        " model.cuda()\n",
        " loss_func = nn.CrossEntropyLoss()\n",
        " optimizer = torch.optim.Adam(model.parameters())\n",
        " \n",
        " train_loss_vec = []\n",
        " val_loss_vec = []\n",
        " for epoch in range(num_epochs):\n",
        "    train_loss_for_epoch = []\n",
        "    val_loss_for_epoch = []\n",
        "    ########################### Training #####################################\n",
        "    print(\"\\nEPOCH \" +str(epoch+1)+\" of \"+str(num_epochs)+\"\\n\")\n",
        "    for inputs, labels in train_dataloader:\n",
        "          inputs = inputs.cuda()\n",
        "          model.train()\n",
        "          if labels not in tuple(range(num_classes)): #FUCK T-POSE\n",
        "              continue\n",
        "          labels = torch.Tensor([labels]).cuda()\n",
        "          predictions = model(inputs)[0].unsqueeze(0)\n",
        "          loss = loss_func(predictions, labels.long())\n",
        "          optimizer.zero_grad()\n",
        "          loss.backward()\n",
        "          optimizer.step()\n",
        "          train_loss_for_epoch.append(loss.item())\n",
        "\n",
        "    train_loss_vec.append(sum(train_loss_for_epoch) / len(train_loss_for_epoch))\n",
        "    for inputs, labels in val_dataloader:\n",
        "          inputs = inputs.cuda()\n",
        "          model.eval()\n",
        "          if labels not in tuple(range(num_classes)): #FUCK T-POSE\n",
        "              continue\n",
        "          labels = torch.Tensor([labels]).cuda()\n",
        "          predictions = model(inputs)[0].unsqueeze(0)\n",
        "          loss = loss_func(predictions, labels.long())\n",
        "          val_loss_for_epoch.append(loss.item())\n",
        "          if val_loss_for_epoch[-1] == min(val_loss_for_epoch):\n",
        "              torch.save(model, '/content/gdrive/MyDrive/best_model.pth')\n",
        "    val_loss_vec.append(sum(val_loss_for_epoch) / len(val_loss_for_epoch) )\n",
        "    print(\"The training loss for Epoch \" + str(epoch + 1) + \" is \" + str(train_loss_vec[-1]))\n",
        "    print(\"The validation loss for Epoch \" + str(epoch + 1) + \" is \" + str(val_loss_vec[-1]))\n"
      ],
      "execution_count": 12,
      "outputs": [
        {
          "output_type": "stream",
          "text": [
            "\n",
            "EPOCH 1 of 50\n",
            "\n",
            "The training loss for Epoch 1 is 2.309800862451349\n",
            "The validation loss for Epoch 1 is 2.28839619809931\n",
            "\n",
            "EPOCH 2 of 50\n",
            "\n",
            "The training loss for Epoch 2 is 1.9100416949525867\n",
            "The validation loss for Epoch 2 is 1.7519705705302344\n",
            "\n",
            "EPOCH 3 of 50\n",
            "\n",
            "The training loss for Epoch 3 is 1.7389148240908316\n",
            "The validation loss for Epoch 3 is 1.9497096446565014\n",
            "\n",
            "EPOCH 4 of 50\n",
            "\n",
            "The training loss for Epoch 4 is 1.6857038435344807\n",
            "The validation loss for Epoch 4 is 1.5227152414111929\n",
            "\n",
            "EPOCH 5 of 50\n",
            "\n",
            "The training loss for Epoch 5 is 1.5090053874462224\n",
            "The validation loss for Epoch 5 is 1.349655180296924\n",
            "\n",
            "EPOCH 6 of 50\n",
            "\n",
            "The training loss for Epoch 6 is 1.348473249831126\n",
            "The validation loss for Epoch 6 is 1.1106301456224172\n",
            "\n",
            "EPOCH 7 of 50\n",
            "\n",
            "The training loss for Epoch 7 is 1.2265251805916468\n",
            "The validation loss for Epoch 7 is 1.057056050493636\n",
            "\n",
            "EPOCH 8 of 50\n",
            "\n",
            "The training loss for Epoch 8 is 1.0751636039035009\n",
            "The validation loss for Epoch 8 is 0.8451625618131154\n",
            "\n",
            "EPOCH 9 of 50\n",
            "\n",
            "The training loss for Epoch 9 is 1.1292599097548206\n",
            "The validation loss for Epoch 9 is 1.0756402701647445\n",
            "\n",
            "EPOCH 10 of 50\n",
            "\n",
            "The training loss for Epoch 10 is 1.0362913901923603\n",
            "The validation loss for Epoch 10 is 0.9752385922837261\n",
            "\n",
            "EPOCH 11 of 50\n",
            "\n",
            "The training loss for Epoch 11 is 0.9699223121477144\n",
            "The validation loss for Epoch 11 is 0.6850473037531959\n",
            "\n",
            "EPOCH 12 of 50\n",
            "\n",
            "The training loss for Epoch 12 is 0.8564847799628013\n",
            "The validation loss for Epoch 12 is 0.6953751269029453\n",
            "\n",
            "EPOCH 13 of 50\n",
            "\n",
            "The training loss for Epoch 13 is 0.8190193060381924\n",
            "The validation loss for Epoch 13 is 0.6654479888542979\n",
            "\n",
            "EPOCH 14 of 50\n",
            "\n",
            "The training loss for Epoch 14 is 0.8098594901556492\n",
            "The validation loss for Epoch 14 is 0.6536607234712309\n",
            "\n",
            "EPOCH 15 of 50\n",
            "\n",
            "The training loss for Epoch 15 is 0.7972188072752713\n",
            "The validation loss for Epoch 15 is 0.6231481025492858\n",
            "\n",
            "EPOCH 16 of 50\n",
            "\n",
            "The training loss for Epoch 16 is 0.7285678004844485\n",
            "The validation loss for Epoch 16 is 0.8108431027281436\n",
            "\n",
            "EPOCH 17 of 50\n",
            "\n",
            "The training loss for Epoch 17 is 0.681507569679906\n",
            "The validation loss for Epoch 17 is 0.5263960231221229\n",
            "\n",
            "EPOCH 18 of 50\n",
            "\n",
            "The training loss for Epoch 18 is 0.6115864549072922\n",
            "The validation loss for Epoch 18 is 0.4894519741882091\n",
            "\n",
            "EPOCH 19 of 50\n",
            "\n",
            "The training loss for Epoch 19 is 0.5468098965574586\n",
            "The validation loss for Epoch 19 is 0.518661663322101\n",
            "\n",
            "EPOCH 20 of 50\n",
            "\n",
            "The training loss for Epoch 20 is 0.6000259146476186\n",
            "The validation loss for Epoch 20 is 0.5067580022272358\n",
            "\n",
            "EPOCH 21 of 50\n",
            "\n",
            "The training loss for Epoch 21 is 0.7227876341003512\n",
            "The validation loss for Epoch 21 is 0.6694308430497089\n",
            "\n",
            "EPOCH 22 of 50\n",
            "\n",
            "The training loss for Epoch 22 is 0.5356272540417072\n",
            "The validation loss for Epoch 22 is 0.4480279331309992\n",
            "\n",
            "EPOCH 23 of 50\n",
            "\n",
            "The training loss for Epoch 23 is 0.5221846186827467\n",
            "The validation loss for Epoch 23 is 0.4956342366191517\n",
            "\n",
            "EPOCH 24 of 50\n",
            "\n",
            "The training loss for Epoch 24 is 0.542008774212756\n",
            "The validation loss for Epoch 24 is 0.5666955716374467\n",
            "\n",
            "EPOCH 25 of 50\n",
            "\n",
            "The training loss for Epoch 25 is 0.4127100338660626\n",
            "The validation loss for Epoch 25 is 0.4997637906075666\n",
            "\n",
            "EPOCH 26 of 50\n",
            "\n",
            "The training loss for Epoch 26 is 0.32277092356518555\n",
            "The validation loss for Epoch 26 is 0.8932603749165372\n",
            "\n",
            "EPOCH 27 of 50\n",
            "\n",
            "The training loss for Epoch 27 is 0.46473529847431966\n",
            "The validation loss for Epoch 27 is 0.44021108468184694\n",
            "\n",
            "EPOCH 28 of 50\n",
            "\n",
            "The training loss for Epoch 28 is 0.39706078168893916\n",
            "The validation loss for Epoch 28 is 0.375761911352324\n",
            "\n",
            "EPOCH 29 of 50\n",
            "\n",
            "The training loss for Epoch 29 is 0.30387653768596623\n",
            "The validation loss for Epoch 29 is 0.3523288387164195\n",
            "\n",
            "EPOCH 30 of 50\n",
            "\n",
            "The training loss for Epoch 30 is 0.2879365377242576\n",
            "The validation loss for Epoch 30 is 0.30958707595855645\n",
            "\n",
            "EPOCH 31 of 50\n",
            "\n",
            "The training loss for Epoch 31 is 0.3212877371590724\n",
            "The validation loss for Epoch 31 is 0.45686160361972683\n",
            "\n",
            "EPOCH 32 of 50\n",
            "\n",
            "The training loss for Epoch 32 is 0.30348717972807365\n",
            "The validation loss for Epoch 32 is 0.3152144258754942\n",
            "\n",
            "EPOCH 33 of 50\n",
            "\n",
            "The training loss for Epoch 33 is 0.2274642716960258\n",
            "The validation loss for Epoch 33 is 0.2108453499449519\n",
            "\n",
            "EPOCH 34 of 50\n",
            "\n",
            "The training loss for Epoch 34 is 0.30340199408440505\n",
            "The validation loss for Epoch 34 is 0.3713144029909513\n",
            "\n",
            "EPOCH 35 of 50\n",
            "\n",
            "The training loss for Epoch 35 is 0.33156681366623864\n",
            "The validation loss for Epoch 35 is 0.3189270462364459\n",
            "\n",
            "EPOCH 36 of 50\n",
            "\n",
            "The training loss for Epoch 36 is 0.22415347058933066\n",
            "The validation loss for Epoch 36 is 0.26811223109205945\n",
            "\n",
            "EPOCH 37 of 50\n",
            "\n",
            "The training loss for Epoch 37 is 0.1470745704655647\n",
            "The validation loss for Epoch 37 is 0.4599129070420345\n",
            "\n",
            "EPOCH 38 of 50\n",
            "\n",
            "The training loss for Epoch 38 is 0.10386138482845415\n",
            "The validation loss for Epoch 38 is 0.19400565045887713\n",
            "\n",
            "EPOCH 39 of 50\n",
            "\n",
            "The training loss for Epoch 39 is 0.11616397460658445\n",
            "The validation loss for Epoch 39 is 0.3248549047102146\n",
            "\n",
            "EPOCH 40 of 50\n",
            "\n",
            "The training loss for Epoch 40 is 0.2442285324380755\n",
            "The validation loss for Epoch 40 is 0.1559067442764403\n",
            "\n",
            "EPOCH 41 of 50\n",
            "\n",
            "The training loss for Epoch 41 is 0.15248504091151316\n",
            "The validation loss for Epoch 41 is 0.03474628116945992\n",
            "\n",
            "EPOCH 42 of 50\n",
            "\n",
            "The training loss for Epoch 42 is 0.11668420160707413\n",
            "The validation loss for Epoch 42 is 0.10622091931211551\n",
            "\n",
            "EPOCH 43 of 50\n",
            "\n",
            "The training loss for Epoch 43 is 0.021095611962352868\n",
            "The validation loss for Epoch 43 is 0.08591592453278116\n",
            "\n",
            "EPOCH 44 of 50\n",
            "\n",
            "The training loss for Epoch 44 is 0.0045773962207671616\n",
            "The validation loss for Epoch 44 is 0.059443777261540987\n",
            "\n",
            "EPOCH 45 of 50\n",
            "\n",
            "The training loss for Epoch 45 is 0.0022875017276698553\n",
            "The validation loss for Epoch 45 is 0.0925195415879774\n",
            "\n",
            "EPOCH 46 of 50\n",
            "\n",
            "The training loss for Epoch 46 is 0.0014418645046264254\n",
            "The validation loss for Epoch 46 is 0.06527158820273062\n",
            "\n",
            "EPOCH 47 of 50\n",
            "\n",
            "The training loss for Epoch 47 is 0.05551123377918282\n",
            "The validation loss for Epoch 47 is 0.40523447249280375\n",
            "\n",
            "EPOCH 48 of 50\n",
            "\n",
            "The training loss for Epoch 48 is 0.0965579193255058\n",
            "The validation loss for Epoch 48 is 0.14366747806047006\n",
            "\n",
            "EPOCH 49 of 50\n",
            "\n",
            "The training loss for Epoch 49 is 0.01337262564481926\n",
            "The validation loss for Epoch 49 is 0.14595385921462284\n",
            "\n",
            "EPOCH 50 of 50\n",
            "\n",
            "The training loss for Epoch 50 is 0.06034965076199623\n",
            "The validation loss for Epoch 50 is 0.22578910179991\n"
          ],
          "name": "stdout"
        }
      ]
    },
    {
      "cell_type": "code",
      "metadata": {
        "id": "M57LENMrdCL-",
        "colab": {
          "base_uri": "https://localhost:8080/"
        },
        "outputId": "774ff806-02fb-41ab-d929-6089c4f3ca0a"
      },
      "source": [
        "def train_val_test(model, num_classes=11):\n",
        "    for dataloader in [train_dataloader, val_dataloader, test_dataloader]:\n",
        "        accurates = 0\n",
        "        samples = 0 \n",
        "        for input, label in dataloader:\n",
        "            if label not in tuple(range(num_classes)): #FUCK T-POSE\n",
        "                continue\n",
        "            input = input.cuda()\n",
        "            out = model(input)[0]\n",
        "            if torch.argmax(out).item() == label:\n",
        "              accurates += 1\n",
        "            samples += 1\n",
        "        accuracy = accurates / samples\n",
        "        print(f'The model accuracy on the dataset is ' + str(accuracy))\n",
        "\n",
        "model = torch.load('/content/gdrive/MyDrive/best_model.pth')\n",
        "# 45ish epoch model https://drive.google.com/file/d/1SzOCnZ5kWuuEQ5GpYz9TAqYbjwYfP5kZ/view?usp=sharing\n",
        "    ################ Model Accuracy On Train Dataset Post Training #################\n",
        "train_val_test(model)    "
      ],
      "execution_count": 14,
      "outputs": [
        {
          "output_type": "stream",
          "text": [
            "The model accuracy on the dataset is 0.9931662870159453\n",
            "The model accuracy on the dataset is 0.9454545454545454\n",
            "The model accuracy on the dataset is 0.7757575757575758\n"
          ],
          "name": "stdout"
        }
      ]
    },
    {
      "cell_type": "code",
      "metadata": {
        "id": "IZhSlQumNxup",
        "colab": {
          "base_uri": "https://localhost:8080/",
          "height": 296
        },
        "outputId": "eeb943d1-e7f9-4c9f-f644-bbd42c99d265"
      },
      "source": [
        "plt.plot(train_loss_vec)\n",
        "plt.plot(val_loss_vec)\n",
        "plt.xlabel('Epochs'), plt.ylabel('Cross Entropy Loss')"
      ],
      "execution_count": 15,
      "outputs": [
        {
          "output_type": "execute_result",
          "data": {
            "text/plain": [
              "(Text(0.5, 0, 'Epochs'), Text(0, 0.5, 'Cross Entropy Loss'))"
            ]
          },
          "metadata": {
            "tags": []
          },
          "execution_count": 15
        },
        {
          "output_type": "display_data",
          "data": {
            "image/png": "[encoded data removed]",
            "text/plain": [
              "<Figure size 432x288 with 1 Axes>"
            ]
          },
          "metadata": {
            "tags": [],
            "needs_background": "light"
          }
        }
      ]
    },
    {
      "cell_type": "code",
      "metadata": {
        "id": "OJOXCF4V-jZ1"
      },
      "source": [
        "class GradientAttack():\n",
        "        \n",
        "        \"\"\"\n",
        "        \n",
        "        \"\"\"\n",
        "        \n",
        "        def __init__(self, loss, epsilon):\n",
        "            \"\"\"\n",
        "            \n",
        "            \"\"\"\n",
        "            self.loss = loss\n",
        "            self.epsilon = epsilon\n",
        "\n",
        "        def forward(self, x, y, model, num_iter=1, alpha=0.01, fix_rng=False):\n",
        "            \"\"\"\n",
        "            Generates an adversary using the gradient sign method\n",
        "            given an input feature, its associated label, and the model\n",
        "            x: feature vector\n",
        "            y: label associated with the feature vector\n",
        "            model: the model used to classify x\n",
        "            num_iter: number of iterations to perturb sample, for num_iter=1, uses fast gradient sign method\n",
        "            alpha: the size of the perturbation for iterative gradient sign method         \n",
        "            \"\"\"\n",
        "            y = torch.Tensor([y]).cuda()\n",
        "            x = x.cuda()\n",
        "            model.train()\n",
        "            if num_iter > 1:\n",
        "                if fix_rng == True:\n",
        "                    torch.manual_seed(0)\n",
        "                delta = torch.rand(x.shape, device='cuda')\n",
        "                delta = delta * 2 * self.epsilon - self.epsilon\n",
        "            else:            \n",
        "                delta = torch.zeros(x.shape, device='cuda')\n",
        "            x_adv = x.clone().detach()\n",
        "            x_adv = x_adv + delta\n",
        "            for iteration in range(num_iter):\n",
        "                # Step 1: Calculate the Loss and then calculate the\n",
        "                # gradient of the Loss w.r.t the image\n",
        "                x_adv = x_adv.cuda()\n",
        "                x_adv = Variable(x_adv, requires_grad=True)\n",
        "                out = model(x_adv)\n",
        "                loss_adv = self.loss(out[0].unsqueeze(0), y.long())\n",
        "                loss_adv.backward(retain_graph=True) \n",
        "                grad = x_adv.grad\n",
        "                with torch.no_grad():\n",
        "                    # Step 2: Add the gradient (or its sign for each pixel),\n",
        "                    # multiplied by a small step size, to the original image                      \n",
        "                    if num_iter > 1:                                                           \n",
        "                        x_temp = x_adv + torch.sign(x_adv.grad) * alpha\n",
        "                        # Clamp the attack to be within such that the maximum difference is epsilon\n",
        "                        delta = torch.clamp(x_temp - x, -self.epsilon, self.epsilon)\n",
        "                        x_adv = x + delta\n",
        "                    else:\n",
        "                        x_adv = x + torch.sign(grad) * self.epsilon\n",
        "            \n",
        "            return x_adv\n",
        "\n",
        "class HAttack():\n",
        "        \n",
        "        \"\"\"\n",
        "        \n",
        "        \"\"\"\n",
        "        \n",
        "        def __init__(self, loss, epsilon):\n",
        "            \"\"\"\n",
        "            \n",
        "            \"\"\"\n",
        "            self.loss = loss\n",
        "            self.epsilon = epsilon\n",
        "\n",
        "        def forward(self, x, y, model, num_iter=1, pmp_iter=1, alpha=0.01, fix_rng=False):\n",
        "            \"\"\"\n",
        "            Implementation for PGD Attack\n",
        "            \"\"\" \n",
        "            # Move data to GPU      \n",
        "            y = torch.Tensor([y]).cuda()\n",
        "            x = x.cuda()\n",
        "                      \n",
        "            if fix_rng == True:\n",
        "                torch.manual_seed(0)\n",
        "            # Initialize random perturbation\n",
        "            delta = torch.rand(x.shape, device='cuda', requires_grad=True)\n",
        "            delta = delta * 2 * self.epsilon - self.epsilon\n",
        "            for iteration in range(num_iter):\n",
        "                # Forward Pass\n",
        "                out = model(x + delta)\n",
        "                loss_adv = self.loss(out[0].unsqueeze(0), y.long())\n",
        "                # Backwards Pass    \n",
        "                loss_adv.backward(retain_graph=True) \n",
        "                hidden_states = out[1]\n",
        "                p = hidden_states.grad[0].clone().detach() # p-vectors are just the gradients of each hidden state w.r.t CE loss\n",
        "                objectives = torch.sum(torch.mul(p, hidden_states.squeeze()), axis=1).cuda() \n",
        "                for i in range(pmp_iter):\n",
        "                    if i != 0: #because we already compute it \n",
        "                        out = model(x + delta)\n",
        "                        hidden_states = out[1] # We technically don't need to compute FC layers here\n",
        "                        objectives = torch.sum(torch.mul(p, hidden_states.squeeze()), axis=1).cuda() # Dot-product of p with its next hidden state forms objective\n",
        "                    grad = torch.autograd.grad(objectives, delta, torch.ones(x.shape[1]).cuda())[0] # Use gradient descent to figure out update direction\n",
        "                    delta = delta + alpha * torch.sign(grad) # Update our perturbation\n",
        "                    delta = torch.clamp(delta, -self.epsilon, self.epsilon) # Project into Adversarial Space\n",
        "            x_adv = x + delta\n",
        "            return x_adv"
      ],
      "execution_count": 271,
      "outputs": []
    },
    {
      "cell_type": "code",
      "metadata": {
        "id": "0llFq1jv-Onv"
      },
      "source": [
        "losses_pmp = []\n",
        "accs_pmp = []\n",
        "times_pmp = []\n",
        "\n",
        "for iteration in iteration_range:\n",
        "    loss_pgd_ = 0\n",
        "    acc_pgd_ = 0\n",
        "    time_pgd_ = 0\n",
        "    for input, label in test_dataloader:\n",
        "        torch.cuda.empty_cache()\n",
        "\n",
        "        if label == 11:\n",
        "            continue\n",
        "        label_eval = torch.Tensor([label]).cuda().long()\n",
        "\n",
        "        if pmp_iteration == 1: # Compare against PGD\n",
        "            fixed_rng = True\n",
        "            t_s = time.time()\n",
        "            adv_pgd = pgd_attack.forward(input, label, model, num_iter=iteration, fix_rng=fixed_rng)\n",
        "            t_f = time.time()\n",
        "            out_pgd = model(adv_pgd)[0].unsqueeze(0)\n",
        "            loss_pgd_ += loss(out_pgd, label_eval).item()\n",
        "            if torch.argmax(out_pgd).item() == label:\n",
        "                acc_pgd_ += 1\n",
        "            time_pgd_ += t_f - t_s\n"
      ],
      "execution_count": null,
      "outputs": []
    },
    {
      "cell_type": "code",
      "metadata": {
        "colab": {
          "base_uri": "https://localhost:8080/"
        },
        "id": "r0MVArlvR1hF",
        "outputId": "d6cab350-48fc-4613-b00c-5a23b15733f0"
      },
      "source": [
        "pgd_attack = GradientAttack(loss, 0.1)\n",
        "pmp_attack = HAttack(loss, 0.1)\n",
        "iteration_range = np.arange(2, 51, 2)\n",
        "pmp_iteration_range = np.arange(1, 6, 1)\n",
        "\n",
        "loss_pgd = []\n",
        "acc_pgd = []\n",
        "time_pgd = []\n",
        "\n",
        "losses_pmp = []\n",
        "accs_pmp = []\n",
        "times_pmp = []\n",
        "\n",
        "loss = nn.CrossEntropyLoss()\n",
        "\n",
        "for pmp_iteration in pmp_iteration_range:\n",
        "    print(f'Inner Iterations used for PMP: {pmp_iteration}')\n",
        "    loss_pmp = []\n",
        "    acc_pmp = []\n",
        "    time_pmp = []\n",
        "    for iteration in iteration_range:\n",
        "        loss_pgd_ = 0\n",
        "        acc_pgd_ = 0\n",
        "        time_pgd_ = 0\n",
        "        loss_pmp_ = 0\n",
        "        acc_pmp_ = 0\n",
        "        time_pmp_ = 0\n",
        "        fixed_rng = False\n",
        "        for input, label in test_dataloader:\n",
        "            torch.cuda.empty_cache()\n",
        "\n",
        "            if label == 11:\n",
        "                continue\n",
        "            label_eval = torch.Tensor([label]).cuda().long()\n",
        "\n",
        "            if pmp_iteration == 1: # Compare against PGD\n",
        "                fixed_rng = True\n",
        "                t_s = time.time()\n",
        "                adv_pgd = pgd_attack.forward(input, label, model, num_iter=iteration, fix_rng=fixed_rng)\n",
        "                t_f = time.time()\n",
        "                out_pgd = model(adv_pgd)[0].unsqueeze(0)\n",
        "                loss_pgd_ += loss(out_pgd, label_eval).item()\n",
        "                if torch.argmax(out_pgd).item() == label:\n",
        "                    acc_pgd_ += 1\n",
        "                time_pgd_ += t_f - t_s\n",
        "\n",
        "            t_s = time.time()   \n",
        "            adv_pmp = pmp_attack.forward(input, label, model, num_iter=iteration, pmp_iter=pmp_iteration, fix_rng=fixed_rng)\n",
        "            t_f = time.time()\n",
        "            out_pmp = model(adv_pmp)[0].unsqueeze(0)\n",
        "            loss_pmp_ += loss(out_pmp, label_eval).item()\n",
        "            if torch.argmax(out_pmp).item() == label:\n",
        "                acc_pmp_ += 1\n",
        "            time_pmp_ += t_f - t_s\n",
        "\n",
        "        loss_pmp.append(loss_pmp_ / len(test_dataloader))\n",
        "        acc_pmp.append(acc_pmp_ / len(test_dataloader))\n",
        "        time_pmp.append(time_pmp_ / len(test_dataloader))\n",
        "        if pmp_iteration == 1:\n",
        "            loss_pgd.append(loss_pgd_ / len(test_dataloader))\n",
        "            acc_pgd.append(acc_pgd_ / len(test_dataloader))\n",
        "            time_pgd.append(time_pgd_ / len(test_dataloader))\n",
        "            print(loss_pgd[-1], acc_pgd[-1], time_pgd[-1], loss_pmp[-1], acc_pmp[-1], time_pmp[-1])\n",
        "        else:\n",
        "            print(loss_pmp[-1], acc_pmp[-1], time_pmp[-1])\n",
        "    losses_pmp.append(loss_pmp)\n",
        "    accs_pmp.append(acc_pmp)\n",
        "    times_pmp.append(time_pmp)\n",
        "\n",
        "\n",
        "#save the arrays\n",
        "losses_pmp = np.asarray(losses_pmp)\n",
        "accs_pmp = np.asarray(accs_pmp)\n",
        "times_pmp = np.asarray(times_pmp)\n",
        "loss_pgd = np.asarray(loss_pgd)\n",
        "acc_pgd = np.asarray(acc_pgd)\n",
        "time_pgd = np.asarray(time_pgd)\n",
        "np.save('/content/gdrive/MyDrive/losses_pmp.npy', losses_pmp)\n",
        "np.save('/content/gdrive/MyDrive/accs_pmp.npy', accs_pmp)\n",
        "np.save('/content/gdrive/MyDrive/times_pmp.npy', times_pmp)\n",
        "np.save('/content/gdrive/MyDrive/loss_pgd.npy', loss_pgd)\n",
        "np.save('/content/gdrive/MyDrive/acc_pgd.npy', acc_pgd)\n",
        "np.save('/content/gdrive/MyDrive/time_pgd.npy', time_pgd)\n"
      ],
      "execution_count": 279,
      "outputs": [
        {
          "output_type": "stream",
          "text": [
            "Inner Iterations used for PMP: 1\n",
            "2.1584253360990378 0.6964285714285714 0.016375157095137097 2.158425678143884 0.6964285714285714 0.025272332486652192\n",
            "2.563266687001876 0.6607142857142857 0.03327500394412449 2.5632670965177162 0.6607142857142857 0.05133020452090672\n",
            "2.81413105380172 0.6309523809523809 0.05021651302065168 2.814130679476568 0.6309523809523809 0.07747584013711839\n",
            "3.194329664220716 0.5833333333333334 0.06648448393458412 3.1943404160349425 0.5833333333333334 0.10329490758123852\n",
            "3.440158024626194 0.5595238095238095 0.08345376735641843 3.4401482907309107 0.5595238095238095 0.12928473807516552\n",
            "3.6257320209224893 0.5297619047619048 0.1006392552739098 3.6257306415339716 0.5297619047619048 0.15597667154811679\n",
            "3.8339668738060633 0.5 0.11731828252474467 3.833968613549894 0.5 0.18236359244301206\n",
            "3.954184185779557 0.5059523809523809 0.1340227723121643 3.9594436816733167 0.5059523809523809 0.20883721397036598\n",
            "4.096835811617792 0.48214285714285715 0.15042509777205332 4.098040276424125 0.48214285714285715 0.23627359526497976\n",
            "4.24621066754617 0.47023809523809523 0.1677879818848201 4.247779784389059 0.47023809523809523 0.2626777177765256\n",
            "4.428634142746593 0.4583333333333333 0.18478102343423025 4.428412634058433 0.4583333333333333 0.289634896176202\n",
            "4.526876946991193 0.4523809523809524 0.20166695827529543 4.530718320040625 0.4523809523809524 0.3162562648455302\n",
            "4.591136366763294 0.4583333333333333 0.21750029353868394 4.592088993607896 0.4583333333333333 0.3440170600300744\n",
            "4.648563405609796 0.44642857142857145 0.23403096057119824 4.650894499738718 0.44642857142857145 0.37100411029089064\n",
            "4.6813072215764775 0.44642857142857145 0.2508786987690699 4.682350061224802 0.44642857142857145 0.3985203007857005\n",
            "4.742005621647127 0.44047619047619047 0.26865511139233905 4.744430126432438 0.44047619047619047 0.42651568566049847\n",
            "4.838309363808073 0.43452380952380953 0.285601475409099 4.839176519587759 0.43452380952380953 0.45455960290772573\n",
            "4.830350760313514 0.43452380952380953 0.30154156117212205 4.857450016063114 0.42857142857142855 0.48219409584999084\n",
            "4.91580716431472 0.42857142857142855 0.3188036282857259 4.921029944456877 0.4226190476190476 0.5098415655749184\n",
            "4.930106100268093 0.42857142857142855 0.33595747749010724 4.922484144077201 0.4226190476190476 0.5386935898235866\n",
            "4.94777851855949 0.42857142857142855 0.3535954412959871 4.9476344053938535 0.4226190476190476 0.5676601486546653\n",
            "4.878557072152526 0.42857142857142855 0.369455581619626 4.874454990515583 0.42857142857142855 0.5954528961862836\n",
            "4.88901100391997 0.42857142857142855 0.3853801446301596 4.901052469421226 0.42857142857142855 0.624164084593455\n",
            "4.829183988331794 0.43452380952380953 0.4028648393494742 4.840064949037705 0.43452380952380953 0.6522748583839053\n",
            "4.955501626073276 0.42857142857142855 0.41988632508686613 4.964610118961664 0.42857142857142855 0.6818112915470487\n",
            "Inner Iterations used for PMP: 2\n",
            "2.5515963249413454 0.6488095238095238 0.04152755084491912\n",
            "3.1768949320908395 0.5892857142857143 0.08327602204822358\n",
            "3.5370169346745914 0.5357142857142857 0.12638106658345177\n",
            "3.998733385540142 0.5059523809523809 0.171093449706123\n",
            "4.2865183886581155 0.47619047619047616 0.21349732648758663\n",
            "4.4383735803945115 0.4642857142857143 0.2551848448458172\n",
            "4.592663259392888 0.44642857142857145 0.29924247236478896\n",
            "4.795449836517349 0.4166666666666667 0.34243742199171157\n",
            "4.788179552777461 0.4166666666666667 0.3877434546039218\n",
            "4.963107699517391 0.4226190476190476 0.4316493074099223\n",
            "4.927437080539646 0.4226190476190476 0.47686876143727985\n",
            "4.924022234131719 0.4226190476190476 0.5209994301909492\n",
            "4.832594821315799 0.4226190476190476 0.5674749073528108\n",
            "4.982596704817466 0.4166666666666667 0.6121508521693093\n",
            "4.997514376542874 0.4226190476190476 0.6592468576771873\n",
            "4.953197741790906 0.4166666666666667 0.7052750686804453\n",
            "4.897212044528388 0.42857142857142855 0.7504850924015045\n",
            "4.908004889080018 0.4226190476190476 0.7991110341889518\n",
            "4.8941236941250095 0.4166666666666667 0.8467591816470736\n",
            "4.796957378978276 0.43452380952380953 0.8925989937214625\n",
            "5.010431075300257 0.4166666666666667 0.9405862433569772\n",
            "5.121089729397776 0.4226190476190476 0.9893605396861122\n",
            "4.924842871620031 0.4226190476190476 1.0379187918844677\n",
            "4.987620803173354 0.4107142857142857 1.0869139674164\n",
            "5.089278811467137 0.4226190476190476 1.1361655976091112\n",
            "Inner Iterations used for PMP: 3\n",
            "2.8345922650394857 0.6071428571428571 0.05766916700771877\n",
            "3.5941852783110626 0.5357142857142857 0.1165477888924735\n",
            "4.158231748016932 0.47619047619047616 0.17574497063954672\n",
            "4.538009615418102 0.4642857142857143 0.23504497039885747\n",
            "4.635974135575812 0.4523809523809524 0.29564808096204487\n",
            "4.989853970857277 0.4166666666666667 0.35554355808666777\n",
            "4.861682069072841 0.42857142857142855 0.415954528819947\n",
            "4.980976006266105 0.4166666666666667 0.48173606679553077\n",
            "4.9045978850623895 0.4166666666666667 0.5404656373319172\n",
            "4.861470239761585 0.4226190476190476 0.601840676296325\n",
            "5.0742865210483155 0.4107142857142857 0.6631541819799514\n",
            "4.990053170074186 0.4107142857142857 0.7335784648145948\n",
            "4.883560296298332 0.4226190476190476 0.7917280963488987\n",
            "4.959375331625831 0.4166666666666667 0.8573101588657924\n",
            "4.894596289851672 0.4226190476190476 0.9209305133138385\n",
            "5.116199708797726 0.4166666666666667 0.9845487972100576\n",
            "4.875436412780458 0.4166666666666667 1.0509282577605474\n",
            "5.119745573486484 0.4107142857142857 1.1161670784155528\n",
            "5.127066445906136 0.4107142857142857 1.1811437181064062\n",
            "5.016479129866575 0.4226190476190476 1.2497559970333463\n",
            "4.975020890836383 0.42857142857142855 1.3165799464498247\n",
            "5.05054163729029 0.4226190476190476 1.3834268564269656\n",
            "4.9371081483916255 0.4166666666666667 1.4524066902342296\n",
            "4.9497579980019895 0.4107142857142857 1.5254154744602384\n",
            "4.965512849122241 0.4107142857142857 1.593654561610449\n",
            "Inner Iterations used for PMP: 4\n",
            "3.1135497818095517 0.5833333333333334 0.07390600726717994\n",
            "3.936557527561241 0.5119047619047619 0.14955440447444007\n",
            "4.576835042563149 0.44642857142857145 0.22529212066105433\n",
            "4.699712957351897 0.42857142857142855 0.30149686620348976\n",
            "4.879201534719717 0.4166666666666667 0.37849916446776616\n",
            "4.845386896392329 0.4166666666666667 0.456080151455743\n",
            "4.849942623818941 0.42857142857142855 0.5347802227451688\n",
            "4.87948600317947 0.4226190476190476 0.6188532766841707\n",
            "4.957606754833622 0.4226190476190476 0.6933728939010984\n",
            "5.005634241206192 0.4166666666666667 0.7745501299699148\n",
            "4.842193758445514 0.42857142857142855 0.8547767670381636\n",
            "4.972631249071202 0.4166666666666667 0.9355216778460003\n",
            "4.899128553126622 0.4226190476190476 1.0182116003263564\n",
            "5.034054170219552 0.4226190476190476 1.0998951821100145\n",
            "4.853773684273556 0.4226190476190476 1.1824254649026054\n",
            "5.002733846697997 0.4166666666666667 1.2678565638405936\n",
            "4.946186681114626 0.4107142857142857 1.3528938449564434\n",
            "5.003070179118465 0.4166666666666667 1.437919700429553\n",
            "5.061669100089832 0.40476190476190477 1.5241740218230657\n",
            "5.038112135085823 0.39880952380952384 1.6101844566208976\n",
            "5.0372095687753875 0.4107142857142857 1.6999713225024087\n",
            "5.082056375633873 0.40476190476190477 1.7893000443776448\n",
            "5.106615617315097 0.39880952380952384 1.8768568634986877\n",
            "5.093511841000458 0.40476190476190477 1.963634574697131\n",
            "5.013065264221191 0.4107142857142857 2.054200141202836\n",
            "Inner Iterations used for PMP: 5\n",
            "3.345306041422524 0.5654761904761905 0.09081548026629857\n",
            "4.2376760308234775 0.4642857142857143 0.18259721994400024\n",
            "4.637027547675546 0.44047619047619047 0.27499825046176\n",
            "4.817444361831359 0.4166666666666667 0.3677471563929603\n",
            "4.969646713565238 0.4166666666666667 0.46339985728263855\n",
            "4.980419901859305 0.4226190476190476 0.5565411789076669\n",
            "4.989731810886686 0.4226190476190476 0.6534669541177296\n",
            "4.987286100841679 0.4166666666666667 0.7485451939560118\n",
            "4.964760374452577 0.4107142857142857 0.8440056812195551\n",
            "5.019163021927336 0.4166666666666667 0.9424771964550018\n",
            "4.983663820864807 0.4107142857142857 1.0403771641708555\n",
            "5.079695256276183 0.4166666666666667 1.1418284518378121\n",
            "5.007340684541283 0.4226190476190476 1.243129938840866\n",
            "5.0668451650290764 0.40476190476190477 1.3445057968298595\n",
            "5.154983911905151 0.39880952380952384 1.4445652351492928\n",
            "5.06398406188883 0.4107142857142857 1.5494212408860524\n",
            "5.103600667003655 0.40476190476190477 1.6520430857226962\n",
            "5.14839495471123 0.40476190476190477 1.7608369787534077\n",
            "5.202578468050923 0.39285714285714285 1.8644463136082603\n",
            "5.072266534403664 0.40476190476190477 1.9706176476819175\n",
            "5.142118252106234 0.39880952380952384 2.080652974900745\n",
            "5.111501551276142 0.4107142857142857 2.187950862305505\n",
            "5.140586788358275 0.39880952380952384 2.2976199147247134\n",
            "5.148365187103012 0.39880952380952384 2.4100279339722226\n",
            "5.176045956653185 0.39285714285714285 2.5204862710975466\n"
          ],
          "name": "stdout"
        }
      ]
    },
    {
      "cell_type": "code",
      "metadata": {
        "id": "uQbl5ury6dTA"
      },
      "source": [
        "#load saved arrays\n",
        "losses_pmp = np.load('/content/gdrive/MyDrive/losses_pmp.npy')\n",
        "accs_pmp = np.load('/content/gdrive/MyDrive/accs_pmp.npy')\n",
        "times_pmp = np.load('/content/gdrive/MyDrive/times_pmp.npy')\n",
        "loss_pgd = np.load('/content/gdrive/MyDrive/loss_pgd.npy')\n",
        "accs_pgd = np.load('/content/gdrive/MyDrive/acc_pgd.npy')\n",
        "time_pgd = np.load('/content/gdrive/MyDrive/time_pgd.npy')"
      ],
      "execution_count": 6,
      "outputs": []
    },
    {
      "cell_type": "code",
      "metadata": {
        "id": "FcZ-dcE-71hi",
        "outputId": "5f637e76-2de3-4c88-ea86-d718c9a93cf0",
        "colab": {
          "base_uri": "https://localhost:8080/",
          "height": 296
        }
      },
      "source": [
        "for i in range(5):\n",
        "  plt.plot(times_pmp[i, :], losses_pmp[i, :])\n",
        "\n",
        "plt.plot(time_pgd, loss_pgd)\n",
        "plt.legend(['PMP-1', 'PMP-2', 'PMP-3', 'PMP-4', 'PMP-5', 'PGD' ])\n",
        "plt.xlabel('Time per Batch')\n",
        "plt.ylabel('CE Loss')"
      ],
      "execution_count": 16,
      "outputs": [
        {
          "output_type": "execute_result",
          "data": {
            "text/plain": [
              "Text(0, 0.5, 'CE Loss')"
            ]
          },
          "metadata": {
            "tags": []
          },
          "execution_count": 16
        },
        {
          "output_type": "display_data",
          "data": {
            "image/png": "[encoded data removed]",
            "text/plain": [
              "<Figure size 432x288 with 1 Axes>"
            ]
          },
          "metadata": {
            "tags": [],
            "needs_background": "light"
          }
        }
      ]
    },
    {
      "cell_type": "code",
      "metadata": {
        "id": "1x_tZdMI9Fi_",
        "outputId": "6bb181fd-aa75-4f53-de19-b001bf7392e7",
        "colab": {
          "base_uri": "https://localhost:8080/",
          "height": 296
        }
      },
      "source": [
        "iterations = np.arange(2, 51, 2)\n",
        "for i in range(5):\n",
        "  plt.plot(iterations, losses_pmp[i, :])\n",
        "\n",
        "plt.plot(iterations, loss_pgd)\n",
        "plt.legend(['PMP-1', 'PMP-2', 'PMP-3', 'PMP-4', 'PMP-5', 'PGD' ])\n",
        "plt.xlabel('Outer Iterations')\n",
        "plt.ylabel('CE Loss')"
      ],
      "execution_count": 18,
      "outputs": [
        {
          "output_type": "execute_result",
          "data": {
            "text/plain": [
              "Text(0, 0.5, 'CE Loss')"
            ]
          },
          "metadata": {
            "tags": []
          },
          "execution_count": 18
        },
        {
          "output_type": "display_data",
          "data": {
            "image/png": "[encoded data removed]",
            "text/plain": [
              "<Figure size 432x288 with 1 Axes>"
            ]
          },
          "metadata": {
            "tags": [],
            "needs_background": "light"
          }
        }
      ]
    },
    {
      "cell_type": "code",
      "metadata": {
        "id": "J94N1C_W9qds",
        "outputId": "a57d0ba9-c705-4506-9a10-5f8c27462e6e",
        "colab": {
          "base_uri": "https://localhost:8080/",
          "height": 296
        }
      },
      "source": [
        "plt.plot(times_pmp[2, :], losses_pmp[2, :])\n",
        "\n",
        "plt.plot(time_pgd, loss_pgd)\n",
        "plt.legend(['PMP-1', 'PMP-2', 'PMP-3', 'PMP-4', 'PMP-5', 'PGD' ])\n",
        "plt.xlabel('Time per Batch')\n",
        "plt.ylabel('CE Loss')"
      ],
      "execution_count": 21,
      "outputs": [
        {
          "output_type": "execute_result",
          "data": {
            "text/plain": [
              "Text(0, 0.5, 'CE Loss')"
            ]
          },
          "metadata": {
            "tags": []
          },
          "execution_count": 21
        },
        {
          "output_type": "display_data",
          "data": {
            "image/png": "[encoded data removed]",
            "text/plain": [
              "<Figure size 432x288 with 1 Axes>"
            ]
          },
          "metadata": {
            "tags": [],
            "needs_background": "light"
          }
        }
      ]
    },
    {
      "cell_type": "code",
      "metadata": {
        "id": "lBU_fhTaHjHv"
      },
      "source": [
        "loss = nn.CrossEntropyLoss()\n",
        "adv_attack = GradientAttack(loss, 0.1)\n",
        "loss1 = []\n",
        "accs1 = []\n",
        "for iteration in iteration_range:\n",
        "        losses = 0\n",
        "        acc1 = 0\n",
        "        for input, label in test_dataloader:\n",
        "            if label == 11:\n",
        "                continue\n",
        "            torch.cuda.empty_cache()   \n",
        "            input_adv = adv_attack.forward(input, label, model, num_iter=iteration)\n",
        "\n",
        "\n",
        "            model.eval()\n",
        "            out = model(input_adv)[0].unsqueeze(0)\n",
        "            label = torch.Tensor([label]).cuda().long()\n",
        "            losses += loss(out, label).item() \n",
        "            if torch.argmax(out).item() == label:\n",
        "                acc1 += 1\n",
        "        loss1.append(losses / len(test_dataloader))\n",
        "        accs1.append(acc1 / len(test_dataloader))\n",
        "        print(loss1[-1], accs1[-1])"
      ],
      "execution_count": null,
      "outputs": []
    },
    {
      "cell_type": "code",
      "metadata": {
        "colab": {
          "base_uri": "https://localhost:8080/",
          "height": 407
        },
        "id": "M_twM4HZVeLC",
        "outputId": "011662db-3e41-4400-f6e4-020fdc8bfbc2"
      },
      "source": [
        "\n",
        "loss = nn.CrossEntropyLoss()\n",
        "adv_attack = GradientAttack(loss, 0.1)\n",
        "\n",
        "################ Model Accuracy On Train Dataset Against Attacks#################\n",
        "accurates = 0\n",
        "for input, label in train_dataloader:\n",
        "    if label == 11: \n",
        "        continue\n",
        "    input_adv = adv_attack.forward(input, label, model, num_iter=1)\n",
        "    model.eval()\n",
        "    out = model(input_adv)[0]\n",
        "    if torch.argmax(out).item() == label:\n",
        "        accurates += 1\n",
        "\n",
        "accuracy = accurates / len(train_dataloader)\n",
        "print('The model accuracy on the train dataset after training is ' + str(accuracy))\n",
        "\n",
        "################ Model Accuracy On Validation Dataset Against Attacks #################\n",
        "accurates = 0\n",
        "for input, label in val_dataloader:\n",
        "    if label == 11: \n",
        "        continue\n",
        "    input_adv = adv_attack.forward(input, label, model, num_iter=1)\n",
        "    model.eval()\n",
        "    out = model(input_adv)[0]\n",
        "    if torch.argmax(out).item() == label:\n",
        "        accurates += 1\n",
        "\n",
        "accuracy = accurates / len(val_dataloader)\n",
        "print('The model accuracy on the validation dataset after training is ' + str(accuracy))\n",
        "\n",
        "################ Model Accuracy On Test Dataset Against Attacks#################    \n",
        "accurates = 0\n",
        "for input, label in test_dataloader:\n",
        "    if label == 11: \n",
        "        continue\n",
        "    input_adv = adv_attack.forward(input, label, model, num_iter=1)\n",
        "    model.eval()\n",
        "    out = model(input_adv)[0]\n",
        "    if torch.argmax(out).item() == label:\n",
        "        accurates += 1\n",
        "\n",
        "accuracy = accurates / len(test_dataloader)\n",
        "print('The model accuracy on the testing dataset after training is ' + str(accuracy))"
      ],
      "execution_count": 186,
      "outputs": [
        {
          "output_type": "stream",
          "text": [
            "None\n"
          ],
          "name": "stdout"
        },
        {
          "output_type": "stream",
          "text": [
            "/usr/local/lib/python3.7/dist-packages/ipykernel_launcher.py:36: UserWarning: The .grad attribute of a Tensor that is not a leaf Tensor is being accessed. Its .grad attribute won't be populated during autograd.backward(). If you indeed want the gradient for a non-leaf Tensor, use .retain_grad() on the non-leaf Tensor. If you access the non-leaf Tensor by mistake, make sure you access the leaf Tensor instead. See github.com/pytorch/pytorch/pull/30531 for more informations.\n"
          ],
          "name": "stderr"
        },
        {
          "output_type": "error",
          "ename": "TypeError",
          "evalue": "ignored",
          "traceback": [
            "\u001b[0;31m---------------------------------------------------------------------------\u001b[0m",
            "\u001b[0;31mTypeError\u001b[0m                                 Traceback (most recent call last)",
            "\u001b[0;32m<ipython-input-186-9fece9053336>\u001b[0m in \u001b[0;36m<module>\u001b[0;34m()\u001b[0m\n\u001b[1;32m      8\u001b[0m     \u001b[0;32mif\u001b[0m \u001b[0mlabel\u001b[0m \u001b[0;34m==\u001b[0m \u001b[0;36m11\u001b[0m\u001b[0;34m:\u001b[0m\u001b[0;34m\u001b[0m\u001b[0;34m\u001b[0m\u001b[0m\n\u001b[1;32m      9\u001b[0m         \u001b[0;32mcontinue\u001b[0m\u001b[0;34m\u001b[0m\u001b[0;34m\u001b[0m\u001b[0m\n\u001b[0;32m---> 10\u001b[0;31m     \u001b[0minput_adv\u001b[0m \u001b[0;34m=\u001b[0m \u001b[0madv_attack\u001b[0m\u001b[0;34m.\u001b[0m\u001b[0mforward\u001b[0m\u001b[0;34m(\u001b[0m\u001b[0minput\u001b[0m\u001b[0;34m,\u001b[0m \u001b[0mlabel\u001b[0m\u001b[0;34m,\u001b[0m \u001b[0mmodel\u001b[0m\u001b[0;34m,\u001b[0m \u001b[0mnum_iter\u001b[0m\u001b[0;34m=\u001b[0m\u001b[0;36m1\u001b[0m\u001b[0;34m)\u001b[0m\u001b[0;34m\u001b[0m\u001b[0;34m\u001b[0m\u001b[0m\n\u001b[0m\u001b[1;32m     11\u001b[0m     \u001b[0mmodel\u001b[0m\u001b[0;34m.\u001b[0m\u001b[0meval\u001b[0m\u001b[0;34m(\u001b[0m\u001b[0;34m)\u001b[0m\u001b[0;34m\u001b[0m\u001b[0;34m\u001b[0m\u001b[0m\n\u001b[1;32m     12\u001b[0m     \u001b[0mout\u001b[0m \u001b[0;34m=\u001b[0m \u001b[0mmodel\u001b[0m\u001b[0;34m(\u001b[0m\u001b[0minput_adv\u001b[0m\u001b[0;34m)\u001b[0m\u001b[0;34m[\u001b[0m\u001b[0;36m0\u001b[0m\u001b[0;34m]\u001b[0m\u001b[0;34m\u001b[0m\u001b[0;34m\u001b[0m\u001b[0m\n",
            "\u001b[0;32m<ipython-input-185-72c0f95a63a3>\u001b[0m in \u001b[0;36mforward\u001b[0;34m(self, x, y, model, num_iter, alpha)\u001b[0m\n\u001b[1;32m     44\u001b[0m                         \u001b[0mdelta\u001b[0m \u001b[0;34m=\u001b[0m \u001b[0mtorch\u001b[0m\u001b[0;34m.\u001b[0m\u001b[0mclamp\u001b[0m\u001b[0;34m(\u001b[0m\u001b[0mdelta\u001b[0m\u001b[0;34m,\u001b[0m \u001b[0;34m-\u001b[0m\u001b[0mself\u001b[0m\u001b[0;34m.\u001b[0m\u001b[0mepsilon\u001b[0m\u001b[0;34m,\u001b[0m \u001b[0mself\u001b[0m\u001b[0;34m.\u001b[0m\u001b[0mepsilon\u001b[0m\u001b[0;34m)\u001b[0m\u001b[0;34m\u001b[0m\u001b[0;34m\u001b[0m\u001b[0m\n\u001b[1;32m     45\u001b[0m                     \u001b[0;32melse\u001b[0m\u001b[0;34m:\u001b[0m\u001b[0;34m\u001b[0m\u001b[0;34m\u001b[0m\u001b[0m\n\u001b[0;32m---> 46\u001b[0;31m                         \u001b[0mx_adv\u001b[0m \u001b[0;34m=\u001b[0m \u001b[0mx\u001b[0m \u001b[0;34m+\u001b[0m \u001b[0mtorch\u001b[0m\u001b[0;34m.\u001b[0m\u001b[0msign\u001b[0m\u001b[0;34m(\u001b[0m\u001b[0mgrad\u001b[0m\u001b[0;34m)\u001b[0m \u001b[0;34m*\u001b[0m \u001b[0mself\u001b[0m\u001b[0;34m.\u001b[0m\u001b[0mepsilon\u001b[0m\u001b[0;34m\u001b[0m\u001b[0;34m\u001b[0m\u001b[0m\n\u001b[0m\u001b[1;32m     47\u001b[0m             \u001b[0;32mreturn\u001b[0m \u001b[0mx_adv\u001b[0m\u001b[0;34m\u001b[0m\u001b[0;34m\u001b[0m\u001b[0m\n\u001b[1;32m     48\u001b[0m \u001b[0;34m\u001b[0m\u001b[0m\n",
            "\u001b[0;31mTypeError\u001b[0m: sign(): argument 'input' (position 1) must be Tensor, not NoneType"
          ]
        }
      ]
    },
    {
      "cell_type": "code",
      "metadata": {
        "id": "TmbTnlI-d9Jo",
        "colab": {
          "base_uri": "https://localhost:8080/"
        },
        "outputId": "90a85519-e265-4018-e568-47a87c924757"
      },
      "source": [
        "loss = nn.CrossEntropyLoss()\n",
        "adv_attack = GradientAttack(loss, 0.1)\n",
        "\n",
        "################ Model Accuracy On Train Dataset Against Attacks#################\n",
        "accurates = 0\n",
        "for input, label in train_dataloader:\n",
        "    if label == 11: \n",
        "      continue\n",
        "    input_adv = adv_attack.forward(input, label, model, num_iter=100, alpha=0.005)\n",
        "    model.eval()\n",
        "    out = model(input_adv)[0]\n",
        "    if torch.argmax(out).item() == label:\n",
        "      accurates += 1\n",
        "\n",
        "accuracy = accurates / len(train_dataloader)\n",
        "print('The model accuracy on the train dataset after training is ' + str(accuracy))\n",
        "\n",
        "################ Model Accuracy On Validation Dataset Against Attacks#################\n",
        "accurates = 0\n",
        "for input, label in val_dataloader:\n",
        "    if label == 11: \n",
        "          continue\n",
        "    input_adv = adv_attack.forward(input, label, model, num_iter=100, alpha=0.005)\n",
        "    model.eval()\n",
        "    out = model(input_adv)[0]\n",
        "    if torch.argmax(out).item() == label:\n",
        "      accurates += 1\n",
        "\n",
        "accuracy = accurates / len(val_dataloader)\n",
        "print('The model accuracy on the validation dataset after training is ' + str(accuracy))\n",
        "\n",
        "\n",
        "################ Model Accuracy On Test Dataset Against Attacks#################\n",
        "accurates = 0\n",
        "for input, label in test_dataloader:\n",
        "    if label == 11: \n",
        "          continue\n",
        "    input_adv = adv_attack.forward(input, label, model, num_iter=100, alpha=0.005)\n",
        "    model.eval()\n",
        "    out = model(input_adv)[0]\n",
        "    if torch.argmax(out).item() == label:\n",
        "      accurates += 1\n",
        "\n",
        "accuracy = accurates / len(test_dataloader)\n",
        "print('The model accuracy on the testing dataset after training is ' + str(accuracy))"
      ],
      "execution_count": 22,
      "outputs": [
        {
          "output_type": "stream",
          "text": [
            "The model accuracy on the train dataset after training is 0.6129753914988815\n",
            "The model accuracy on the validation dataset after training is 0.5714285714285714\n",
            "The model accuracy on the testing dataset after training is 0.4107142857142857\n"
          ],
          "name": "stdout"
        }
      ]
    },
    {
      "cell_type": "code",
      "metadata": {
        "id": "jhCllQ4n_Ctl",
        "colab": {
          "base_uri": "https://localhost:8080/",
          "height": 761
        },
        "outputId": "f9ce2acc-5ae8-429f-af1d-fff9a49369be"
      },
      "source": [
        "## This code is for the case in which the sample IS flattened\n",
        "i = 3\n",
        "for input, label in train_dataloader:\n",
        "  if label == 11: \n",
        "      continue\n",
        "  orig_input = input\n",
        "  sample = adv_attack.forward(input, label, model, num_iter=200, alpha=0.0025).cpu().detach()\n",
        "  if i == 0:\n",
        "    break\n",
        "  i = i - 1\n",
        "  frame = 1\n",
        "  xs, ys, zs = sample[0, frame, 0:43], sample[0, frame, 43:86], sample[0, frame, 86:]\n",
        "  plt.figure()\n",
        "  plt.scatter(xs, zs)\n",
        "  plt.axis('scaled')\n",
        "  xs, ys, zs = orig_input[0, frame, 0:43], orig_input[0, frame, 43:86], orig_input[0, frame, 86:]\n",
        "  plt.scatter(xs, zs)\n",
        "  plt.axis('scaled')"
      ],
      "execution_count": 23,
      "outputs": [
        {
          "output_type": "display_data",
          "data": {
            "image/png": "[encoded data removed]",
            "text/plain": [
              "<Figure size 432x288 with 1 Axes>"
            ]
          },
          "metadata": {
            "tags": [],
            "needs_background": "light"
          }
        },
        {
          "output_type": "display_data",
          "data": {
            "image/png": "[encoded data removed]",
            "text/plain": [
              "<Figure size 432x288 with 1 Axes>"
            ]
          },
          "metadata": {
            "tags": [],
            "needs_background": "light"
          }
        },
        {
          "output_type": "display_data",
          "data": {
            "image/png": "[encoded data removed]",
            "text/plain": [
              "<Figure size 432x288 with 1 Axes>"
            ]
          },
          "metadata": {
            "tags": [],
            "needs_background": "light"
          }
        }
      ]
    },
    {
      "cell_type": "markdown",
      "metadata": {
        "id": "jM-wZF0EPr7c"
      },
      "source": [
        "Probably should use 20 or so epochs based on these results"
      ]
    }
  ]
}