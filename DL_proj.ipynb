{
  "nbformat": 4,
  "nbformat_minor": 0,
  "metadata": {
    "colab": {
      "name": "Copy of Copy of DL_proj.ipynb",
      "provenance": [],
      "collapsed_sections": [],
      "toc_visible": true,
      "include_colab_link": true
    },
    "kernelspec": {
      "display_name": "Python 3",
      "language": "python",
      "name": "python3"
    },
    "language_info": {
      "codemirror_mode": {
        "name": "ipython",
        "version": 3
      },
      "file_extension": ".py",
      "mimetype": "text/x-python",
      "name": "python",
      "nbconvert_exporter": "python",
      "pygments_lexer": "ipython3",
      "version": "3.8.8"
    },
    "accelerator": "GPU"
  },
  "cells": [
    {
      "cell_type": "markdown",
      "metadata": {
        "id": "view-in-github",
        "colab_type": "text"
      },
      "source": [
        "<a href=\"https://colab.research.google.com/github/ypeng22/DLFinal/blob/main/DL_proj.ipynb\" target=\"_parent\"><img src=\"https://colab.research.google.com/assets/colab-badge.svg\" alt=\"Open In Colab\"/></a>"
      ]
    },
    {
      "cell_type": "markdown",
      "metadata": {
        "id": "jEk7c_MDbSgX"
      },
      "source": [
        "#Setup"
      ]
    },
    {
      "cell_type": "code",
      "metadata": {
        "id": "WZyv_9X0kb6s",
        "colab": {
          "base_uri": "https://localhost:8080/"
        },
        "outputId": "3c663ea5-f401-49ef-b55e-61c7569ba8c0"
      },
      "source": [
        "!pip install plantcv\n",
        "!pip install c3d"
      ],
      "execution_count": null,
      "outputs": [
        {
          "output_type": "stream",
          "text": [
            "Requirement already satisfied: plantcv in /usr/local/lib/python3.7/dist-packages (3.12.0)\n",
            "Requirement already satisfied: scipy in /usr/local/lib/python3.7/dist-packages (from plantcv) (1.4.1)\n",
            "Requirement already satisfied: numpy>=1.11 in /usr/local/lib/python3.7/dist-packages (from plantcv) (1.19.5)\n",
            "Requirement already satisfied: dask in /usr/local/lib/python3.7/dist-packages (from plantcv) (2.12.0)\n",
            "Requirement already satisfied: pandas in /usr/local/lib/python3.7/dist-packages (from plantcv) (1.1.5)\n",
            "Requirement already satisfied: scikit-learn in /usr/local/lib/python3.7/dist-packages (from plantcv) (0.22.2.post1)\n",
            "Requirement already satisfied: matplotlib>=1.5 in /usr/local/lib/python3.7/dist-packages (from plantcv) (3.2.2)\n",
            "Requirement already satisfied: opencv-python<4,>=3.4 in /usr/local/lib/python3.7/dist-packages (from plantcv) (3.4.13.47)\n",
            "Requirement already satisfied: dask-jobqueue in /usr/local/lib/python3.7/dist-packages (from plantcv) (0.7.2)\n",
            "Requirement already satisfied: plotnine in /usr/local/lib/python3.7/dist-packages (from plantcv) (0.6.0)\n",
            "Requirement already satisfied: scikit-image in /usr/local/lib/python3.7/dist-packages (from plantcv) (0.16.2)\n",
            "Requirement already satisfied: python-dateutil in /usr/local/lib/python3.7/dist-packages (from plantcv) (2.8.1)\n",
            "Requirement already satisfied: pytz>=2017.2 in /usr/local/lib/python3.7/dist-packages (from pandas->plantcv) (2018.9)\n",
            "Requirement already satisfied: joblib>=0.11 in /usr/local/lib/python3.7/dist-packages (from scikit-learn->plantcv) (1.0.1)\n",
            "Requirement already satisfied: kiwisolver>=1.0.1 in /usr/local/lib/python3.7/dist-packages (from matplotlib>=1.5->plantcv) (1.3.1)\n",
            "Requirement already satisfied: pyparsing!=2.0.4,!=2.1.2,!=2.1.6,>=2.0.1 in /usr/local/lib/python3.7/dist-packages (from matplotlib>=1.5->plantcv) (2.4.7)\n",
            "Requirement already satisfied: cycler>=0.10 in /usr/local/lib/python3.7/dist-packages (from matplotlib>=1.5->plantcv) (0.10.0)\n",
            "Requirement already satisfied: distributed>=2.19 in /usr/local/lib/python3.7/dist-packages (from dask-jobqueue->plantcv) (2021.4.1)\n",
            "Requirement already satisfied: statsmodels>=0.9.0 in /usr/local/lib/python3.7/dist-packages (from plotnine->plantcv) (0.10.2)\n",
            "Requirement already satisfied: mizani>=0.6.0 in /usr/local/lib/python3.7/dist-packages (from plotnine->plantcv) (0.6.0)\n",
            "Requirement already satisfied: patsy>=0.4.1 in /usr/local/lib/python3.7/dist-packages (from plotnine->plantcv) (0.5.1)\n",
            "Requirement already satisfied: descartes>=1.1.0 in /usr/local/lib/python3.7/dist-packages (from plotnine->plantcv) (1.1.0)\n",
            "Requirement already satisfied: imageio>=2.3.0 in /usr/local/lib/python3.7/dist-packages (from scikit-image->plantcv) (2.4.1)\n",
            "Requirement already satisfied: networkx>=2.0 in /usr/local/lib/python3.7/dist-packages (from scikit-image->plantcv) (2.5.1)\n",
            "Requirement already satisfied: pillow>=4.3.0 in /usr/local/lib/python3.7/dist-packages (from scikit-image->plantcv) (7.1.2)\n",
            "Requirement already satisfied: PyWavelets>=0.4.0 in /usr/local/lib/python3.7/dist-packages (from scikit-image->plantcv) (1.1.1)\n",
            "Requirement already satisfied: six>=1.5 in /usr/local/lib/python3.7/dist-packages (from python-dateutil->plantcv) (1.15.0)\n",
            "Requirement already satisfied: toolz>=0.8.2 in /usr/local/lib/python3.7/dist-packages (from distributed>=2.19->dask-jobqueue->plantcv) (0.11.1)\n",
            "Requirement already satisfied: click>=6.6 in /usr/local/lib/python3.7/dist-packages (from distributed>=2.19->dask-jobqueue->plantcv) (7.1.2)\n",
            "Requirement already satisfied: psutil>=5.0 in /usr/local/lib/python3.7/dist-packages (from distributed>=2.19->dask-jobqueue->plantcv) (5.4.8)\n",
            "Requirement already satisfied: setuptools in /usr/local/lib/python3.7/dist-packages (from distributed>=2.19->dask-jobqueue->plantcv) (56.0.0)\n",
            "Requirement already satisfied: tornado>=5; python_version < \"3.8\" in /usr/local/lib/python3.7/dist-packages (from distributed>=2.19->dask-jobqueue->plantcv) (5.1.1)\n",
            "Requirement already satisfied: cloudpickle>=1.5.0 in /usr/local/lib/python3.7/dist-packages (from distributed>=2.19->dask-jobqueue->plantcv) (1.6.0)\n",
            "Requirement already satisfied: pyyaml in /usr/local/lib/python3.7/dist-packages (from distributed>=2.19->dask-jobqueue->plantcv) (3.13)\n",
            "Requirement already satisfied: tblib>=1.6.0 in /usr/local/lib/python3.7/dist-packages (from distributed>=2.19->dask-jobqueue->plantcv) (1.7.0)\n",
            "Requirement already satisfied: msgpack>=0.6.0 in /usr/local/lib/python3.7/dist-packages (from distributed>=2.19->dask-jobqueue->plantcv) (1.0.2)\n",
            "Requirement already satisfied: zict>=0.1.3 in /usr/local/lib/python3.7/dist-packages (from distributed>=2.19->dask-jobqueue->plantcv) (2.0.0)\n",
            "Requirement already satisfied: sortedcontainers!=2.0.0,!=2.0.1 in /usr/local/lib/python3.7/dist-packages (from distributed>=2.19->dask-jobqueue->plantcv) (2.3.0)\n",
            "Requirement already satisfied: palettable in /usr/local/lib/python3.7/dist-packages (from mizani>=0.6.0->plotnine->plantcv) (3.3.0)\n",
            "Requirement already satisfied: decorator<5,>=4.3 in /usr/local/lib/python3.7/dist-packages (from networkx>=2.0->scikit-image->plantcv) (4.4.2)\n",
            "Requirement already satisfied: heapdict in /usr/local/lib/python3.7/dist-packages (from zict>=0.1.3->distributed>=2.19->dask-jobqueue->plantcv) (1.0.1)\n",
            "Requirement already satisfied: c3d in /usr/local/lib/python3.7/dist-packages (0.3.0)\n",
            "Requirement already satisfied: numpy in /usr/local/lib/python3.7/dist-packages (from c3d) (1.19.5)\n"
          ],
          "name": "stdout"
        }
      ]
    },
    {
      "cell_type": "code",
      "metadata": {
        "id": "_gnveOQLzZs-"
      },
      "source": [
        "import numpy as np\n",
        "import matplotlib.pyplot as plt\n",
        "import c3d\n",
        "import cv2\n",
        "import torch\n",
        "import torch.nn as nn\n",
        "from torch.utils.data import Dataset, DataLoader\n",
        "from torch.autograd import Variable\n",
        "import os\n",
        "from plantcv import plantcv as pcv\n",
        "from scipy import ndimage\n",
        "import torchvision"
      ],
      "execution_count": null,
      "outputs": []
    },
    {
      "cell_type": "code",
      "metadata": {
        "colab": {
          "base_uri": "https://localhost:8080/"
        },
        "id": "WCAC2zBMNOjE",
        "outputId": "8b1bf0bb-bd8e-4522-e5f3-f9ad7e6ec251"
      },
      "source": [
        "## Mount Google Drive Data (If using Google Colaboratory)\n",
        "try:\n",
        "    from google.colab import drive\n",
        "    drive.mount('/content/gdrive')\n",
        "except:\n",
        "    print(\"Mounting Failed.\")\n"
      ],
      "execution_count": null,
      "outputs": [
        {
          "output_type": "stream",
          "text": [
            "Drive already mounted at /content/gdrive; to attempt to forcibly remount, call drive.mount(\"/content/gdrive\", force_remount=True).\n"
          ],
          "name": "stdout"
        }
      ]
    },
    {
      "cell_type": "code",
      "metadata": {
        "id": "prEI4BySN1tM"
      },
      "source": [
        "data_dir = \"/content/gdrive/MyDrive/BerkeleyMHAD/\"\n",
        "subjects = ['S01', 'S02', 'S03', 'S04', 'S05','S06', 'S07', 'S08', 'S09', 'S10', 'S11', 'S12']\n",
        "actions = ['A01', 'A02', 'A03', 'A04', 'A05','A06', 'A07', 'A08', 'A09', 'A10', 'A11']\n",
        "reps = ['R01', 'R02', 'R03', 'R04', 'R05']"
      ],
      "execution_count": null,
      "outputs": []
    },
    {
      "cell_type": "markdown",
      "metadata": {
        "id": "uPQyI2ZUbV7Z"
      },
      "source": [
        "#LSTM on Skeleton Data"
      ]
    },
    {
      "cell_type": "code",
      "metadata": {
        "id": "pSGM-xw4cj4_"
      },
      "source": [
        "################ Dataloader for Berkeley Mocap Optical Data #################\n",
        "\n",
        "def c3d2array(loc: str, frame_rate):\n",
        "    \"\"\"\n",
        "    Takes in the file location of the c3d file as a string and returns a \n",
        "    numpy array w/ the sensor data\n",
        "    Array Shape: Num_frames x 43 x 3 \n",
        "      43 corresponds to the number of nodes on the person\n",
        "      3 corresponds to spatial coordinates of the nodes\n",
        "    \"\"\"\n",
        "    point_series = []\n",
        "    reader = c3d.Reader(open(loc, 'rb'))\n",
        "    for i, points, analog in reader.read_frames():     \n",
        "        if i % frame_rate == 0: ## Set Frame Rate to approximately 22 Hz instead of 480 Hz\n",
        "            point_series.append(points[:, 0:3])\n",
        "    point_series = np.array(point_series)\n",
        "    return point_series\n",
        "\n",
        "class BerkeleyMocapOpticalDataset(Dataset):\n",
        "    \"\"\"Berkeley Mocap Optical Dataset.\"\"\"\n",
        "\n",
        "    def __init__(self, root_dir, train, frame_rate, transform=None):\n",
        "        \"\"\"\n",
        "        Args:\n",
        "            root_dir (string): Directory with all the data\n",
        "            train (string): has to be one of \"train\", \"test\", or \"val\"\n",
        "            frame_rate (integer): In Hz \n",
        "            transform (callable, optional): Optional transform to be applied\n",
        "                on a sample.\n",
        "        \"\"\"\n",
        "        self.root_dir = root_dir\n",
        "        if train == 'train':\n",
        "            self.list_c3d = [file for file in os.listdir(root_dir) if (os.path.isfile(os.path.join(root_dir, file)) and file[-1] != 't' and int(file[5:7]) < 9) ] #list of all the c3d file names for the first 8 subjects\n",
        "        elif train == 'test':\n",
        "            self.list_c3d = [file for file in os.listdir(root_dir) if (os.path.isfile(os.path.join(root_dir, file)) and file[-1] != 't' and int(file[5:7]) > 8 and int(file[5:7]) < 12) ] #list of all the c3d file names for the subjects 9, 10, 11\n",
        "        else:\n",
        "            self.list_c3d = [file for file in os.listdir(root_dir) if (os.path.isfile(os.path.join(root_dir, file)) and file[-1] != 't' and int(file[5:7]) == 12) ] #list of all the c3d file names for the subject 12\n",
        "        self.frame_rate = frame_rate\n",
        "        self.transform = transform\n",
        "\n",
        "    def __len__(self):\n",
        "        return len(self.list_c3d)\n",
        "\n",
        "    def __getitem__(self, idx):\n",
        "        if torch.is_tensor(idx):\n",
        "            idx = idx.tolist()\n",
        "        c3d_file_location = os.path.join(self.root_dir,\n",
        "                                self.list_c3d[idx])\n",
        "        sample = c3d2array(c3d_file_location, self.frame_rate)\n",
        "        label_location = c3d_file_location.find('_a')\n",
        "        if label_location == -1: # FUCK T-POSE\n",
        "            label = 12\n",
        "        else: \n",
        "            label = int(c3d_file_location[label_location+2:label_location+4])\n",
        "        if self.transform:\n",
        "            sample = self.transform(sample)\n",
        "        # Flatten Samples \n",
        "        sample = torch.transpose(sample, 0, 1)\n",
        "        sample = torch.flatten(sample, 1, 2)\n",
        "        sample = torch.unsqueeze(sample, 0)\n",
        "        sample = sample.float()\n",
        "        rng = np.random.default_rng(12345)\n",
        "        rints = rng.integers(low=0, high=sample.shape[1], size=1)\n",
        "        rints_2 = rng.integers(low=0, high=sample.shape[2], size=1)\n",
        "        bad_indices = sample > 1.8\n",
        "        sample[bad_indices] = sample[0, rints, rints_2]\n",
        "        # I think labels should go from 0 through 11 since we are using argmax later for loss/accuracy\n",
        "        return sample, label - 1\n",
        "\n",
        "\n",
        "############### Compute Mean and SD across the dataset #############\n",
        "## If you wish to uncomment the code below and rerun it, you might have to comment out the three lines which cflatten the sample in the class above\n",
        "'''transform = None\n",
        "root_dir = data_dir + 'Mocap/OpticalData'\n",
        "frame_rate = 1\n",
        "\n",
        "dataloader = BerkeleyMocapOpticalDataset(root_dir, \"train\", 1)\n",
        "x_list = []\n",
        "y_list = []\n",
        "z_list = []\n",
        "\n",
        "for sample,_ in dataloader:\n",
        "  x_list.append(np.ndarray.flatten(sample[:,:,0]))\n",
        "  y_list.append(np.ndarray.flatten(sample[:,:,1]))\n",
        "  z_list.append(np.ndarray.flatten(sample[:,:,2]))\n",
        "\n",
        "x_list = np.concatenate(np.array(x_list))\n",
        "y_list = np.concatenate(np.array(y_list))\n",
        "z_list = np.concatenate(np.array(z_list))\n",
        "x_mean = np.mean(x_list)\n",
        "x_sd = np.std(x_list)\n",
        "y_mean = np.mean(y_list)\n",
        "y_sd = np.std(y_list)\n",
        "z_mean = np.mean(z_list)\n",
        "z_sd = np.std(z_list)\n",
        "print([x_mean, y_mean, z_mean, x_sd, y_sd, z_sd])'''\n",
        "\n",
        "############### Define a transform with mean, std, and tensor ############\n",
        "## So we don't need to rerun for the mean and standard deviations every time\n",
        "x_mean, x_sd, y_mean, y_sd, z_mean, z_sd = -455.09898495222086, 245.84348947768748, 148.47916727630624, 183.09031602408763, 814.4396506806088, 538.2824468734605\n",
        "transform = torchvision.transforms.Compose([\n",
        "  torchvision.transforms.ToTensor(),\n",
        "  torchvision.transforms.Normalize((x_mean, y_mean, z_mean), (x_sd, y_sd, z_sd)),\n",
        "])\n",
        "\n",
        "\n",
        "############# Final Dataloaders ####################\n",
        "root_dir = data_dir + 'Mocap/OpticalData'\n",
        "frame_rate = 22\n",
        "train_dataloader = BerkeleyMocapOpticalDataset(root_dir, \"train\", frame_rate, transform=transform)\n",
        "test_dataloader = BerkeleyMocapOpticalDataset(root_dir, \"test\", frame_rate, transform=transform)\n",
        "val_dataloader = BerkeleyMocapOpticalDataset(root_dir, \"val\", frame_rate, transform=transform)\n"
      ],
      "execution_count": null,
      "outputs": []
    },
    {
      "cell_type": "code",
      "metadata": {
        "id": "Ehz48DvAcqVk",
        "colab": {
          "base_uri": "https://localhost:8080/",
          "height": 761
        },
        "outputId": "d3beed77-33f0-4029-bbcb-a688a87ccc5e"
      },
      "source": [
        "############ Test The Dataloader ######################\n",
        "\n",
        "## This code is for case in which the sample is NOT flattened\n",
        "'''i = 3\n",
        "for sample,_ in train_dataloader:\n",
        "  if i == 0:\n",
        "    break\n",
        "  i = i - 1\n",
        "  frame = 1\n",
        "  xs, ys, zs = sample[0, frame, :], sample[1, frame, :], sample[2, frame, :]\n",
        "  plt.figure()\n",
        "  plt.scatter(xs, zs)\n",
        "  plt.axis('scaled')\n",
        "  xs, ys, zs = sample[0, frame+10, :], sample[1, frame+10, :], sample[2, frame+10, :]\n",
        "  plt.scatter(xs, zs)\n",
        "  plt.axis('scaled')'''\n",
        "\n",
        "## This code is for the case in which the sample IS flattened\n",
        "i = 3\n",
        "for sample,_ in train_dataloader:\n",
        "  if i == 0:\n",
        "    break\n",
        "  i = i - 1\n",
        "  frame = 1\n",
        "  xs, ys, zs = sample[0, frame, 0:43], sample[0, frame, 43:86], sample[0, frame, 86:]\n",
        "  plt.figure()\n",
        "  plt.scatter(xs, zs)\n",
        "  plt.axis('scaled')\n",
        "  xs, ys, zs = sample[0, frame+10, 0:43], sample[0, frame+10, 43:86], sample[0, frame+10, 86:]\n",
        "  plt.scatter(xs, zs)\n",
        "  plt.axis('scaled')"
      ],
      "execution_count": null,
      "outputs": [
        {
          "output_type": "display_data",
          "data": {
            "image/png": "[encoded data removed]",
            "text/plain": [
              "<Figure size 432x288 with 1 Axes>"
            ]
          },
          "metadata": {
            "tags": [],
            "needs_background": "light"
          }
        },
        {
          "output_type": "display_data",
          "data": {
            "image/png": "[encoded data removed]",
            "text/plain": [
              "<Figure size 432x288 with 1 Axes>"
            ]
          },
          "metadata": {
            "tags": [],
            "needs_background": "light"
          }
        },
        {
          "output_type": "display_data",
          "data": {
            "image/png": "[encoded data removed]",
            "text/plain": [
              "<Figure size 432x288 with 1 Axes>"
            ]
          },
          "metadata": {
            "tags": [],
            "needs_background": "light"
          }
        }
      ]
    },
    {
      "cell_type": "code",
      "metadata": {
        "id": "xNccTDNGxYdG"
      },
      "source": [
        "class skeletonLSTM(nn.Module):\n",
        "    def __init__(self, classes):\n",
        "        super(skeletonLSTM, self).__init__()\n",
        "        self.n_hidden = 100\n",
        "        self.n_layers = 2\n",
        "        self.l_lstm = torch.nn.LSTM(input_size = 129, \n",
        "                                 hidden_size = self.n_hidden,\n",
        "                                 num_layers = self.n_layers, \n",
        "                                 batch_first = True)\n",
        "        self.fc1 = nn.Linear(100, 50)\n",
        "        self.fc2 = nn.Linear(50, classes)\n",
        "        self.relu = nn.ReLU()\n",
        "    def forward(self, x):\n",
        "        #intialize lstm hidden state\n",
        "        hidden_state = torch.zeros(self.n_layers, 1, self.n_hidden).cuda()\n",
        "        cell_state = torch.zeros(self.n_layers, 1, self.n_hidden).cuda()\n",
        "        self.hidden = (hidden_state, cell_state)      \n",
        "        #print(x.shape)\n",
        "        lstm_out, _ = self.l_lstm(x, self.hidden) #lstm_out shape is batch_size, seq len, hidden state\n",
        "        lstm_out = lstm_out[:,-1,:]\n",
        "        lstm_out = self.relu(self.fc1(lstm_out.squeeze()))\n",
        "        lstm_out = self.fc2(lstm_out)\n",
        "        return lstm_out\n",
        "    "
      ],
      "execution_count": null,
      "outputs": []
    },
    {
      "cell_type": "code",
      "metadata": {
        "id": "mYYtqLfyyC0Z",
        "colab": {
          "base_uri": "https://localhost:8080/"
        },
        "outputId": "1648ef45-62b9-49ee-d696-764b21f47547"
      },
      "source": [
        " num_epochs = 50\n",
        " num_classes = 11\n",
        " model = skeletonLSTM(num_classes)\n",
        " model.cuda()\n",
        " loss_func = nn.CrossEntropyLoss()\n",
        " optimizer = torch.optim.Adam(model.parameters())\n",
        " \n",
        " train_loss_vec = []\n",
        " val_loss_vec = []\n",
        " for epoch in range(num_epochs):\n",
        "    train_loss_for_epoch = []\n",
        "    val_loss_for_epoch = []\n",
        "    ########################### Training #####################################\n",
        "    print(\"\\nEPOCH \" +str(epoch+1)+\" of \"+str(num_epochs)+\"\\n\")\n",
        "    for inputs, labels in train_dataloader:\n",
        "          inputs = inputs.cuda()\n",
        "          model.train()\n",
        "          if labels == 11: #FUCK T-POSE\n",
        "              continue\n",
        "          labels = torch.Tensor([labels]).cuda()\n",
        "          predictions = model(inputs).unsqueeze(0)\n",
        "          loss = loss_func(predictions, labels.long())\n",
        "          optimizer.zero_grad()\n",
        "          loss.backward()\n",
        "          optimizer.step()\n",
        "          train_loss_for_epoch.append(loss.item())\n",
        "\n",
        "    train_loss_vec.append( sum(train_loss_for_epoch) / len(train_loss_for_epoch) )\n",
        "    for inputs, labels in val_dataloader:\n",
        "          inputs = inputs.cuda()\n",
        "          model.eval()\n",
        "          if labels == 11: #FUCK T-POSE\n",
        "              continue\n",
        "          labels = torch.Tensor([labels]).cuda()\n",
        "          predictions = model(inputs).unsqueeze(0)\n",
        "          loss = loss_func(predictions, labels.long())\n",
        "          val_loss_for_epoch.append(loss.item())\n",
        "          if val_loss_for_epoch[-1] == min(val_loss_for_epoch):\n",
        "              torch.save(model, '/content/gdrive/MyDrive/best_model.pth')\n",
        "    val_loss_vec.append(sum(val_loss_for_epoch) / len(val_loss_for_epoch) )\n",
        "    print(\"The training loss for Epoch \" + str(epoch + 1) + \" is \" + str(train_loss_vec[-1]))\n",
        "    print(\"The validation loss for Epoch \" + str(epoch + 1) + \" is \" + str(val_loss_vec[-1]))\n"
      ],
      "execution_count": null,
      "outputs": [
        {
          "output_type": "stream",
          "text": [
            "\n",
            "EPOCH 1 of 50\n",
            "\n",
            "The training loss for Epoch 1 is 2.2070627585732314\n",
            "The validation loss for Epoch 1 is 2.220439647544514\n",
            "\n",
            "EPOCH 2 of 50\n",
            "\n",
            "The training loss for Epoch 2 is 1.7703523453386556\n",
            "The validation loss for Epoch 2 is 1.7010963594837283\n",
            "\n",
            "EPOCH 3 of 50\n",
            "\n",
            "The training loss for Epoch 3 is 1.8283630405899545\n",
            "The validation loss for Epoch 3 is 1.6609510464509103\n",
            "\n",
            "EPOCH 4 of 50\n",
            "\n",
            "The training loss for Epoch 4 is 1.59000293105567\n",
            "The validation loss for Epoch 4 is 1.4482743420045485\n",
            "\n",
            "EPOCH 5 of 50\n",
            "\n",
            "The training loss for Epoch 5 is 1.486603253124759\n",
            "The validation loss for Epoch 5 is 1.3714607238213912\n",
            "\n",
            "EPOCH 6 of 50\n",
            "\n",
            "The training loss for Epoch 6 is 1.4611921449373386\n",
            "The validation loss for Epoch 6 is 1.3666504514303102\n",
            "\n",
            "EPOCH 7 of 50\n",
            "\n",
            "The training loss for Epoch 7 is 1.4284010412768178\n",
            "The validation loss for Epoch 7 is 1.3669012144316433\n",
            "\n",
            "EPOCH 8 of 50\n",
            "\n",
            "The training loss for Epoch 8 is 1.4071393218260722\n",
            "The validation loss for Epoch 8 is 1.3443895841345446\n",
            "\n",
            "EPOCH 9 of 50\n",
            "\n",
            "The training loss for Epoch 9 is 1.3212397933683795\n",
            "The validation loss for Epoch 9 is 1.1038955649937798\n",
            "\n",
            "EPOCH 10 of 50\n",
            "\n",
            "The training loss for Epoch 10 is 1.4611368292870563\n",
            "The validation loss for Epoch 10 is 1.2177039458011594\n",
            "\n",
            "EPOCH 11 of 50\n",
            "\n",
            "The training loss for Epoch 11 is 1.2098797968085329\n",
            "The validation loss for Epoch 11 is 1.0350096476076447\n",
            "\n",
            "EPOCH 12 of 50\n",
            "\n",
            "The training loss for Epoch 12 is 1.069225803525997\n",
            "The validation loss for Epoch 12 is 0.8512925480763939\n",
            "\n",
            "EPOCH 13 of 50\n",
            "\n",
            "The training loss for Epoch 13 is 1.0181799444220887\n",
            "The validation loss for Epoch 13 is 0.8627653160977843\n",
            "\n",
            "EPOCH 14 of 50\n",
            "\n",
            "The training loss for Epoch 14 is 0.7877502463492798\n",
            "The validation loss for Epoch 14 is 0.5722880547694661\n",
            "\n",
            "EPOCH 15 of 50\n",
            "\n",
            "The training loss for Epoch 15 is 0.897971142182877\n",
            "The validation loss for Epoch 15 is 0.8049673214960917\n",
            "\n",
            "EPOCH 16 of 50\n",
            "\n",
            "The training loss for Epoch 16 is 0.8538826965959119\n",
            "The validation loss for Epoch 16 is 0.5383993239803203\n",
            "\n",
            "EPOCH 17 of 50\n",
            "\n",
            "The training loss for Epoch 17 is 0.6310460660724531\n",
            "The validation loss for Epoch 17 is 0.5492505366730587\n",
            "\n",
            "EPOCH 18 of 50\n",
            "\n",
            "The training loss for Epoch 18 is 0.6294178562686132\n",
            "The validation loss for Epoch 18 is 0.5465871479139258\n",
            "\n",
            "EPOCH 19 of 50\n",
            "\n",
            "The training loss for Epoch 19 is 0.4717211363175732\n",
            "The validation loss for Epoch 19 is 0.5007218282209909\n",
            "\n",
            "EPOCH 20 of 50\n",
            "\n",
            "The training loss for Epoch 20 is 0.6039081595967403\n",
            "The validation loss for Epoch 20 is 1.0635124314539346\n",
            "\n",
            "EPOCH 21 of 50\n",
            "\n",
            "The training loss for Epoch 21 is 0.6086907285917444\n",
            "The validation loss for Epoch 21 is 0.3992809158046095\n",
            "\n",
            "EPOCH 22 of 50\n",
            "\n",
            "The training loss for Epoch 22 is 0.31481229160815677\n",
            "The validation loss for Epoch 22 is 0.4661204483640507\n",
            "\n",
            "EPOCH 23 of 50\n",
            "\n",
            "The training loss for Epoch 23 is 0.2817908157060821\n",
            "The validation loss for Epoch 23 is 0.6031624298368115\n",
            "\n",
            "EPOCH 24 of 50\n",
            "\n",
            "The training loss for Epoch 24 is 0.21379575200139833\n",
            "The validation loss for Epoch 24 is 0.2762778910890285\n",
            "\n",
            "EPOCH 25 of 50\n",
            "\n",
            "The training loss for Epoch 25 is 0.26702083518541264\n",
            "The validation loss for Epoch 25 is 0.46256100086770446\n",
            "\n",
            "EPOCH 26 of 50\n",
            "\n",
            "The training loss for Epoch 26 is 0.2506168795133525\n",
            "The validation loss for Epoch 26 is 0.42519858286647255\n",
            "\n",
            "EPOCH 27 of 50\n",
            "\n",
            "The training loss for Epoch 27 is 0.15231008861173118\n",
            "The validation loss for Epoch 27 is 0.1517153832333861\n",
            "\n",
            "EPOCH 28 of 50\n",
            "\n",
            "The training loss for Epoch 28 is 0.24483832106451284\n",
            "The validation loss for Epoch 28 is 0.22950603837535627\n",
            "\n",
            "EPOCH 29 of 50\n",
            "\n",
            "The training loss for Epoch 29 is 0.08951374390476935\n",
            "The validation loss for Epoch 29 is 0.2182165932049181\n",
            "\n",
            "EPOCH 30 of 50\n",
            "\n",
            "The training loss for Epoch 30 is 0.023964128999018914\n",
            "The validation loss for Epoch 30 is 0.28903189445673805\n",
            "\n",
            "EPOCH 31 of 50\n",
            "\n",
            "The training loss for Epoch 31 is 0.03169782661199927\n",
            "The validation loss for Epoch 31 is 1.4600021695378183\n",
            "\n",
            "EPOCH 32 of 50\n",
            "\n",
            "The training loss for Epoch 32 is 0.24628731226170583\n",
            "The validation loss for Epoch 32 is 0.5413015526877685\n",
            "\n",
            "EPOCH 33 of 50\n",
            "\n",
            "The training loss for Epoch 33 is 0.25811409891243803\n",
            "The validation loss for Epoch 33 is 0.1332954504080011\n",
            "\n",
            "EPOCH 34 of 50\n",
            "\n",
            "The training loss for Epoch 34 is 0.11326107563271812\n",
            "The validation loss for Epoch 34 is 0.13966016277362625\n",
            "\n",
            "EPOCH 35 of 50\n",
            "\n",
            "The training loss for Epoch 35 is 0.08266097443591182\n",
            "The validation loss for Epoch 35 is 0.7599932260269849\n",
            "\n",
            "EPOCH 36 of 50\n",
            "\n",
            "The training loss for Epoch 36 is 0.2466315473014324\n",
            "The validation loss for Epoch 36 is 0.924010707134144\n",
            "\n",
            "EPOCH 37 of 50\n",
            "\n",
            "The training loss for Epoch 37 is 0.08281704771695998\n",
            "The validation loss for Epoch 37 is 0.029483203349734182\n",
            "\n",
            "EPOCH 38 of 50\n",
            "\n",
            "The training loss for Epoch 38 is 0.0074327003499593605\n",
            "The validation loss for Epoch 38 is 0.029648236894051522\n",
            "\n",
            "EPOCH 39 of 50\n",
            "\n",
            "The training loss for Epoch 39 is 0.01911186427993008\n",
            "The validation loss for Epoch 39 is 0.04038800803247307\n",
            "\n",
            "EPOCH 40 of 50\n",
            "\n",
            "The training loss for Epoch 40 is 0.0022181910589127865\n",
            "The validation loss for Epoch 40 is 0.05070397788846812\n",
            "\n",
            "EPOCH 41 of 50\n",
            "\n",
            "The training loss for Epoch 41 is 0.001202950255349987\n",
            "The validation loss for Epoch 41 is 0.05280171293197342\n",
            "\n",
            "EPOCH 42 of 50\n",
            "\n",
            "The training loss for Epoch 42 is 0.0008114798900290207\n",
            "The validation loss for Epoch 42 is 0.05541832708208626\n",
            "\n",
            "EPOCH 43 of 50\n",
            "\n",
            "The training loss for Epoch 43 is 0.0005712983237174706\n",
            "The validation loss for Epoch 43 is 0.057825375609843764\n",
            "\n",
            "EPOCH 44 of 50\n",
            "\n",
            "The training loss for Epoch 44 is 0.000414979997902836\n",
            "The validation loss for Epoch 44 is 0.06012216266543465\n",
            "\n",
            "EPOCH 45 of 50\n",
            "\n",
            "The training loss for Epoch 45 is 0.0003064211355704214\n",
            "The validation loss for Epoch 45 is 0.062136569963789676\n",
            "\n",
            "EPOCH 46 of 50\n",
            "\n",
            "The training loss for Epoch 46 is 0.00022877669718656248\n",
            "The validation loss for Epoch 46 is 0.06302598480151224\n",
            "\n",
            "EPOCH 47 of 50\n",
            "\n",
            "The training loss for Epoch 47 is 0.00017204542739605926\n",
            "The validation loss for Epoch 47 is 0.06507867136105071\n",
            "\n",
            "EPOCH 48 of 50\n",
            "\n",
            "The training loss for Epoch 48 is 0.00013004691355100384\n",
            "The validation loss for Epoch 48 is 0.06695243634048777\n",
            "\n",
            "EPOCH 49 of 50\n",
            "\n",
            "The training loss for Epoch 49 is 9.769989279092427e-05\n",
            "The validation loss for Epoch 49 is 0.06803613796581852\n",
            "\n",
            "EPOCH 50 of 50\n",
            "\n",
            "The training loss for Epoch 50 is 7.425828202957299e-05\n",
            "The validation loss for Epoch 50 is 0.06786038592458978\n"
          ],
          "name": "stdout"
        }
      ]
    },
    {
      "cell_type": "code",
      "metadata": {
        "id": "M57LENMrdCL-",
        "colab": {
          "base_uri": "https://localhost:8080/",
          "height": 387
        },
        "outputId": "74b892d0-8482-4dfe-8475-1546ef2d9756"
      },
      "source": [
        "\n",
        "model = torch.load('/content/gdrive/MyDrive/best_model.pth')\n",
        "# 45ish epoch model https://drive.google.com/file/d/1SzOCnZ5kWuuEQ5GpYz9TAqYbjwYfP5kZ/view?usp=sharing\n",
        "# Accuracies are 98/96/82\n",
        "\n",
        "################ Model Accuracy On Train Dataset Post Training #################\n",
        "\n",
        "accurates = 0\n",
        "for input, label in train_dataloader:\n",
        "  input = input.cuda()\n",
        "  out = model(input)\n",
        "  if torch.argmax(out).item() == label:\n",
        "    accurates += 1\n",
        "\n",
        "accuracy = accurates / len(train_dataloader)\n",
        "print('The model accuracy on the train dataset after training is ' + str(accuracy))\n",
        "\n",
        "################ Model Accuracy On Validation Dataset Post Training #################\n",
        "accurates = 0\n",
        "for input, label in val_dataloader:\n",
        "  input = input.cuda()\n",
        "  out = model(input)\n",
        "  if torch.argmax(out).item() == label:\n",
        "    accurates += 1\n",
        "\n",
        "accuracy = accurates / len(val_dataloader)\n",
        "print('The model accuracy on the validation dataset after training is ' + str(accuracy))\n",
        "    "
      ],
      "execution_count": null,
      "outputs": [
        {
          "output_type": "stream",
          "text": [
            "The model accuracy on the train dataset after training is 0.9821029082774049\n"
          ],
          "name": "stdout"
        },
        {
          "output_type": "error",
          "ename": "KeyboardInterrupt",
          "evalue": "ignored",
          "traceback": [
            "\u001b[0;31m---------------------------------------------------------------------------\u001b[0m",
            "\u001b[0;31mKeyboardInterrupt\u001b[0m                         Traceback (most recent call last)",
            "\u001b[0;32m<ipython-input-6-772e3fc7581f>\u001b[0m in \u001b[0;36m<module>\u001b[0;34m()\u001b[0m\n\u001b[1;32m     18\u001b[0m \u001b[0;31m################ Model Accuracy On Validation Dataset Post Training #################\u001b[0m\u001b[0;34m\u001b[0m\u001b[0;34m\u001b[0m\u001b[0;34m\u001b[0m\u001b[0m\n\u001b[1;32m     19\u001b[0m \u001b[0maccurates\u001b[0m \u001b[0;34m=\u001b[0m \u001b[0;36m0\u001b[0m\u001b[0;34m\u001b[0m\u001b[0;34m\u001b[0m\u001b[0m\n\u001b[0;32m---> 20\u001b[0;31m \u001b[0;32mfor\u001b[0m \u001b[0minput\u001b[0m\u001b[0;34m,\u001b[0m \u001b[0mlabel\u001b[0m \u001b[0;32min\u001b[0m \u001b[0mval_dataloader\u001b[0m\u001b[0;34m:\u001b[0m\u001b[0;34m\u001b[0m\u001b[0;34m\u001b[0m\u001b[0m\n\u001b[0m\u001b[1;32m     21\u001b[0m   \u001b[0minput\u001b[0m \u001b[0;34m=\u001b[0m \u001b[0minput\u001b[0m\u001b[0;34m.\u001b[0m\u001b[0mcuda\u001b[0m\u001b[0;34m(\u001b[0m\u001b[0;34m)\u001b[0m\u001b[0;34m\u001b[0m\u001b[0;34m\u001b[0m\u001b[0m\n\u001b[1;32m     22\u001b[0m   \u001b[0mout\u001b[0m \u001b[0;34m=\u001b[0m \u001b[0mmodel\u001b[0m\u001b[0;34m(\u001b[0m\u001b[0minput\u001b[0m\u001b[0;34m)\u001b[0m\u001b[0;34m\u001b[0m\u001b[0;34m\u001b[0m\u001b[0m\n",
            "\u001b[0;32m<ipython-input-3-cc22f36a2a9e>\u001b[0m in \u001b[0;36m__getitem__\u001b[0;34m(self, idx)\u001b[0m\n\u001b[1;32m     47\u001b[0m         c3d_file_location = os.path.join(self.root_dir,\n\u001b[1;32m     48\u001b[0m                                 self.list_c3d[idx])\n\u001b[0;32m---> 49\u001b[0;31m         \u001b[0msample\u001b[0m \u001b[0;34m=\u001b[0m \u001b[0mc3d2array\u001b[0m\u001b[0;34m(\u001b[0m\u001b[0mc3d_file_location\u001b[0m\u001b[0;34m,\u001b[0m \u001b[0mself\u001b[0m\u001b[0;34m.\u001b[0m\u001b[0mframe_rate\u001b[0m\u001b[0;34m)\u001b[0m\u001b[0;34m\u001b[0m\u001b[0;34m\u001b[0m\u001b[0m\n\u001b[0m\u001b[1;32m     50\u001b[0m         \u001b[0mlabel_location\u001b[0m \u001b[0;34m=\u001b[0m \u001b[0mc3d_file_location\u001b[0m\u001b[0;34m.\u001b[0m\u001b[0mfind\u001b[0m\u001b[0;34m(\u001b[0m\u001b[0;34m'_a'\u001b[0m\u001b[0;34m)\u001b[0m\u001b[0;34m\u001b[0m\u001b[0;34m\u001b[0m\u001b[0m\n\u001b[1;32m     51\u001b[0m         \u001b[0;32mif\u001b[0m \u001b[0mlabel_location\u001b[0m \u001b[0;34m==\u001b[0m \u001b[0;34m-\u001b[0m\u001b[0;36m1\u001b[0m\u001b[0;34m:\u001b[0m \u001b[0;31m# FUCK T-POSE\u001b[0m\u001b[0;34m\u001b[0m\u001b[0;34m\u001b[0m\u001b[0m\n",
            "\u001b[0;32m<ipython-input-3-cc22f36a2a9e>\u001b[0m in \u001b[0;36mc3d2array\u001b[0;34m(loc, frame_rate)\u001b[0m\n\u001b[1;32m     11\u001b[0m     \u001b[0mpoint_series\u001b[0m \u001b[0;34m=\u001b[0m \u001b[0;34m[\u001b[0m\u001b[0;34m]\u001b[0m\u001b[0;34m\u001b[0m\u001b[0;34m\u001b[0m\u001b[0m\n\u001b[1;32m     12\u001b[0m     \u001b[0mreader\u001b[0m \u001b[0;34m=\u001b[0m \u001b[0mc3d\u001b[0m\u001b[0;34m.\u001b[0m\u001b[0mReader\u001b[0m\u001b[0;34m(\u001b[0m\u001b[0mopen\u001b[0m\u001b[0;34m(\u001b[0m\u001b[0mloc\u001b[0m\u001b[0;34m,\u001b[0m \u001b[0;34m'rb'\u001b[0m\u001b[0;34m)\u001b[0m\u001b[0;34m)\u001b[0m\u001b[0;34m\u001b[0m\u001b[0;34m\u001b[0m\u001b[0m\n\u001b[0;32m---> 13\u001b[0;31m     \u001b[0;32mfor\u001b[0m \u001b[0mi\u001b[0m\u001b[0;34m,\u001b[0m \u001b[0mpoints\u001b[0m\u001b[0;34m,\u001b[0m \u001b[0manalog\u001b[0m \u001b[0;32min\u001b[0m \u001b[0mreader\u001b[0m\u001b[0;34m.\u001b[0m\u001b[0mread_frames\u001b[0m\u001b[0;34m(\u001b[0m\u001b[0;34m)\u001b[0m\u001b[0;34m:\u001b[0m\u001b[0;34m\u001b[0m\u001b[0;34m\u001b[0m\u001b[0m\n\u001b[0m\u001b[1;32m     14\u001b[0m         \u001b[0;32mif\u001b[0m \u001b[0mi\u001b[0m \u001b[0;34m%\u001b[0m \u001b[0mframe_rate\u001b[0m \u001b[0;34m==\u001b[0m \u001b[0;36m0\u001b[0m\u001b[0;34m:\u001b[0m \u001b[0;31m## Set Frame Rate to approximately 22 Hz instead of 480 Hz\u001b[0m\u001b[0;34m\u001b[0m\u001b[0;34m\u001b[0m\u001b[0m\n\u001b[1;32m     15\u001b[0m             \u001b[0mpoint_series\u001b[0m\u001b[0;34m.\u001b[0m\u001b[0mappend\u001b[0m\u001b[0;34m(\u001b[0m\u001b[0mpoints\u001b[0m\u001b[0;34m[\u001b[0m\u001b[0;34m:\u001b[0m\u001b[0;34m,\u001b[0m \u001b[0;36m0\u001b[0m\u001b[0;34m:\u001b[0m\u001b[0;36m3\u001b[0m\u001b[0;34m]\u001b[0m\u001b[0;34m)\u001b[0m\u001b[0;34m\u001b[0m\u001b[0;34m\u001b[0m\u001b[0m\n",
            "\u001b[0;32m/usr/local/lib/python3.7/dist-packages/c3d.py\u001b[0m in \u001b[0;36mread_frames\u001b[0;34m(self, copy)\u001b[0m\n\u001b[1;32m    873\u001b[0m             \u001b[0mvalid\u001b[0m \u001b[0;34m=\u001b[0m \u001b[0mraw\u001b[0m\u001b[0;34m[\u001b[0m\u001b[0;34m:\u001b[0m\u001b[0;34m,\u001b[0m \u001b[0;36m3\u001b[0m\u001b[0;34m]\u001b[0m \u001b[0;34m>\u001b[0m \u001b[0;34m-\u001b[0m\u001b[0;36m1\u001b[0m\u001b[0;34m\u001b[0m\u001b[0;34m\u001b[0m\u001b[0m\n\u001b[1;32m    874\u001b[0m             \u001b[0mpoints\u001b[0m\u001b[0;34m[\u001b[0m\u001b[0;34m~\u001b[0m\u001b[0mvalid\u001b[0m\u001b[0;34m,\u001b[0m \u001b[0;36m3\u001b[0m\u001b[0;34m:\u001b[0m\u001b[0;36m5\u001b[0m\u001b[0;34m]\u001b[0m \u001b[0;34m=\u001b[0m \u001b[0;34m-\u001b[0m\u001b[0;36m1\u001b[0m\u001b[0;34m\u001b[0m\u001b[0;34m\u001b[0m\u001b[0m\n\u001b[0;32m--> 875\u001b[0;31m             \u001b[0mc\u001b[0m \u001b[0;34m=\u001b[0m \u001b[0mraw\u001b[0m\u001b[0;34m[\u001b[0m\u001b[0mvalid\u001b[0m\u001b[0;34m,\u001b[0m \u001b[0;36m3\u001b[0m\u001b[0;34m]\u001b[0m\u001b[0;34m.\u001b[0m\u001b[0mastype\u001b[0m\u001b[0;34m(\u001b[0m\u001b[0mnp\u001b[0m\u001b[0;34m.\u001b[0m\u001b[0muint16\u001b[0m\u001b[0;34m)\u001b[0m\u001b[0;34m\u001b[0m\u001b[0;34m\u001b[0m\u001b[0m\n\u001b[0m\u001b[1;32m    876\u001b[0m \u001b[0;34m\u001b[0m\u001b[0m\n\u001b[1;32m    877\u001b[0m             \u001b[0;31m# fourth value is floating-point (scaled) error estimate\u001b[0m\u001b[0;34m\u001b[0m\u001b[0;34m\u001b[0m\u001b[0;34m\u001b[0m\u001b[0m\n",
            "\u001b[0;31mKeyboardInterrupt\u001b[0m: "
          ]
        }
      ]
    },
    {
      "cell_type": "code",
      "metadata": {
        "id": "PQ7-c37dpX2A",
        "colab": {
          "base_uri": "https://localhost:8080/"
        },
        "outputId": "696204c8-f6ec-42a4-e92d-3a7d0f9b0457"
      },
      "source": [
        "accurates = 0\n",
        "for input, label in test_dataloader:\n",
        "  input = input.cuda()\n",
        "  out = model(input)\n",
        "  if torch.argmax(out).item() == label:\n",
        "    accurates += 1\n",
        "\n",
        "accuracy = accurates / len(test_dataloader)\n",
        "print('The model accuracy on the testing dataset after training is ' + str(accuracy))"
      ],
      "execution_count": null,
      "outputs": [
        {
          "output_type": "stream",
          "text": [
            "The model accuracy on the testing dataset after training is 0.7857142857142857\n"
          ],
          "name": "stdout"
        }
      ]
    },
    {
      "cell_type": "code",
      "metadata": {
        "id": "IZhSlQumNxup",
        "colab": {
          "base_uri": "https://localhost:8080/",
          "height": 195
        },
        "outputId": "b2b49f6c-995e-4d4e-a3a7-dd0431ef85de"
      },
      "source": [
        "plt.plot(train_loss_vec)\n",
        "plt.plot(val_loss_vec)\n",
        "plt.xlabel('Epochs'), plt.ylabel('Cross Entropy Loss')"
      ],
      "execution_count": null,
      "outputs": [
        {
          "output_type": "error",
          "ename": "NameError",
          "evalue": "ignored",
          "traceback": [
            "\u001b[0;31m---------------------------------------------------------------------------\u001b[0m",
            "\u001b[0;31mNameError\u001b[0m                                 Traceback (most recent call last)",
            "\u001b[0;32m<ipython-input-8-41df40ff43f3>\u001b[0m in \u001b[0;36m<module>\u001b[0;34m()\u001b[0m\n\u001b[0;32m----> 1\u001b[0;31m \u001b[0mplt\u001b[0m\u001b[0;34m.\u001b[0m\u001b[0mplot\u001b[0m\u001b[0;34m(\u001b[0m\u001b[0mtrain_loss_vec\u001b[0m\u001b[0;34m)\u001b[0m\u001b[0;34m\u001b[0m\u001b[0;34m\u001b[0m\u001b[0m\n\u001b[0m\u001b[1;32m      2\u001b[0m \u001b[0mplt\u001b[0m\u001b[0;34m.\u001b[0m\u001b[0mplot\u001b[0m\u001b[0;34m(\u001b[0m\u001b[0mval_loss_vec\u001b[0m\u001b[0;34m)\u001b[0m\u001b[0;34m\u001b[0m\u001b[0;34m\u001b[0m\u001b[0m\n\u001b[1;32m      3\u001b[0m \u001b[0mplt\u001b[0m\u001b[0;34m.\u001b[0m\u001b[0mxlabel\u001b[0m\u001b[0;34m(\u001b[0m\u001b[0;34m'Epochs'\u001b[0m\u001b[0;34m)\u001b[0m\u001b[0;34m,\u001b[0m \u001b[0mplt\u001b[0m\u001b[0;34m.\u001b[0m\u001b[0mylabel\u001b[0m\u001b[0;34m(\u001b[0m\u001b[0;34m'Cross Entropy Loss'\u001b[0m\u001b[0;34m)\u001b[0m\u001b[0;34m\u001b[0m\u001b[0;34m\u001b[0m\u001b[0m\n",
            "\u001b[0;31mNameError\u001b[0m: name 'train_loss_vec' is not defined"
          ]
        }
      ]
    },
    {
      "cell_type": "code",
      "metadata": {
        "id": "_EVi7IUF9EEU"
      },
      "source": [
        "\n",
        "model = torch.load('/content/gdrive/MyDrive/best_model.pth')"
      ],
      "execution_count": null,
      "outputs": []
    },
    {
      "cell_type": "code",
      "metadata": {
        "id": "OJOXCF4V-jZ1"
      },
      "source": [
        "\n",
        "class GradientAttack():\n",
        "        \n",
        "        \"\"\"\n",
        "        \n",
        "        \"\"\"\n",
        "        \n",
        "        def __init__(self, loss, epsilon):\n",
        "            \"\"\"\n",
        "            \n",
        "            \"\"\"\n",
        "            self.loss = loss\n",
        "            self.epsilon = epsilon\n",
        "\n",
        "        def forward(self, x, y, model, num_iter=1, alpha=0.01):\n",
        "            \"\"\"\n",
        "            Generates an adversary using the gradient sign method\n",
        "            given an input feature, its associated label, and the model\n",
        "            x: feature vector\n",
        "            y: label associated with the feature vector\n",
        "            model: the model used to classify x\n",
        "            num_iter: number of iterations to perturb sample, for num_iter=1, uses fast gradient sign method\n",
        "            alpha: the size of the perturbation for iterative gradient sign method         \n",
        "            \"\"\"\n",
        "            y = torch.Tensor([y]).cuda()\n",
        "            x = x.cuda()\n",
        "            model.train()\n",
        "            x_adv = x\n",
        "            for iteration in range(num_iter):\n",
        "                x_adv = x_adv.cuda()\n",
        "                x_adv = Variable(x_adv, requires_grad=True)\n",
        "                # Step 1: Calculate the Loss and then calculate the\n",
        "                # gradient of the Loss w.r.t the image\n",
        "                loss_adv = self.loss(model(x_adv).unsqueeze(0), y.long())\n",
        "                loss_adv.backward(retain_graph=True) \n",
        "                with torch.no_grad():\n",
        "                    # Step 2: Add the gradient (or its sign for each pixel),\n",
        "                    # multiplied by a small step size, to the original image                   \n",
        "                    # You might need to clamp the modified image to \n",
        "                    # make sure the values of each pixel are between [0,1]    \n",
        "                    if num_iter > 1:                                                           \n",
        "                        x_temp = x_adv + torch.sign(x_adv.grad) * alpha\n",
        "                        # Clamp the attack to be within such that the maximum difference is epsilon\n",
        "                        x_adv = x + torch.clamp(x_temp - x, -self.epsilon, self.epsilon)\n",
        "                    else:\n",
        "                        x_adv = x + torch.sign(x_adv.grad) * self.epsilon\n",
        "            return x_adv"
      ],
      "execution_count": null,
      "outputs": []
    },
    {
      "cell_type": "code",
      "metadata": {
        "colab": {
          "base_uri": "https://localhost:8080/"
        },
        "id": "M_twM4HZVeLC",
        "outputId": "d810fec2-ff26-4a58-9bde-d58156c3f684"
      },
      "source": [
        "\n",
        "loss = nn.CrossEntropyLoss()\n",
        "adv_attack = GradientAttack(loss, 0.1)\n",
        "\n",
        "################ Model Accuracy On Train Dataset Against Attacks#################\n",
        "accurates = 0\n",
        "for input, label in train_dataloader:\n",
        "    if label == 11: \n",
        "        continue\n",
        "    input_adv = adv_attack.forward(input, label, model, num_iter=1)\n",
        "    model.eval()\n",
        "    out = model(input_adv)\n",
        "    if torch.argmax(out).item() == label:\n",
        "        accurates += 1\n",
        "\n",
        "accuracy = accurates / len(train_dataloader)\n",
        "print('The model accuracy on the train dataset after training is ' + str(accuracy))\n",
        "\n",
        "################ Model Accuracy On Validation Dataset Against Attacks #################\n",
        "accurates = 0\n",
        "for input, label in val_dataloader:\n",
        "    if label == 11: \n",
        "        continue\n",
        "    input_adv = adv_attack.forward(input, label, model, num_iter=1)\n",
        "    model.eval()\n",
        "    out = model(input_adv)\n",
        "    if torch.argmax(out).item() == label:\n",
        "        accurates += 1\n",
        "\n",
        "accuracy = accurates / len(val_dataloader)\n",
        "print('The model accuracy on the validation dataset after training is ' + str(accuracy))\n",
        "\n",
        "################ Model Accuracy On Test Dataset Against Attacks#################    \n",
        "accurates = 0\n",
        "for input, label in test_dataloader:\n",
        "    if label == 11: \n",
        "        continue\n",
        "    input_adv = adv_attack.forward(input, label, model, num_iter=1)\n",
        "    model.eval()\n",
        "    out = model(input_adv)\n",
        "    if torch.argmax(out).item() == label:\n",
        "        accurates += 1\n",
        "\n",
        "accuracy = accurates / len(test_dataloader)\n",
        "print('The model accuracy on the testing dataset after training is ' + str(accuracy))"
      ],
      "execution_count": null,
      "outputs": [
        {
          "output_type": "stream",
          "text": [
            "The model accuracy on the train dataset after training is 0.8568232662192393\n",
            "The model accuracy on the validation dataset after training is 0.7678571428571429\n",
            "The model accuracy on the testing dataset after training is 0.6190476190476191\n"
          ],
          "name": "stdout"
        }
      ]
    },
    {
      "cell_type": "code",
      "metadata": {
        "id": "TmbTnlI-d9Jo",
        "colab": {
          "base_uri": "https://localhost:8080/"
        },
        "outputId": "b103a47e-6d99-415c-95a5-23b83628c65c"
      },
      "source": [
        "loss = nn.CrossEntropyLoss()\n",
        "adv_attack = GradientAttack(loss, 0.1)\n",
        "\n",
        "################ Model Accuracy On Train Dataset Against Attacks#################\n",
        "accurates = 0\n",
        "for input, label in train_dataloader:\n",
        "    if label == 11: \n",
        "      continue\n",
        "    input_adv = adv_attack.forward(input, label, model, num_iter=100, alpha=0.005)\n",
        "    model.eval()\n",
        "    out = model(input_adv)\n",
        "    if torch.argmax(out).item() == label:\n",
        "      accurates += 1\n",
        "\n",
        "accuracy = accurates / len(train_dataloader)\n",
        "print('The model accuracy on the train dataset after training is ' + str(accuracy))\n",
        "\n",
        "################ Model Accuracy On Validation Dataset Against Attacks#################\n",
        "accurates = 0\n",
        "for input, label in val_dataloader:\n",
        "    if label == 11: \n",
        "          continue\n",
        "    input_adv = adv_attack.forward(input, label, model, num_iter=100, alpha=0.005)\n",
        "    model.eval()\n",
        "    out = model(input_adv)\n",
        "    if torch.argmax(out).item() == label:\n",
        "      accurates += 1\n",
        "\n",
        "accuracy = accurates / len(val_dataloader)\n",
        "print('The model accuracy on the validation dataset after training is ' + str(accuracy))\n",
        "\n",
        "\n",
        "################ Model Accuracy On Test Dataset Against Attacks#################\n",
        "accurates = 0\n",
        "for input, label in test_dataloader:\n",
        "    if label == 11: \n",
        "          continue\n",
        "    input_adv = adv_attack.forward(input, label, model, num_iter=100, alpha=0.005)\n",
        "    model.eval()\n",
        "    out = model(input_adv)\n",
        "    if torch.argmax(out).item() == label:\n",
        "      accurates += 1\n",
        "\n",
        "accuracy = accurates / len(test_dataloader)\n",
        "print('The model accuracy on the testing dataset after training is ' + str(accuracy))"
      ],
      "execution_count": null,
      "outputs": [
        {
          "output_type": "stream",
          "text": [
            "The model accuracy on the train dataset after training is 0.6666666666666666\n",
            "The model accuracy on the validation dataset after training is 0.6607142857142857\n",
            "The model accuracy on the testing dataset after training is 0.5416666666666666\n"
          ],
          "name": "stdout"
        }
      ]
    },
    {
      "cell_type": "code",
      "metadata": {
        "id": "jhCllQ4n_Ctl",
        "colab": {
          "base_uri": "https://localhost:8080/",
          "height": 761
        },
        "outputId": "0db3e681-ca08-42e9-dd5e-9d03243ebd1f"
      },
      "source": [
        "## This code is for the case in which the sample IS flattened\n",
        "i = 3\n",
        "for input, label in train_dataloader:\n",
        "  if label == 11: \n",
        "      continue\n",
        "  orig_input = input\n",
        "  sample = adv_attack.forward(input, label, model, num_iter=200, alpha=0.0025).cpu().detach()\n",
        "  if i == 0:\n",
        "    break\n",
        "  i = i - 1\n",
        "  frame = 1\n",
        "  xs, ys, zs = sample[0, frame, 0:43], sample[0, frame, 43:86], sample[0, frame, 86:]\n",
        "  plt.figure()\n",
        "  plt.scatter(xs, zs)\n",
        "  plt.axis('scaled')\n",
        "  xs, ys, zs = orig_input[0, frame, 0:43], orig_input[0, frame, 43:86], orig_input[0, frame, 86:]\n",
        "  plt.scatter(xs, zs)\n",
        "  plt.axis('scaled')"
      ],
      "execution_count": null,
      "outputs": [
        {
          "output_type": "display_data",
          "data": {
            "image/png": "[encoded data removed]",
            "text/plain": [
              "<Figure size 432x288 with 1 Axes>"
            ]
          },
          "metadata": {
            "tags": [],
            "needs_background": "light"
          }
        },
        {
          "output_type": "display_data",
          "data": {
            "image/png": "[encoded data removed]",
            "text/plain": [
              "<Figure size 432x288 with 1 Axes>"
            ]
          },
          "metadata": {
            "tags": [],
            "needs_background": "light"
          }
        },
        {
          "output_type": "display_data",
          "data": {
            "image/png": "[encoded data removed]",
            "text/plain": [
              "<Figure size 432x288 with 1 Axes>"
            ]
          },
          "metadata": {
            "tags": [],
            "needs_background": "light"
          }
        }
      ]
    },
    {
      "cell_type": "markdown",
      "metadata": {
        "id": "jM-wZF0EPr7c"
      },
      "source": [
        "Probably should use 20 or so epochs based on these results"
      ]
    }
  ]
}