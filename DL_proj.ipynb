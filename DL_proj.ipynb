{
  "nbformat": 4,
  "nbformat_minor": 0,
  "metadata": {
    "colab": {
      "name": "Copy of DL_proj.ipynb",
      "provenance": [],
      "collapsed_sections": [],
      "include_colab_link": true
    },
    "kernelspec": {
      "display_name": "Python 3",
      "language": "python",
      "name": "python3"
    },
    "language_info": {
      "codemirror_mode": {
        "name": "ipython",
        "version": 3
      },
      "file_extension": ".py",
      "mimetype": "text/x-python",
      "name": "python",
      "nbconvert_exporter": "python",
      "pygments_lexer": "ipython3",
      "version": "3.8.8"
    },
    "accelerator": "GPU"
  },
  "cells": [
    {
      "cell_type": "markdown",
      "metadata": {
        "id": "view-in-github",
        "colab_type": "text"
      },
      "source": [
        "<a href=\"https://colab.research.google.com/github/ypeng22/DLFinal/blob/main/DL_proj.ipynb\" target=\"_parent\"><img src=\"https://colab.research.google.com/assets/colab-badge.svg\" alt=\"Open In Colab\"/></a>"
      ]
    },
    {
      "cell_type": "markdown",
      "metadata": {
        "id": "jEk7c_MDbSgX"
      },
      "source": [
        "#Setup"
      ]
    },
    {
      "cell_type": "code",
      "metadata": {
        "id": "WZyv_9X0kb6s",
        "colab": {
          "base_uri": "https://localhost:8080/"
        },
        "outputId": "04cdf46b-8d2d-4e27-efed-402302c1ea4a"
      },
      "source": [
        "!pip install plantcv\n",
        "!pip install c3d"
      ],
      "execution_count": 1,
      "outputs": [
        {
          "output_type": "stream",
          "text": [
            "Collecting plantcv\n",
            "\u001b[?25l  Downloading https://files.pythonhosted.org/packages/c5/0c/f630364077ef27282906f46e56c670d1e9abd5d6cca0de67bc91388f0a14/plantcv-3.12.0-py3-none-any.whl (222kB)\n",
            "\r\u001b[K     |█▌                              | 10kB 23.5MB/s eta 0:00:01\r\u001b[K     |███                             | 20kB 16.1MB/s eta 0:00:01\r\u001b[K     |████▍                           | 30kB 13.9MB/s eta 0:00:01\r\u001b[K     |██████                          | 40kB 12.9MB/s eta 0:00:01\r\u001b[K     |███████▍                        | 51kB 8.3MB/s eta 0:00:01\r\u001b[K     |████████▉                       | 61kB 7.8MB/s eta 0:00:01\r\u001b[K     |██████████▎                     | 71kB 8.8MB/s eta 0:00:01\r\u001b[K     |███████████▉                    | 81kB 9.7MB/s eta 0:00:01\r\u001b[K     |█████████████▎                  | 92kB 8.9MB/s eta 0:00:01\r\u001b[K     |██████████████▊                 | 102kB 8.0MB/s eta 0:00:01\r\u001b[K     |████████████████▎               | 112kB 8.0MB/s eta 0:00:01\r\u001b[K     |█████████████████▊              | 122kB 8.0MB/s eta 0:00:01\r\u001b[K     |███████████████████▏            | 133kB 8.0MB/s eta 0:00:01\r\u001b[K     |████████████████████▋           | 143kB 8.0MB/s eta 0:00:01\r\u001b[K     |██████████████████████▏         | 153kB 8.0MB/s eta 0:00:01\r\u001b[K     |███████████████████████▋        | 163kB 8.0MB/s eta 0:00:01\r\u001b[K     |█████████████████████████       | 174kB 8.0MB/s eta 0:00:01\r\u001b[K     |██████████████████████████▌     | 184kB 8.0MB/s eta 0:00:01\r\u001b[K     |████████████████████████████    | 194kB 8.0MB/s eta 0:00:01\r\u001b[K     |█████████████████████████████▌  | 204kB 8.0MB/s eta 0:00:01\r\u001b[K     |███████████████████████████████ | 215kB 8.0MB/s eta 0:00:01\r\u001b[K     |████████████████████████████████| 225kB 8.0MB/s \n",
            "\u001b[?25hCollecting dask-jobqueue\n",
            "  Downloading https://files.pythonhosted.org/packages/22/4a/bf4ea9c12c825d0926899d9c08d1abc009ac0779c6b2476aa419a02de719/dask_jobqueue-0.7.2-py2.py3-none-any.whl\n",
            "Requirement already satisfied: scipy in /usr/local/lib/python3.7/dist-packages (from plantcv) (1.4.1)\n",
            "Requirement already satisfied: plotnine in /usr/local/lib/python3.7/dist-packages (from plantcv) (0.6.0)\n",
            "Requirement already satisfied: matplotlib>=1.5 in /usr/local/lib/python3.7/dist-packages (from plantcv) (3.2.2)\n",
            "Requirement already satisfied: scikit-learn in /usr/local/lib/python3.7/dist-packages (from plantcv) (0.22.2.post1)\n",
            "Requirement already satisfied: scikit-image in /usr/local/lib/python3.7/dist-packages (from plantcv) (0.16.2)\n",
            "Requirement already satisfied: python-dateutil in /usr/local/lib/python3.7/dist-packages (from plantcv) (2.8.1)\n",
            "Requirement already satisfied: dask in /usr/local/lib/python3.7/dist-packages (from plantcv) (2.12.0)\n",
            "Requirement already satisfied: pandas in /usr/local/lib/python3.7/dist-packages (from plantcv) (1.1.5)\n",
            "Requirement already satisfied: numpy>=1.11 in /usr/local/lib/python3.7/dist-packages (from plantcv) (1.19.5)\n",
            "Collecting opencv-python<4,>=3.4\n",
            "\u001b[?25l  Downloading https://files.pythonhosted.org/packages/93/a2/e081e1d8831ce4dc1629ba36f1e010a56225b00532e2edad76e1bc7faef9/opencv_python-3.4.13.47-cp37-cp37m-manylinux2014_x86_64.whl (48.6MB)\n",
            "\u001b[K     |████████████████████████████████| 48.6MB 63kB/s \n",
            "\u001b[?25hCollecting distributed>=2.19\n",
            "\u001b[?25l  Downloading https://files.pythonhosted.org/packages/63/f8/ac2c18adde6477bca3881c4d3cfa74c7f4da7ee82f3c83c201aa3b9ca5ee/distributed-2021.4.1-py3-none-any.whl (696kB)\n",
            "\u001b[K     |████████████████████████████████| 706kB 53.0MB/s \n",
            "\u001b[?25hRequirement already satisfied: patsy>=0.4.1 in /usr/local/lib/python3.7/dist-packages (from plotnine->plantcv) (0.5.1)\n",
            "Requirement already satisfied: mizani>=0.6.0 in /usr/local/lib/python3.7/dist-packages (from plotnine->plantcv) (0.6.0)\n",
            "Requirement already satisfied: statsmodels>=0.9.0 in /usr/local/lib/python3.7/dist-packages (from plotnine->plantcv) (0.10.2)\n",
            "Requirement already satisfied: descartes>=1.1.0 in /usr/local/lib/python3.7/dist-packages (from plotnine->plantcv) (1.1.0)\n",
            "Requirement already satisfied: kiwisolver>=1.0.1 in /usr/local/lib/python3.7/dist-packages (from matplotlib>=1.5->plantcv) (1.3.1)\n",
            "Requirement already satisfied: pyparsing!=2.0.4,!=2.1.2,!=2.1.6,>=2.0.1 in /usr/local/lib/python3.7/dist-packages (from matplotlib>=1.5->plantcv) (2.4.7)\n",
            "Requirement already satisfied: cycler>=0.10 in /usr/local/lib/python3.7/dist-packages (from matplotlib>=1.5->plantcv) (0.10.0)\n",
            "Requirement already satisfied: joblib>=0.11 in /usr/local/lib/python3.7/dist-packages (from scikit-learn->plantcv) (1.0.1)\n",
            "Requirement already satisfied: networkx>=2.0 in /usr/local/lib/python3.7/dist-packages (from scikit-image->plantcv) (2.5.1)\n",
            "Requirement already satisfied: pillow>=4.3.0 in /usr/local/lib/python3.7/dist-packages (from scikit-image->plantcv) (7.1.2)\n",
            "Requirement already satisfied: imageio>=2.3.0 in /usr/local/lib/python3.7/dist-packages (from scikit-image->plantcv) (2.4.1)\n",
            "Requirement already satisfied: PyWavelets>=0.4.0 in /usr/local/lib/python3.7/dist-packages (from scikit-image->plantcv) (1.1.1)\n",
            "Requirement already satisfied: six>=1.5 in /usr/local/lib/python3.7/dist-packages (from python-dateutil->plantcv) (1.15.0)\n",
            "Requirement already satisfied: pytz>=2017.2 in /usr/local/lib/python3.7/dist-packages (from pandas->plantcv) (2018.9)\n",
            "Requirement already satisfied: zict>=0.1.3 in /usr/local/lib/python3.7/dist-packages (from distributed>=2.19->dask-jobqueue->plantcv) (2.0.0)\n",
            "Requirement already satisfied: setuptools in /usr/local/lib/python3.7/dist-packages (from distributed>=2.19->dask-jobqueue->plantcv) (56.0.0)\n",
            "Requirement already satisfied: click>=6.6 in /usr/local/lib/python3.7/dist-packages (from distributed>=2.19->dask-jobqueue->plantcv) (7.1.2)\n",
            "Collecting cloudpickle>=1.5.0\n",
            "  Downloading https://files.pythonhosted.org/packages/e7/e3/898487e5dbeb612054cf2e0c188463acb358167fef749c53c8bb8918cea1/cloudpickle-1.6.0-py3-none-any.whl\n",
            "Requirement already satisfied: pyyaml in /usr/local/lib/python3.7/dist-packages (from distributed>=2.19->dask-jobqueue->plantcv) (3.13)\n",
            "Requirement already satisfied: psutil>=5.0 in /usr/local/lib/python3.7/dist-packages (from distributed>=2.19->dask-jobqueue->plantcv) (5.4.8)\n",
            "Requirement already satisfied: tornado>=5; python_version < \"3.8\" in /usr/local/lib/python3.7/dist-packages (from distributed>=2.19->dask-jobqueue->plantcv) (5.1.1)\n",
            "Requirement already satisfied: msgpack>=0.6.0 in /usr/local/lib/python3.7/dist-packages (from distributed>=2.19->dask-jobqueue->plantcv) (1.0.2)\n",
            "Requirement already satisfied: sortedcontainers!=2.0.0,!=2.0.1 in /usr/local/lib/python3.7/dist-packages (from distributed>=2.19->dask-jobqueue->plantcv) (2.3.0)\n",
            "Requirement already satisfied: toolz>=0.8.2 in /usr/local/lib/python3.7/dist-packages (from distributed>=2.19->dask-jobqueue->plantcv) (0.11.1)\n",
            "Requirement already satisfied: tblib>=1.6.0 in /usr/local/lib/python3.7/dist-packages (from distributed>=2.19->dask-jobqueue->plantcv) (1.7.0)\n",
            "Requirement already satisfied: palettable in /usr/local/lib/python3.7/dist-packages (from mizani>=0.6.0->plotnine->plantcv) (3.3.0)\n",
            "Requirement already satisfied: decorator<5,>=4.3 in /usr/local/lib/python3.7/dist-packages (from networkx>=2.0->scikit-image->plantcv) (4.4.2)\n",
            "Requirement already satisfied: heapdict in /usr/local/lib/python3.7/dist-packages (from zict>=0.1.3->distributed>=2.19->dask-jobqueue->plantcv) (1.0.1)\n",
            "\u001b[31mERROR: distributed 2021.4.1 has requirement dask>=2021.03.0, but you'll have dask 2.12.0 which is incompatible.\u001b[0m\n",
            "\u001b[31mERROR: albumentations 0.1.12 has requirement imgaug<0.2.7,>=0.2.5, but you'll have imgaug 0.2.9 which is incompatible.\u001b[0m\n",
            "\u001b[31mERROR: dask-jobqueue 0.7.2 has requirement dask>=2.19, but you'll have dask 2.12.0 which is incompatible.\u001b[0m\n",
            "Installing collected packages: cloudpickle, distributed, dask-jobqueue, opencv-python, plantcv\n",
            "  Found existing installation: cloudpickle 1.3.0\n",
            "    Uninstalling cloudpickle-1.3.0:\n",
            "      Successfully uninstalled cloudpickle-1.3.0\n",
            "  Found existing installation: distributed 1.25.3\n",
            "    Uninstalling distributed-1.25.3:\n",
            "      Successfully uninstalled distributed-1.25.3\n",
            "  Found existing installation: opencv-python 4.1.2.30\n",
            "    Uninstalling opencv-python-4.1.2.30:\n",
            "      Successfully uninstalled opencv-python-4.1.2.30\n",
            "Successfully installed cloudpickle-1.6.0 dask-jobqueue-0.7.2 distributed-2021.4.1 opencv-python-3.4.13.47 plantcv-3.12.0\n",
            "Collecting c3d\n",
            "  Downloading https://files.pythonhosted.org/packages/80/39/1fddfb01d5f142b2ec1c199c78eaca1094f053af66235c76ba4d14fc7950/c3d-0.3.0-py3-none-any.whl\n",
            "Requirement already satisfied: numpy in /usr/local/lib/python3.7/dist-packages (from c3d) (1.19.5)\n",
            "Installing collected packages: c3d\n",
            "Successfully installed c3d-0.3.0\n"
          ],
          "name": "stdout"
        }
      ]
    },
    {
      "cell_type": "code",
      "metadata": {
        "id": "_gnveOQLzZs-"
      },
      "source": [
        "import numpy as np\n",
        "import matplotlib.pyplot as plt\n",
        "import c3d\n",
        "import cv2\n",
        "import torch\n",
        "import torch.nn as nn\n",
        "from torch.utils.data import Dataset, DataLoader\n",
        "import os\n",
        "from plantcv import plantcv as pcv\n",
        "from scipy import ndimage\n",
        "import torchvision"
      ],
      "execution_count": 2,
      "outputs": []
    },
    {
      "cell_type": "code",
      "metadata": {
        "colab": {
          "base_uri": "https://localhost:8080/"
        },
        "id": "WCAC2zBMNOjE",
        "outputId": "f61f8464-2ae0-44f7-c825-923c75128c86"
      },
      "source": [
        "## Mount Google Drive Data (If using Google Colaboratory)\n",
        "try:\n",
        "    from google.colab import drive\n",
        "    drive.mount('/content/gdrive')\n",
        "except:\n",
        "    print(\"Mounting Failed.\")\n"
      ],
      "execution_count": 3,
      "outputs": [
        {
          "output_type": "stream",
          "text": [
            "Mounted at /content/gdrive\n"
          ],
          "name": "stdout"
        }
      ]
    },
    {
      "cell_type": "code",
      "metadata": {
        "id": "prEI4BySN1tM"
      },
      "source": [
        "data_dir = \"/content/gdrive/MyDrive/BerkeleyMHAD/\"\n",
        "subjects = ['S01', 'S02', 'S03', 'S04', 'S05','S06', 'S07', 'S08', 'S09', 'S10', 'S11', 'S12']\n",
        "actions = ['A01', 'A02', 'A03', 'A04', 'A05','A06', 'A07', 'A08', 'A09', 'A10', 'A11']\n",
        "reps = ['R01', 'R02', 'R03', 'R04', 'R05']"
      ],
      "execution_count": 4,
      "outputs": []
    },
    {
      "cell_type": "markdown",
      "metadata": {
        "id": "uPQyI2ZUbV7Z"
      },
      "source": [
        "#LSTM on Skeleton Data"
      ]
    },
    {
      "cell_type": "code",
      "metadata": {
        "id": "pSGM-xw4cj4_"
      },
      "source": [
        "################ Dataloader for Berkeley Mocap Optical Data #################\n",
        "\n",
        "def c3d2array(loc: str, frame_rate):\n",
        "    \"\"\"\n",
        "    Takes in the file location of the c3d file as a string and returns a \n",
        "    numpy array w/ the sensor data\n",
        "    Array Shape: Num_frames x 43 x 3 \n",
        "      43 corresponds to the number of nodes on the person\n",
        "      3 corresponds to spatial coordinates of the nodes\n",
        "    \"\"\"\n",
        "    point_series = []\n",
        "    reader = c3d.Reader(open(loc, 'rb'))\n",
        "    for i, points, analog in reader.read_frames():     \n",
        "        if i % frame_rate == 0: ## Set Frame Rate to approximately 22 Hz instead of 480 Hz\n",
        "            point_series.append(points[:, 0:3])\n",
        "    point_series = np.array(point_series)\n",
        "    return point_series\n",
        "\n",
        "class BerkeleyMocapOpticalDataset(Dataset):\n",
        "    \"\"\"Berkeley Mocap Optical Dataset.\"\"\"\n",
        "\n",
        "    def __init__(self, root_dir, train, frame_rate, transform=None):\n",
        "        \"\"\"\n",
        "        Args:\n",
        "            root_dir (string): Directory with all the data\n",
        "            train (string): has to be one of \"train\", \"test\", or \"val\"\n",
        "            frame_rate (integer): In Hz \n",
        "            transform (callable, optional): Optional transform to be applied\n",
        "                on a sample.\n",
        "        \"\"\"\n",
        "        self.root_dir = root_dir\n",
        "        if train == 'train':\n",
        "            self.list_c3d = [file for file in os.listdir(root_dir) if (os.path.isfile(os.path.join(root_dir, file)) and file[-1] != 't' and int(file[5:7]) < 9) ] #list of all the c3d file names for the first 8 subjects\n",
        "        elif train == 'test':\n",
        "            self.list_c3d = [file for file in os.listdir(root_dir) if (os.path.isfile(os.path.join(root_dir, file)) and file[-1] != 't' and int(file[5:7]) > 8 and int(file[5:7]) < 12) ] #list of all the c3d file names for the subjects 9, 10, 11\n",
        "        else:\n",
        "            self.list_c3d = [file for file in os.listdir(root_dir) if (os.path.isfile(os.path.join(root_dir, file)) and file[-1] != 't' and int(file[5:7]) == 12) ] #list of all the c3d file names for the subject 12\n",
        "        self.frame_rate = frame_rate\n",
        "        self.transform = transform\n",
        "\n",
        "    def __len__(self):\n",
        "        return len(self.list_c3d)\n",
        "\n",
        "    def __getitem__(self, idx):\n",
        "        if torch.is_tensor(idx):\n",
        "            idx = idx.tolist()\n",
        "        c3d_file_location = os.path.join(self.root_dir,\n",
        "                                self.list_c3d[idx])\n",
        "        sample = c3d2array(c3d_file_location, self.frame_rate)\n",
        "        label_location = c3d_file_location.find('_a')\n",
        "        if label_location == -1: # FUCK T-POSE\n",
        "            label = 12\n",
        "        else: \n",
        "            label = int(c3d_file_location[label_location+2:label_location+4])\n",
        "        if self.transform:\n",
        "            sample = self.transform(sample)\n",
        "        # Flatten Samples \n",
        "        sample = torch.transpose(sample, 0, 1)\n",
        "        sample = torch.flatten(sample, 1, 2)\n",
        "        sample = torch.unsqueeze(sample, 0)\n",
        "        sample = sample.float()\n",
        "        # I think labels should go from 0 through 11 since we are using argmax later for loss/accuracy\n",
        "        return sample, label - 1\n",
        "\n",
        "\n",
        "############### Compute Mean and SD across the dataset #############\n",
        "## If you wish to uncomment the code below and rerun it, you might have to comment out the three lines which cflatten the sample in the class above\n",
        "'''transform = None\n",
        "root_dir = data_dir + 'Mocap/OpticalData'\n",
        "frame_rate = 1\n",
        "\n",
        "dataloader = BerkeleyMocapOpticalDataset(root_dir, \"train\", 1)\n",
        "x_list = []\n",
        "y_list = []\n",
        "z_list = []\n",
        "\n",
        "for sample,_ in dataloader:\n",
        "  x_list.append(np.ndarray.flatten(sample[:,:,0]))\n",
        "  y_list.append(np.ndarray.flatten(sample[:,:,1]))\n",
        "  z_list.append(np.ndarray.flatten(sample[:,:,2]))\n",
        "\n",
        "x_list = np.concatenate(np.array(x_list))\n",
        "y_list = np.concatenate(np.array(y_list))\n",
        "z_list = np.concatenate(np.array(z_list))\n",
        "x_mean = np.mean(x_list)\n",
        "x_sd = np.std(x_list)\n",
        "y_mean = np.mean(y_list)\n",
        "y_sd = np.std(y_list)\n",
        "z_mean = np.mean(z_list)\n",
        "z_sd = np.std(z_list)\n",
        "print([x_mean, y_mean, z_mean, x_sd, y_sd, z_sd])'''\n",
        "\n",
        "############### Define a transform with mean, std, and tensor ############\n",
        "## So we don't need to rerun for the mean and standard deviations every time\n",
        "x_mean, x_sd, y_mean, y_sd, z_mean, z_sd = -455.09898495222086, 245.84348947768748, 148.47916727630624, 183.09031602408763, 814.4396506806088, 538.2824468734605\n",
        "transform = torchvision.transforms.Compose([\n",
        "  torchvision.transforms.ToTensor(),\n",
        "  torchvision.transforms.Normalize((x_mean, y_mean, z_mean), (x_sd, y_sd, z_sd)),\n",
        "])\n",
        "\n",
        "\n",
        "############# Final Dataloaders ####################\n",
        "root_dir = data_dir + 'Mocap/OpticalData'\n",
        "frame_rate = 22\n",
        "train_dataloader = BerkeleyMocapOpticalDataset(root_dir, \"train\", frame_rate, transform=transform)\n",
        "test_dataloader = BerkeleyMocapOpticalDataset(root_dir, \"test\", frame_rate, transform=transform)\n",
        "val_dataloader = BerkeleyMocapOpticalDataset(root_dir, \"val\", frame_rate, transform=transform)\n"
      ],
      "execution_count": 5,
      "outputs": []
    },
    {
      "cell_type": "code",
      "metadata": {
        "id": "Ehz48DvAcqVk",
        "colab": {
          "base_uri": "https://localhost:8080/",
          "height": 761
        },
        "outputId": "71db53c0-d016-4a30-a87c-c6ffdc078084"
      },
      "source": [
        "############ Test The Dataloader ######################\n",
        "\n",
        "## This code is for case in which the sample is NOT flattened\n",
        "'''i = 3\n",
        "for sample,_ in train_dataloader:\n",
        "  if i == 0:\n",
        "    break\n",
        "  i = i - 1\n",
        "  frame = 1\n",
        "  xs, ys, zs = sample[0, frame, :], sample[1, frame, :], sample[2, frame, :]\n",
        "  plt.figure()\n",
        "  plt.scatter(xs, zs)\n",
        "  plt.axis('scaled')\n",
        "  xs, ys, zs = sample[0, frame+10, :], sample[1, frame+10, :], sample[2, frame+10, :]\n",
        "  plt.scatter(xs, zs)\n",
        "  plt.axis('scaled')'''\n",
        "\n",
        "## This code is for the case in which the sample IS flattened\n",
        "i = 3\n",
        "for sample,_ in train_dataloader:\n",
        "  if i == 0:\n",
        "    break\n",
        "  i = i - 1\n",
        "  frame = 1\n",
        "  xs, ys, zs = sample[0, frame, 0:43], sample[0, frame, 43:86], sample[0, frame, 86:]\n",
        "  plt.figure()\n",
        "  plt.scatter(xs, zs)\n",
        "  plt.axis('scaled')\n",
        "  xs, ys, zs = sample[0, frame+10, 0:43], sample[0, frame+10, 43:86], sample[0, frame+10, 86:]\n",
        "  plt.scatter(xs, zs)\n",
        "  plt.axis('scaled')"
      ],
      "execution_count": 6,
      "outputs": [
        {
          "output_type": "display_data",
          "data": {
            "image/png": "[encoded data removed]",
            "text/plain": [
              "<Figure size 432x288 with 1 Axes>"
            ]
          },
          "metadata": {
            "tags": [],
            "needs_background": "light"
          }
        },
        {
          "output_type": "display_data",
          "data": {
            "image/png": "[encoded data removed]",
            "text/plain": [
              "<Figure size 432x288 with 1 Axes>"
            ]
          },
          "metadata": {
            "tags": [],
            "needs_background": "light"
          }
        },
        {
          "output_type": "display_data",
          "data": {
            "image/png": "[encoded data removed]",
            "text/plain": [
              "<Figure size 432x288 with 1 Axes>"
            ]
          },
          "metadata": {
            "tags": [],
            "needs_background": "light"
          }
        }
      ]
    },
    {
      "cell_type": "code",
      "metadata": {
        "id": "xNccTDNGxYdG"
      },
      "source": [
        "class skeletonLSTM(nn.Module):\n",
        "    def __init__(self, classes):\n",
        "        super(skeletonLSTM, self).__init__()\n",
        "        self.n_hidden = 100\n",
        "        self.n_layers = 1\n",
        "        self.l_lstm = torch.nn.LSTM(input_size = 129, \n",
        "                                 hidden_size = self.n_hidden,\n",
        "                                 num_layers = self.n_layers, \n",
        "                                 batch_first = True)\n",
        "        self.fc1 = nn.Linear(100, 50)\n",
        "        self.fc2 = nn.Linear(50, classes)\n",
        "        self.relu = nn.ReLU()\n",
        "    def forward(self, x):\n",
        "        #intialize lstm hidden state\n",
        "        hidden_state = torch.zeros(self.n_layers, 1, self.n_hidden).cuda()\n",
        "        cell_state = torch.zeros(self.n_layers, 1, self.n_hidden).cuda()\n",
        "        self.hidden = (hidden_state, cell_state)      \n",
        "        #print(x.shape)\n",
        "        lstm_out, _ = self.l_lstm(x, self.hidden) #lstm_out shape is batch_size, seq len, hidden state\n",
        "        lstm_out = lstm_out[:,-1,:]\n",
        "        lstm_out = self.relu(self.fc1(lstm_out.squeeze()))\n",
        "        lstm_out = self.fc2(lstm_out)\n",
        "        return lstm_out\n",
        "    "
      ],
      "execution_count": 7,
      "outputs": []
    },
    {
      "cell_type": "code",
      "metadata": {
        "id": "mYYtqLfyyC0Z",
        "colab": {
          "base_uri": "https://localhost:8080/"
        },
        "outputId": "11efa2da-1d79-45aa-f5b7-6aa63165aa7b"
      },
      "source": [
        " num_epochs = 20\n",
        " num_classes = 12\n",
        " model = skeletonLSTM(num_classes)\n",
        " model.cuda()\n",
        " loss_func = nn.CrossEntropyLoss()\n",
        " optimizer = torch.optim.Adam(model.parameters())\n",
        " \n",
        " train_loss_vec = []\n",
        " val_loss_vec = []\n",
        " for epoch in range(num_epochs):\n",
        "    train_loss_for_epoch = []\n",
        "    val_loss_for_epoch = []\n",
        "    ########################### Training #####################################\n",
        "    print(\"\\nEPOCH \" +str(epoch+1)+\" of \"+str(num_epochs)+\"\\n\")\n",
        "    for inputs, labels in train_dataloader:\n",
        "          inputs = inputs.cuda()\n",
        "          model.train()\n",
        "          if labels == 11: #FUCK T-POSE\n",
        "              continue\n",
        "          labels = torch.Tensor([labels]).cuda()\n",
        "          predictions = model(inputs).unsqueeze(0)\n",
        "          loss = loss_func(predictions, labels.long())\n",
        "          optimizer.zero_grad()\n",
        "          loss.backward()\n",
        "          optimizer.step()\n",
        "          train_loss_for_epoch.append(loss.item())\n",
        "\n",
        "    train_loss_vec.append( sum(train_loss_for_epoch) / len(train_loss_for_epoch) )\n",
        "    for inputs, labels in val_dataloader:\n",
        "          inputs = inputs.cuda()\n",
        "          model.eval()\n",
        "          if labels == 11: #FUCK T-POSE\n",
        "              continue\n",
        "          labels = torch.Tensor([labels]).cuda()\n",
        "          predictions = model(inputs).unsqueeze(0)\n",
        "          loss = loss_func(predictions, labels.long())\n",
        "          val_loss_for_epoch.append(loss.item())\n",
        "          if val_loss_for_epoch[-1] == min(val_loss_for_epoch):\n",
        "              torch.save(model, 'best_model.pth')\n",
        "    val_loss_vec.append( sum(val_loss_for_epoch) / len(val_loss_for_epoch) )\n",
        "    print(\"The training loss for Epoch \" + str(epoch + 1) + \" is \" + str(train_loss_vec[-1]))\n",
        "    print(\"The validation loss for Epoch \" + str(epoch + 1) + \" is \" + str(val_loss_vec[-1]))\n"
      ],
      "execution_count": 8,
      "outputs": [
        {
          "output_type": "stream",
          "text": [
            "\n",
            "EPOCH 1 of 20\n",
            "\n",
            "The training loss for Epoch 1 is 2.107758267373186\n",
            "The validation loss for Epoch 1 is 1.9323738401247696\n",
            "\n",
            "EPOCH 2 of 20\n",
            "\n",
            "The training loss for Epoch 2 is 1.6218446347478497\n",
            "The validation loss for Epoch 2 is 1.4893998732980849\n",
            "\n",
            "EPOCH 3 of 20\n",
            "\n",
            "The training loss for Epoch 3 is 1.5085556142727323\n",
            "The validation loss for Epoch 3 is 1.4232149846089834\n",
            "\n",
            "EPOCH 4 of 20\n",
            "\n",
            "The training loss for Epoch 4 is 1.4483871425740402\n",
            "The validation loss for Epoch 4 is 1.631176568195753\n",
            "\n",
            "EPOCH 5 of 20\n",
            "\n",
            "The training loss for Epoch 5 is 1.4241726275631963\n",
            "The validation loss for Epoch 5 is 1.2109776433641937\n",
            "\n",
            "EPOCH 6 of 20\n",
            "\n",
            "The training loss for Epoch 6 is 1.211938194792735\n",
            "The validation loss for Epoch 6 is 0.8774307454306506\n",
            "\n",
            "EPOCH 7 of 20\n",
            "\n",
            "The training loss for Epoch 7 is 0.9202116728505942\n",
            "The validation loss for Epoch 7 is 0.782671935716644\n",
            "\n",
            "EPOCH 8 of 20\n",
            "\n",
            "The training loss for Epoch 8 is 0.8075584986161336\n",
            "The validation loss for Epoch 8 is 0.6465389776382257\n",
            "\n",
            "EPOCH 9 of 20\n",
            "\n",
            "The training loss for Epoch 9 is 0.6584921645902597\n",
            "The validation loss for Epoch 9 is 0.47927995417478747\n",
            "\n",
            "EPOCH 10 of 20\n",
            "\n",
            "The training loss for Epoch 10 is 0.5135685842394438\n",
            "The validation loss for Epoch 10 is 0.4950720766305246\n",
            "\n",
            "EPOCH 11 of 20\n",
            "\n",
            "The training loss for Epoch 11 is 0.4308357548145238\n",
            "The validation loss for Epoch 11 is 0.4853766685013067\n",
            "\n",
            "EPOCH 12 of 20\n",
            "\n",
            "The training loss for Epoch 12 is 0.37193365618162577\n",
            "The validation loss for Epoch 12 is 0.2960376272951676\n",
            "\n",
            "EPOCH 13 of 20\n",
            "\n",
            "The training loss for Epoch 13 is 0.27630684135018574\n",
            "The validation loss for Epoch 13 is 0.3319618577318827\n",
            "\n",
            "EPOCH 14 of 20\n",
            "\n",
            "The training loss for Epoch 14 is 0.47746374875625935\n",
            "The validation loss for Epoch 14 is 0.30195006305895566\n",
            "\n",
            "EPOCH 15 of 20\n",
            "\n",
            "The training loss for Epoch 15 is 0.27280522992722656\n",
            "The validation loss for Epoch 15 is 0.23336120502793745\n",
            "\n",
            "EPOCH 16 of 20\n",
            "\n",
            "The training loss for Epoch 16 is 0.15322529453089775\n",
            "The validation loss for Epoch 16 is 0.18447125832634895\n",
            "\n",
            "EPOCH 17 of 20\n",
            "\n",
            "The training loss for Epoch 17 is 0.10481554717538258\n",
            "The validation loss for Epoch 17 is 0.1506588060578162\n",
            "\n",
            "EPOCH 18 of 20\n",
            "\n",
            "The training loss for Epoch 18 is 0.0587644848712572\n",
            "The validation loss for Epoch 18 is 0.05520313376372624\n",
            "\n",
            "EPOCH 19 of 20\n",
            "\n",
            "The training loss for Epoch 19 is 0.01761076761235849\n",
            "The validation loss for Epoch 19 is 0.18190083898605075\n",
            "\n",
            "EPOCH 20 of 20\n",
            "\n",
            "The training loss for Epoch 20 is 0.0050600438829267805\n",
            "The validation loss for Epoch 20 is 0.15663403008737656\n"
          ],
          "name": "stdout"
        }
      ]
    },
    {
      "cell_type": "code",
      "metadata": {
        "id": "M57LENMrdCL-",
        "colab": {
          "base_uri": "https://localhost:8080/"
        },
        "outputId": "b831fac4-da44-4f05-bf58-b9302197b4b2"
      },
      "source": [
        "\n",
        "model = torch.load('best_model.pth')\n",
        "\n",
        "################ Model Accuracy On Train Dataset Post Training #################\n",
        "\n",
        "accurates = 0\n",
        "for input, label in train_dataloader:\n",
        "  input = input.cuda()\n",
        "  out = model(input)\n",
        "  if torch.argmax(out).item() == label:\n",
        "    accurates += 1\n",
        "\n",
        "accuracy = accurates / len(train_dataloader)\n",
        "print('The model accuracy on the train dataset after training is ' + str(accuracy))\n",
        "\n",
        "################ Model Accuracy On Validation Dataset Post Training #################\n",
        "accurates = 0\n",
        "for input, label in val_dataloader:\n",
        "  input = input.cuda()\n",
        "  out = model(input)\n",
        "  if torch.argmax(out).item() == label:\n",
        "    accurates += 1\n",
        "\n",
        "accuracy = accurates / len(val_dataloader)\n",
        "print('The model accuracy on the validation dataset after training is ' + str(accuracy))\n",
        "    "
      ],
      "execution_count": 9,
      "outputs": [
        {
          "output_type": "stream",
          "text": [
            "The model accuracy on the train dataset after training is 0.9821029082774049\n",
            "The model accuracy on the validation dataset after training is 0.9285714285714286\n"
          ],
          "name": "stdout"
        }
      ]
    },
    {
      "cell_type": "code",
      "metadata": {
        "id": "PQ7-c37dpX2A",
        "colab": {
          "base_uri": "https://localhost:8080/"
        },
        "outputId": "e98cc71c-dcee-4bc8-9255-050a44ecd52f"
      },
      "source": [
        "accurates = 0\n",
        "for input, label in test_dataloader:\n",
        "  input = input.cuda()\n",
        "  out = model(input)\n",
        "  if torch.argmax(out).item() == label:\n",
        "    accurates += 1\n",
        "\n",
        "accuracy = accurates / len(test_dataloader)\n",
        "print('The model accuracy on the testing dataset after training is ' + str(accuracy))"
      ],
      "execution_count": 10,
      "outputs": [
        {
          "output_type": "stream",
          "text": [
            "The model accuracy on the testing dataset after training is 0.8154761904761905\n"
          ],
          "name": "stdout"
        }
      ]
    },
    {
      "cell_type": "code",
      "metadata": {
        "id": "IZhSlQumNxup",
        "colab": {
          "base_uri": "https://localhost:8080/",
          "height": 296
        },
        "outputId": "1a3b6583-773b-418e-c659-af6a9d408da2"
      },
      "source": [
        "plt.plot(train_loss_vec)\n",
        "plt.plot(val_loss_vec)\n",
        "plt.xlabel('Epochs'), plt.ylabel('Cross Entropy Loss')"
      ],
      "execution_count": 11,
      "outputs": [
        {
          "output_type": "execute_result",
          "data": {
            "text/plain": [
              "(Text(0.5, 0, 'Epochs'), Text(0, 0.5, 'Cross Entropy Loss'))"
            ]
          },
          "metadata": {
            "tags": []
          },
          "execution_count": 11
        },
        {
          "output_type": "display_data",
          "data": {
            "image/png": "[encoded data removed]",
            "text/plain": [
              "<Figure size 432x288 with 1 Axes>"
            ]
          },
          "metadata": {
            "tags": [],
            "needs_background": "light"
          }
        }
      ]
    },
    {
      "cell_type": "code",
      "metadata": {
        "colab": {
          "base_uri": "https://localhost:8080/"
        },
        "id": "OJOXCF4V-jZ1",
        "outputId": "57310dad-67a0-4dec-c0d8-cfc2bf509dde"
      },
      "source": [
        "from torch.autograd import Variable\n",
        "class GradientAttack():\n",
        "        \n",
        "        \"\"\"\n",
        "        \n",
        "        \"\"\"\n",
        "        \n",
        "        def __init__(self, loss, epsilon):\n",
        "            \"\"\"\n",
        "            \n",
        "            \"\"\"\n",
        "            self.loss = loss\n",
        "            self.epsilon = epsilon\n",
        "\n",
        "        def forward(self, x, y_true, model):\n",
        "            \"\"\"\n",
        "            \n",
        "            \"\"\"\n",
        "            # TODO: Implement a one step gradient attack\n",
        "            # Step 1: Calculate the Loss and then calculate the\n",
        "            # gradient of the Loss w.r.t the image\n",
        "            y_true = torch.Tensor([y_true]).cuda()\n",
        "            loss = self.loss(model(x).unsqueeze(0), y_true.long())\n",
        "            #x.requires_grad = True\n",
        "            loss.backward()\n",
        "            # Step 2: Add the gradient (or its sign for each pixel),\n",
        "            # multiplied by a small step size, to \n",
        "            # the original image\n",
        "            # you might need to clamp the modified image to \n",
        "            # make sure the values of each pixel are between [0,1]\n",
        "            x = x + torch.sign(x.grad) * self.epsilon\n",
        "            return x\n",
        "\n",
        "loss = nn.CrossEntropyLoss()\n",
        "adv_attack = GradientAttack(loss, 0.1)\n",
        "\n",
        "\n",
        "model = torch.load('best_model.pth')\n",
        "\n",
        "################ Model Accuracy On Train Dataset Post Training #################\n",
        "accurates = 0\n",
        "for input, label in train_dataloader:\n",
        "  input = input.cuda()\n",
        "  input = Variable(input, requires_grad=True)\n",
        "  model.train()\n",
        "  input = adv_attack.forward(input, label, model)\n",
        "  model.eval()\n",
        "  out = model(input)\n",
        "  if torch.argmax(out).item() == label:\n",
        "    accurates += 1\n",
        "\n",
        "accuracy = accurates / len(train_dataloader)\n",
        "print('The model accuracy on the train dataset after training is ' + str(accuracy))\n",
        "\n",
        "################ Model Accuracy On Validation Dataset Post Training #################\n",
        "accurates = 0\n",
        "for input, label in val_dataloader:\n",
        "  input = input.cuda()\n",
        "  input = Variable(input, requires_grad=True)\n",
        "  model.train()\n",
        "  input = adv_attack.forward(input, label, model)\n",
        "  model.eval()\n",
        "  out = model(input)\n",
        "  if torch.argmax(out).item() == label:\n",
        "    accurates += 1\n",
        "\n",
        "accuracy = accurates / len(val_dataloader)\n",
        "print('The model accuracy on the validation dataset after training is ' + str(accuracy))\n",
        "    \n",
        "accurates = 0\n",
        "for input, label in test_dataloader:\n",
        "  input = input.cuda()\n",
        "  input = Variable(input, requires_grad=True)\n",
        "  model.train()\n",
        "  input = adv_attack.forward(input, label, model)\n",
        "  model.eval()\n",
        "  out = model(input)\n",
        "  if torch.argmax(out).item() == label:\n",
        "    accurates += 1\n",
        "\n",
        "accuracy = accurates / len(test_dataloader)\n",
        "print('The model accuracy on the testing dataset after training is ' + str(accuracy))"
      ],
      "execution_count": 34,
      "outputs": [
        {
          "output_type": "stream",
          "text": [
            "The model accuracy on the train dataset after training is 0.8322147651006712\n",
            "The model accuracy on the validation dataset after training is 0.625\n",
            "The model accuracy on the testing dataset after training is 0.5\n"
          ],
          "name": "stdout"
        }
      ]
    },
    {
      "cell_type": "code",
      "metadata": {
        "colab": {
          "base_uri": "https://localhost:8080/",
          "height": 761
        },
        "id": "jhCllQ4n_Ctl",
        "outputId": "60d18e6e-619d-4296-9383-e97512564583"
      },
      "source": [
        "## This code is for the case in which the sample IS flattened\n",
        "i = 3\n",
        "for input,_ in train_dataloader:\n",
        "  orig_input = input\n",
        "  input = input.cuda()\n",
        "  input = Variable(input, requires_grad=True)\n",
        "  model.train()\n",
        "  sample = adv_attack.forward(input, label, model).cpu().detach()\n",
        "  if i == 0:\n",
        "    break\n",
        "  i = i - 1\n",
        "  frame = 1\n",
        "  xs, ys, zs = sample[0, frame, 0:43], sample[0, frame, 43:86], sample[0, frame, 86:]\n",
        "  plt.figure()\n",
        "  plt.scatter(xs, zs)\n",
        "  plt.axis('scaled')\n",
        "  xs, ys, zs = orig_input[0, frame, 0:43], orig_input[0, frame, 43:86], orig_input[0, frame, 86:]\n",
        "  plt.scatter(xs, zs)\n",
        "  plt.axis('scaled')"
      ],
      "execution_count": 41,
      "outputs": [
        {
          "output_type": "display_data",
          "data": {
            "image/png": "[encoded data removed]",
            "text/plain": [
              "<Figure size 432x288 with 1 Axes>"
            ]
          },
          "metadata": {
            "tags": [],
            "needs_background": "light"
          }
        },
        {
          "output_type": "display_data",
          "data": {
            "image/png": "[encoded data removed]",
            "text/plain": [
              "<Figure size 432x288 with 1 Axes>"
            ]
          },
          "metadata": {
            "tags": [],
            "needs_background": "light"
          }
        },
        {
          "output_type": "display_data",
          "data": {
            "image/png": "[encoded data removed]",
            "text/plain": [
              "<Figure size 432x288 with 1 Axes>"
            ]
          },
          "metadata": {
            "tags": [],
            "needs_background": "light"
          }
        }
      ]
    },
    {
      "cell_type": "markdown",
      "metadata": {
        "id": "jM-wZF0EPr7c"
      },
      "source": [
        "Probably should use 20 or so epochs based on these results"
      ]
    }
  ]
}