{
  "nbformat": 4,
  "nbformat_minor": 0,
  "metadata": {
    "colab": {
      "name": "DL_proj.ipynb",
      "provenance": [],
      "collapsed_sections": [],
      "toc_visible": true,
      "include_colab_link": true
    },
    "kernelspec": {
      "display_name": "Python 3",
      "language": "python",
      "name": "python3"
    },
    "language_info": {
      "codemirror_mode": {
        "name": "ipython",
        "version": 3
      },
      "file_extension": ".py",
      "mimetype": "text/x-python",
      "name": "python",
      "nbconvert_exporter": "python",
      "pygments_lexer": "ipython3",
      "version": "3.8.8"
    },
    "accelerator": "GPU"
  },
  "cells": [
    {
      "cell_type": "markdown",
      "metadata": {
        "id": "view-in-github",
        "colab_type": "text"
      },
      "source": [
        "<a href=\"https://colab.research.google.com/github/ypeng22/DLFinal/blob/main/DL_proj.ipynb\" target=\"_parent\"><img src=\"https://colab.research.google.com/assets/colab-badge.svg\" alt=\"Open In Colab\"/></a>"
      ]
    },
    {
      "cell_type": "markdown",
      "metadata": {
        "id": "jEk7c_MDbSgX"
      },
      "source": [
        "#Setup"
      ]
    },
    {
      "cell_type": "code",
      "metadata": {
        "id": "WZyv_9X0kb6s",
        "colab": {
          "base_uri": "https://localhost:8080/"
        },
        "outputId": "6f211c29-3fd3-4b86-e4b0-0b089d0e45e8"
      },
      "source": [
        "!pip install plantcv\n",
        "!pip install c3d"
      ],
      "execution_count": 1,
      "outputs": [
        {
          "output_type": "stream",
          "text": [
            "Collecting plantcv\n",
            "\u001b[?25l  Downloading https://files.pythonhosted.org/packages/e6/26/ed047310781d038fb76d5b5d9cc3ebf61e58ef303d77c692544999accd14/plantcv-3.11.0-py3-none-any.whl (214kB)\n",
            "\r\u001b[K     |█▌                              | 10kB 22.8MB/s eta 0:00:01\r\u001b[K     |███                             | 20kB 16.7MB/s eta 0:00:01\r\u001b[K     |████▋                           | 30kB 14.7MB/s eta 0:00:01\r\u001b[K     |██████                          | 40kB 13.9MB/s eta 0:00:01\r\u001b[K     |███████▋                        | 51kB 9.4MB/s eta 0:00:01\r\u001b[K     |█████████▏                      | 61kB 9.7MB/s eta 0:00:01\r\u001b[K     |██████████▊                     | 71kB 10.0MB/s eta 0:00:01\r\u001b[K     |████████████▏                   | 81kB 11.1MB/s eta 0:00:01\r\u001b[K     |█████████████▊                  | 92kB 10.4MB/s eta 0:00:01\r\u001b[K     |███████████████▎                | 102kB 9.0MB/s eta 0:00:01\r\u001b[K     |████████████████▉               | 112kB 9.0MB/s eta 0:00:01\r\u001b[K     |██████████████████▎             | 122kB 9.0MB/s eta 0:00:01\r\u001b[K     |███████████████████▉            | 133kB 9.0MB/s eta 0:00:01\r\u001b[K     |█████████████████████▍          | 143kB 9.0MB/s eta 0:00:01\r\u001b[K     |███████████████████████         | 153kB 9.0MB/s eta 0:00:01\r\u001b[K     |████████████████████████▍       | 163kB 9.0MB/s eta 0:00:01\r\u001b[K     |██████████████████████████      | 174kB 9.0MB/s eta 0:00:01\r\u001b[K     |███████████████████████████▌    | 184kB 9.0MB/s eta 0:00:01\r\u001b[K     |█████████████████████████████   | 194kB 9.0MB/s eta 0:00:01\r\u001b[K     |██████████████████████████████▌ | 204kB 9.0MB/s eta 0:00:01\r\u001b[K     |████████████████████████████████| 215kB 9.0MB/s \n",
            "\u001b[?25hRequirement already satisfied: pandas in /usr/local/lib/python3.7/dist-packages (from plantcv) (1.1.5)\n",
            "Requirement already satisfied: python-dateutil in /usr/local/lib/python3.7/dist-packages (from plantcv) (2.8.1)\n",
            "Requirement already satisfied: scipy in /usr/local/lib/python3.7/dist-packages (from plantcv) (1.4.1)\n",
            "Requirement already satisfied: numpy>=1.11 in /usr/local/lib/python3.7/dist-packages (from plantcv) (1.19.5)\n",
            "Requirement already satisfied: matplotlib>=1.5 in /usr/local/lib/python3.7/dist-packages (from plantcv) (3.2.2)\n",
            "Requirement already satisfied: plotnine in /usr/local/lib/python3.7/dist-packages (from plantcv) (0.6.0)\n",
            "Requirement already satisfied: scikit-image in /usr/local/lib/python3.7/dist-packages (from plantcv) (0.16.2)\n",
            "Collecting opencv-python<4,>=3.4\n",
            "\u001b[?25l  Downloading https://files.pythonhosted.org/packages/93/a2/e081e1d8831ce4dc1629ba36f1e010a56225b00532e2edad76e1bc7faef9/opencv_python-3.4.13.47-cp37-cp37m-manylinux2014_x86_64.whl (48.6MB)\n",
            "\u001b[K     |████████████████████████████████| 48.6MB 59kB/s \n",
            "\u001b[?25hRequirement already satisfied: dask in /usr/local/lib/python3.7/dist-packages (from plantcv) (2.12.0)\n",
            "Requirement already satisfied: scikit-learn in /usr/local/lib/python3.7/dist-packages (from plantcv) (0.22.2.post1)\n",
            "Collecting dask-jobqueue\n",
            "  Downloading https://files.pythonhosted.org/packages/22/4a/bf4ea9c12c825d0926899d9c08d1abc009ac0779c6b2476aa419a02de719/dask_jobqueue-0.7.2-py2.py3-none-any.whl\n",
            "Requirement already satisfied: pytz>=2017.2 in /usr/local/lib/python3.7/dist-packages (from pandas->plantcv) (2018.9)\n",
            "Requirement already satisfied: six>=1.5 in /usr/local/lib/python3.7/dist-packages (from python-dateutil->plantcv) (1.15.0)\n",
            "Requirement already satisfied: kiwisolver>=1.0.1 in /usr/local/lib/python3.7/dist-packages (from matplotlib>=1.5->plantcv) (1.3.1)\n",
            "Requirement already satisfied: cycler>=0.10 in /usr/local/lib/python3.7/dist-packages (from matplotlib>=1.5->plantcv) (0.10.0)\n",
            "Requirement already satisfied: pyparsing!=2.0.4,!=2.1.2,!=2.1.6,>=2.0.1 in /usr/local/lib/python3.7/dist-packages (from matplotlib>=1.5->plantcv) (2.4.7)\n",
            "Requirement already satisfied: descartes>=1.1.0 in /usr/local/lib/python3.7/dist-packages (from plotnine->plantcv) (1.1.0)\n",
            "Requirement already satisfied: mizani>=0.6.0 in /usr/local/lib/python3.7/dist-packages (from plotnine->plantcv) (0.6.0)\n",
            "Requirement already satisfied: statsmodels>=0.9.0 in /usr/local/lib/python3.7/dist-packages (from plotnine->plantcv) (0.10.2)\n",
            "Requirement already satisfied: patsy>=0.4.1 in /usr/local/lib/python3.7/dist-packages (from plotnine->plantcv) (0.5.1)\n",
            "Requirement already satisfied: PyWavelets>=0.4.0 in /usr/local/lib/python3.7/dist-packages (from scikit-image->plantcv) (1.1.1)\n",
            "Requirement already satisfied: pillow>=4.3.0 in /usr/local/lib/python3.7/dist-packages (from scikit-image->plantcv) (7.1.2)\n",
            "Requirement already satisfied: networkx>=2.0 in /usr/local/lib/python3.7/dist-packages (from scikit-image->plantcv) (2.5.1)\n",
            "Requirement already satisfied: imageio>=2.3.0 in /usr/local/lib/python3.7/dist-packages (from scikit-image->plantcv) (2.4.1)\n",
            "Requirement already satisfied: joblib>=0.11 in /usr/local/lib/python3.7/dist-packages (from scikit-learn->plantcv) (1.0.1)\n",
            "Collecting distributed>=2.19\n",
            "\u001b[?25l  Downloading https://files.pythonhosted.org/packages/0c/b0/3454dc44239c526f9c9e4cf04f62823776b71f927db74302986d56e7a9a1/distributed-2021.4.0-py3-none-any.whl (684kB)\n",
            "\u001b[K     |████████████████████████████████| 686kB 56.0MB/s \n",
            "\u001b[?25hRequirement already satisfied: palettable in /usr/local/lib/python3.7/dist-packages (from mizani>=0.6.0->plotnine->plantcv) (3.3.0)\n",
            "Requirement already satisfied: decorator<5,>=4.3 in /usr/local/lib/python3.7/dist-packages (from networkx>=2.0->scikit-image->plantcv) (4.4.2)\n",
            "Requirement already satisfied: msgpack>=0.6.0 in /usr/local/lib/python3.7/dist-packages (from distributed>=2.19->dask-jobqueue->plantcv) (1.0.2)\n",
            "Requirement already satisfied: tornado>=5; python_version < \"3.8\" in /usr/local/lib/python3.7/dist-packages (from distributed>=2.19->dask-jobqueue->plantcv) (5.1.1)\n",
            "Requirement already satisfied: tblib>=1.6.0 in /usr/local/lib/python3.7/dist-packages (from distributed>=2.19->dask-jobqueue->plantcv) (1.7.0)\n",
            "Requirement already satisfied: sortedcontainers!=2.0.0,!=2.0.1 in /usr/local/lib/python3.7/dist-packages (from distributed>=2.19->dask-jobqueue->plantcv) (2.3.0)\n",
            "Collecting cloudpickle>=1.5.0\n",
            "  Downloading https://files.pythonhosted.org/packages/e7/e3/898487e5dbeb612054cf2e0c188463acb358167fef749c53c8bb8918cea1/cloudpickle-1.6.0-py3-none-any.whl\n",
            "Requirement already satisfied: click>=6.6 in /usr/local/lib/python3.7/dist-packages (from distributed>=2.19->dask-jobqueue->plantcv) (7.1.2)\n",
            "Requirement already satisfied: psutil>=5.0 in /usr/local/lib/python3.7/dist-packages (from distributed>=2.19->dask-jobqueue->plantcv) (5.4.8)\n",
            "Requirement already satisfied: setuptools in /usr/local/lib/python3.7/dist-packages (from distributed>=2.19->dask-jobqueue->plantcv) (54.2.0)\n",
            "Requirement already satisfied: pyyaml in /usr/local/lib/python3.7/dist-packages (from distributed>=2.19->dask-jobqueue->plantcv) (3.13)\n",
            "Requirement already satisfied: toolz>=0.8.2 in /usr/local/lib/python3.7/dist-packages (from distributed>=2.19->dask-jobqueue->plantcv) (0.11.1)\n",
            "Requirement already satisfied: zict>=0.1.3 in /usr/local/lib/python3.7/dist-packages (from distributed>=2.19->dask-jobqueue->plantcv) (2.0.0)\n",
            "Requirement already satisfied: heapdict in /usr/local/lib/python3.7/dist-packages (from zict>=0.1.3->distributed>=2.19->dask-jobqueue->plantcv) (1.0.1)\n",
            "\u001b[31mERROR: distributed 2021.4.0 has requirement dask>=2021.03.0, but you'll have dask 2.12.0 which is incompatible.\u001b[0m\n",
            "\u001b[31mERROR: albumentations 0.1.12 has requirement imgaug<0.2.7,>=0.2.5, but you'll have imgaug 0.2.9 which is incompatible.\u001b[0m\n",
            "\u001b[31mERROR: dask-jobqueue 0.7.2 has requirement dask>=2.19, but you'll have dask 2.12.0 which is incompatible.\u001b[0m\n",
            "Installing collected packages: opencv-python, cloudpickle, distributed, dask-jobqueue, plantcv\n",
            "  Found existing installation: opencv-python 4.1.2.30\n",
            "    Uninstalling opencv-python-4.1.2.30:\n",
            "      Successfully uninstalled opencv-python-4.1.2.30\n",
            "  Found existing installation: cloudpickle 1.3.0\n",
            "    Uninstalling cloudpickle-1.3.0:\n",
            "      Successfully uninstalled cloudpickle-1.3.0\n",
            "  Found existing installation: distributed 1.25.3\n",
            "    Uninstalling distributed-1.25.3:\n",
            "      Successfully uninstalled distributed-1.25.3\n",
            "Successfully installed cloudpickle-1.6.0 dask-jobqueue-0.7.2 distributed-2021.4.0 opencv-python-3.4.13.47 plantcv-3.11.0\n",
            "Collecting c3d\n",
            "  Downloading https://files.pythonhosted.org/packages/80/39/1fddfb01d5f142b2ec1c199c78eaca1094f053af66235c76ba4d14fc7950/c3d-0.3.0-py3-none-any.whl\n",
            "Requirement already satisfied: numpy in /usr/local/lib/python3.7/dist-packages (from c3d) (1.19.5)\n",
            "Installing collected packages: c3d\n",
            "Successfully installed c3d-0.3.0\n"
          ],
          "name": "stdout"
        }
      ]
    },
    {
      "cell_type": "code",
      "metadata": {
        "id": "_gnveOQLzZs-"
      },
      "source": [
        "import numpy as np\n",
        "import matplotlib.pyplot as plt\n",
        "import c3d\n",
        "import cv2\n",
        "import torch\n",
        "import torch.nn as nn\n",
        "from torch.utils.data import Dataset, DataLoader\n",
        "import os\n",
        "from plantcv import plantcv as pcv\n",
        "from scipy import ndimage\n",
        "import torchvision"
      ],
      "execution_count": 2,
      "outputs": []
    },
    {
      "cell_type": "code",
      "metadata": {
        "colab": {
          "base_uri": "https://localhost:8080/"
        },
        "id": "WCAC2zBMNOjE",
        "outputId": "840162e5-622a-4d72-d789-ef937b511aca"
      },
      "source": [
        "## Mount Google Drive Data (If using Google Colaboratory)\n",
        "try:\n",
        "    from google.colab import drive\n",
        "    drive.mount('/content/gdrive')\n",
        "except:\n",
        "    print(\"Mounting Failed.\")\n"
      ],
      "execution_count": 3,
      "outputs": [
        {
          "output_type": "stream",
          "text": [
            "Mounted at /content/gdrive\n"
          ],
          "name": "stdout"
        }
      ]
    },
    {
      "cell_type": "code",
      "metadata": {
        "id": "prEI4BySN1tM"
      },
      "source": [
        "data_dir = \"/content/gdrive/MyDrive/BerkeleyMHAD/\"\n",
        "subjects = ['S01', 'S02', 'S03', 'S04', 'S05','S06', 'S07', 'S08', 'S09', 'S10', 'S11', 'S12']\n",
        "actions = ['A01', 'A02', 'A03', 'A04', 'A05','A06', 'A07', 'A08', 'A09', 'A10', 'A11']\n",
        "reps = ['R01', 'R02', 'R03', 'R04', 'R05']"
      ],
      "execution_count": 4,
      "outputs": []
    },
    {
      "cell_type": "markdown",
      "metadata": {
        "id": "uPQyI2ZUbV7Z"
      },
      "source": [
        "#LSTM on Skeleton Data"
      ]
    },
    {
      "cell_type": "code",
      "metadata": {
        "id": "pSGM-xw4cj4_"
      },
      "source": [
        "################ Dataloader for Berkeley Mocap Optical Data #################\n",
        "\n",
        "def c3d2array(loc: str, frame_rate):\n",
        "    \"\"\"\n",
        "    Takes in the file location of the c3d file as a string and returns a \n",
        "    numpy array w/ the sensor data\n",
        "    Array Shape: Num_frames x 43 x 3 \n",
        "      43 corresponds to the number of nodes on the person\n",
        "      3 corresponds to spatial coordinates of the nodes\n",
        "    \"\"\"\n",
        "    point_series = []\n",
        "    reader = c3d.Reader(open(loc, 'rb'))\n",
        "    for i, points, analog in reader.read_frames():     \n",
        "        if i % frame_rate == 0: ## Set Frame Rate to approximately 22 Hz instead of 480 Hz\n",
        "            point_series.append(points[:, 0:3])\n",
        "    point_series = np.array(point_series)\n",
        "    return point_series\n",
        "\n",
        "class BerkeleyMocapOpticalDataset(Dataset):\n",
        "    \"\"\"Berkeley Mocap Optical Dataset.\"\"\"\n",
        "\n",
        "    def __init__(self, root_dir, train, frame_rate, transform=None):\n",
        "        \"\"\"\n",
        "        Args:\n",
        "            root_dir (string): Directory with all the data\n",
        "            train (string): has to be one of \"train\", \"test\", or \"val\"\n",
        "            frame_rate (integer): In Hz \n",
        "            transform (callable, optional): Optional transform to be applied\n",
        "                on a sample.\n",
        "        \"\"\"\n",
        "        self.root_dir = root_dir\n",
        "        if train == 'train':\n",
        "            self.list_c3d = [file for file in os.listdir(root_dir) if (os.path.isfile(os.path.join(root_dir, file)) and file[-1] != 't' and int(file[5:7]) < 9) ] #list of all the c3d file names for the first 8 subjects\n",
        "        elif train == 'val':\n",
        "            self.list_c3d = [file for file in os.listdir(root_dir) if (os.path.isfile(os.path.join(root_dir, file)) and file[-1] != 't' and int(file[5:7]) > 8 and int(file[5:7]) < 12) ] #list of all the c3d file names for the subjects 9, 10, 11\n",
        "        else:\n",
        "            self.list_c3d = [file for file in os.listdir(root_dir) if (os.path.isfile(os.path.join(root_dir, file)) and file[-1] != 't' and int(file[5:7]) == 12) ] #list of all the c3d file names for the subject 12\n",
        "        self.frame_rate = frame_rate\n",
        "        self.transform = transform\n",
        "\n",
        "    def __len__(self):\n",
        "        return len(self.list_c3d)\n",
        "\n",
        "    def __getitem__(self, idx):\n",
        "        if torch.is_tensor(idx):\n",
        "            idx = idx.tolist()\n",
        "        c3d_file_location = os.path.join(self.root_dir,\n",
        "                                self.list_c3d[idx])\n",
        "        sample = c3d2array(c3d_file_location, self.frame_rate)\n",
        "        label_location = c3d_file_location.find('_a')\n",
        "        if label_location == -1: # FUCK T-POSE\n",
        "            label = 12\n",
        "        else: \n",
        "            label = int(c3d_file_location[label_location+2:label_location+4])\n",
        "        if self.transform:\n",
        "            sample = self.transform(sample)\n",
        "        # Flatten Samples \n",
        "        sample = torch.transpose(sample, 0, 1)\n",
        "        sample = torch.flatten(sample, 1, 2)\n",
        "        sample = torch.unsqueeze(sample, 0)\n",
        "        sample = sample.float()\n",
        "        # I think labels should go from 0 through 11 since we are using argmax later for loss/accuracy\n",
        "        return sample, label - 1\n",
        "\n",
        "\n",
        "############### Compute Mean and SD across the dataset #############\n",
        "## If you wish to uncomment the code below and rerun it, you might have to comment out the three lines which cflatten the sample in the class above\n",
        "'''transform = None\n",
        "root_dir = data_dir + 'Mocap/OpticalData'\n",
        "frame_rate = 1\n",
        "\n",
        "dataloader = BerkeleyMocapOpticalDataset(root_dir, \"train\", 1)\n",
        "x_list = []\n",
        "y_list = []\n",
        "z_list = []\n",
        "\n",
        "for sample,_ in dataloader:\n",
        "  x_list.append(np.ndarray.flatten(sample[:,:,0]))\n",
        "  y_list.append(np.ndarray.flatten(sample[:,:,1]))\n",
        "  z_list.append(np.ndarray.flatten(sample[:,:,2]))\n",
        "\n",
        "x_list = np.concatenate(np.array(x_list))\n",
        "y_list = np.concatenate(np.array(y_list))\n",
        "z_list = np.concatenate(np.array(z_list))\n",
        "x_mean = np.mean(x_list)\n",
        "x_sd = np.std(x_list)\n",
        "y_mean = np.mean(y_list)\n",
        "y_sd = np.std(y_list)\n",
        "z_mean = np.mean(z_list)\n",
        "z_sd = np.std(z_list)\n",
        "print([x_mean, y_mean, z_mean, x_sd, y_sd, z_sd])'''\n",
        "\n",
        "############### Define a transform with mean, std, and tensor ############\n",
        "## So we don't need to rerun for the mean and standard deviations every time\n",
        "x_mean, x_sd, y_mean, y_sd, z_mean, z_sd = -455.09898495222086, 245.84348947768748, 148.47916727630624, 183.09031602408763, 814.4396506806088, 538.2824468734605\n",
        "transform = torchvision.transforms.Compose([\n",
        "  torchvision.transforms.ToTensor(),\n",
        "  torchvision.transforms.Normalize((x_mean, y_mean, z_mean), (x_sd, y_sd, z_sd)),\n",
        "])\n",
        "\n",
        "\n",
        "############# Final Dataloaders ####################\n",
        "root_dir = data_dir + 'Mocap/OpticalData'\n",
        "frame_rate = 22\n",
        "train_dataloader = BerkeleyMocapOpticalDataset(root_dir, \"train\", frame_rate, transform=transform)\n",
        "test_dataloader = BerkeleyMocapOpticalDataset(root_dir, \"test\", frame_rate, transform=transform)\n",
        "val_dataloader = BerkeleyMocapOpticalDataset(root_dir, \"val\", frame_rate, transform=transform)\n"
      ],
      "execution_count": 5,
      "outputs": []
    },
    {
      "cell_type": "code",
      "metadata": {
        "id": "Ehz48DvAcqVk",
        "colab": {
          "base_uri": "https://localhost:8080/",
          "height": 761
        },
        "outputId": "6fec4155-43a6-42d1-f42d-8058e6a0f8f5"
      },
      "source": [
        "############ Test The Dataloader ######################\n",
        "\n",
        "## This code is for case in which the sample is NOT flattened\n",
        "'''i = 3\n",
        "for sample,_ in train_dataloader:\n",
        "  if i == 0:\n",
        "    break\n",
        "  i = i - 1\n",
        "  frame = 1\n",
        "  xs, ys, zs = sample[0, frame, :], sample[1, frame, :], sample[2, frame, :]\n",
        "  plt.figure()\n",
        "  plt.scatter(xs, zs)\n",
        "  plt.axis('scaled')\n",
        "  xs, ys, zs = sample[0, frame+10, :], sample[1, frame+10, :], sample[2, frame+10, :]\n",
        "  plt.scatter(xs, zs)\n",
        "  plt.axis('scaled')'''\n",
        "\n",
        "## This code is for the case in which the sample IS flattened\n",
        "i = 3\n",
        "for sample,_ in train_dataloader:\n",
        "  if i == 0:\n",
        "    break\n",
        "  i = i - 1\n",
        "  frame = 1\n",
        "  xs, ys, zs = sample[0, frame, 0:43], sample[0, frame, 43:86], sample[0, frame, 86:]\n",
        "  plt.figure()\n",
        "  plt.scatter(xs, zs)\n",
        "  plt.axis('scaled')\n",
        "  xs, ys, zs = sample[0, frame+10, 0:43], sample[0, frame+10, 43:86], sample[0, frame+10, 86:]\n",
        "  plt.scatter(xs, zs)\n",
        "  plt.axis('scaled')"
      ],
      "execution_count": 6,
      "outputs": [
        {
          "output_type": "display_data",
          "data": {
            "image/png": "[encoded data removed]",
            "text/plain": [
              "<Figure size 432x288 with 1 Axes>"
            ]
          },
          "metadata": {
            "tags": [],
            "needs_background": "light"
          }
        },
        {
          "output_type": "display_data",
          "data": {
            "image/png": "[encoded data removed]",
            "text/plain": [
              "<Figure size 432x288 with 1 Axes>"
            ]
          },
          "metadata": {
            "tags": [],
            "needs_background": "light"
          }
        },
        {
          "output_type": "display_data",
          "data": {
            "image/png": "[encoded data removed]",
            "text/plain": [
              "<Figure size 432x288 with 1 Axes>"
            ]
          },
          "metadata": {
            "tags": [],
            "needs_background": "light"
          }
        }
      ]
    },
    {
      "cell_type": "code",
      "metadata": {
        "id": "xNccTDNGxYdG"
      },
      "source": [
        "class skeletonLSTM(nn.Module):\n",
        "    def __init__(self, classes):\n",
        "        super(skeletonLSTM, self).__init__()\n",
        "        self.n_hidden = 100\n",
        "        self.n_layers = 1\n",
        "        self.l_lstm = torch.nn.LSTM(input_size = 129, \n",
        "                                 hidden_size = self.n_hidden,\n",
        "                                 num_layers = self.n_layers, \n",
        "                                 batch_first = True)\n",
        "        self.fc1 = nn.Linear(100, 50)\n",
        "        self.fc2 = nn.Linear(50, classes)\n",
        "        self.relu = nn.ReLU()\n",
        "    def forward(self, x):\n",
        "        #intialize lstm hidden state\n",
        "        hidden_state = torch.zeros(self.n_layers, 1, self.n_hidden).cuda()\n",
        "        cell_state = torch.zeros(self.n_layers, 1, self.n_hidden).cuda()\n",
        "        self.hidden = (hidden_state, cell_state)      \n",
        "        #print(x.shape)\n",
        "        lstm_out, _ = self.l_lstm(x, self.hidden) #lstm_out shape is batch_size, seq len, hidden state\n",
        "        lstm_out = lstm_out[:,-1,:]\n",
        "        lstm_out = self.relu(self.fc1(lstm_out.squeeze()))\n",
        "        lstm_out = self.fc2(lstm_out)\n",
        "        return lstm_out\n",
        "    "
      ],
      "execution_count": 7,
      "outputs": []
    },
    {
      "cell_type": "code",
      "metadata": {
        "id": "mYYtqLfyyC0Z",
        "colab": {
          "base_uri": "https://localhost:8080/",
          "height": 1000
        },
        "outputId": "64dcf4ae-cce8-451a-9cd5-4e3945206606"
      },
      "source": [
        " num_epochs = 50\n",
        " num_classes = 12\n",
        " model = skeletonLSTM(num_classes)\n",
        " model.cuda()\n",
        " loss_func = nn.CrossEntropyLoss()\n",
        " optimizer = torch.optim.Adam(model.parameters())\n",
        " \n",
        " train_loss_vec = []\n",
        " val_loss_vec = []\n",
        " for epoch in range(num_epochs):\n",
        "    train_loss_for_epoch = []\n",
        "    val_loss_for_epoch = []\n",
        "    ########################### Training #####################################\n",
        "    print(\"\\nEPOCH \" +str(epoch+1)+\" of \"+str(num_epochs)+\"\\n\")\n",
        "    for inputs, labels in train_dataloader:\n",
        "          inputs = inputs.cuda()\n",
        "          model.train()\n",
        "          if labels == 11: #FUCK T-POSE\n",
        "              continue\n",
        "          labels = torch.Tensor([labels]).cuda()\n",
        "          predictions = model(inputs).unsqueeze(0)\n",
        "          loss = loss_func(predictions, labels.long())\n",
        "          optimizer.zero_grad()\n",
        "          loss.backward()\n",
        "          optimizer.step()\n",
        "          train_loss_for_epoch.append(loss.item())\n",
        "\n",
        "    train_loss_vec.append( sum(train_loss_for_epoch) / len(train_loss_for_epoch) )\n",
        "    for inputs, labels in val_dataloader:\n",
        "          inputs = inputs.cuda()\n",
        "          model.eval()\n",
        "          if labels == 11: #FUCK T-POSE\n",
        "              continue\n",
        "          labels = torch.Tensor([labels]).cuda()\n",
        "          predictions = model(inputs).unsqueeze(0)\n",
        "          loss = loss_func(predictions, labels.long())\n",
        "          val_loss_for_epoch.append(loss.item())\n",
        "    val_loss_vec.append( sum(val_loss_for_epoch) / len(val_loss_for_epoch) )\n",
        "    print(\"The training loss for Epoch \" + str(epoch + 1) + \" is \" + str(train_loss_vec[-1]))\n",
        "    print(\"The validation loss for Epoch \" + str(epoch + 1) + \" is \" + str(val_loss_vec[-1]))\n"
      ],
      "execution_count": 8,
      "outputs": [
        {
          "output_type": "stream",
          "text": [
            "\n",
            "EPOCH 1 of 50\n",
            "\n",
            "The training loss for Epoch 1 is 2.1305524413619747\n",
            "The validation loss for Epoch 1 is 2.070966161427177\n",
            "\n",
            "EPOCH 2 of 50\n",
            "\n",
            "The training loss for Epoch 2 is 1.6736095437452654\n",
            "The validation loss for Epoch 2 is 1.8071108842001802\n",
            "\n",
            "EPOCH 3 of 50\n",
            "\n",
            "The training loss for Epoch 3 is 1.5939870988090936\n",
            "The validation loss for Epoch 3 is 1.6354780198856003\n",
            "\n",
            "EPOCH 4 of 50\n",
            "\n",
            "The training loss for Epoch 4 is 1.365960065678408\n",
            "The validation loss for Epoch 4 is 1.3453639107303301\n",
            "\n",
            "EPOCH 5 of 50\n",
            "\n",
            "The training loss for Epoch 5 is 1.107467288605797\n",
            "The validation loss for Epoch 5 is 1.1017653573924777\n",
            "\n",
            "EPOCH 6 of 50\n",
            "\n",
            "The training loss for Epoch 6 is 1.0076726535578355\n",
            "The validation loss for Epoch 6 is 1.4055655577860005\n",
            "\n",
            "EPOCH 7 of 50\n",
            "\n",
            "The training loss for Epoch 7 is 0.921512887339379\n",
            "The validation loss for Epoch 7 is 1.0232238634014807\n",
            "\n",
            "EPOCH 8 of 50\n",
            "\n",
            "The training loss for Epoch 8 is 0.6940698742984112\n",
            "The validation loss for Epoch 8 is 0.7751954462297211\n",
            "\n",
            "EPOCH 9 of 50\n",
            "\n",
            "The training loss for Epoch 9 is 0.5172422211510381\n",
            "The validation loss for Epoch 9 is 0.613228436475554\n",
            "\n",
            "EPOCH 10 of 50\n",
            "\n",
            "The training loss for Epoch 10 is 0.43734554979942847\n",
            "The validation loss for Epoch 10 is 0.6058139790951357\n",
            "\n",
            "EPOCH 11 of 50\n",
            "\n",
            "The training loss for Epoch 11 is 0.32995417907952473\n",
            "The validation loss for Epoch 11 is 0.7222388914485691\n",
            "\n",
            "EPOCH 12 of 50\n",
            "\n",
            "The training loss for Epoch 12 is 0.2724264099521944\n",
            "The validation loss for Epoch 12 is 1.0681104066286804\n",
            "\n",
            "EPOCH 13 of 50\n",
            "\n",
            "The training loss for Epoch 13 is 0.3713563868418535\n",
            "The validation loss for Epoch 13 is 0.7212484658393399\n",
            "\n",
            "EPOCH 14 of 50\n",
            "\n",
            "The training loss for Epoch 14 is 0.21471397788310997\n",
            "The validation loss for Epoch 14 is 0.8012408293916534\n",
            "\n",
            "EPOCH 15 of 50\n",
            "\n"
          ],
          "name": "stdout"
        },
        {
          "output_type": "error",
          "ename": "KeyboardInterrupt",
          "evalue": "ignored",
          "traceback": [
            "\u001b[0;31m---------------------------------------------------------------------------\u001b[0m",
            "\u001b[0;31mKeyboardInterrupt\u001b[0m                         Traceback (most recent call last)",
            "\u001b[0;32m<ipython-input-8-11cfd27f0fb0>\u001b[0m in \u001b[0;36m<module>\u001b[0;34m()\u001b[0m\n\u001b[1;32m     13\u001b[0m    \u001b[0;31m########################### Training #####################################\u001b[0m\u001b[0;34m\u001b[0m\u001b[0;34m\u001b[0m\u001b[0;34m\u001b[0m\u001b[0m\n\u001b[1;32m     14\u001b[0m    \u001b[0mprint\u001b[0m\u001b[0;34m(\u001b[0m\u001b[0;34m\"\\nEPOCH \"\u001b[0m \u001b[0;34m+\u001b[0m\u001b[0mstr\u001b[0m\u001b[0;34m(\u001b[0m\u001b[0mepoch\u001b[0m\u001b[0;34m+\u001b[0m\u001b[0;36m1\u001b[0m\u001b[0;34m)\u001b[0m\u001b[0;34m+\u001b[0m\u001b[0;34m\" of \"\u001b[0m\u001b[0;34m+\u001b[0m\u001b[0mstr\u001b[0m\u001b[0;34m(\u001b[0m\u001b[0mnum_epochs\u001b[0m\u001b[0;34m)\u001b[0m\u001b[0;34m+\u001b[0m\u001b[0;34m\"\\n\"\u001b[0m\u001b[0;34m)\u001b[0m\u001b[0;34m\u001b[0m\u001b[0;34m\u001b[0m\u001b[0m\n\u001b[0;32m---> 15\u001b[0;31m    \u001b[0;32mfor\u001b[0m \u001b[0minputs\u001b[0m\u001b[0;34m,\u001b[0m \u001b[0mlabels\u001b[0m \u001b[0;32min\u001b[0m \u001b[0mtrain_dataloader\u001b[0m\u001b[0;34m:\u001b[0m\u001b[0;34m\u001b[0m\u001b[0;34m\u001b[0m\u001b[0m\n\u001b[0m\u001b[1;32m     16\u001b[0m          \u001b[0minputs\u001b[0m \u001b[0;34m=\u001b[0m \u001b[0minputs\u001b[0m\u001b[0;34m.\u001b[0m\u001b[0mcuda\u001b[0m\u001b[0;34m(\u001b[0m\u001b[0;34m)\u001b[0m\u001b[0;34m\u001b[0m\u001b[0;34m\u001b[0m\u001b[0m\n\u001b[1;32m     17\u001b[0m          \u001b[0mmodel\u001b[0m\u001b[0;34m.\u001b[0m\u001b[0mtrain\u001b[0m\u001b[0;34m(\u001b[0m\u001b[0;34m)\u001b[0m\u001b[0;34m\u001b[0m\u001b[0;34m\u001b[0m\u001b[0m\n",
            "\u001b[0;32m<ipython-input-5-2d696b28ba32>\u001b[0m in \u001b[0;36m__getitem__\u001b[0;34m(self, idx)\u001b[0m\n\u001b[1;32m     47\u001b[0m         c3d_file_location = os.path.join(self.root_dir,\n\u001b[1;32m     48\u001b[0m                                 self.list_c3d[idx])\n\u001b[0;32m---> 49\u001b[0;31m         \u001b[0msample\u001b[0m \u001b[0;34m=\u001b[0m \u001b[0mc3d2array\u001b[0m\u001b[0;34m(\u001b[0m\u001b[0mc3d_file_location\u001b[0m\u001b[0;34m,\u001b[0m \u001b[0mself\u001b[0m\u001b[0;34m.\u001b[0m\u001b[0mframe_rate\u001b[0m\u001b[0;34m)\u001b[0m\u001b[0;34m\u001b[0m\u001b[0;34m\u001b[0m\u001b[0m\n\u001b[0m\u001b[1;32m     50\u001b[0m         \u001b[0mlabel_location\u001b[0m \u001b[0;34m=\u001b[0m \u001b[0mc3d_file_location\u001b[0m\u001b[0;34m.\u001b[0m\u001b[0mfind\u001b[0m\u001b[0;34m(\u001b[0m\u001b[0;34m'_a'\u001b[0m\u001b[0;34m)\u001b[0m\u001b[0;34m\u001b[0m\u001b[0;34m\u001b[0m\u001b[0m\n\u001b[1;32m     51\u001b[0m         \u001b[0;32mif\u001b[0m \u001b[0mlabel_location\u001b[0m \u001b[0;34m==\u001b[0m \u001b[0;34m-\u001b[0m\u001b[0;36m1\u001b[0m\u001b[0;34m:\u001b[0m \u001b[0;31m# FUCK T-POSE\u001b[0m\u001b[0;34m\u001b[0m\u001b[0;34m\u001b[0m\u001b[0m\n",
            "\u001b[0;32m<ipython-input-5-2d696b28ba32>\u001b[0m in \u001b[0;36mc3d2array\u001b[0;34m(loc, frame_rate)\u001b[0m\n\u001b[1;32m     11\u001b[0m     \u001b[0mpoint_series\u001b[0m \u001b[0;34m=\u001b[0m \u001b[0;34m[\u001b[0m\u001b[0;34m]\u001b[0m\u001b[0;34m\u001b[0m\u001b[0;34m\u001b[0m\u001b[0m\n\u001b[1;32m     12\u001b[0m     \u001b[0mreader\u001b[0m \u001b[0;34m=\u001b[0m \u001b[0mc3d\u001b[0m\u001b[0;34m.\u001b[0m\u001b[0mReader\u001b[0m\u001b[0;34m(\u001b[0m\u001b[0mopen\u001b[0m\u001b[0;34m(\u001b[0m\u001b[0mloc\u001b[0m\u001b[0;34m,\u001b[0m \u001b[0;34m'rb'\u001b[0m\u001b[0;34m)\u001b[0m\u001b[0;34m)\u001b[0m\u001b[0;34m\u001b[0m\u001b[0;34m\u001b[0m\u001b[0m\n\u001b[0;32m---> 13\u001b[0;31m     \u001b[0;32mfor\u001b[0m \u001b[0mi\u001b[0m\u001b[0;34m,\u001b[0m \u001b[0mpoints\u001b[0m\u001b[0;34m,\u001b[0m \u001b[0manalog\u001b[0m \u001b[0;32min\u001b[0m \u001b[0mreader\u001b[0m\u001b[0;34m.\u001b[0m\u001b[0mread_frames\u001b[0m\u001b[0;34m(\u001b[0m\u001b[0;34m)\u001b[0m\u001b[0;34m:\u001b[0m\u001b[0;34m\u001b[0m\u001b[0;34m\u001b[0m\u001b[0m\n\u001b[0m\u001b[1;32m     14\u001b[0m         \u001b[0;32mif\u001b[0m \u001b[0mi\u001b[0m \u001b[0;34m%\u001b[0m \u001b[0mframe_rate\u001b[0m \u001b[0;34m==\u001b[0m \u001b[0;36m0\u001b[0m\u001b[0;34m:\u001b[0m \u001b[0;31m## Set Frame Rate to approximately 22 Hz instead of 480 Hz\u001b[0m\u001b[0;34m\u001b[0m\u001b[0;34m\u001b[0m\u001b[0m\n\u001b[1;32m     15\u001b[0m             \u001b[0mpoint_series\u001b[0m\u001b[0;34m.\u001b[0m\u001b[0mappend\u001b[0m\u001b[0;34m(\u001b[0m\u001b[0mpoints\u001b[0m\u001b[0;34m[\u001b[0m\u001b[0;34m:\u001b[0m\u001b[0;34m,\u001b[0m \u001b[0;36m0\u001b[0m\u001b[0;34m:\u001b[0m\u001b[0;36m3\u001b[0m\u001b[0;34m]\u001b[0m\u001b[0;34m)\u001b[0m\u001b[0;34m\u001b[0m\u001b[0;34m\u001b[0m\u001b[0m\n",
            "\u001b[0;32m/usr/local/lib/python3.7/dist-packages/c3d.py\u001b[0m in \u001b[0;36mread_frames\u001b[0;34m(self, copy)\u001b[0m\n\u001b[1;32m    879\u001b[0m \u001b[0;34m\u001b[0m\u001b[0m\n\u001b[1;32m    880\u001b[0m             \u001b[0;31m# fifth value is number of bits set in camera-observation byte\u001b[0m\u001b[0;34m\u001b[0m\u001b[0;34m\u001b[0m\u001b[0;34m\u001b[0m\u001b[0m\n\u001b[0;32m--> 881\u001b[0;31m             \u001b[0mpoints\u001b[0m\u001b[0;34m[\u001b[0m\u001b[0mvalid\u001b[0m\u001b[0;34m,\u001b[0m \u001b[0;36m4\u001b[0m\u001b[0;34m]\u001b[0m \u001b[0;34m=\u001b[0m \u001b[0msum\u001b[0m\u001b[0;34m(\u001b[0m\u001b[0;34m(\u001b[0m\u001b[0mc\u001b[0m \u001b[0;34m&\u001b[0m \u001b[0;34m(\u001b[0m\u001b[0;36m1\u001b[0m \u001b[0;34m<<\u001b[0m \u001b[0mk\u001b[0m\u001b[0;34m)\u001b[0m\u001b[0;34m)\u001b[0m \u001b[0;34m>>\u001b[0m \u001b[0mk\u001b[0m \u001b[0;32mfor\u001b[0m \u001b[0mk\u001b[0m \u001b[0;32min\u001b[0m \u001b[0mrange\u001b[0m\u001b[0;34m(\u001b[0m\u001b[0;36m8\u001b[0m\u001b[0;34m,\u001b[0m \u001b[0;36m17\u001b[0m\u001b[0;34m)\u001b[0m\u001b[0;34m)\u001b[0m\u001b[0;34m\u001b[0m\u001b[0;34m\u001b[0m\u001b[0m\n\u001b[0m\u001b[1;32m    882\u001b[0m \u001b[0;34m\u001b[0m\u001b[0m\n\u001b[1;32m    883\u001b[0m             \u001b[0;32mif\u001b[0m \u001b[0mself\u001b[0m\u001b[0;34m.\u001b[0m\u001b[0mheader\u001b[0m\u001b[0;34m.\u001b[0m\u001b[0manalog_count\u001b[0m \u001b[0;34m>\u001b[0m \u001b[0;36m0\u001b[0m\u001b[0;34m:\u001b[0m\u001b[0;34m\u001b[0m\u001b[0;34m\u001b[0m\u001b[0m\n",
            "\u001b[0;32m/usr/local/lib/python3.7/dist-packages/c3d.py\u001b[0m in \u001b[0;36m<genexpr>\u001b[0;34m(.0)\u001b[0m\n\u001b[1;32m    879\u001b[0m \u001b[0;34m\u001b[0m\u001b[0m\n\u001b[1;32m    880\u001b[0m             \u001b[0;31m# fifth value is number of bits set in camera-observation byte\u001b[0m\u001b[0;34m\u001b[0m\u001b[0;34m\u001b[0m\u001b[0;34m\u001b[0m\u001b[0m\n\u001b[0;32m--> 881\u001b[0;31m             \u001b[0mpoints\u001b[0m\u001b[0;34m[\u001b[0m\u001b[0mvalid\u001b[0m\u001b[0;34m,\u001b[0m \u001b[0;36m4\u001b[0m\u001b[0;34m]\u001b[0m \u001b[0;34m=\u001b[0m \u001b[0msum\u001b[0m\u001b[0;34m(\u001b[0m\u001b[0;34m(\u001b[0m\u001b[0mc\u001b[0m \u001b[0;34m&\u001b[0m \u001b[0;34m(\u001b[0m\u001b[0;36m1\u001b[0m \u001b[0;34m<<\u001b[0m \u001b[0mk\u001b[0m\u001b[0;34m)\u001b[0m\u001b[0;34m)\u001b[0m \u001b[0;34m>>\u001b[0m \u001b[0mk\u001b[0m \u001b[0;32mfor\u001b[0m \u001b[0mk\u001b[0m \u001b[0;32min\u001b[0m \u001b[0mrange\u001b[0m\u001b[0;34m(\u001b[0m\u001b[0;36m8\u001b[0m\u001b[0;34m,\u001b[0m \u001b[0;36m17\u001b[0m\u001b[0;34m)\u001b[0m\u001b[0;34m)\u001b[0m\u001b[0;34m\u001b[0m\u001b[0;34m\u001b[0m\u001b[0m\n\u001b[0m\u001b[1;32m    882\u001b[0m \u001b[0;34m\u001b[0m\u001b[0m\n\u001b[1;32m    883\u001b[0m             \u001b[0;32mif\u001b[0m \u001b[0mself\u001b[0m\u001b[0;34m.\u001b[0m\u001b[0mheader\u001b[0m\u001b[0;34m.\u001b[0m\u001b[0manalog_count\u001b[0m \u001b[0;34m>\u001b[0m \u001b[0;36m0\u001b[0m\u001b[0;34m:\u001b[0m\u001b[0;34m\u001b[0m\u001b[0;34m\u001b[0m\u001b[0m\n",
            "\u001b[0;31mKeyboardInterrupt\u001b[0m: "
          ]
        }
      ]
    },
    {
      "cell_type": "code",
      "metadata": {
        "id": "M57LENMrdCL-",
        "colab": {
          "base_uri": "https://localhost:8080/"
        },
        "outputId": "dc4ee58b-e1ce-4476-95d6-7c6192502b0d"
      },
      "source": [
        "'''## Just looking at the predictions vs the true labels\n",
        "for i in range(600):\n",
        "    sample, label = dataloader[i][0], dataloader[i][1]\n",
        "    print(torch.argmax(model(sample)), label)'''\n",
        "\n",
        "################ Model Accuracy On Train Dataset Post Training #################\n",
        "accurates = 0\n",
        "for input, label in train_dataloader:\n",
        "  input = input.cuda()\n",
        "  out = model(input)\n",
        "  if torch.argmax(out).item() == label:\n",
        "    accurates += 1\n",
        "\n",
        "accuracy = accurates / len(train_dataloader)\n",
        "print('The model accuracy on the train dataset after training is ' + str(accuracy))\n",
        "\n",
        "################ Model Accuracy On Validation Dataset Post Training #################\n",
        "accurates = 0\n",
        "for input, label in val_dataloader:\n",
        "  input = input.cuda()\n",
        "  out = model(input)\n",
        "  if torch.argmax(out).item() == label:\n",
        "    accurates += 1\n",
        "\n",
        "accuracy = accurates / len(val_dataloader)\n",
        "print('The model accuracy on the validation dataset after training is ' + str(accuracy))\n",
        "    "
      ],
      "execution_count": 9,
      "outputs": [
        {
          "output_type": "stream",
          "text": [
            "The model accuracy on the train dataset after training is 0.9753914988814317\n",
            "The model accuracy on the validation dataset after training is 0.8333333333333334\n"
          ],
          "name": "stdout"
        }
      ]
    },
    {
      "cell_type": "markdown",
      "metadata": {
        "id": "LbW1zLV0bbTm"
      },
      "source": [
        "#LSTM on Image Data"
      ]
    },
    {
      "cell_type": "code",
      "metadata": {
        "id": "d4kbS8X13n6u"
      },
      "source": [
        "X = []\n",
        "subjects = ['S03', 'S04', 'S05','S06', 'S07', 'S08', 'S09', 'S10', 'S11', 'S12']\n",
        "actions = ['A03', 'A04', 'A05','A06', 'A07', 'A08', 'A09', 'A10', 'A11']\n",
        "for i, action in enumerate(actions):\n",
        "    for subject in subjects:\n",
        "        for repeat in reps:\n",
        "            if subject == 'S04' and action == 'A04' and repeat == 'R05':\n",
        "              continue\n",
        "            if subject == 'S01' or subject == 'S02':\n",
        "              continue\n",
        "            if subject == 'S03' and action == 'A01':\n",
        "              continue\n",
        "            if subject == 'S03' and action == 'A02':\n",
        "              continue\n",
        "            image_path = data_dir + 'Camera/Cluster01/Cam01/' + str(subject) + '/' + str(action) + '/' + str(repeat) + '/'\n",
        "            dirs = os.listdir(image_path)\n",
        "            sample = []\n",
        "            for dir in dirs:\n",
        "                sample.append(ndimage.zoom(pcv.readbayer(image_path + dir, bayerpattern='GR')[0][:,120:480], [1/2, 1/2, 1]))\n",
        "            #X.append(np.array(sample))\n",
        "            np.savez(\"/content/gdrive/My Drive/rgb_video_data/\" + str(subject) + '_' + str(action) + '_' + str(repeat), x=np.array(sample), y=i)\n",
        "    \n"
      ],
      "execution_count": null,
      "outputs": []
    },
    {
      "cell_type": "code",
      "metadata": {
        "id": "83rvSHOc43q-"
      },
      "source": [
        "class BerkeleyMHAD(Dataset):\n",
        "\n",
        "    def __init__(self, vid_names, root_dir, transform=None):\n",
        "        self.vid_names = vid_names # list of file names for videos (ex. S01_A01_R01)\n",
        "        self.root_dir = root_dir # directory where videos are stored\n",
        "        self.transform = transform\n",
        "\n",
        "    def __len__(self):\n",
        "        return len(self.vid_names)\n",
        "\n",
        "    def __getitem__(self, idx):\n",
        "        if torch.is_tensor(idx):\n",
        "            idx = idx.tolist()\n",
        "\n",
        "        path = os.path.join(self.root_dir, self.vid_names[idx])\n",
        "        x = np.load(path)['x']\n",
        "        label = np.load(path)['y']\n",
        "        sample = {'x': x, 'y': label}\n",
        "\n",
        "        if self.transform:\n",
        "            sample = self.transform(sample)\n",
        "\n",
        "        return sample"
      ],
      "execution_count": null,
      "outputs": []
    },
    {
      "cell_type": "code",
      "metadata": {
        "id": "IBsuvtMAOLgg"
      },
      "source": [
        "data_dir = \"/content/gdrive/My Drive/dl_proj_data\"\n",
        "mhad_dataset = BerkeleyMHAD(vid_names=os.listdir(data_dir), root_dir=data_dir)"
      ],
      "execution_count": null,
      "outputs": []
    },
    {
      "cell_type": "code",
      "metadata": {
        "colab": {
          "base_uri": "https://localhost:8080/"
        },
        "id": "L1M2YxAKWGFI",
        "outputId": "58804c0b-1f53-4d71-d9c4-0de7528c8d7e"
      },
      "source": [
        "sample = mhad_dataset[2]\n",
        "sample"
      ],
      "execution_count": null,
      "outputs": [
        {
          "output_type": "execute_result",
          "data": {
            "text/plain": [
              "{'x': array([[[ 17,  17,  17, ...,  54,  48,  55],\n",
              "         [ 16,  20,  20, ...,  51,  38,  48],\n",
              "         [ 25,  23,  23, ...,  55,  52,  50],\n",
              "         ...,\n",
              "         [ 35, 103,  32, ...,  67,  64, 115],\n",
              "         [162, 148, 111, ...,  63,  96, 118],\n",
              "         [ 33, 160,  37, ...,  66,  61, 114]],\n",
              " \n",
              "        [[ 16,  16,  17, ...,  54,  51,  53],\n",
              "         [ 16,  19,  18, ...,  49,  39,  51],\n",
              "         [ 23,  24,  25, ...,  54,  51,  53],\n",
              "         ...,\n",
              "         [ 38, 100,  28, ...,  66,  62, 112],\n",
              "         [157, 149, 109, ...,  63,  93, 121],\n",
              "         [ 33, 163,  36, ...,  64,  58, 112]],\n",
              " \n",
              "        [[ 16,  17,  17, ...,  53,  51,  53],\n",
              "         [ 17,  20,  20, ...,  50,  38,  50],\n",
              "         [ 23,  25,  23, ...,  55,  52,  55],\n",
              "         ...,\n",
              "         [ 36,  97,  31, ...,  69,  60, 115],\n",
              "         [157, 149, 110, ...,  65,  93, 121],\n",
              "         [ 36, 156,  37, ...,  66,  56, 114]],\n",
              " \n",
              "        ...,\n",
              " \n",
              "        [[ 15,  17,  17, ...,  52,  50,  53],\n",
              "         [ 17,  20,  17, ...,  50,  39,  49],\n",
              "         [ 24,  24,  23, ...,  54,  52,  52],\n",
              "         ...,\n",
              "         [ 34,  99,  29, ...,  68,  64, 113],\n",
              "         [161, 152, 110, ...,  64,  96, 119],\n",
              "         [ 33, 159,  36, ...,  66,  58, 113]],\n",
              " \n",
              "        [[ 15,  17,  17, ...,  51,  52,  52],\n",
              "         [ 16,  20,  18, ...,  49,  36,  48],\n",
              "         [ 25,  25,  23, ...,  53,  52,  52],\n",
              "         ...,\n",
              "         [ 34, 104,  29, ...,  68,  59, 115],\n",
              "         [159, 152, 112, ...,  64,  92, 120],\n",
              "         [ 35, 163,  39, ...,  65,  56, 112]],\n",
              " \n",
              "        [[ 17,  17,  17, ...,  53,  51,  52],\n",
              "         [ 16,  19,  18, ...,  51,  39,  50],\n",
              "         [ 25,  25,  23, ...,  52,  50,  52],\n",
              "         ...,\n",
              "         [ 37, 104,  29, ...,  68,  59, 114],\n",
              "         [164, 153, 111, ...,  66,  94, 120],\n",
              "         [ 35, 160,  36, ...,  67,  60, 111]]], dtype=uint8), 'y': array(0)}"
            ]
          },
          "metadata": {
            "tags": []
          },
          "execution_count": 86
        }
      ]
    }
  ]
}