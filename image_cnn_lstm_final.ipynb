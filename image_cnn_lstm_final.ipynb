{
  "nbformat": 4,
  "nbformat_minor": 0,
  "metadata": {
    "accelerator": "GPU",
    "colab": {
      "name": "image_cnn_lstm.ipynb",
      "provenance": [],
      "collapsed_sections": [],
      "include_colab_link": true
    },
    "kernelspec": {
      "display_name": "Python 3",
      "language": "python",
      "name": "python3"
    },
    "language_info": {
      "codemirror_mode": {
        "name": "ipython",
        "version": 3
      },
      "file_extension": ".py",
      "mimetype": "text/x-python",
      "name": "python",
      "nbconvert_exporter": "python",
      "pygments_lexer": "ipython3",
      "version": "3.8.3"
    }
  },
  "cells": [
    {
      "cell_type": "markdown",
      "metadata": {
        "id": "view-in-github",
        "colab_type": "text"
      },
      "source": [
        "<a href=\"https://colab.research.google.com/github/ypeng22/DLFinal/blob/main/image_cnn_lstm_final.ipynb\" target=\"_parent\"><img src=\"https://colab.research.google.com/assets/colab-badge.svg\" alt=\"Open In Colab\"/></a>"
      ]
    },
    {
      "cell_type": "code",
      "metadata": {
        "colab": {
          "base_uri": "https://localhost:8080/"
        },
        "id": "uaeIrmEl47Zu",
        "outputId": "5138e14e-ba00-452b-d7b8-ee998b1383c7"
      },
      "source": [
        "## Mount Google Drive Data (If using Google Colaboratory)\n",
        "try:\n",
        "    from google.colab import drive\n",
        "    drive.mount('/content/gdrive', force_remount=True)\n",
        "except:\n",
        "    print(\"Mounting Failed.\")"
      ],
      "execution_count": 8,
      "outputs": [
        {
          "output_type": "stream",
          "text": [
            "Mounted at /content/gdrive\n"
          ],
          "name": "stdout"
        }
      ]
    },
    {
      "cell_type": "code",
      "metadata": {
        "id": "lFBxxrDl5IAD"
      },
      "source": [
        "data_dir = \"/content/gdrive/MyDrive/rgb_video_data\""
      ],
      "execution_count": 1,
      "outputs": []
    },
    {
      "cell_type": "code",
      "metadata": {
        "colab": {
          "base_uri": "https://localhost:8080/",
          "height": 305
        },
        "id": "GU0-4AKI2E5Z",
        "outputId": "5c3c54f6-26ab-4bf5-ec5e-c6fdd6327f1a"
      },
      "source": [
        "import numpy as np\n",
        "import matplotlib.pyplot as plt\n",
        "import torch\n",
        "from torch.utils.data import Dataset, DataLoader\n",
        "import os\n",
        "import pickle\n",
        "import torch\n",
        "import torch.nn as nn\n",
        "import matplotlib.pyplot as plt\n",
        "import torchvision.transforms as transforms\n",
        "from torchvision.models import resnet101\n",
        "import random\n",
        "import torch.nn.functional as F\n",
        "import time\n",
        "subjects = ['S01', 'S02', 'S03', 'S04', 'S05','S06', 'S07', 'S08', 'S09', 'S10', 'S11', 'S12']\n",
        "actions = ['A01', 'A02', 'A03', 'A04', 'A05','A06', 'A07', 'A08', 'A09', 'A10', 'A11']\n",
        "reps = ['R01', 'R02', 'R03', 'R04', 'R05']\n",
        "\n",
        "class BerkeleyMHAD(Dataset):\n",
        "\n",
        "    def __init__(self, vid_names, root_dir, classes, transform=None):\n",
        "        self.vid_names = vid_names # list of file names for videos (ex. S01_A01_R01)\n",
        "        self.root_dir = root_dir # directory where videos are stored\n",
        "        self.transform = transform\n",
        "        self.classes = classes\n",
        "        \n",
        "    def __len__(self):\n",
        "        return len(self.vid_names)\n",
        "\n",
        "    def __getitem__(self, idx):\n",
        "        if torch.is_tensor(idx):\n",
        "            idx = idx.tolist()\n",
        "\n",
        "        path = os.path.join(self.root_dir, self.vid_names[idx])\n",
        "        x = np.load(path)['x']\n",
        "        \n",
        "        data = []\n",
        "        if self.transform:\n",
        "            for i in range(x.shape[0]):\n",
        "                data.append(self.transform(x[i]))\n",
        "        \n",
        "        vid_tensor = torch.stack(data)\n",
        "        label = self.classes.index(np.load(path)['y']) \n",
        "        sample = {'x': vid_tensor, 'y': label}\n",
        "\n",
        "        return sample\n",
        "\n",
        "class cnn_block(nn.Module):\n",
        "    def __init__(self):\n",
        "        super(cnn_block, self).__init__()\n",
        "        self.conv1 = nn.Conv2d(3, 16, 3)\n",
        "        self.conv2 = nn.Conv2d(16, 32, 3)\n",
        "        self.conv3 = nn.Conv2d(32, 64, 3)\n",
        "        self.conv4 = nn.Conv2d(64, 100, 3)\n",
        "        self.pool1 = nn.MaxPool2d(3)\n",
        "\n",
        "        self._initialize_weights()\n",
        "\n",
        "    def forward(self, x):\n",
        "        batch = x.shape[0]\n",
        "        x1 = self.pool1(F.relu(self.conv1(x)))\n",
        "        x1 = self.pool1(F.relu(self.conv2(x1)))\n",
        "        x1 = self.pool1(F.relu(self.conv3(x1)))\n",
        "        x1 = F.relu(self.conv4(x1))\n",
        "        x1 = x1.reshape(batch, -1).unsqueeze(0)\n",
        "\n",
        "        return x1\n",
        "\n",
        "    def _initialize_weights(self):\n",
        "        for m in self.modules():\n",
        "            if isinstance(m, nn.Conv2d):\n",
        "                nn.init.kaiming_normal_(m.weight, mode='fan_out',\n",
        "                                        nonlinearity='relu')\n",
        "                if m.bias is not None:\n",
        "                    nn.init.constant_(m.bias, 0)\n",
        "            elif isinstance(m, nn.Linear):\n",
        "                nn.init.kaiming_normal_(m.weight, mode='fan_out',\n",
        "                                        nonlinearity='relu')\n",
        "                nn.init.constant_(m.bias, 0) \n",
        "\n",
        "class lstm_block(nn.Module):\n",
        "    def __init__(self, classes):\n",
        "        super(lstm_block, self).__init__()\n",
        "        self.n_hidden = 128\n",
        "        self.grucell_1 = torch.nn.GRUCell(input_size = 1500,\n",
        "                                            hidden_size = self.n_hidden)\n",
        "        self.fc2 = nn.Linear(128, 64)\n",
        "        self.fc3 = nn.Linear(64, classes)\n",
        "\n",
        "        self._initialize_weights()\n",
        "\n",
        "    def forward(self, x):\n",
        "        h1 = torch.zeros(1, self.n_hidden).to(dev)\n",
        "        output = []\n",
        "        h1s = []\n",
        "        \n",
        "        x = x.permute(1,0,2)\n",
        "        h1.requires_grad=True\n",
        "        h1.retain_grad()\n",
        "        for i in range(x.size()[0]):\n",
        "            h1 = self.grucell_1(x[i], h1)\n",
        "            h1.retain_grad()\n",
        "            output.append(h1)\n",
        "\n",
        "        lstm_out = torch.stack(output, dim=0)\n",
        "\n",
        "        lstm_out.retain_grad()\n",
        "        out = lstm_out[-1,:,:]\n",
        "        out = F.relu(self.fc2(out.squeeze()))\n",
        "        out = self.fc3(out)\n",
        "\n",
        "        return out, lstm_out\n",
        "\n",
        "    def get_states(self, x):\n",
        "        h1 = torch.zeros(1, self.n_hidden).to(dev)\n",
        "        h1s = []\n",
        "        x = x.permute(1,0,2)\n",
        "        for i in range(x.size()[0]):\n",
        "            h1s.append(h1)\n",
        "            h1 = self.grucell_1(x[i], h1)\n",
        "            \n",
        "        hidden_states = torch.stack(h1s, dim=0)\n",
        "        hidden_states.retain_grad()\n",
        "\n",
        "        return hidden_states\n",
        "\n",
        "    def _initialize_weights(self):\n",
        "        for m in self.modules():\n",
        "            if isinstance(m, nn.Conv2d):\n",
        "                nn.init.kaiming_normal_(m.weight, mode='fan_out',\n",
        "                                        nonlinearity='relu')\n",
        "                if m.bias is not None:\n",
        "                    nn.init.constant_(m.bias, 0)\n",
        "            elif isinstance(m, nn.Linear):\n",
        "                nn.init.kaiming_normal_(m.weight, mode='fan_out',\n",
        "                                        nonlinearity='relu')\n",
        "                nn.init.constant_(m.bias, 0)  \n",
        "\n",
        "\n",
        "class cnn_lstm(nn.Module):\n",
        "    def __init__(self, classes):\n",
        "        super(cnn_lstm, self).__init__()\n",
        "        self.cnn_block = cnn_block()\n",
        "        self.lstm_block = lstm_block(classes)\n",
        "\n",
        "    def forward(self, x):\n",
        "        x1 = self.cnn_block(x)\n",
        "        out, lstm_out = self.lstm_block(x1)\n",
        "\n",
        "        return out, lstm_out\n",
        "\n",
        "\n",
        "def check(i):\n",
        "    #insert more i.find terms for each action\n",
        "    return i.find('A01') != -1 or i.find('A02') != -1 or i.find('A05') != -1 or i.find('A07') != -1 \n",
        "vid_names = [i for i in next(os.walk(data_dir))[2] if check(i)]\n",
        "\n",
        "#vid_names = os.listdir(data_dir)\n",
        "train_vid_names = [i for i in vid_names if i.find('S09') == -1 and i.find('S10') == -1 and i.find('S11') == -1 and i.find('S12') == -1]\n",
        "valid_vid_names = [i for i in vid_names if i.find('S09') != -1 ]\n",
        "test_vid_names = [i for i in vid_names if i.find('S10') != -1 or i.find('S11') != -1 or i.find('S12') != -1]\n",
        "\n",
        "#data shape is (num_pics, height, width, channel)\n",
        "Normalize = transforms.Normalize(mean=[0.485, 0.456, 0.406],\n",
        "                                 std=[0.229, 0.224, 0.225])\n",
        "train_dataset = BerkeleyMHAD(train_vid_names, data_dir, classes = [0, 1, 4, 6], transform=transforms.Compose([transforms.ToTensor(), Normalize]))\n",
        "valid_dataset = BerkeleyMHAD(valid_vid_names, data_dir, classes = [0, 1, 4, 6], transform=transforms.Compose([transforms.ToTensor(), Normalize]))\n",
        "test_dataset = BerkeleyMHAD(test_vid_names, data_dir, classes = [0, 1, 4, 6], transform=transforms.Compose([transforms.ToTensor(), Normalize]))\n",
        "plt.imshow(np.transpose(train_dataset[0]['x'][0]))\n",
        "print(train_dataset[0]['x'].shape)\n",
        "\n",
        "batch_size = 1\n",
        "\n",
        "dev = torch.device(\"cuda:0\" if torch.cuda.is_available() else \"cpu\")\n",
        "#change 2 to number of classes"
      ],
      "execution_count": 2,
      "outputs": [
        {
          "output_type": "stream",
          "text": [
            "Clipping input data to the valid range for imshow with RGB data ([0..1] for floats or [0..255] for integers).\n"
          ],
          "name": "stderr"
        },
        {
          "output_type": "stream",
          "text": [
            "torch.Size([126, 3, 240, 180])\n"
          ],
          "name": "stdout"
        },
        {
          "output_type": "display_data",
          "data": {
            "image/png": "[encoded data removed]",
            "text/plain": [
              "<Figure size 432x288 with 1 Axes>"
            ]
          },
          "metadata": {
            "tags": [],
            "needs_background": "light"
          }
        }
      ]
    },
    {
      "cell_type": "code",
      "metadata": {
        "id": "1J_1SIW4PKTy"
      },
      "source": [
        "train_dataloader = DataLoader(train_dataset, batch_size=1, shuffle=True)\n",
        "valid_dataloader = DataLoader(valid_dataset, batch_size=1, shuffle=True)\n",
        "test_dataloader = DataLoader(test_dataset, batch_size=1, shuffle=True)"
      ],
      "execution_count": 3,
      "outputs": []
    },
    {
      "cell_type": "code",
      "metadata": {
        "id": "8RA1GWKl2E5c"
      },
      "source": [
        "#no need to train\n",
        "'''model = cnn_lstm(4).to(dev)\n",
        "model.load_state_dict(torch.load('/content/gdrive/MyDrive/lstm_checkpoints/gru_best_state_dict_unrolled_1_layer.pt'))\n",
        "\n",
        "optimizer = torch.optim.Adam(model.parameters(), lr=1e-4)\n",
        "criterion = nn.CrossEntropyLoss()\n",
        "epoch = 10\n",
        "#train\n",
        "shuffled = np.arange(len(train_dataset))\n",
        "\n",
        "train_losses = []\n",
        "val_losses = []\n",
        "tcorrect = 0\n",
        "ttotal = 0\n",
        "\n",
        "for t in range(epoch):\n",
        "    train_loss = 0\n",
        "    valid_loss = 0\n",
        "    tguess = []\n",
        "    tanswers = []\n",
        "    tcorrect = 0\n",
        "    ttotal = 0\n",
        "    random.shuffle(shuffled)\n",
        "\n",
        "    model.train()\n",
        "\n",
        "    for i in range(len(train_dataset)):\n",
        "        optimizer.zero_grad()\n",
        "\n",
        "        data = train_dataset[shuffled[i]]\n",
        "        inpt = data['x'].to(dev)\n",
        "        label = torch.tensor(data['y']).unsqueeze(0).to(dev)\n",
        "        output = model(inpt)[0].unsqueeze(0)\n",
        "        loss = criterion(output, label)\n",
        "        loss.backward()\n",
        "        optimizer.step()  \n",
        "        train_loss += loss.item()\n",
        "        \n",
        "        if torch.argmax(output.squeeze()) == label:\n",
        "            tcorrect += 1\n",
        "        ttotal += 1\n",
        "    \n",
        "    torch.cuda.empty_cache()   \n",
        "    model.eval()\n",
        "    for i in range(len(valid_dataset)):\n",
        "        data = valid_dataset[i]\n",
        "        inpt = data['x'].to(dev)\n",
        "        label = torch.tensor(data['y']).unsqueeze(0).to(dev)\n",
        "        output = model(inpt)[0].unsqueeze(0)\n",
        "        loss = criterion(output, label)\n",
        "        valid_loss += loss.item()\n",
        "    print(\"epoch:\", valid_loss / len(valid_dataset), train_loss / len(train_dataset))\n",
        "    train_losses.append(train_loss / len(train_dataset))\n",
        "    val_losses.append(valid_loss / len(valid_dataset))\n",
        "    if valid_loss / len(valid_dataset) <= min(val_losses):\n",
        "        torch.save(model.state_dict(), '/content/gdrive/MyDrive/lstm_checkpoints/gru_best_state_dict_unrolled_1_layer.pt')'''\n",
        "    \n"
      ],
      "execution_count": null,
      "outputs": []
    },
    {
      "cell_type": "code",
      "metadata": {
        "colab": {
          "base_uri": "https://localhost:8080/"
        },
        "id": "KALkYqUn2E5d",
        "outputId": "ecc033ac-fd13-4f1b-85e1-36c9b6b7886a"
      },
      "source": [
        "model = cnn_lstm(4).to(dev)\n",
        "model.load_state_dict(torch.load('/content/gdrive/MyDrive/gru_best_state_dict_unrolled_1_layer.pt'))\n",
        "\n",
        "correct = 0\n",
        "total = 0\n",
        "model.eval()\n",
        "#with torch.no_grad():\n",
        "for i in range(len(test_dataset)):\n",
        "    data = test_dataset[i]\n",
        "    inpt = data['x'].to(dev)\n",
        "    label = torch.tensor(data['y']).to(dev)\n",
        "    output2 = model(inpt)\n",
        "    if torch.argmax(output2[0].squeeze()) == label:\n",
        "        correct += 1\n",
        "    total += 1\n",
        "\n",
        "print(\"test accuracy = \" + str(correct / total))\n"
      ],
      "execution_count": 4,
      "outputs": [
        {
          "output_type": "stream",
          "text": [
            "test accuracy = 0.9215686274509803\n"
          ],
          "name": "stdout"
        }
      ]
    },
    {
      "cell_type": "code",
      "metadata": {
        "id": "aWeLiJLm_V5V"
      },
      "source": [
        "from torch.autograd import Variable\n",
        "class GradientAttack():\n",
        "        \n",
        "        \"\"\"\n",
        "        \n",
        "        \"\"\"\n",
        "        \n",
        "        def __init__(self, loss, epsilon):\n",
        "            \"\"\"\n",
        "            \n",
        "            \"\"\"\n",
        "            self.loss = loss\n",
        "            self.epsilon = epsilon\n",
        "\n",
        "        def forward(self, x, y, model, num_iter=1, alpha=0.01):\n",
        "            \"\"\"\n",
        "            \n",
        "            \"\"\"\n",
        "            y = torch.Tensor([y]).cuda()\n",
        "            model.train()\n",
        "            x = model.cnn_block(x)\n",
        "            x_adv = x.clone().detach()\n",
        "\n",
        "            torch.manual_seed(0)\n",
        "            x_adv = x_adv + torch.empty_like(x_adv).uniform_(-self.epsilon, self.epsilon)\n",
        "            #x_adv = torch.clamp(x_adv, min=0, max=1).detach()\n",
        "            if num_iter == 1:\n",
        "              alpha = self.epsilon\n",
        "            for iteration in range(num_iter):\n",
        "                x_adv = x_adv.cuda()\n",
        "                x_adv = Variable(x_adv, requires_grad=True)\n",
        "                # Step 1: Calculate the Loss and then calculate the\n",
        "                # gradient of the Loss w.r.t the image\n",
        "                out = model.lstm_block(x_adv)\n",
        "                loss_adv = self.loss(out[0].unsqueeze(0), y.long())\n",
        "                loss_adv.backward(retain_graph=True) \n",
        "\n",
        "                with torch.no_grad():\n",
        "                    # Step 2: Add the gradient (or its sign for each pixel),\n",
        "                    # multiplied by a small step size, to the original image                   \n",
        "                    # You might need to clamp the modified image to \n",
        "                    # make sure the values of each pixel are between [0,1]    \n",
        "                    #if num_iter > 1:                                                           \n",
        "                    x_temp = x_adv + torch.sign(x_adv.grad) * alpha\n",
        "                    #x_temp = x_adv + x_adv.grad * alpha\n",
        "                        \n",
        "                    # Clamp the attack to be within such that the maximum difference is epsilon\n",
        "                    delta = torch.clamp(x_temp - x, -self.epsilon, self.epsilon)\n",
        "                    x_adv = x + delta\n",
        " \n",
        "                    #else:\n",
        "                        #x_adv = x + torch.sign(x_adv.grad) * self.epsilon\n",
        "                    \n",
        "            #x_adv = torch.clamp(x_adv, 0, 1)\n",
        "            return x_adv"
      ],
      "execution_count": 5,
      "outputs": []
    },
    {
      "cell_type": "code",
      "metadata": {
        "id": "E7AGf7KgM9yO"
      },
      "source": [
        "class HAttack():\n",
        "        \n",
        "        \"\"\"\n",
        "        \n",
        "        \"\"\"\n",
        "        \n",
        "        def __init__(self, loss, epsilon):\n",
        "            \"\"\"\n",
        "            \n",
        "            \"\"\"\n",
        "            self.loss = loss\n",
        "            self.epsilon = epsilon\n",
        "\n",
        "\n",
        "        def to_the_moon(self, x, y, model, num_iter=1, pmp_iter = 1, alpha=0.01):\n",
        "            \"\"\"\n",
        "            forward with saved iterations\n",
        "            \"\"\"\n",
        "            y = torch.Tensor([y]).cuda()\n",
        "            model.train()\n",
        "            torch.manual_seed(0)\n",
        "            delta = torch.empty_like(x_adv).uniform_(-self.epsilon, self.epsilon)\n",
        "            delta.requires_grad = True        \n",
        "            for iteration in range(num_iter):\n",
        "                x_adv = x_adv.cuda()\n",
        "                \n",
        "                out = model.lstm_block(x_adv + delta)\n",
        "                loss_adv = self.loss(out[0].unsqueeze(0), y.long())\n",
        "                loss_adv.backward(retain_graph=True) \n",
        "\n",
        "                hidden_states = out[1] \n",
        "                p = hidden_states.grad[:,0,:].clone().detach()\n",
        "\n",
        "                hidden_states = model.lstm_block.get_states(x_adv + delta)\n",
        "\n",
        "                for i in range(pmp_iter): \n",
        "                    f = model.lstm_block.grucell_1((x_adv + delta).squeeze(), hidden_states.squeeze()).unsqueeze(1)\n",
        "                    objective = torch.sum(p * f.squeeze(), axis=1).to(dev)\n",
        "                    grad = torch.autograd.grad(objective, delta, torch.ones(x_adv.shape[1]).to(dev), retain_graph=True, create_graph=False)[0]\n",
        "\n",
        "                    delta = delta + alpha * torch.sign(grad)\n",
        "                    delta = torch.clamp(delta, -self.epsilon, self.epsilon)\n",
        "\n",
        "            #x_adv = torch.clamp(x_adv, 0, 1)\n",
        "            x_adv = x + delta\n",
        "            return x_adv\n",
        "\n",
        "        def forward(self, x, y, model, num_iter=1, pmp_iter = 1, alpha=0.01, cnn=False):\n",
        "            \"\"\"\n",
        "            \n",
        "            \"\"\"       \n",
        "            \n",
        "            y = torch.Tensor([y]).cuda()\n",
        "            model.train()\n",
        "            if cnn:\n",
        "              x = model.cnn_block(x)\n",
        "            x_adv = x.clone().detach()\n",
        "\n",
        "            torch.manual_seed(0)\n",
        "            delta = torch.empty_like(x_adv).uniform_(-self.epsilon, self.epsilon)\n",
        "            delta.requires_grad = True\n",
        "\n",
        "            for iteration in range(num_iter):\n",
        "                x_adv = x_adv.cuda()\n",
        "                \n",
        "                out = model.lstm_block(x_adv + delta)\n",
        "                loss_adv = self.loss(out[0].unsqueeze(0), y.long())\n",
        "                loss_adv.backward(retain_graph=True) \n",
        "\n",
        "                hidden_states = out[1] \n",
        "                p = hidden_states.grad[:,0,:].clone().detach()\n",
        "\n",
        "                hidden_states = model.lstm_block.get_states(x_adv + delta)\n",
        "\n",
        "                for i in range(pmp_iter): \n",
        "                    f = model.lstm_block.grucell_1((x_adv + delta).squeeze(), hidden_states.squeeze()).unsqueeze(1)\n",
        "                    objective = torch.sum(p * f.squeeze(), axis=1).to(dev)\n",
        "                    grad = torch.autograd.grad(objective, delta, torch.ones(x_adv.shape[1]).to(dev), retain_graph=True, create_graph=False)[0]\n",
        "\n",
        "                    delta = delta + alpha * torch.sign(grad)\n",
        "                    delta = torch.clamp(delta, -self.epsilon, self.epsilon)\n",
        "\n",
        "            #x_adv = torch.clamp(x_adv, 0, 1)\n",
        "            x_adv = x + delta\n",
        "            return x_adv"
      ],
      "execution_count": 6,
      "outputs": []
    },
    {
      "cell_type": "code",
      "metadata": {
        "id": "bs6uOIFb_hVo",
        "colab": {
          "base_uri": "https://localhost:8080/",
          "height": 352
        },
        "outputId": "e5e62ac6-a0f2-40a2-990b-0359672c6915"
      },
      "source": [
        "model = cnn_lstm(4).to(dev)\n",
        "model.load_state_dict(torch.load('/content/gdrive/MyDrive/lstm_checkpoints/gru_best_state_dict_unrolled_1_layer.pt'))\n",
        "loss_func = nn.CrossEntropyLoss()   "
      ],
      "execution_count": 7,
      "outputs": [
        {
          "output_type": "error",
          "ename": "FileNotFoundError",
          "evalue": "ignored",
          "traceback": [
            "\u001b[0;31m---------------------------------------------------------------------------\u001b[0m",
            "\u001b[0;31mFileNotFoundError\u001b[0m                         Traceback (most recent call last)",
            "\u001b[0;32m<ipython-input-7-5ad5b786970d>\u001b[0m in \u001b[0;36m<module>\u001b[0;34m()\u001b[0m\n\u001b[1;32m      1\u001b[0m \u001b[0mmodel\u001b[0m \u001b[0;34m=\u001b[0m \u001b[0mcnn_lstm\u001b[0m\u001b[0;34m(\u001b[0m\u001b[0;36m4\u001b[0m\u001b[0;34m)\u001b[0m\u001b[0;34m.\u001b[0m\u001b[0mto\u001b[0m\u001b[0;34m(\u001b[0m\u001b[0mdev\u001b[0m\u001b[0;34m)\u001b[0m\u001b[0;34m\u001b[0m\u001b[0;34m\u001b[0m\u001b[0m\n\u001b[0;32m----> 2\u001b[0;31m \u001b[0mmodel\u001b[0m\u001b[0;34m.\u001b[0m\u001b[0mload_state_dict\u001b[0m\u001b[0;34m(\u001b[0m\u001b[0mtorch\u001b[0m\u001b[0;34m.\u001b[0m\u001b[0mload\u001b[0m\u001b[0;34m(\u001b[0m\u001b[0;34m'/content/gdrive/MyDrive/lstm_checkpoints/gru_best_state_dict_unrolled_1_layer.pt'\u001b[0m\u001b[0;34m)\u001b[0m\u001b[0;34m)\u001b[0m\u001b[0;34m\u001b[0m\u001b[0;34m\u001b[0m\u001b[0m\n\u001b[0m\u001b[1;32m      3\u001b[0m \u001b[0mloss_func\u001b[0m \u001b[0;34m=\u001b[0m \u001b[0mnn\u001b[0m\u001b[0;34m.\u001b[0m\u001b[0mCrossEntropyLoss\u001b[0m\u001b[0;34m(\u001b[0m\u001b[0;34m)\u001b[0m\u001b[0;34m\u001b[0m\u001b[0;34m\u001b[0m\u001b[0m\n",
            "\u001b[0;32m/usr/local/lib/python3.7/dist-packages/torch/serialization.py\u001b[0m in \u001b[0;36mload\u001b[0;34m(f, map_location, pickle_module, **pickle_load_args)\u001b[0m\n\u001b[1;32m    577\u001b[0m         \u001b[0mpickle_load_args\u001b[0m\u001b[0;34m[\u001b[0m\u001b[0;34m'encoding'\u001b[0m\u001b[0;34m]\u001b[0m \u001b[0;34m=\u001b[0m \u001b[0;34m'utf-8'\u001b[0m\u001b[0;34m\u001b[0m\u001b[0;34m\u001b[0m\u001b[0m\n\u001b[1;32m    578\u001b[0m \u001b[0;34m\u001b[0m\u001b[0m\n\u001b[0;32m--> 579\u001b[0;31m     \u001b[0;32mwith\u001b[0m \u001b[0m_open_file_like\u001b[0m\u001b[0;34m(\u001b[0m\u001b[0mf\u001b[0m\u001b[0;34m,\u001b[0m \u001b[0;34m'rb'\u001b[0m\u001b[0;34m)\u001b[0m \u001b[0;32mas\u001b[0m \u001b[0mopened_file\u001b[0m\u001b[0;34m:\u001b[0m\u001b[0;34m\u001b[0m\u001b[0;34m\u001b[0m\u001b[0m\n\u001b[0m\u001b[1;32m    580\u001b[0m         \u001b[0;32mif\u001b[0m \u001b[0m_is_zipfile\u001b[0m\u001b[0;34m(\u001b[0m\u001b[0mopened_file\u001b[0m\u001b[0;34m)\u001b[0m\u001b[0;34m:\u001b[0m\u001b[0;34m\u001b[0m\u001b[0;34m\u001b[0m\u001b[0m\n\u001b[1;32m    581\u001b[0m             \u001b[0;31m# The zipfile reader is going to advance the current file position.\u001b[0m\u001b[0;34m\u001b[0m\u001b[0;34m\u001b[0m\u001b[0;34m\u001b[0m\u001b[0m\n",
            "\u001b[0;32m/usr/local/lib/python3.7/dist-packages/torch/serialization.py\u001b[0m in \u001b[0;36m_open_file_like\u001b[0;34m(name_or_buffer, mode)\u001b[0m\n\u001b[1;32m    228\u001b[0m \u001b[0;32mdef\u001b[0m \u001b[0m_open_file_like\u001b[0m\u001b[0;34m(\u001b[0m\u001b[0mname_or_buffer\u001b[0m\u001b[0;34m,\u001b[0m \u001b[0mmode\u001b[0m\u001b[0;34m)\u001b[0m\u001b[0;34m:\u001b[0m\u001b[0;34m\u001b[0m\u001b[0;34m\u001b[0m\u001b[0m\n\u001b[1;32m    229\u001b[0m     \u001b[0;32mif\u001b[0m \u001b[0m_is_path\u001b[0m\u001b[0;34m(\u001b[0m\u001b[0mname_or_buffer\u001b[0m\u001b[0;34m)\u001b[0m\u001b[0;34m:\u001b[0m\u001b[0;34m\u001b[0m\u001b[0;34m\u001b[0m\u001b[0m\n\u001b[0;32m--> 230\u001b[0;31m         \u001b[0;32mreturn\u001b[0m \u001b[0m_open_file\u001b[0m\u001b[0;34m(\u001b[0m\u001b[0mname_or_buffer\u001b[0m\u001b[0;34m,\u001b[0m \u001b[0mmode\u001b[0m\u001b[0;34m)\u001b[0m\u001b[0;34m\u001b[0m\u001b[0;34m\u001b[0m\u001b[0m\n\u001b[0m\u001b[1;32m    231\u001b[0m     \u001b[0;32melse\u001b[0m\u001b[0;34m:\u001b[0m\u001b[0;34m\u001b[0m\u001b[0;34m\u001b[0m\u001b[0m\n\u001b[1;32m    232\u001b[0m         \u001b[0;32mif\u001b[0m \u001b[0;34m'w'\u001b[0m \u001b[0;32min\u001b[0m \u001b[0mmode\u001b[0m\u001b[0;34m:\u001b[0m\u001b[0;34m\u001b[0m\u001b[0;34m\u001b[0m\u001b[0m\n",
            "\u001b[0;32m/usr/local/lib/python3.7/dist-packages/torch/serialization.py\u001b[0m in \u001b[0;36m__init__\u001b[0;34m(self, name, mode)\u001b[0m\n\u001b[1;32m    209\u001b[0m \u001b[0;32mclass\u001b[0m \u001b[0m_open_file\u001b[0m\u001b[0;34m(\u001b[0m\u001b[0m_opener\u001b[0m\u001b[0;34m)\u001b[0m\u001b[0;34m:\u001b[0m\u001b[0;34m\u001b[0m\u001b[0;34m\u001b[0m\u001b[0m\n\u001b[1;32m    210\u001b[0m     \u001b[0;32mdef\u001b[0m \u001b[0m__init__\u001b[0m\u001b[0;34m(\u001b[0m\u001b[0mself\u001b[0m\u001b[0;34m,\u001b[0m \u001b[0mname\u001b[0m\u001b[0;34m,\u001b[0m \u001b[0mmode\u001b[0m\u001b[0;34m)\u001b[0m\u001b[0;34m:\u001b[0m\u001b[0;34m\u001b[0m\u001b[0;34m\u001b[0m\u001b[0m\n\u001b[0;32m--> 211\u001b[0;31m         \u001b[0msuper\u001b[0m\u001b[0;34m(\u001b[0m\u001b[0m_open_file\u001b[0m\u001b[0;34m,\u001b[0m \u001b[0mself\u001b[0m\u001b[0;34m)\u001b[0m\u001b[0;34m.\u001b[0m\u001b[0m__init__\u001b[0m\u001b[0;34m(\u001b[0m\u001b[0mopen\u001b[0m\u001b[0;34m(\u001b[0m\u001b[0mname\u001b[0m\u001b[0;34m,\u001b[0m \u001b[0mmode\u001b[0m\u001b[0;34m)\u001b[0m\u001b[0;34m)\u001b[0m\u001b[0;34m\u001b[0m\u001b[0;34m\u001b[0m\u001b[0m\n\u001b[0m\u001b[1;32m    212\u001b[0m \u001b[0;34m\u001b[0m\u001b[0m\n\u001b[1;32m    213\u001b[0m     \u001b[0;32mdef\u001b[0m \u001b[0m__exit__\u001b[0m\u001b[0;34m(\u001b[0m\u001b[0mself\u001b[0m\u001b[0;34m,\u001b[0m \u001b[0;34m*\u001b[0m\u001b[0margs\u001b[0m\u001b[0;34m)\u001b[0m\u001b[0;34m:\u001b[0m\u001b[0;34m\u001b[0m\u001b[0;34m\u001b[0m\u001b[0m\n",
            "\u001b[0;31mFileNotFoundError\u001b[0m: [Errno 2] No such file or directory: '/content/gdrive/MyDrive/lstm_checkpoints/gru_best_state_dict_unrolled_1_layer.pt'"
          ]
        }
      ]
    },
    {
      "cell_type": "code",
      "metadata": {
        "id": "8Ju3XuRyVDiI"
      },
      "source": [
        "'''loss_func = nn.CrossEntropyLoss()   \n",
        "data = train_dataset[0]\n",
        "torch.cuda.empty_cache()   \n",
        "input = data['x'].to(dev)\n",
        "label = torch.tensor(data['y']).unsqueeze(0).to(dev)\n",
        "input.requires_grad = True\n",
        "adv_attack = HAttack(loss, 0.1)    \n",
        "input = adv_attack.forward(input, label, model, alpha=1, num_iter=1)'''"
      ],
      "execution_count": null,
      "outputs": []
    },
    {
      "cell_type": "markdown",
      "metadata": {
        "id": "ww5ou3F6cDcr"
      },
      "source": [
        "## Results for Fast Gradient Sign Method"
      ]
    },
    {
      "cell_type": "code",
      "metadata": {
        "colab": {
          "base_uri": "https://localhost:8080/"
        },
        "id": "Fpm3xOJLeQSW",
        "outputId": "4213eb1f-8595-4766-9b17-813511d9aebf"
      },
      "source": [
        "epsilon_range = np.arange(0, 1, 0.1)\n",
        "accs = []\n",
        "losses = []\n",
        "loss_func = nn.CrossEntropyLoss()\n",
        "\n",
        "for epsilon in epsilon_range:\n",
        "  accurates = 0\n",
        "  adv_attack = GradientAttack(loss_func, epsilon)\n",
        "  loss_val = 0\n",
        "  for data in test_dataloader:\n",
        "    torch.cuda.empty_cache()   \n",
        "    input = data['x'][0].to(dev)\n",
        "    label = torch.tensor(data['y']).unsqueeze(0).to(dev)\n",
        "    input.requires_grad = True\n",
        "    input = adv_attack.forward(input, label, model, num_iter=1)\n",
        "    model.eval()\n",
        "    out = model.lstm_block(input)\n",
        "    if torch.argmax(out[0]).item() == label:\n",
        "      accurates += 1\n",
        "    loss_val += loss_func(out[0].unsqueeze(0), label.squeeze().unsqueeze(0).long()).item()\n",
        "    \n",
        "  losses.append(loss_val / len(test_dataloader))\n",
        "  print(loss_val / len(test_dataloader))\n",
        "\n",
        "  accs.append(accurates / len(test_dataloader))\n",
        "\n",
        "with open(\"/content/gdrive/MyDrive/fgsm_loss_vs_epsi.txt\", \"wb\") as fp:   #Pickling\n",
        "  pickle.dump(losses, fp)\n",
        "with open(\"/content/gdrive/MyDrive/fgsm_acc_vs_epsi.txt\", \"wb\") as fp:   #Pickling\n",
        "  pickle.dump(accs, fp)"
      ],
      "execution_count": 29,
      "outputs": [
        {
          "output_type": "stream",
          "text": [
            "/usr/local/lib/python3.7/dist-packages/ipykernel_launcher.py:13: UserWarning: To copy construct from a tensor, it is recommended to use sourceTensor.clone().detach() or sourceTensor.clone().detach().requires_grad_(True), rather than torch.tensor(sourceTensor).\n",
            "  del sys.path[0]\n"
          ],
          "name": "stderr"
        },
        {
          "output_type": "stream",
          "text": [
            "0.20575022574128382\n",
            "22.38162738201665\n",
            "27.677979936786727\n",
            "29.155553929946002\n",
            "30.20377592946969\n",
            "30.893081665039062\n",
            "31.220451523275937\n",
            "31.344572160758226\n",
            "31.22472253967734\n",
            "31.650799356254876\n"
          ],
          "name": "stdout"
        }
      ]
    },
    {
      "cell_type": "code",
      "metadata": {
        "colab": {
          "base_uri": "https://localhost:8080/",
          "height": 591
        },
        "id": "6NWMfU1DfK26",
        "outputId": "7ac784ee-b310-4d5c-dd98-09ebf4a392ef"
      },
      "source": [
        "plt.plot(epsilon_range, accs)\n",
        "plt.title(\"Epsilon vs. Accuracy for FGSM\")\n",
        "plt.xlabel('Epsilon')\n",
        "plt.ylabel('Accuracy')\n",
        "plt.figure()\n",
        "plt.plot(epsilon_range, [-i for i in losses])\n",
        "plt.title(\"Epsilon vs. Loss for FGSM\")\n",
        "plt.xlabel('Epsilon')\n",
        "plt.ylabel('Loss')"
      ],
      "execution_count": 31,
      "outputs": [
        {
          "output_type": "execute_result",
          "data": {
            "text/plain": [
              "Text(0, 0.5, 'Loss')"
            ]
          },
          "metadata": {
            "tags": []
          },
          "execution_count": 31
        },
        {
          "output_type": "display_data",
          "data": {
            "image/png": "[encoded data removed]",
            "text/plain": [
              "<Figure size 432x288 with 1 Axes>"
            ]
          },
          "metadata": {
            "tags": [],
            "needs_background": "light"
          }
        },
        {
          "output_type": "display_data",
          "data": {
            "image/png": "[encoded data removed]",
            "text/plain": [
              "<Figure size 432x288 with 1 Axes>"
            ]
          },
          "metadata": {
            "tags": [],
            "needs_background": "light"
          }
        }
      ]
    },
    {
      "cell_type": "code",
      "metadata": {
        "colab": {
          "base_uri": "https://localhost:8080/"
        },
        "id": "xmgxpyBYOjCc",
        "outputId": "950a248b-ea99-45b2-b9be-d638e18adea9"
      },
      "source": [
        "accs"
      ],
      "execution_count": 20,
      "outputs": [
        {
          "output_type": "execute_result",
          "data": {
            "text/plain": [
              "[0.9215686274509803,\n",
              " 0.0,\n",
              " 0.0,\n",
              " 0.0,\n",
              " 0.0,\n",
              " 0.0,\n",
              " 0.0,\n",
              " 0.0,\n",
              " 0.0,\n",
              " 0.0196078431372549]"
            ]
          },
          "metadata": {
            "tags": []
          },
          "execution_count": 20
        }
      ]
    },
    {
      "cell_type": "markdown",
      "metadata": {
        "id": "4RsFOQaDzTWK"
      },
      "source": [
        "## Results for PMP and PGD"
      ]
    },
    {
      "cell_type": "code",
      "metadata": {
        "colab": {
          "base_uri": "https://localhost:8080/"
        },
        "id": "XqghgEylhgDu",
        "outputId": "7caed5d4-bae7-4967-c3fb-a5c6fcd49142"
      },
      "source": [
        "iteration_range = np.arange(0, 50, 2)\n",
        "losses = []\n",
        "loss_func = nn.CrossEntropyLoss()\n",
        "adv_attack = GradientAttack(loss_func, 0.1) \n",
        "\n",
        "for iteration in iteration_range:\n",
        "  loss_val = 0\n",
        "  for data in test_dataloader:\n",
        "    torch.cuda.empty_cache()   \n",
        "    input = data['x'][0].to(dev)\n",
        "    label = torch.tensor(data['y']).unsqueeze(0).to(dev)\n",
        "    input = adv_attack.forward(input, label, model, num_iter=iteration)\n",
        "    model.eval()\n",
        "    out = model.lstm_block(input)\n",
        "    loss_val += loss_func(out[0].unsqueeze(0), label.squeeze().unsqueeze(0).long()).item()\n",
        "    \n",
        "  losses.append(loss_val / len(test_dataloader))\n",
        "  print(loss_val / len(test_dataloader))\n",
        "\n",
        "with open(\"/content/gdrive/MyDrive/pgd_loss_vs_iter.txt\", \"wb\") as fp:   #Pickling\n",
        "  pickle.dump(losses, fp) "
      ],
      "execution_count": 22,
      "outputs": [
        {
          "output_type": "stream",
          "text": [
            "/usr/local/lib/python3.7/dist-packages/ipykernel_launcher.py:11: UserWarning: To copy construct from a tensor, it is recommended to use sourceTensor.clone().detach() or sourceTensor.clone().detach().requires_grad_(True), rather than torch.tensor(sourceTensor).\n",
            "  # This is added back by InteractiveShellApp.init_path()\n"
          ],
          "name": "stderr"
        },
        {
          "output_type": "stream",
          "text": [
            "0.22282284308868625\n",
            "8.599254495957318\n",
            "17.53493645611931\n",
            "24.666958640603458\n",
            "30.489852493884516\n",
            "35.36489602631214\n",
            "39.533982594807945\n",
            "42.9270294787837\n",
            "45.518556482651654\n",
            "47.52478154500326\n",
            "48.955764658310834\n",
            "50.01097331327551\n",
            "50.794347501268575\n",
            "51.409664004456765\n",
            "51.88273740282246\n",
            "52.27823152729109\n",
            "52.56445275101007\n",
            "52.88704486921722\n",
            "53.169510860069124\n",
            "53.389765496347465\n",
            "53.623431411443974\n",
            "53.870964499080884\n",
            "54.10911133710076\n",
            "54.325781803505095\n",
            "54.552167929855045\n"
          ],
          "name": "stdout"
        }
      ]
    },
    {
      "cell_type": "code",
      "metadata": {
        "colab": {
          "base_uri": "https://localhost:8080/"
        },
        "id": "vX333FkO3YyW",
        "outputId": "3e28fc50-d15f-459c-926f-618d6d3c5573"
      },
      "source": [
        "'''iteration_range = np.arange(0, 50, 2)\n",
        "losses = []\n",
        "loss_func = nn.CrossEntropyLoss()\n",
        "adv_attack = HAttack(loss, 0.1) \n",
        "for iteration in iteration_range:\n",
        "  loss_val = 0\n",
        "  for data in test_dataloader:\n",
        "    torch.cuda.empty_cache()   \n",
        "    input = data['x'][0].to(dev)\n",
        "    label = torch.tensor(data['y']).unsqueeze(0).to(dev)\n",
        "    input = adv_attack.forward(input, label, model, num_iter=iteration, pmp_iter=1)\n",
        "    \n",
        "    model.eval()\n",
        "    out = model.lstm_block(input)\n",
        "    loss_val += loss_func(out[0].unsqueeze(0), label.squeeze().unsqueeze(0).long()).item()\n",
        "    \n",
        "  losses.append(loss_val / len(test_dataloader))\n",
        "  print(loss_val / len(test_dataloader))\n",
        "with open(\"pgd_loss_vs_iter.txt\", \"wb\") as fp:   #Pickling\n",
        "  pickle.dump(losses, fp)'''"
      ],
      "execution_count": null,
      "outputs": [
        {
          "output_type": "stream",
          "text": [
            "/usr/local/lib/python3.7/dist-packages/ipykernel_launcher.py:11: UserWarning: To copy construct from a tensor, it is recommended to use sourceTensor.clone().detach() or sourceTensor.clone().detach().requires_grad_(True), rather than torch.tensor(sourceTensor).\n",
            "  # This is added back by InteractiveShellApp.init_path()\n"
          ],
          "name": "stderr"
        },
        {
          "output_type": "stream",
          "text": [
            "0.2559793517130482\n",
            "3.504762891241733\n",
            "8.848793219117557\n",
            "13.439042119418874\n",
            "17.587407916199925\n"
          ],
          "name": "stdout"
        }
      ]
    },
    {
      "cell_type": "code",
      "metadata": {
        "colab": {
          "base_uri": "https://localhost:8080/",
          "height": 168
        },
        "id": "hjo3Z6n4m5PF",
        "outputId": "4de66ad5-52dd-48ac-fb51-c80659cfe6c7"
      },
      "source": [
        "test_dataloader_saved = []"
      ],
      "execution_count": 43,
      "outputs": [
        {
          "output_type": "error",
          "ename": "TypeError",
          "evalue": "ignored",
          "traceback": [
            "\u001b[0;31m---------------------------------------------------------------------------\u001b[0m",
            "\u001b[0;31mTypeError\u001b[0m                                 Traceback (most recent call last)",
            "\u001b[0;32m<ipython-input-43-a2ab188bc95b>\u001b[0m in \u001b[0;36m<module>\u001b[0;34m()\u001b[0m\n\u001b[0;32m----> 1\u001b[0;31m \u001b[0mtrain_dataset\u001b[0m\u001b[0;34m[\u001b[0m\u001b[0;36m0\u001b[0m\u001b[0;34m]\u001b[0m \u001b[0;34m=\u001b[0m \u001b[0;36m1\u001b[0m\u001b[0;34m\u001b[0m\u001b[0;34m\u001b[0m\u001b[0m\n\u001b[0m",
            "\u001b[0;31mTypeError\u001b[0m: 'BerkeleyMHAD' object does not support item assignment"
          ]
        }
      ]
    },
    {
      "cell_type": "code",
      "metadata": {
        "id": "WfKR0J0jNCgc",
        "colab": {
          "base_uri": "https://localhost:8080/"
        },
        "outputId": "7cbb7ad0-2efc-4747-ee5e-57b5b2285ab0"
      },
      "source": [
        "iteration_range = np.arange(0, 50, 2)\n",
        "pmp_iteration_range = np.arange(1, 6, 1)\n",
        "loss_func = nn.CrossEntropyLoss()\n",
        "adv_attack2 = HAttack(loss_func, 0.1)\n",
        "\n",
        "with open(\"/content/gdrive/MyDrive/pgd_loss_vs_iter.txt\", \"rb\") as fp:   # Unpickling\n",
        "  pgd_losses = pickle.load(fp)\n",
        "\n",
        "for pmp_it in pmp_iteration_range:\n",
        "    losses = []\n",
        "    times = []\n",
        "    test_dataloader_saved = []\n",
        "    for iteration in iteration_range:\n",
        "        loss_val = 0\n",
        "        total_time = 0\n",
        "        print(iteration)\n",
        "        if iteration == 0:\n",
        "          for data in test_dataloader:\n",
        "              torch.cuda.empty_cache()   \n",
        "              input = data['x'][0].to(dev)\n",
        "              label = torch.tensor(data['y']).unsqueeze(0).to(dev)\n",
        "              start = time.time()\n",
        "              input = adv_attack2.forward(input, label, model, num_iter=0, pmp_iter=pmp_it, cnn=True)\n",
        "              end = time.time()\n",
        "              test_dataloader_saved.append((input.detach().cpu(), label.detach().cpu()))\n",
        "              model.eval()\n",
        "              out = model.lstm_block(input)\n",
        "              loss_val += loss_func(out[0].unsqueeze(0), label.squeeze().unsqueeze(0).long()).item()\n",
        "              total_time += end - start\n",
        "        else:\n",
        "          i = 0\n",
        "          for data in test_dataloader_saved:\n",
        "              torch.cuda.empty_cache()   \n",
        "              input = data[0].to(dev)\n",
        "              label = data[1].to(dev)\n",
        "              start = time.time()\n",
        "              input = adv_attack2.forward(input, label, model, num_iter=2, pmp_iter=pmp_it)\n",
        "              end = time.time()\n",
        "              test_dataloader_saved[i] = (input.detach().cpu(), label.detach().cpu())\n",
        "              model.eval()\n",
        "              out = model.lstm_block(input)\n",
        "              loss_val += loss_func(out[0].unsqueeze(0), label.squeeze().unsqueeze(0).long()).item()\n",
        "              total_time += end - start\n",
        "              i += 1\n",
        "        print(loss_val / len(test_dataloader))\n",
        "        losses.append(loss_val / len(test_dataloader))\n",
        "        times.append(total_time / len(test_dataloader))\n",
        "    plt.figure(figsize=(10,10))\n",
        "    plt.plot(iteration_range, [-i for i in pgd_losses], 'r-', label='PGD')\n",
        "    plt.plot(iteration_range, [-i for i in losses], 'b--', label='PMP-' + str(pmp_it))\n",
        "    plt.xlabel('Iteration')\n",
        "    plt.ylabel('Loss')\n",
        "    plt.legend()\n",
        "    plt.title(\"Iteration vs. Loss, Epsilon = .1\")\n",
        "    with open(\"/content/gdrive/MyDrive/pmp\" + str(pmp_it) + \"_loss_vs_iter.txt\", \"wb\") as fp:   #Pickling\n",
        "      pickle.dump(losses, fp)\n",
        "    with open(\"/content/gdrive/MyDrive/pmp\" + str(pmp_it) + \"_loss_vs_itertimes.txt\", \"wb\") as fp:   #Pickling\n",
        "      pickle.dump(times, fp)\n"
      ],
      "execution_count": null,
      "outputs": [
        {
          "output_type": "stream",
          "text": [
            "0\n"
          ],
          "name": "stdout"
        },
        {
          "output_type": "stream",
          "text": [
            "/usr/local/lib/python3.7/dist-packages/ipykernel_launcher.py:21: UserWarning: To copy construct from a tensor, it is recommended to use sourceTensor.clone().detach() or sourceTensor.clone().detach().requires_grad_(True), rather than torch.tensor(sourceTensor).\n"
          ],
          "name": "stderr"
        },
        {
          "output_type": "stream",
          "text": [
            "0.22282284308868625\n",
            "2\n",
            "8.73830693843318\n",
            "4\n",
            "18.434328658908022\n",
            "6\n",
            "26.907413707059973\n",
            "8\n",
            "34.61719535378849\n",
            "10\n",
            "41.24981364081888\n",
            "12\n",
            "46.825750874538045\n",
            "14\n",
            "51.673478930604226\n",
            "16\n"
          ],
          "name": "stdout"
        }
      ]
    },
    {
      "cell_type": "code",
      "metadata": {
        "colab": {
          "base_uri": "https://localhost:8080/"
        },
        "id": "YK6BFASqkjyG",
        "outputId": "962d794f-744b-4869-98df-dc8ff5d84e66"
      },
      "source": [
        "losses"
      ],
      "execution_count": 39,
      "outputs": [
        {
          "output_type": "execute_result",
          "data": {
            "text/plain": [
              "[0.22282284308868625,\n",
              " 8.599256083077075,\n",
              " 17.534938045576506,\n",
              " 24.666958304012525,\n",
              " 30.489853653253295,\n",
              " 35.36491513719746]"
            ]
          },
          "metadata": {
            "tags": []
          },
          "execution_count": 39
        }
      ]
    }
  ]
}