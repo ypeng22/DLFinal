{
  "nbformat": 4,
  "nbformat_minor": 0,
  "metadata": {
    "kernelspec": {
      "display_name": "Python 3",
      "language": "python",
      "name": "python3"
    },
    "language_info": {
      "codemirror_mode": {
        "name": "ipython",
        "version": 3
      },
      "file_extension": ".py",
      "mimetype": "text/x-python",
      "name": "python",
      "nbconvert_exporter": "python",
      "pygments_lexer": "ipython3",
      "version": "3.8.3"
    },
    "colab": {
      "name": "image-cnn-lstm.ipynb",
      "provenance": [],
      "collapsed_sections": [],
      "include_colab_link": true
    },
    "accelerator": "GPU"
  },
  "cells": [
    {
      "cell_type": "markdown",
      "metadata": {
        "id": "view-in-github",
        "colab_type": "text"
      },
      "source": [
        "<a href=\"https://colab.research.google.com/github/ypeng22/DLFinal/blob/main/image_cnn_lstm.ipynb\" target=\"_parent\"><img src=\"https://colab.research.google.com/assets/colab-badge.svg\" alt=\"Open In Colab\"/></a>"
      ]
    },
    {
      "cell_type": "code",
      "metadata": {
        "colab": {
          "base_uri": "https://localhost:8080/"
        },
        "id": "uaeIrmEl47Zu",
        "outputId": "5a3535ed-7331-4da1-c094-0477400ecf56"
      },
      "source": [
        "## Mount Google Drive Data (If using Google Colaboratory)\n",
        "try:\n",
        "    from google.colab import drive\n",
        "    drive.mount('/content/gdrive')\n",
        "except:\n",
        "    print(\"Mounting Failed.\")"
      ],
      "execution_count": 1,
      "outputs": [
        {
          "output_type": "stream",
          "text": [
            "Mounted at /content/gdrive\n"
          ],
          "name": "stdout"
        }
      ]
    },
    {
      "cell_type": "code",
      "metadata": {
        "id": "lFBxxrDl5IAD"
      },
      "source": [
        "data_dir = \"/content/gdrive/MyDrive/rgb_video_data\""
      ],
      "execution_count": 2,
      "outputs": []
    },
    {
      "cell_type": "code",
      "metadata": {
        "id": "GU0-4AKI2E5Z",
        "colab": {
          "base_uri": "https://localhost:8080/"
        },
        "outputId": "86eaa2f1-698a-4034-eee5-c0680b798aa6"
      },
      "source": [
        "import numpy as np\n",
        "import matplotlib.pyplot as plt\n",
        "import torch\n",
        "from torch.utils.data import Dataset, DataLoader\n",
        "import os\n",
        "import torch\n",
        "import torch.nn as nn\n",
        "import matplotlib.pyplot as plt\n",
        "import torchvision.transforms as transforms\n",
        "\n",
        "subjects = ['S01', 'S02', 'S03', 'S04', 'S05','S06', 'S07', 'S08', 'S09', 'S10', 'S11', 'S12']\n",
        "actions = ['A01', 'A02', 'A03', 'A04', 'A05','A06', 'A07', 'A08', 'A09', 'A10', 'A11']\n",
        "reps = ['R01', 'R02', 'R03', 'R04', 'R05']\n",
        "\n",
        "class BerkeleyMHAD(Dataset):\n",
        "\n",
        "    def __init__(self, vid_names, root_dir, classes, transform=None):\n",
        "        self.vid_names = vid_names # list of file names for videos (ex. S01_A01_R01)\n",
        "        self.root_dir = root_dir # directory where videos are stored\n",
        "        self.transform = transform\n",
        "        self.classes = classes\n",
        "        \n",
        "    def __len__(self):\n",
        "        return len(self.vid_names)\n",
        "\n",
        "    def __getitem__(self, idx):\n",
        "        if torch.is_tensor(idx):\n",
        "            idx = idx.tolist()\n",
        "\n",
        "        path = os.path.join(self.root_dir, self.vid_names[idx])\n",
        "        x = np.load(path)['x']\n",
        "        \n",
        "        data = []\n",
        "        if self.transform:\n",
        "            for i in range(x.shape[0]):\n",
        "                data.append(self.transform(x[i]))\n",
        "        \n",
        "        vid_tensor = torch.stack(data)\n",
        "        label = self.classes.index(np.load(path)['y']) \n",
        "        sample = {'x': vid_tensor, 'y': label}\n",
        "\n",
        "        return sample\n",
        "    \n",
        "class cnn_lstm(nn.Module):\n",
        "    def __init__(self, classes):\n",
        "        super(cnn_lstm, self).__init__()\n",
        "        self.conv1 = nn.Conv2d(3, 16, 3)\n",
        "        self.conv2 = nn.Conv2d(16, 32, 3)\n",
        "        self.conv3 = nn.Conv2d(32, 64, 3)\n",
        "        self.pool1 = nn.MaxPool2d(3)\n",
        "        self.n_hidden = 100\n",
        "        self.n_layers = 3\n",
        "        self.l_lstm = torch.nn.LSTM(input_size = 300, \n",
        "                                 hidden_size = self.n_hidden,\n",
        "                                 num_layers = self.n_layers, \n",
        "                                 batch_first = True)\n",
        "        self.fc = nn.Linear(2240, 300)\n",
        "        self.fc1 = nn.Linear(100, 50)\n",
        "        self.fc2 = nn.Linear(50, classes)\n",
        "        self.relu = nn.LeakyReLU(.1)\n",
        "        self.soft = nn.Softmax(dim = 0)\n",
        "    def forward(self, x):\n",
        "        batch = x.shape[0]\n",
        "        #intialize lstm hidden state\n",
        "        hidden_state = torch.zeros(self.n_layers, 1, self.n_hidden).to(dev)\n",
        "        cell_state = torch.zeros(self.n_layers, 1, self.n_hidden).to(dev)\n",
        "        self.hidden = (hidden_state, cell_state)\n",
        "        \n",
        "        x = self.pool1(self.relu(self.conv1(x)))\n",
        "        x = self.pool1(self.relu(self.conv2(x)))\n",
        "        x = self.pool1(self.relu(self.conv3(x)))\n",
        "        x = x.reshape(batch, -1).unsqueeze(0)\n",
        "        x = self.fc(x)\n",
        "        lstm_out, _ = self.l_lstm(x, self.hidden) #lstm_out shape is batch_size, seq len, hidden state\n",
        "        #print(lstm_out.shape)\n",
        "        lstm_out = lstm_out[:,-1,:]\n",
        "        #print(lstm_out.shape)\n",
        "        lstm_out = self.relu(self.fc1(lstm_out.squeeze()))\n",
        "        lstm_out = self.relu(self.fc2(lstm_out))\n",
        "        lstm_out = self.soft(lstm_out)\n",
        "        return lstm_out\n",
        "    \n",
        "def check(i):\n",
        "    #insert more i.find terms for each action\n",
        "    return i.find('A01') != -1 or i.find('A07') != -1\n",
        "vid_names = [i for i in next(os.walk(data_dir))[2] if check(i)]\n",
        "train_vid_names = [i for i in vid_names if i.find('S09') == -1 and i.find('S10') == -1 and i.find('S11') == -1 and i.find('S12') == -1]\n",
        "valid_vid_names = [i for i in vid_names if i.find('S09') != -1 ]\n",
        "test_vid_names = [i for i in vid_names if i.find('S10') != -1 or i.find('S11') != -1 or i.find('S12') != -1]\n",
        "\n",
        "#data shape is (num_pics, height, width, channel)\n",
        "Normalize = transforms.Normalize(mean=[0.485, 0.456, 0.406],\n",
        "                                 std=[0.229, 0.224, 0.225])\n",
        "train_dataset = BerkeleyMHAD(train_vid_names, data_dir, classes = [0, 6], transform=transforms.Compose([transforms.ToTensor(), Normalize]))\n",
        "valid_dataset = BerkeleyMHAD(valid_vid_names, data_dir, classes = [0, 6], transform=transforms.Compose([transforms.ToTensor(), Normalize]))\n",
        "test_dataset = BerkeleyMHAD(test_vid_names, data_dir, classes = [0, 6], transform=transforms.Compose([transforms.ToTensor(), Normalize]))\n",
        "#plt.imshow(train_dataset[0]['x'][0])\n",
        "print(train_dataset[0]['x'][0])\n",
        "\n",
        "batch_size = 1\n",
        "\n",
        "dev = torch.device(\"cuda:0\" if torch.cuda.is_available() else \"cpu\")\n",
        "#change 2 to number of classes"
      ],
      "execution_count": 27,
      "outputs": [
        {
          "output_type": "stream",
          "text": [
            "tensor([[[-1.4672, -1.4158, -1.3302,  ...,  2.2489,  2.2489,  2.2489],\n",
            "         [-1.5699, -1.5699, -1.4500,  ...,  2.2489,  2.2489,  2.2489],\n",
            "         [-1.2788, -1.4329, -1.5528,  ..., -0.4739,  2.2489,  2.2489],\n",
            "         ...,\n",
            "         [-1.0733, -1.0562, -1.0733,  ...,  2.2489,  1.1358, -0.5767],\n",
            "         [-1.0733, -1.0733, -1.0904,  ...,  2.2489, -0.3027, -0.6623],\n",
            "         [-1.1075, -1.0904, -1.0562,  ...,  2.2489, -0.6109, -0.7479]],\n",
            "\n",
            "        [[-1.4230, -1.3529, -1.2654,  ...,  2.4286,  2.4286,  2.4286],\n",
            "         [-1.4930, -1.5105, -1.3704,  ...,  2.4286,  2.4286,  2.4286],\n",
            "         [-1.2129, -1.4055, -1.4405,  ...,  1.0455,  2.3235,  1.9909],\n",
            "         ...,\n",
            "         [-1.0203, -1.0028, -1.0378,  ...,  2.4286,  0.6954, -0.6527],\n",
            "         [-1.0378, -1.0203, -1.0553,  ...,  2.4286, -0.4426, -0.6702],\n",
            "         [-1.0553, -1.0203, -1.0728,  ...,  1.5182, -0.4426, -0.6877]],\n",
            "\n",
            "        [[-1.4210, -1.3339, -1.2816,  ...,  2.6400,  2.6400,  2.6400],\n",
            "         [-1.3861, -1.3513, -1.3513,  ...,  1.5768,  1.9428,  2.3263],\n",
            "         [-1.2467, -1.2816, -1.3339,  ...,  0.4614,  1.3677,  1.7511],\n",
            "         ...,\n",
            "         [-1.0550, -1.1073, -1.0898,  ..., -0.4624, -0.6018, -0.8284],\n",
            "         [-1.1073, -1.1073, -1.1421,  ..., -0.5495, -0.7587, -0.8458],\n",
            "         [-1.1073, -1.0898, -1.1247,  ..., -0.5670, -0.7761, -0.8807]]])\n"
          ],
          "name": "stdout"
        }
      ]
    },
    {
      "cell_type": "code",
      "metadata": {
        "id": "8RA1GWKl2E5c",
        "colab": {
          "base_uri": "https://localhost:8080/"
        },
        "outputId": "1e3a4bbf-a0f7-47ab-e642-bb0bed2d0715"
      },
      "source": [
        "model = cnn_lstm(2).to(dev)\n",
        "optimizer = torch.optim.Adam(model.parameters(), lr=.001)\n",
        "criterion = nn.CrossEntropyLoss()\n",
        "epoch = 100\n",
        "#train\n",
        "\n",
        "tguess = []\n",
        "tanswers = []\n",
        "tcorrect = 0\n",
        "ttotal = 0\n",
        "for t in range(epoch):\n",
        "    train_loss = 0\n",
        "    valid_loss = 0\n",
        "    tguess = []\n",
        "    tanswers = []\n",
        "    tcorrect = 0\n",
        "    ttotal = 0\n",
        "    for i in range(len(train_dataset)):\n",
        "        data = train_dataset[i]\n",
        "        inpt = data['x'].to(dev)\n",
        "        label = torch.tensor(data['y']).unsqueeze(0).to(dev)\n",
        "        output = model(inpt).unsqueeze(0)\n",
        "        loss = criterion(output, label) #.view(-1)\n",
        "        loss.backward()\n",
        "        optimizer.step()  \n",
        "        optimizer.zero_grad()\n",
        "        train_loss += loss.item()\n",
        "        \n",
        "        if torch.argmax(output.squeeze()) == label:\n",
        "            tcorrect += 1\n",
        "        ttotal += 1\n",
        "        tanswers.append(label.item())\n",
        "        tguess.append(output[0][1].item())\n",
        "        \n",
        "    torch.cuda.empty_cache()   \n",
        "\n",
        "    with torch.no_grad():\n",
        "        for i in range(len(valid_dataset)):\n",
        "            data = valid_dataset[i]\n",
        "            inpt = data['x'].to(dev)\n",
        "            label = torch.tensor(data['y']).unsqueeze(0).to(dev)\n",
        "            output = model(inpt).unsqueeze(0)\n",
        "            loss = criterion(output, label)\n",
        "            valid_loss += loss.item()\n",
        "    print(\"epoch:\", valid_loss / len(valid_dataset), train_loss / len(train_dataset))\n",
        "\n"
      ],
      "execution_count": null,
      "outputs": [
        {
          "output_type": "stream",
          "text": [
            "epoch: 0.711345911026001 0.8512281466275453\n",
            "epoch: 0.6959975361824036 0.7516423188149929\n",
            "epoch: 0.6931593418121338 0.7106308303773403\n",
            "epoch: 0.6931489109992981 0.6957363151013851\n",
            "epoch: 0.6931490004062653 0.6943026214838028\n",
            "epoch: 0.6931495368480682 0.694026480615139\n",
            "epoch: 0.6931488215923309 0.6938288822770119\n"
          ],
          "name": "stdout"
        }
      ]
    },
    {
      "cell_type": "code",
      "metadata": {
        "id": "KALkYqUn2E5d",
        "colab": {
          "base_uri": "https://localhost:8080/"
        },
        "outputId": "bdb8a222-a1e5-4f1f-ba7c-185c3c97dc06"
      },
      "source": [
        "guess = []\n",
        "answers = []\n",
        "correct = 0\n",
        "total = 0\n",
        "with torch.no_grad():\n",
        "    for i in range(len(test_dataset)):\n",
        "        data = test_dataset[i]\n",
        "        inpt = data['x'].to(dev)\n",
        "        label = torch.tensor(data['y']).to(dev)\n",
        "        output2 = model(inpt)\n",
        "        if torch.argmax(output2.squeeze()) == label:\n",
        "            correct += 1\n",
        "        total += 1\n",
        "        answers.append(label.item())\n",
        "        guess.append(output2[1].item())\n",
        "#guess = torch.argmax(guess.squeeze(), dim=1)\n",
        "#guess = np.array(guess).squeeze()\n",
        "print(correct / total)\n",
        "#print('CNN AUC: %.4f' % roc_auc_score(testlabel, guess), ' AUPRC: %.4f' % average_precision_score(testlabel, guess))\n",
        "torch.save(model, 'cnn_lstm.torch')"
      ],
      "execution_count": 24,
      "outputs": [
        {
          "output_type": "stream",
          "text": [
            "0.34782608695652173\n"
          ],
          "name": "stdout"
        }
      ]
    },
    {
      "cell_type": "code",
      "metadata": {
        "id": "lAmKRpMGGiya"
      },
      "source": [
        ""
      ],
      "execution_count": null,
      "outputs": []
    }
  ]
}