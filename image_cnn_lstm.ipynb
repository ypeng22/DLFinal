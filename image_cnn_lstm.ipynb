{
  "nbformat": 4,
  "nbformat_minor": 0,
  "metadata": {
    "accelerator": "GPU",
    "colab": {
      "name": "image_cnn_lstm.ipynb",
      "provenance": [],
      "collapsed_sections": [],
      "include_colab_link": true
    },
    "kernelspec": {
      "display_name": "Python 3",
      "language": "python",
      "name": "python3"
    },
    "language_info": {
      "codemirror_mode": {
        "name": "ipython",
        "version": 3
      },
      "file_extension": ".py",
      "mimetype": "text/x-python",
      "name": "python",
      "nbconvert_exporter": "python",
      "pygments_lexer": "ipython3",
      "version": "3.8.3"
    }
  },
  "cells": [
    {
      "cell_type": "markdown",
      "metadata": {
        "id": "view-in-github",
        "colab_type": "text"
      },
      "source": [
        "<a href=\"https://colab.research.google.com/github/ypeng22/DLFinal/blob/main/image_cnn_lstm.ipynb\" target=\"_parent\"><img src=\"https://colab.research.google.com/assets/colab-badge.svg\" alt=\"Open In Colab\"/></a>"
      ]
    },
    {
      "cell_type": "code",
      "metadata": {
        "colab": {
          "base_uri": "https://localhost:8080/"
        },
        "id": "uaeIrmEl47Zu",
        "outputId": "9589bcca-5cfe-4ea5-878d-35aae3f8d232"
      },
      "source": [
        "## Mount Google Drive Data (If using Google Colaboratory)\n",
        "try:\n",
        "    from google.colab import drive\n",
        "    drive.mount('/content/gdrive')\n",
        "except:\n",
        "    print(\"Mounting Failed.\")"
      ],
      "execution_count": 1,
      "outputs": [
        {
          "output_type": "stream",
          "text": [
            "Mounted at /content/gdrive\n"
          ],
          "name": "stdout"
        }
      ]
    },
    {
      "cell_type": "code",
      "metadata": {
        "id": "lFBxxrDl5IAD"
      },
      "source": [
        "data_dir = \"/content/gdrive/MyDrive/rgb_video_data\""
      ],
      "execution_count": 2,
      "outputs": []
    },
    {
      "cell_type": "code",
      "metadata": {
        "colab": {
          "base_uri": "https://localhost:8080/",
          "height": 303
        },
        "id": "GU0-4AKI2E5Z",
        "outputId": "f2a89e47-e116-434b-a2a1-9a513b511dcf"
      },
      "source": [
        "import numpy as np\n",
        "import matplotlib.pyplot as plt\n",
        "import torch\n",
        "from torch.utils.data import Dataset, DataLoader\n",
        "import os\n",
        "import torch\n",
        "import torch.nn as nn\n",
        "import matplotlib.pyplot as plt\n",
        "import torchvision.transforms as transforms\n",
        "from torchvision.models import resnet101\n",
        "import random\n",
        "import torch.nn.functional as F\n",
        "\n",
        "subjects = ['S01', 'S02', 'S03', 'S04', 'S05','S06', 'S07', 'S08', 'S09', 'S10', 'S11', 'S12']\n",
        "actions = ['A01', 'A02', 'A03', 'A04', 'A05','A06', 'A07', 'A08', 'A09', 'A10', 'A11']\n",
        "reps = ['R01', 'R02', 'R03', 'R04', 'R05']\n",
        "\n",
        "class BerkeleyMHAD(Dataset):\n",
        "\n",
        "    def __init__(self, vid_names, root_dir, classes, transform=None):\n",
        "        self.vid_names = vid_names # list of file names for videos (ex. S01_A01_R01)\n",
        "        self.root_dir = root_dir # directory where videos are stored\n",
        "        self.transform = transform\n",
        "        self.classes = classes\n",
        "        \n",
        "    def __len__(self):\n",
        "        return len(self.vid_names)\n",
        "\n",
        "    def __getitem__(self, idx):\n",
        "        if torch.is_tensor(idx):\n",
        "            idx = idx.tolist()\n",
        "\n",
        "        path = os.path.join(self.root_dir, self.vid_names[idx])\n",
        "        x = np.load(path)['x']\n",
        "        \n",
        "        data = []\n",
        "        if self.transform:\n",
        "            for i in range(x.shape[0]):\n",
        "                data.append(self.transform(x[i]))\n",
        "        \n",
        "        vid_tensor = torch.stack(data)\n",
        "        label = self.classes.index(np.load(path)['y']) \n",
        "        sample = {'x': vid_tensor, 'y': label}\n",
        "\n",
        "        return sample\n",
        "\n",
        "class cnn_block(nn.Module):\n",
        "    def __init__(self):\n",
        "        super(cnn_block, self).__init__()\n",
        "        self.conv1 = nn.Conv2d(3, 16, 3)\n",
        "        self.conv2 = nn.Conv2d(16, 32, 3)\n",
        "        self.conv3 = nn.Conv2d(32, 64, 3)\n",
        "        self.conv4 = nn.Conv2d(64, 100, 3)\n",
        "        self.pool1 = nn.MaxPool2d(3)\n",
        "\n",
        "        self._initialize_weights()\n",
        "\n",
        "    def forward(self, x):\n",
        "        batch = x.shape[0]\n",
        "        x1 = self.pool1(F.relu(self.conv1(x)))\n",
        "        x1 = self.pool1(F.relu(self.conv2(x1)))\n",
        "        x1 = self.pool1(F.relu(self.conv3(x1)))\n",
        "        x1 = F.relu(self.conv4(x1))\n",
        "        x1 = x1.reshape(batch, -1).unsqueeze(0)\n",
        "\n",
        "        return x1\n",
        "\n",
        "    def _initialize_weights(self):\n",
        "        for m in self.modules():\n",
        "            if isinstance(m, nn.Conv2d):\n",
        "                nn.init.kaiming_normal_(m.weight, mode='fan_out',\n",
        "                                        nonlinearity='relu')\n",
        "                if m.bias is not None:\n",
        "                    nn.init.constant_(m.bias, 0)\n",
        "            elif isinstance(m, nn.Linear):\n",
        "                nn.init.kaiming_normal_(m.weight, mode='fan_out',\n",
        "                                        nonlinearity='relu')\n",
        "                nn.init.constant_(m.bias, 0) \n",
        "\n",
        "class lstm_block(nn.Module):\n",
        "    def __init__(self, classes):\n",
        "        super(lstm_block, self).__init__()\n",
        "        self.n_hidden = 128\n",
        "        self.n_layers = 3\n",
        "        self.l_lstm = torch.nn.LSTM(input_size = 1500, \n",
        "                                 hidden_size = self.n_hidden,\n",
        "                                 num_layers = self.n_layers, \n",
        "                                 batch_first = True)\n",
        "        self.fc2 = nn.Linear(128, 64)\n",
        "        self.fc3 = nn.Linear(64, classes)\n",
        "\n",
        "        self._initialize_weights()\n",
        "\n",
        "    def forward(self, x):\n",
        "        hidden_state = torch.zeros(self.n_layers, 1, self.n_hidden).to(dev)\n",
        "        cell_state = torch.zeros(self.n_layers, 1, self.n_hidden).to(dev)\n",
        "        self.hidden = (hidden_state, cell_state)\n",
        "\n",
        "        lstm_out, hidden_out = self.l_lstm(x, self.hidden) #lstm_out shape is batch_size, seq len, hidden state\n",
        "        lstm_out.retain_grad()\n",
        "        out = lstm_out[:,-1,:]\n",
        "        out = F.relu(self.fc2(out.squeeze()))\n",
        "        out = self.fc3(out)\n",
        "\n",
        "        return out, lstm_out\n",
        "\n",
        "    def _initialize_weights(self):\n",
        "        for m in self.modules():\n",
        "            if isinstance(m, nn.Conv2d):\n",
        "                nn.init.kaiming_normal_(m.weight, mode='fan_out',\n",
        "                                        nonlinearity='relu')\n",
        "                if m.bias is not None:\n",
        "                    nn.init.constant_(m.bias, 0)\n",
        "            elif isinstance(m, nn.Linear):\n",
        "                nn.init.kaiming_normal_(m.weight, mode='fan_out',\n",
        "                                        nonlinearity='relu')\n",
        "                nn.init.constant_(m.bias, 0)  \n",
        "\n",
        "\n",
        "class cnn_lstm(nn.Module):\n",
        "    def __init__(self, classes):\n",
        "        super(cnn_lstm, self).__init__()\n",
        "        self.cnn_block = cnn_block()\n",
        "        self.lstm_block = lstm_block(classes)\n",
        "\n",
        "    def forward(self, x):\n",
        "        x1 = self.cnn_block(x)\n",
        "        out, lstm_out = self.lstm_block(x1)\n",
        "\n",
        "        return out, lstm_out\n",
        "\n",
        "\n",
        "def check(i):\n",
        "    #insert more i.find terms for each action\n",
        "    return i.find('A01') != -1 or i.find('A02') != -1 or i.find('A05') != -1 or i.find('A07') != -1 \n",
        "vid_names = [i for i in next(os.walk(data_dir))[2] if check(i)]\n",
        "\n",
        "#vid_names = os.listdir(data_dir)\n",
        "train_vid_names = [i for i in vid_names if i.find('S09') == -1 and i.find('S10') == -1 and i.find('S11') == -1 and i.find('S12') == -1]\n",
        "valid_vid_names = [i for i in vid_names if i.find('S09') != -1 ]\n",
        "test_vid_names = [i for i in vid_names if i.find('S10') != -1 or i.find('S11') != -1 or i.find('S12') != -1]\n",
        "\n",
        "#data shape is (num_pics, height, width, channel)\n",
        "Normalize = transforms.Normalize(mean=[0.485, 0.456, 0.406],\n",
        "                                 std=[0.229, 0.224, 0.225])\n",
        "train_dataset = BerkeleyMHAD(train_vid_names, data_dir, classes = [0, 1, 4, 6], transform=transforms.Compose([transforms.ToTensor(), Normalize]))\n",
        "valid_dataset = BerkeleyMHAD(valid_vid_names, data_dir, classes = [0, 1, 4, 6], transform=transforms.Compose([transforms.ToTensor(), Normalize]))\n",
        "test_dataset = BerkeleyMHAD(test_vid_names, data_dir, classes = [0, 1, 4, 6], transform=transforms.Compose([transforms.ToTensor(), Normalize]))\n",
        "plt.imshow(np.transpose(train_dataset[0]['x'][0]))\n",
        "print(train_dataset[0]['x'].shape)\n",
        "\n",
        "batch_size = 1\n",
        "\n",
        "dev = torch.device(\"cuda:0\" if torch.cuda.is_available() else \"cpu\")\n",
        "#change 2 to number of classes"
      ],
      "execution_count": 3,
      "outputs": [
        {
          "output_type": "stream",
          "text": [
            "Clipping input data to the valid range for imshow with RGB data ([0..1] for floats or [0..255] for integers).\n"
          ],
          "name": "stderr"
        },
        {
          "output_type": "stream",
          "text": [
            "torch.Size([126, 3, 240, 180])\n"
          ],
          "name": "stdout"
        },
        {
          "output_type": "display_data",
          "data": {
            "image/png": "[encoded data removed]",
            "text/plain": [
              "<Figure size 432x288 with 1 Axes>"
            ]
          },
          "metadata": {
            "tags": [],
            "needs_background": "light"
          }
        }
      ]
    },
    {
      "cell_type": "code",
      "metadata": {
        "id": "1J_1SIW4PKTy"
      },
      "source": [
        "train_dataloader = DataLoader(train_dataset, batch_size=1, shuffle=True)\n",
        "valid_dataloader = DataLoader(valid_dataset, batch_size=1, shuffle=True)\n",
        "test_dataloader = DataLoader(test_dataset, batch_size=1, shuffle=True)"
      ],
      "execution_count": 4,
      "outputs": []
    },
    {
      "cell_type": "code",
      "metadata": {
        "id": "8RA1GWKl2E5c",
        "colab": {
          "base_uri": "https://localhost:8080/"
        },
        "outputId": "a485b918-c463-4fa2-c0be-ebc67f2ed61e"
      },
      "source": [
        "model = cnn_lstm(4).to(dev)\n",
        "#model.load_state_dict(torch.load('/content/gdrive/MyDrive/lstm_checkpoints/cnn_lstm_epoch_20_state_dict.pt'))\n",
        "#resnet = resnet101(pretrained=True).to(dev)\n",
        "#for param in resnet.parameters():\n",
        "#    param.requires_grad = False\n",
        "\n",
        "optimizer = torch.optim.Adam(model.parameters(), lr=1e-4)\n",
        "criterion = nn.CrossEntropyLoss()\n",
        "epoch = 30\n",
        "#train\n",
        "shuffled = np.arange(len(train_dataset))\n",
        "\n",
        "train_losses = []\n",
        "val_losses = []\n",
        "tcorrect = 0\n",
        "ttotal = 0\n",
        "\n",
        "for t in range(epoch):\n",
        "    train_loss = 0\n",
        "    valid_loss = 0\n",
        "    tguess = []\n",
        "    tanswers = []\n",
        "    tcorrect = 0\n",
        "    ttotal = 0\n",
        "    random.shuffle(shuffled)\n",
        "\n",
        "    model.train()\n",
        "\n",
        "    for i in range(len(train_dataset)):\n",
        "        optimizer.zero_grad()\n",
        "\n",
        "        data = train_dataset[shuffled[i]]\n",
        "        inpt = data['x'].to(dev)\n",
        "        label = torch.tensor(data['y']).unsqueeze(0).to(dev)\n",
        "        #inpt = resnet(inpt)\n",
        "        output = model(inpt)[0].unsqueeze(0)\n",
        "        loss = criterion(output, label) #.view(-1)\n",
        "        loss.backward()\n",
        "        optimizer.step()  \n",
        "        #optimizer.zero_grad()\n",
        "        train_loss += loss.item()\n",
        "        \n",
        "        if torch.argmax(output.squeeze()) == label:\n",
        "            tcorrect += 1\n",
        "        ttotal += 1\n",
        "        #tanswers.append(label.item())\n",
        "        #tguess.append(output[0][1].item())\n",
        "        #tguess.append(torch.argmax(output.squeeze()))\n",
        "        \n",
        "    #grads = []\n",
        "    #for param in model.parameters():\n",
        "    #    if param.grad is not None:\n",
        "    #        grads.append(param.grad.view(-1))\n",
        "        \n",
        "    #grads = torch.cat(grads)\n",
        "    #print(torch.norm(grads))\n",
        "    \n",
        "    torch.cuda.empty_cache()   \n",
        "\n",
        "    #with torch.no_grad():\n",
        "    model.eval()\n",
        "    for i in range(len(valid_dataset)):\n",
        "        data = valid_dataset[i]\n",
        "        inpt = data['x'].to(dev)\n",
        "        label = torch.tensor(data['y']).unsqueeze(0).to(dev)\n",
        "        output = model(inpt)[0].unsqueeze(0)\n",
        "        loss = criterion(output, label)\n",
        "        valid_loss += loss.item()\n",
        "    print(\"epoch:\", valid_loss / len(valid_dataset), train_loss / len(train_dataset))\n",
        "    train_losses.append(train_loss / len(train_dataset))\n",
        "    val_losses.append(valid_loss / len(valid_dataset))\n",
        "    if valid_loss / len(valid_dataset) <= min(val_losses):\n",
        "        #torch.save(model.state_dict(), '/content/gdrive/MyDrive/lstm_checkpoints/gru_best_state_dict.pt')\n",
        "        torch.save(model.state_dict(), '/content/gdrive/MyDrive/lstm_checkpoints/lstm_best_state_dict_new.pt')\n",
        "    \n"
      ],
      "execution_count": null,
      "outputs": [
        {
          "output_type": "stream",
          "text": [
            "epoch: 1.4090065002441405 1.4202773325145244\n",
            "epoch: 1.38150292634964 1.3902160979807376\n",
            "epoch: 1.3354752779006958 1.2901875853538514\n",
            "epoch: 1.091788500547409 1.099483795557171\n",
            "epoch: 0.8924123361706734 0.8446664375253021\n",
            "epoch: 1.7418494507670403 0.547248468111502\n",
            "epoch: 0.8826727133244276 0.4493721797509352\n",
            "epoch: 1.2657241667679044 0.12766029422145947\n",
            "epoch: 0.7258530179329682 0.25805680689081784\n",
            "epoch: 0.6016983396752039 0.017202329867996014\n",
            "epoch: 0.5340324903474538 0.00243611562609658\n",
            "epoch: 0.5524965798438644 0.001072472758596632\n",
            "epoch: 0.5602857498597587 0.0007582827618534793\n",
            "epoch: 0.5673218961019302 0.0005718357449950417\n",
            "epoch: 0.5731938806369726 0.0004513053455866611\n",
            "epoch: 0.5793456465602503 0.00036470856264259055\n",
            "epoch: 0.5847230043531454 0.0003011358207459125\n",
            "epoch: 0.592221476089253 0.0002522624804214502\n",
            "epoch: 0.5964266251241497 0.0002137480818646509\n",
            "epoch: 0.6006299119533651 0.00018270510595357335\n",
            "epoch: 0.6033682784862322 0.00015769557409157643\n",
            "epoch: 0.6100931888500781 0.0001370490901649646\n",
            "epoch: 0.6121695994681431 0.00011946816948693595\n",
            "epoch: 0.615218978672965 0.00010481847297114655\n",
            "epoch: 0.6171261340436104 9.228195334571865e-05\n",
            "epoch: 0.6224425843694916 8.147501789608213e-05\n",
            "epoch: 0.6239239438198638 7.21875378360437e-05\n",
            "epoch: 0.6269898031772755 6.402334245763086e-05\n",
            "epoch: 0.6293989809861159 5.696534663570674e-05\n",
            "epoch: 0.6322316377330026 5.0819144394154134e-05\n"
          ],
          "name": "stdout"
        }
      ]
    },
    {
      "cell_type": "code",
      "metadata": {
        "colab": {
          "base_uri": "https://localhost:8080/"
        },
        "id": "KALkYqUn2E5d",
        "outputId": "ceae8403-22f2-4670-de68-27040a40078b"
      },
      "source": [
        "#model.load_state_dict(torch.load('/content/gdrive/MyDrive/lstm_checkpoints/gru_best_state_dict.pt'))\n",
        "model.load_state_dict(torch.load('/content/gdrive/MyDrive/lstm_checkpoints/lstm_best_state_dict_new.pt'))\n",
        "\n",
        "correct = 0\n",
        "total = 0\n",
        "model.eval()\n",
        "#with torch.no_grad():\n",
        "for i in range(len(test_dataset)):\n",
        "    data = test_dataset[i]\n",
        "    inpt = data['x'].to(dev)\n",
        "    label = torch.tensor(data['y']).to(dev)\n",
        "    #inpt = resnet(inpt)\n",
        "    output2 = model(inpt)\n",
        "    if torch.argmax(output2[0].squeeze()) == label:\n",
        "        correct += 1\n",
        "    total += 1\n",
        "#guess = torch.argmax(guess.squeeze(), dim=1)\n",
        "#guess = np.array(guess).squeeze()\n",
        "print(\"train accuracy = \" + str(tcorrect / ttotal))\n",
        "print(\"test accuracy = \" + str(correct / total))\n",
        "#print('CNN AUC: %.4f' % roc_auc_score(testlabel, guess), ' AUPRC: %.4f' % average_precision_score(testlabel, guess))\n",
        "#torch.save(model, '/content/gdrive/MyDrive/cnn_lstm.torch')"
      ],
      "execution_count": null,
      "outputs": [
        {
          "output_type": "stream",
          "text": [
            "train accuracy = 1.0\n",
            "test accuracy = 0.9019607843137255\n"
          ],
          "name": "stdout"
        }
      ]
    },
    {
      "cell_type": "code",
      "metadata": {
        "id": "aWeLiJLm_V5V"
      },
      "source": [
        "from torch.autograd import Variable\n",
        "class GradientAttack():\n",
        "        \n",
        "        \"\"\"\n",
        "        \n",
        "        \"\"\"\n",
        "        \n",
        "        def __init__(self, loss, epsilon):\n",
        "            \"\"\"\n",
        "            \n",
        "            \"\"\"\n",
        "            self.loss = loss\n",
        "            self.epsilon = epsilon\n",
        "\n",
        "        def forward(self, x, y, model, num_iter=1, alpha=0.01):\n",
        "            \"\"\"\n",
        "            \n",
        "            \"\"\"\n",
        "            y = torch.Tensor([y]).cuda()\n",
        "            model.train()\n",
        "            x = model.cnn_block(x)\n",
        "            x_adv = x.clone().detach()\n",
        "\n",
        "            torch.manual_seed(0)\n",
        "            x_adv = x_adv + torch.empty_like(x_adv).uniform_(-self.epsilon, self.epsilon)\n",
        "            #x_adv = torch.clamp(x_adv, min=0, max=1).detach()\n",
        "\n",
        "            for iteration in range(num_iter):\n",
        "                x_adv = x_adv.cuda()\n",
        "                x_adv = Variable(x_adv, requires_grad=True)\n",
        "                # Step 1: Calculate the Loss and then calculate the\n",
        "                # gradient of the Loss w.r.t the image\n",
        "                out = model.lstm_block(x_adv)\n",
        "                loss_adv = self.loss(out[0].unsqueeze(0), y.long())\n",
        "                loss_adv.backward(retain_graph=True) \n",
        "\n",
        "                with torch.no_grad():\n",
        "                    # Step 2: Add the gradient (or its sign for each pixel),\n",
        "                    # multiplied by a small step size, to the original image                   \n",
        "                    # You might need to clamp the modified image to \n",
        "                    # make sure the values of each pixel are between [0,1]    \n",
        "                    if num_iter > 1:                                                           \n",
        "                        x_temp = x_adv + torch.sign(x_adv.grad) * alpha\n",
        "                        #x_temp = x_adv + x_adv.grad * alpha\n",
        "                        #print(torch.norm(grad))\n",
        "                        # Clamp the attack to be within such that the maximum difference is epsilon\n",
        "                        delta = torch.clamp(x_temp - x, -self.epsilon, self.epsilon)\n",
        "                        x_adv = x + delta\n",
        " \n",
        "                    else:\n",
        "                        x_adv = x + torch.sign(x_adv.grad) * self.epsilon\n",
        "                    \n",
        "            #x_adv = torch.clamp(x_adv, 0, 1)\n",
        "            return x_adv"
      ],
      "execution_count": 54,
      "outputs": []
    },
    {
      "cell_type": "code",
      "metadata": {
        "id": "E7AGf7KgM9yO"
      },
      "source": [
        "class HAttack():\n",
        "        \n",
        "        \"\"\"\n",
        "        \n",
        "        \"\"\"\n",
        "        \n",
        "        def __init__(self, loss, epsilon):\n",
        "            \"\"\"\n",
        "            \n",
        "            \"\"\"\n",
        "            self.loss = loss\n",
        "            self.epsilon = epsilon\n",
        "\n",
        "        def forward(self, x, y, model, num_iter=1, pmp_iter = 1, alpha=0.01, inner_alpha=1):\n",
        "            \"\"\"\n",
        "            \n",
        "            \"\"\"       \n",
        "            \n",
        "            y = torch.Tensor([y]).cuda()\n",
        "            model.train()\n",
        "            x = model.cnn_block(x)\n",
        "            x_adv = x.clone().detach()\n",
        "\n",
        "            torch.manual_seed(0)\n",
        "            delta = torch.empty_like(x_adv).uniform_(-self.epsilon, self.epsilon)\n",
        "            delta.requires_grad = True\n",
        "\n",
        "            for iteration in range(num_iter):\n",
        "                x_adv = x_adv.cuda()\n",
        "                \n",
        "                out = model.lstm_block(x_adv + delta)\n",
        "                loss_adv = self.loss(out[0].unsqueeze(0), y.long())\n",
        "                loss_adv.backward(retain_graph=True) \n",
        "\n",
        "                hidden_states = out[1] \n",
        "                p = hidden_states.grad[0].clone().detach()\n",
        "    \n",
        "                for i in range(pmp_iter): \n",
        "                    out = model.lstm_block(x_adv + delta)\n",
        "                    hidden_states = out[1] \n",
        "                    objective = torch.sum(p * hidden_states.squeeze(), axis=1).to(dev)\n",
        "                    grad = torch.autograd.grad(objective, delta, torch.ones(x_adv.shape[1]).to(dev), retain_graph=True, create_graph=False)[0]\n",
        "                    delta = delta + alpha * torch.sign(grad)\n",
        "                    delta = torch.clamp(delta, -self.epsilon, self.epsilon)\n",
        "\n",
        "            #x_adv = torch.clamp(x_adv, 0, 1)\n",
        "            x_adv = x + delta\n",
        "            return x_adv"
      ],
      "execution_count": 55,
      "outputs": []
    },
    {
      "cell_type": "code",
      "metadata": {
        "id": "bs6uOIFb_hVo"
      },
      "source": [
        "model = cnn_lstm(4).to(dev)\n",
        "model.load_state_dict(torch.load('/content/gdrive/MyDrive/lstm_checkpoints/lstm_best_state_dict_new.pt'))\n",
        "\n",
        "loss = nn.CrossEntropyLoss()\n",
        "adv_attack = GradientAttack(loss, 0.1)    "
      ],
      "execution_count": 8,
      "outputs": []
    },
    {
      "cell_type": "code",
      "metadata": {
        "id": "8Ju3XuRyVDiI"
      },
      "source": [
        "data = train_dataset[0]\n",
        "\n",
        "torch.cuda.empty_cache()   \n",
        "input = data['x'].to(dev)\n",
        "label = torch.tensor(data['y']).unsqueeze(0).to(dev)\n",
        "input.requires_grad = True\n",
        "adv_attack = HAttack(loss, 0.1)    \n",
        "input = adv_attack.forward(input, label, model, alpha=1, inner_alpha=1, num_iter=10)"
      ],
      "execution_count": 56,
      "outputs": []
    },
    {
      "cell_type": "markdown",
      "metadata": {
        "id": "ww5ou3F6cDcr"
      },
      "source": [
        "## Results for Fast Gradient Sign Method"
      ]
    },
    {
      "cell_type": "code",
      "metadata": {
        "colab": {
          "base_uri": "https://localhost:8080/"
        },
        "id": "6LrwPYzV_nnR",
        "outputId": "d751d9b4-d5a8-4c7a-b8f6-50327aa90402"
      },
      "source": [
        "################ Model Accuracy On Train Dataset Post Training #################\n",
        "accurates = 0\n",
        "for data in train_dataloader:\n",
        "  torch.cuda.empty_cache()   \n",
        "  input = data['x'][0].to(dev)\n",
        "  label = torch.tensor(data['y']).unsqueeze(0).to(dev)\n",
        "  input.requires_grad = True\n",
        "  input = adv_attack.forward(input, label, model, num_iter=1)\n",
        "  model.eval()\n",
        "  out = model(input)\n",
        "  if torch.argmax(out).item() == label:\n",
        "    accurates += 1\n",
        "\n",
        "accuracy = accurates / len(train_dataloader)\n",
        "print('The model accuracy on the train dataset after training is ' + str(accuracy))"
      ],
      "execution_count": null,
      "outputs": [
        {
          "output_type": "stream",
          "text": [
            "/usr/local/lib/python3.7/dist-packages/ipykernel_launcher.py:6: UserWarning: To copy construct from a tensor, it is recommended to use sourceTensor.clone().detach() or sourceTensor.clone().detach().requires_grad_(True), rather than torch.tensor(sourceTensor).\n",
            "  \n"
          ],
          "name": "stderr"
        },
        {
          "output_type": "stream",
          "text": [
            "The model accuracy on the train dataset after training is 0.61875\n"
          ],
          "name": "stdout"
        }
      ]
    },
    {
      "cell_type": "code",
      "metadata": {
        "colab": {
          "base_uri": "https://localhost:8080/"
        },
        "id": "7fEbhNrx_sLR",
        "outputId": "da6a48a4-14e6-4696-8435-66c5f22e7bff"
      },
      "source": [
        "################ Model Accuracy On Validation Dataset Post Training #################\n",
        "accurates = 0\n",
        "for data in valid_dataloader:\n",
        "  torch.cuda.empty_cache()   \n",
        "  input = data['x'][0].to(dev)\n",
        "  label = torch.tensor(data['y']).unsqueeze(0).to(dev)\n",
        "  input.requires_grad = True\n",
        "  input = adv_attack.forward(input, label, model, num_iter=1)\n",
        "  model.eval()\n",
        "  out = model(input)\n",
        "  if torch.argmax(out).item() == label:\n",
        "    accurates += 1\n",
        "\n",
        "accuracy = accurates / len(valid_dataloader)\n",
        "print('The model accuracy on the validation dataset after training is ' + str(accuracy))\n",
        "    \n",
        "accurates = 0\n",
        "for data in test_dataloader:\n",
        "  torch.cuda.empty_cache()   \n",
        "  input = data['x'][0].to(dev)\n",
        "  label = torch.tensor(data['y']).unsqueeze(0).to(dev)\n",
        "  input.requires_grad = True\n",
        "  input = adv_attack.forward(input, label, model, num_iter=1)\n",
        "  model.eval()\n",
        "  out = model(input)\n",
        "  if torch.argmax(out).item() == label:\n",
        "    accurates += 1\n",
        "\n",
        "accuracy = accurates / len(test_dataloader)\n",
        "print('The model accuracy on the testing dataset after training is ' + str(accuracy))"
      ],
      "execution_count": null,
      "outputs": [
        {
          "output_type": "stream",
          "text": [
            "/usr/local/lib/python3.7/dist-packages/ipykernel_launcher.py:6: UserWarning: To copy construct from a tensor, it is recommended to use sourceTensor.clone().detach() or sourceTensor.clone().detach().requires_grad_(True), rather than torch.tensor(sourceTensor).\n",
            "  \n"
          ],
          "name": "stderr"
        },
        {
          "output_type": "stream",
          "text": [
            "The model accuracy on the validation dataset after training is 0.35\n"
          ],
          "name": "stdout"
        },
        {
          "output_type": "stream",
          "text": [
            "/usr/local/lib/python3.7/dist-packages/ipykernel_launcher.py:21: UserWarning: To copy construct from a tensor, it is recommended to use sourceTensor.clone().detach() or sourceTensor.clone().detach().requires_grad_(True), rather than torch.tensor(sourceTensor).\n"
          ],
          "name": "stderr"
        },
        {
          "output_type": "stream",
          "text": [
            "The model accuracy on the testing dataset after training is 0.43137254901960786\n"
          ],
          "name": "stdout"
        }
      ]
    },
    {
      "cell_type": "code",
      "metadata": {
        "colab": {
          "base_uri": "https://localhost:8080/"
        },
        "id": "Fpm3xOJLeQSW",
        "outputId": "48e7e7c1-2387-4af5-d481-982b6bf1f134"
      },
      "source": [
        "epsilon_range = np.arange(0, 1, 0.5)\n",
        "accs = []\n",
        "loss = nn.CrossEntropyLoss()\n",
        "\n",
        "for epsilon in epsilon_range:\n",
        "  accurates = 0\n",
        "  adv_attack = GradientAttack(loss, epsilon) \n",
        "  for data in test_dataloader:\n",
        "    torch.cuda.empty_cache()   \n",
        "    input = data['x'][0].to(dev)\n",
        "    label = torch.tensor(data['y']).unsqueeze(0).to(dev)\n",
        "    input.requires_grad = True\n",
        "    input = adv_attack.forward(input, label, model, num_iter=1)\n",
        "    model.eval()\n",
        "    out = model(input)\n",
        "    if torch.argmax(out).item() == label:\n",
        "      accurates += 1\n",
        "\n",
        "  accs.append(accurates / len(test_dataloader))\n"
      ],
      "execution_count": null,
      "outputs": [
        {
          "output_type": "stream",
          "text": [
            "/usr/local/lib/python3.7/dist-packages/ipykernel_launcher.py:11: UserWarning: To copy construct from a tensor, it is recommended to use sourceTensor.clone().detach() or sourceTensor.clone().detach().requires_grad_(True), rather than torch.tensor(sourceTensor).\n",
            "  # This is added back by InteractiveShellApp.init_path()\n"
          ],
          "name": "stderr"
        }
      ]
    },
    {
      "cell_type": "code",
      "metadata": {
        "colab": {
          "base_uri": "https://localhost:8080/",
          "height": 298
        },
        "id": "6NWMfU1DfK26",
        "outputId": "b69ba665-b189-44fd-b611-de4a1e07c5d9"
      },
      "source": [
        "plt.plot(epsilon_range, accs)\n",
        "plt.title(\"Epsilon vs. Accuracy for FGSM\")"
      ],
      "execution_count": null,
      "outputs": [
        {
          "output_type": "execute_result",
          "data": {
            "text/plain": [
              "Text(0.5, 1.0, 'Epsilon vs. Accuracy for FGSM')"
            ]
          },
          "metadata": {
            "tags": []
          },
          "execution_count": 98
        },
        {
          "output_type": "display_data",
          "data": {
            "image/png": "[encoded data removed]",
            "text/plain": [
              "<Figure size 432x288 with 1 Axes>"
            ]
          },
          "metadata": {
            "tags": [],
            "needs_background": "light"
          }
        }
      ]
    },
    {
      "cell_type": "markdown",
      "metadata": {
        "id": "XI6-GEvvhiUN"
      },
      "source": [
        "## Results for PGD"
      ]
    },
    {
      "cell_type": "code",
      "metadata": {
        "colab": {
          "base_uri": "https://localhost:8080/"
        },
        "id": "XqghgEylhgDu",
        "outputId": "1185e607-859b-49b1-b8ff-2a3fb56831c5"
      },
      "source": [
        "iteration_range = np.arange(2, 51, 2)\n",
        "accs = []\n",
        "loss = nn.CrossEntropyLoss()\n",
        "\n",
        "for iteration in iteration_range:\n",
        "  losses = 0\n",
        "  adv_attack = GradientAttack(loss, 0.1) \n",
        "  for data in test_dataloader:\n",
        "    torch.cuda.empty_cache()   \n",
        "    input = data['x'][0].to(dev)\n",
        "    label = torch.tensor(data['y']).unsqueeze(0).to(dev)\n",
        "    input = adv_attack.forward(input, label, model, num_iter=iteration)\n",
        "    \n",
        "    model.eval()\n",
        "    out = model.lstm_block(input)\n",
        "    losses += loss(out[0].unsqueeze(0), label.squeeze().unsqueeze(0).long()).item()\n",
        "    \n",
        "  accs.append(losses / len(test_dataloader))\n",
        "  print(losses / len(test_dataloader))"
      ],
      "execution_count": 60,
      "outputs": [
        {
          "output_type": "stream",
          "text": [
            "/usr/local/lib/python3.7/dist-packages/ipykernel_launcher.py:11: UserWarning: To copy construct from a tensor, it is recommended to use sourceTensor.clone().detach() or sourceTensor.clone().detach().requires_grad_(True), rather than torch.tensor(sourceTensor).\n",
            "  # This is added back by InteractiveShellApp.init_path()\n"
          ],
          "name": "stderr"
        },
        {
          "output_type": "stream",
          "text": [
            "5.11259461807854\n",
            "8.89475544761209\n",
            "10.25697883905149\n",
            "10.909817676918179\n",
            "11.371799076304717\n",
            "11.768354920779958\n",
            "12.040575588450713\n",
            "12.25114543765199\n",
            "12.397087415059408\n",
            "12.514168421427408\n",
            "12.588468420739268\n",
            "12.63459908728506\n",
            "12.673132111044492\n",
            "12.691571216957241\n",
            "12.70857302347819\n",
            "12.719550170150457\n",
            "12.725254713320265\n",
            "12.72528996187098\n",
            "12.74039451748717\n",
            "12.739738913143382\n",
            "12.742705251656327\n",
            "12.749278498630897\n",
            "12.74870958515242\n",
            "12.74598170261757\n",
            "12.756462209364948\n"
          ],
          "name": "stdout"
        }
      ]
    },
    {
      "cell_type": "code",
      "metadata": {
        "colab": {
          "base_uri": "https://localhost:8080/",
          "height": 298
        },
        "id": "Se-Qm53YjHGR",
        "outputId": "5480ff27-b4f4-432e-b692-10a9b200d3ad"
      },
      "source": [
        "plt.plot(iteration_range, [-i for i in accs])\n",
        "plt.title(\"Iteration vs. Accuracy for PGM\")"
      ],
      "execution_count": null,
      "outputs": [
        {
          "output_type": "execute_result",
          "data": {
            "text/plain": [
              "Text(0.5, 1.0, 'Iteration vs. Accuracy for PGM')"
            ]
          },
          "metadata": {
            "tags": []
          },
          "execution_count": 104
        },
        {
          "output_type": "display_data",
          "data": {
            "image/png": "[encoded data removed]",
            "text/plain": [
              "<Figure size 432x288 with 1 Axes>"
            ]
          },
          "metadata": {
            "tags": [],
            "needs_background": "light"
          }
        }
      ]
    },
    {
      "cell_type": "code",
      "metadata": {
        "id": "WfKR0J0jNCgc",
        "colab": {
          "base_uri": "https://localhost:8080/"
        },
        "outputId": "cb356d22-361e-4982-c1d6-90277fb16c98"
      },
      "source": [
        "iteration_range = np.arange(2, 51, 2)\n",
        "accs2 = []\n",
        "loss = nn.CrossEntropyLoss()\n",
        "\n",
        "for iteration in iteration_range:\n",
        "  losses = 0\n",
        "  adv_attack2 = HAttack(loss, 0.1)\n",
        "  for data in test_dataloader:\n",
        "    torch.cuda.empty_cache()   \n",
        "    input = data['x'][0].to(dev)\n",
        "    label = torch.tensor(data['y']).unsqueeze(0).to(dev)\n",
        "    input = adv_attack2.forward(input, label, model, num_iter=iteration, pmp_iter=2)\n",
        "\n",
        "    model.eval()\n",
        "    out = model.lstm_block(input)\n",
        "    losses += loss(out[0].unsqueeze(0), label.squeeze().unsqueeze(0).long()).item()\n",
        "  accs2.append(losses / len(test_dataloader))\n",
        "  print(losses / len(test_dataloader))"
      ],
      "execution_count": 66,
      "outputs": [
        {
          "output_type": "stream",
          "text": [
            "/usr/local/lib/python3.7/dist-packages/ipykernel_launcher.py:11: UserWarning: To copy construct from a tensor, it is recommended to use sourceTensor.clone().detach() or sourceTensor.clone().detach().requires_grad_(True), rather than torch.tensor(sourceTensor).\n",
            "  # This is added back by InteractiveShellApp.init_path()\n"
          ],
          "name": "stderr"
        },
        {
          "output_type": "stream",
          "text": [
            "8.74065674052519\n",
            "10.951149267308852\n",
            "11.77190075668634\n",
            "12.26312224070231\n",
            "12.521677017211914\n",
            "12.643019975400438\n",
            "12.705698069404153\n",
            "12.74011832592534\n",
            "12.752441855037913\n",
            "12.760203006220799\n",
            "12.766189032909917\n",
            "12.769207599116307\n",
            "12.77851744259105\n",
            "12.785858715281767\n",
            "12.781585899053836\n",
            "12.7898655685724\n",
            "12.784029063056497\n",
            "12.793549462860705\n",
            "12.788945141960593\n",
            "12.793237517861758\n",
            "12.796415609471937\n",
            "12.794150576871985\n",
            "12.788183922861137\n",
            "12.796575770658606\n",
            "12.789764497794357\n"
          ],
          "name": "stdout"
        }
      ]
    },
    {
      "cell_type": "code",
      "metadata": {
        "colab": {
          "base_uri": "https://localhost:8080/",
          "height": 624
        },
        "id": "Do3CRXYOnBRc",
        "outputId": "5b754182-2593-44c4-82d9-ca182f665882"
      },
      "source": [
        "plt.figure(figsize=(10,10))\n",
        "plt.plot(iteration_range, [-i for i in accs], 'r-', label='PGD')\n",
        "plt.plot(iteration_range, [-i for i in accs2], 'b--', label='PMP-1')\n",
        "plt.legend()\n",
        "plt.title(\"Iteration vs. Loss, alpha=0.01\")"
      ],
      "execution_count": 65,
      "outputs": [
        {
          "output_type": "execute_result",
          "data": {
            "text/plain": [
              "Text(0.5, 1.0, 'Iteration vs. Loss, alpha=0.01')"
            ]
          },
          "metadata": {
            "tags": []
          },
          "execution_count": 65
        },
        {
          "output_type": "display_data",
          "data": {
            "image/png": "[encoded data removed]",
            "text/plain": [
              "<Figure size 720x720 with 1 Axes>"
            ]
          },
          "metadata": {
            "tags": [],
            "needs_background": "light"
          }
        }
      ]
    },
    {
      "cell_type": "code",
      "metadata": {
        "colab": {
          "base_uri": "https://localhost:8080/",
          "height": 624
        },
        "id": "xcC7LQS5OxH2",
        "outputId": "94ef9261-fc57-4241-e34a-6127714fcf0f"
      },
      "source": [
        "plt.figure(figsize=(10,10))\n",
        "plt.plot(iteration_range, [-i for i in accs], 'r-', label='PGD')\n",
        "plt.plot(iteration_range, [-i for i in accs2], 'b--', label='PMP-2')\n",
        "plt.legend()\n",
        "plt.title(\"Iteration vs. Loss, alpha=0.01\")"
      ],
      "execution_count": 68,
      "outputs": [
        {
          "output_type": "execute_result",
          "data": {
            "text/plain": [
              "Text(0.5, 1.0, 'Iteration vs. Loss, alpha=0.01')"
            ]
          },
          "metadata": {
            "tags": []
          },
          "execution_count": 68
        },
        {
          "output_type": "display_data",
          "data": {
            "image/png": "[encoded data removed]",
            "text/plain": [
              "<Figure size 720x720 with 1 Axes>"
            ]
          },
          "metadata": {
            "tags": [],
            "needs_background": "light"
          }
        }
      ]
    }
  ]
}