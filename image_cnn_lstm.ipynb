{
  "nbformat": 4,
  "nbformat_minor": 0,
  "metadata": {
    "accelerator": "GPU",
    "colab": {
      "name": "image_cnn_lstm.ipynb",
      "provenance": [],
      "collapsed_sections": [],
      "include_colab_link": true
    },
    "kernelspec": {
      "display_name": "Python 3",
      "language": "python",
      "name": "python3"
    },
    "language_info": {
      "codemirror_mode": {
        "name": "ipython",
        "version": 3
      },
      "file_extension": ".py",
      "mimetype": "text/x-python",
      "name": "python",
      "nbconvert_exporter": "python",
      "pygments_lexer": "ipython3",
      "version": "3.8.3"
    }
  },
  "cells": [
    {
      "cell_type": "markdown",
      "metadata": {
        "id": "view-in-github",
        "colab_type": "text"
      },
      "source": [
        "<a href=\"https://colab.research.google.com/github/ypeng22/DLFinal/blob/main/image_cnn_lstm.ipynb\" target=\"_parent\"><img src=\"https://colab.research.google.com/assets/colab-badge.svg\" alt=\"Open In Colab\"/></a>"
      ]
    },
    {
      "cell_type": "code",
      "metadata": {
        "colab": {
          "base_uri": "https://localhost:8080/"
        },
        "id": "uaeIrmEl47Zu",
        "outputId": "6260c3cc-6fc1-4c0b-ef30-56ddb60dc844"
      },
      "source": [
        "## Mount Google Drive Data (If using Google Colaboratory)\n",
        "try:\n",
        "    from google.colab import drive\n",
        "    drive.mount('/content/gdrive')\n",
        "except:\n",
        "    print(\"Mounting Failed.\")"
      ],
      "execution_count": 33,
      "outputs": [
        {
          "output_type": "stream",
          "text": [
            "Drive already mounted at /content/gdrive; to attempt to forcibly remount, call drive.mount(\"/content/gdrive\", force_remount=True).\n"
          ],
          "name": "stdout"
        }
      ]
    },
    {
      "cell_type": "code",
      "metadata": {
        "id": "lFBxxrDl5IAD"
      },
      "source": [
        "data_dir = \"/content/gdrive/MyDrive/rgb_video_data\""
      ],
      "execution_count": 34,
      "outputs": []
    },
    {
      "cell_type": "code",
      "metadata": {
        "colab": {
          "base_uri": "https://localhost:8080/",
          "height": 301
        },
        "id": "GU0-4AKI2E5Z",
        "outputId": "c86e0b3a-ca32-4c8f-cd06-4780e5e1a947"
      },
      "source": [
        "import numpy as np\n",
        "import matplotlib.pyplot as plt\n",
        "import torch\n",
        "from torch.utils.data import Dataset, DataLoader\n",
        "import os\n",
        "import torch\n",
        "import torch.nn as nn\n",
        "import matplotlib.pyplot as plt\n",
        "import torchvision.transforms as transforms\n",
        "from torchvision.models import resnet101\n",
        "import random\n",
        "\n",
        "subjects = ['S01', 'S02', 'S03', 'S04', 'S05','S06', 'S07', 'S08', 'S09', 'S10', 'S11', 'S12']\n",
        "actions = ['A01', 'A02', 'A03', 'A04', 'A05','A06', 'A07', 'A08', 'A09', 'A10', 'A11']\n",
        "reps = ['R01', 'R02', 'R03', 'R04', 'R05']\n",
        "\n",
        "class BerkeleyMHAD(Dataset):\n",
        "\n",
        "    def __init__(self, vid_names, root_dir, classes, transform=None):\n",
        "        self.vid_names = vid_names # list of file names for videos (ex. S01_A01_R01)\n",
        "        self.root_dir = root_dir # directory where videos are stored\n",
        "        self.transform = transform\n",
        "        self.classes = classes\n",
        "        \n",
        "    def __len__(self):\n",
        "        return len(self.vid_names)\n",
        "\n",
        "    def __getitem__(self, idx):\n",
        "        if torch.is_tensor(idx):\n",
        "            idx = idx.tolist()\n",
        "\n",
        "        path = os.path.join(self.root_dir, self.vid_names[idx])\n",
        "        x = np.load(path)['x']\n",
        "        \n",
        "        data = []\n",
        "        if self.transform:\n",
        "            for i in range(x.shape[0]):\n",
        "                data.append(self.transform(x[i]))\n",
        "        \n",
        "        vid_tensor = torch.stack(data)\n",
        "        label = self.classes.index(np.load(path)['y']) \n",
        "        sample = {'x': vid_tensor, 'y': label}\n",
        "\n",
        "        return sample\n",
        "    \n",
        "class cnn_lstm(nn.Module):\n",
        "    def __init__(self, classes):\n",
        "        super(cnn_lstm, self).__init__()\n",
        "        self.conv1 = nn.Conv2d(3, 16, 3)\n",
        "        self.conv2 = nn.Conv2d(16, 32, 3)\n",
        "        self.conv3 = nn.Conv2d(32, 64, 3)\n",
        "        self.pool1 = nn.MaxPool2d(3)\n",
        "        self.n_hidden = 256\n",
        "        self.n_layers = 3\n",
        "        self.l_lstm = torch.nn.LSTM(input_size = 300, \n",
        "                                 hidden_size = self.n_hidden,\n",
        "                                 num_layers = self.n_layers, \n",
        "                                 batch_first = True)\n",
        "        self.fc1 = nn.Linear(1000, 300)\n",
        "        self.fc2 = nn.Linear(256, 128)\n",
        "        self.fc3 = nn.Linear(128, classes)\n",
        "        #self.relu = nn.LeakyReLU(.1)\n",
        "        self.relu = nn.ReLU()\n",
        "\n",
        "        self._initialize_weights()\n",
        "        self.resnet = resnet101(pretrained=True)\n",
        "        #self.soft = nn.Softmax(dim = 0)\n",
        "\n",
        "    def forward(self, x):\n",
        "        batch = x.shape[0]\n",
        "        #intialize lstm hidden state\n",
        "        hidden_state = torch.zeros(self.n_layers, 1, self.n_hidden).to(dev)\n",
        "        cell_state = torch.zeros(self.n_layers, 1, self.n_hidden).to(dev)\n",
        "        #hidden_state = torch.randn(self.n_layers, 1, self.n_hidden).to(dev)\n",
        "        #cell_state = torch.randn(self.n_layers, 1, self.n_hidden).to(dev)\n",
        "        self.hidden = (hidden_state, cell_state)\n",
        "        \n",
        "        #x = self.pool1(self.relu(self.conv1(x)))\n",
        "        #x = self.pool1(self.relu(self.conv2(x)))\n",
        "        #x = self.pool1(self.relu(self.conv3(x)))\n",
        "        with torch.no_grad():\n",
        "            x = self.resnet(x)\n",
        "\n",
        "        #print(x.shape)\n",
        "        x = x.reshape(batch, -1).unsqueeze(0)\n",
        "        x = self.fc1(x)\n",
        "        lstm_out, _ = self.l_lstm(x, self.hidden) #lstm_out shape is batch_size, seq len, hidden state\n",
        "        lstm_out = lstm_out[:,-1,:]\n",
        "        lstm_out = self.relu(self.fc2(lstm_out.squeeze()))\n",
        "        lstm_out = (self.fc3(lstm_out))\n",
        "        #print(lstm_out.shape)\n",
        "        #lstm_out = self.soft(lstm_out)\n",
        "        return lstm_out\n",
        "\n",
        "    def _initialize_weights(self):\n",
        "        for m in self.modules():\n",
        "            if isinstance(m, nn.Conv2d):\n",
        "                nn.init.kaiming_normal_(m.weight, mode='fan_out',\n",
        "                                        nonlinearity='relu')\n",
        "                if m.bias is not None:\n",
        "                    nn.init.constant_(m.bias, 0)\n",
        "            elif isinstance(m, nn.Linear):\n",
        "                nn.init.kaiming_normal_(m.weight, mode='fan_out',\n",
        "                                        nonlinearity='relu')\n",
        "                nn.init.constant_(m.bias, 0)\n",
        "    \n",
        "def check(i):\n",
        "    #insert more i.find terms for each action\n",
        "    return i.find('A01') != -1 or i.find('A07') != -1 or i.find('A03') != -1 or i.find('A010') != -1\n",
        "#vid_names = [i for i in next(os.walk(data_dir))[2] if check(i)]\n",
        "\n",
        "vid_names = os.listdir(data_dir)\n",
        "train_vid_names = [i for i in vid_names if i.find('S09') == -1 and i.find('S10') == -1 and i.find('S11') == -1 and i.find('S12') == -1]\n",
        "valid_vid_names = [i for i in vid_names if i.find('S09') != -1 ]\n",
        "test_vid_names = [i for i in vid_names if i.find('S10') != -1 or i.find('S11') != -1 or i.find('S12') != -1]\n",
        "\n",
        "#data shape is (num_pics, height, width, channel)\n",
        "Normalize = transforms.Normalize(mean=[0.485, 0.456, 0.406],\n",
        "                                 std=[0.229, 0.224, 0.225])\n",
        "train_dataset = BerkeleyMHAD(train_vid_names, data_dir, classes = np.arange(0, 11).tolist(), transform=transforms.Compose([transforms.ToTensor(), Normalize]))\n",
        "valid_dataset = BerkeleyMHAD(valid_vid_names, data_dir, classes = np.arange(0, 11).tolist(), transform=transforms.Compose([transforms.ToTensor(), Normalize]))\n",
        "test_dataset = BerkeleyMHAD(test_vid_names, data_dir, classes = np.arange(0, 11).tolist(), transform=transforms.Compose([transforms.ToTensor(), Normalize]))\n",
        "plt.imshow(np.transpose(train_dataset[0]['x'][0]))\n",
        "print(train_dataset[0]['x'][0].shape)\n",
        "\n",
        "batch_size = 1\n",
        "\n",
        "dev = torch.device(\"cuda:0\" if torch.cuda.is_available() else \"cpu\")\n",
        "#change 2 to number of classes"
      ],
      "execution_count": 23,
      "outputs": [
        {
          "output_type": "stream",
          "text": [
            "Clipping input data to the valid range for imshow with RGB data ([0..1] for floats or [0..255] for integers).\n"
          ],
          "name": "stderr"
        },
        {
          "output_type": "stream",
          "text": [
            "torch.Size([3, 240, 180])\n"
          ],
          "name": "stdout"
        },
        {
          "output_type": "display_data",
          "data": {
            "image/png": "[encoded data removed]",
            "text/plain": [
              "<Figure size 432x288 with 1 Axes>"
            ]
          },
          "metadata": {
            "tags": [],
            "needs_background": "light"
          }
        }
      ]
    },
    {
      "cell_type": "code",
      "metadata": {
        "id": "8RA1GWKl2E5c",
        "colab": {
          "base_uri": "https://localhost:8080/"
        },
        "outputId": "9e75340c-4e0e-49d7-de36-de68062d2fa7"
      },
      "source": [
        "model = cnn_lstm(11).to(dev)\n",
        "optimizer = torch.optim.Adam(model.parameters(), lr=1e-4)\n",
        "criterion = nn.CrossEntropyLoss()\n",
        "epoch = 10\n",
        "#train\n",
        "shuffled = np.arange(len(train_dataset))\n",
        "\n",
        "tguess = []\n",
        "tanswers = []\n",
        "tcorrect = 0\n",
        "ttotal = 0\n",
        "for t in range(epoch):\n",
        "    train_loss = 0\n",
        "    valid_loss = 0\n",
        "    tguess = []\n",
        "    tanswers = []\n",
        "    tcorrect = 0\n",
        "    ttotal = 0\n",
        "    random.shuffle(shuffled)\n",
        "\n",
        "    for i in range(len(train_dataset)):\n",
        "        optimizer.zero_grad()\n",
        "\n",
        "        data = train_dataset[shuffled[i]]\n",
        "        inpt = data['x'].to(dev)\n",
        "        label = torch.tensor(data['y']).unsqueeze(0).to(dev)\n",
        "        output = model(inpt).unsqueeze(0)\n",
        "        loss = criterion(output, label) #.view(-1)\n",
        "        loss.backward()\n",
        "        #grads = []\n",
        "        #for param in model.parameters():\n",
        "        #    if param.grad is not None:\n",
        "        #        grads.append(param.grad.view(-1))\n",
        "        \n",
        "        #grads = torch.cat(grads)\n",
        "        #print(torch.sum(grads))\n",
        "        #print(torch.norm(grads))\n",
        "        optimizer.step()  \n",
        "        #optimizer.zero_grad()\n",
        "        train_loss += loss.item()\n",
        "        \n",
        "        if torch.argmax(output.squeeze()) == label:\n",
        "            tcorrect += 1\n",
        "        ttotal += 1\n",
        "        tanswers.append(label.item())\n",
        "        #tguess.append(output[0][1].item())\n",
        "        tguess.append(torch.argmax(output.squeeze()))\n",
        "        \n",
        "    grads = []\n",
        "    for param in model.parameters():\n",
        "        if param.grad is not None:\n",
        "            grads.append(param.grad.view(-1))\n",
        "        \n",
        "    grads = torch.cat(grads)\n",
        "    print(torch.norm(grads))\n",
        "    \n",
        "    torch.cuda.empty_cache()   \n",
        "\n",
        "    with torch.no_grad():\n",
        "        for i in range(len(valid_dataset)):\n",
        "            data = valid_dataset[i]\n",
        "            inpt = data['x'].to(dev)\n",
        "            label = torch.tensor(data['y']).unsqueeze(0).to(dev)\n",
        "            output = model(inpt).unsqueeze(0)\n",
        "            loss = criterion(output, label)\n",
        "            valid_loss += loss.item()\n",
        "    print(\"epoch:\", valid_loss / len(valid_dataset), train_loss / len(train_dataset))\n",
        "    if t % 5 == 0:\n",
        "        torch.save(model.state_dict(), '/content/gdrive/MyDrive/cnn_lstm_epoch_' + str(t) + '_state_dict.pt')\n",
        "\n"
      ],
      "execution_count": 48,
      "outputs": [
        {
          "output_type": "stream",
          "text": [
            "tensor(9.7528e-05, device='cuda:0')\n",
            "epoch: 1.8237866540295231 0.09445890326552842\n",
            "tensor(0.0024, device='cuda:0')\n",
            "epoch: 1.7002018166489672 0.0027241062206988815\n",
            "tensor(0.0137, device='cuda:0')\n",
            "epoch: 1.6936588227317935 0.0004574348591399977\n",
            "tensor(0.0115, device='cuda:0')\n",
            "epoch: 1.680925829712115 0.0002736099190695755\n",
            "tensor(0.0037, device='cuda:0')\n",
            "epoch: 1.6865998418223171 0.00019145629996717824\n",
            "tensor(0.0095, device='cuda:0')\n",
            "epoch: 1.6949399438898167 0.00013891069316691423\n",
            "tensor(0.0016, device='cuda:0')\n",
            "epoch: 1.71181846299172 0.00010306097094017866\n",
            "tensor(0.0003, device='cuda:0')\n",
            "epoch: 1.7298420702924473 7.734914358258647e-05\n",
            "tensor(0.0028, device='cuda:0')\n",
            "epoch: 1.7474399285539055 5.8551658773914965e-05\n",
            "tensor(9.3451e-05, device='cuda:0')\n",
            "epoch: 1.765515011213285 4.484907710777859e-05\n"
          ],
          "name": "stdout"
        }
      ]
    },
    {
      "cell_type": "code",
      "metadata": {
        "colab": {
          "base_uri": "https://localhost:8080/"
        },
        "id": "KALkYqUn2E5d",
        "outputId": "aed7c97e-d55a-4ef9-c0ab-2419d91ef5af"
      },
      "source": [
        "guess = []\n",
        "answers = []\n",
        "correct = 0\n",
        "total = 0\n",
        "with torch.no_grad():\n",
        "    for i in range(len(test_dataset)):\n",
        "        data = test_dataset[i]\n",
        "        inpt = data['x'].to(dev)\n",
        "        label = torch.tensor(data['y']).to(dev)\n",
        "        output2 = model(inpt)\n",
        "        if torch.argmax(output2.squeeze()) == label:\n",
        "            correct += 1\n",
        "        total += 1\n",
        "        answers.append(label.item())\n",
        "        guess.append(output2[1].item())\n",
        "#guess = torch.argmax(guess.squeeze(), dim=1)\n",
        "#guess = np.array(guess).squeeze()\n",
        "print(\"train accuracy = \" + str(tcorrect / ttotal))\n",
        "print(\"test accuracy = \" + str(correct / total))\n",
        "#print('CNN AUC: %.4f' % roc_auc_score(testlabel, guess), ' AUPRC: %.4f' % average_precision_score(testlabel, guess))\n",
        "#torch.save(model, '/content/gdrive/MyDrive/cnn_lstm.torch')"
      ],
      "execution_count": 49,
      "outputs": [
        {
          "output_type": "stream",
          "text": [
            "train accuracy = 1.0\n",
            "test accuracy = 0.6535947712418301\n"
          ],
          "name": "stdout"
        }
      ]
    }
  ]
}