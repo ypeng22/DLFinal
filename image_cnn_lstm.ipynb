{
  "nbformat": 4,
  "nbformat_minor": 0,
  "metadata": {
    "accelerator": "GPU",
    "colab": {
      "name": "Copy of image_cnn_lstm.ipynb",
      "provenance": [],
      "collapsed_sections": [],
      "include_colab_link": true
    },
    "kernelspec": {
      "display_name": "Python 3",
      "language": "python",
      "name": "python3"
    },
    "language_info": {
      "codemirror_mode": {
        "name": "ipython",
        "version": 3
      },
      "file_extension": ".py",
      "mimetype": "text/x-python",
      "name": "python",
      "nbconvert_exporter": "python",
      "pygments_lexer": "ipython3",
      "version": "3.8.3"
    }
  },
  "cells": [
    {
      "cell_type": "markdown",
      "metadata": {
        "id": "view-in-github",
        "colab_type": "text"
      },
      "source": [
        "<a href=\"https://colab.research.google.com/github/ypeng22/DLFinal/blob/main/image_cnn_lstm.ipynb\" target=\"_parent\"><img src=\"https://colab.research.google.com/assets/colab-badge.svg\" alt=\"Open In Colab\"/></a>"
      ]
    },
    {
      "cell_type": "code",
      "metadata": {
        "colab": {
          "base_uri": "https://localhost:8080/"
        },
        "id": "uaeIrmEl47Zu",
        "outputId": "9653d499-9de4-4d4d-97c4-358dfa4a5201"
      },
      "source": [
        "## Mount Google Drive Data (If using Google Colaboratory)\n",
        "try:\n",
        "    from google.colab import drive\n",
        "    drive.mount('/content/gdrive')\n",
        "except:\n",
        "    print(\"Mounting Failed.\")"
      ],
      "execution_count": 1,
      "outputs": [
        {
          "output_type": "stream",
          "text": [
            "Drive already mounted at /content/gdrive; to attempt to forcibly remount, call drive.mount(\"/content/gdrive\", force_remount=True).\n"
          ],
          "name": "stdout"
        }
      ]
    },
    {
      "cell_type": "code",
      "metadata": {
        "id": "lFBxxrDl5IAD"
      },
      "source": [
        "data_dir = \"/content/gdrive/MyDrive/rgb_video_data\"\n",
        "model_dir = '/content/gdrive/MyDrive/cnn_lstm_epoch_'\n",
        "#data_dir = \"./rgb_video_data\"\n",
        "#model_dir = \"\""
      ],
      "execution_count": 2,
      "outputs": []
    },
    {
      "cell_type": "code",
      "metadata": {
        "colab": {
          "base_uri": "https://localhost:8080/"
        },
        "id": "GU0-4AKI2E5Z",
        "outputId": "ba1f5ff1-898d-4273-fcbc-cf7a975e1f5b"
      },
      "source": [
        "import numpy as np\n",
        "import matplotlib.pyplot as plt\n",
        "import torch\n",
        "from torch.utils.data import Dataset, DataLoader\n",
        "import os\n",
        "import torch\n",
        "import torch.nn as nn\n",
        "import matplotlib.pyplot as plt\n",
        "import torchvision.transforms as transforms\n",
        "from torchvision.models import resnet101\n",
        "import random\n",
        "import imageio\n",
        "import torch.nn.functional as F\n",
        "subjects = ['S01', 'S02', 'S03', 'S04', 'S05','S06', 'S07', 'S08', 'S09', 'S10', 'S11', 'S12']\n",
        "actions = ['A01', 'A02', 'A03', 'A04', 'A05','A06', 'A07', 'A08', 'A09', 'A10', 'A11']\n",
        "reps = ['R01', 'R02', 'R03', 'R04', 'R05']\n",
        "\n",
        "class BerkeleyMHAD(Dataset):\n",
        "\n",
        "    def __init__(self, vid_names, root_dir, classes, transform=None):\n",
        "        self.vid_names = vid_names # list of file names for videos (ex. S01_A01_R01)\n",
        "        self.root_dir = root_dir # directory where videos are stored\n",
        "        self.transform = transform\n",
        "        self.classes = classes\n",
        "        \n",
        "    def __len__(self):\n",
        "        return len(self.vid_names)\n",
        "\n",
        "    def __getitem__(self, idx):\n",
        "        if torch.is_tensor(idx):\n",
        "            idx = idx.tolist()\n",
        "\n",
        "        path = os.path.join(self.root_dir, self.vid_names[idx])\n",
        "        x = np.load(path)['x']\n",
        "        \n",
        "        data = []\n",
        "        if self.transform:\n",
        "            for i in range(x.shape[0]):\n",
        "                data.append(self.transform(x[i]))\n",
        "        \n",
        "        vid_tensor = torch.stack(data)\n",
        "        label = self.classes.index(np.load(path)['y']) \n",
        "        sample = {'x': vid_tensor, 'y': label}\n",
        "\n",
        "        return sample\n",
        "    \n",
        "class cnn_lstm(nn.Module):\n",
        "    def __init__(self, classes):\n",
        "        super(cnn_lstm, self).__init__()\n",
        "        self.conv1 = nn.Conv2d(3, 16, 3)\n",
        "        self.conv2 = nn.Conv2d(16, 32, 3)\n",
        "        self.conv3 = nn.Conv2d(32, 64, 3)\n",
        "        self.conv4 = nn.Conv2d(64, 100, 3)\n",
        "        self.pool1 = nn.MaxPool2d(3)\n",
        "        self.n_hidden = 256\n",
        "        self.n_layers = 3\n",
        "        self.l_lstm = torch.nn.LSTM(input_size = 1500, \n",
        "                                 hidden_size = self.n_hidden,\n",
        "                                 num_layers = self.n_layers, \n",
        "                                 batch_first = True, dropout=.3)\n",
        "        self.fc1 = nn.Linear(1000, 300)\n",
        "        self.fc2 = nn.Linear(256, 128)\n",
        "        self.fc3 = nn.Linear(128, classes)\n",
        "        #self.relu = nn.LeakyReLU(.1)\n",
        "        self.relu = nn.ReLU()\n",
        "\n",
        "        self._initialize_weights()\n",
        "        #self.resnet = resnet101(pretrained=True)\n",
        "        #for param in self.resnet.parameters():\n",
        "            #param.requires_grad = False\n",
        "        #self.soft = nn.Softmax(dim = 0)\n",
        "\n",
        "    def forward(self, x):\n",
        "        batch = x.shape[0]\n",
        "        #intialize lstm hidden state\n",
        "        hidden_state = torch.zeros(self.n_layers, 1, self.n_hidden).to(dev)\n",
        "        cell_state = torch.zeros(self.n_layers, 1, self.n_hidden).to(dev)\n",
        "        #hidden_state = torch.randn(self.n_layers, 1, self.n_hidden).to(dev)\n",
        "        #cell_state = torch.randn(self.n_layers, 1, self.n_hidden).to(dev)\n",
        "        self.hidden = (hidden_state, cell_state)\n",
        "        \n",
        "        #x = self.pool1(self.relu(self.conv1(x)))\n",
        "        #x = self.pool1(self.relu(self.conv2(x)))\n",
        "        #x = self.pool1(self.relu(self.conv3(x)))\n",
        "        #with torch.no_grad():\n",
        "        #x1 = self.resnet(x)\n",
        "        x1 = self.pool1(F.relu(self.conv1(x)))\n",
        "        x1 = self.pool1(F.relu(self.conv2(x1)))\n",
        "        x1 = self.pool1(F.relu(self.conv3(x1)))\n",
        "        x1 = F.relu(self.conv4(x1))\n",
        "        #print(x1.shape)\n",
        "        #print(x.shape)\n",
        "        x1 = x1.reshape(batch, -1).unsqueeze(0)\n",
        "        #x1 = self.fc1(x1)\n",
        "        lstm_out, _ = self.l_lstm(x1, self.hidden) #lstm_out shape is batch_size, seq len, hidden state\n",
        "        lstm_out = lstm_out[:,-1,:]\n",
        "        lstm_out = self.relu(self.fc2(lstm_out.squeeze()))\n",
        "        lstm_out = self.fc3(lstm_out)\n",
        "        #print(lstm_out.shape)\n",
        "        #lstm_out = self.soft(lstm_out)\n",
        "        return lstm_out\n",
        "\n",
        "    def _initialize_weights(self):\n",
        "        for m in self.modules():\n",
        "            if isinstance(m, nn.Conv2d):\n",
        "                nn.init.kaiming_normal_(m.weight, mode='fan_out',\n",
        "                                        nonlinearity='relu')\n",
        "                if m.bias is not None:\n",
        "                    nn.init.constant_(m.bias, 0)\n",
        "            elif isinstance(m, nn.Linear):\n",
        "                nn.init.kaiming_normal_(m.weight, mode='fan_out',\n",
        "                                        nonlinearity='relu')\n",
        "                nn.init.constant_(m.bias, 0)\n",
        "    \n",
        "def check(i):\n",
        "    #insert more i.find terms for each action\n",
        "    return i.find('A01') != -1 or i.find('A02') != -1 or i.find('A05') != -1 or i.find('A07') != -1\n",
        "vid_names = [i for i in next(os.walk(data_dir))[2] if check(i)]\n",
        "\n",
        "#vid_names = os.listdir(data_dir)\n",
        "train_vid_names = [i for i in vid_names if i.find('S09') == -1 and i.find('S10') == -1 and i.find('S11') == -1 and i.find('S12') == -1]\n",
        "valid_vid_names = [i for i in vid_names if i.find('S09') != -1 ]\n",
        "test_vid_names = [i for i in vid_names if i.find('S10') != -1 or i.find('S11') != -1 or i.find('S12') != -1]\n",
        "\n",
        "#data shape is (num_pics, height, width, channel)\n",
        "Normalize = transforms.Normalize(mean=[0.485, 0.456, 0.406],\n",
        "                                 std=[0.229, 0.224, 0.225])\n",
        "train_dataset = BerkeleyMHAD(train_vid_names, data_dir, classes = np.arange(0, 11).tolist(), transform=transforms.Compose([transforms.ToTensor(), Normalize]))\n",
        "valid_dataset = BerkeleyMHAD(valid_vid_names, data_dir, classes = np.arange(0, 11).tolist(), transform=transforms.Compose([transforms.ToTensor(), Normalize]))\n",
        "test_dataset = BerkeleyMHAD(test_vid_names, data_dir, classes = np.arange(0, 11).tolist(), transform=transforms.Compose([transforms.ToTensor(), Normalize]))\n",
        "#plt.imshow(np.transpose(train_dataset[0]['x'][0]))\n",
        "print(train_dataset[0]['x'][0].shape)\n",
        "\n",
        "batch_size = 1\n",
        "\n",
        "dev = torch.device(\"cuda:0\" if torch.cuda.is_available() else \"cpu\")\n",
        "#change 2 to number of classes"
      ],
      "execution_count": 3,
      "outputs": [
        {
          "output_type": "stream",
          "text": [
            "torch.Size([3, 240, 180])\n"
          ],
          "name": "stdout"
        }
      ]
    },
    {
      "cell_type": "code",
      "metadata": {
        "id": "AbgqhvRcfipO",
        "colab": {
          "base_uri": "https://localhost:8080/"
        },
        "outputId": "c5eaf2f6-7f77-47d0-d40e-d659cead3cc1"
      },
      "source": [
        "#print(train_dataset[0]['x'].shape)\n",
        "#imageio.mimwrite('output_filename.mp4', train_dataset[0]['x'].permute(0, 2, 3, 1).numpy() , fps = 22)\n",
        "print(train_dataset[0]['x'].shape)"
      ],
      "execution_count": 4,
      "outputs": [
        {
          "output_type": "stream",
          "text": [
            "torch.Size([126, 3, 240, 180])\n"
          ],
          "name": "stdout"
        }
      ]
    },
    {
      "cell_type": "code",
      "metadata": {
        "id": "C_IXLHqag3PH",
        "colab": {
          "base_uri": "https://localhost:8080/",
          "height": 35
        },
        "outputId": "9d5ca24d-f970-400e-f08a-96876f2ab2aa"
      },
      "source": [
        "i = 0\n",
        "'''for param in model.parameters():\n",
        "  i += torch.numel(param)\n",
        "  #print(param.)\n",
        "print(i)'''"
      ],
      "execution_count": 5,
      "outputs": [
        {
          "output_type": "execute_result",
          "data": {
            "application/vnd.google.colaboratory.intrinsic+json": {
              "type": "string"
            },
            "text/plain": [
              "'for param in model.parameters():\\n  i += torch.numel(param)\\n  #print(param.)\\nprint(i)'"
            ]
          },
          "metadata": {
            "tags": []
          },
          "execution_count": 5
        }
      ]
    },
    {
      "cell_type": "code",
      "metadata": {
        "id": "8RA1GWKl2E5c",
        "colab": {
          "base_uri": "https://localhost:8080/",
          "height": 505
        },
        "outputId": "9d03105c-09e0-4388-9728-4bb0d75fb0c0"
      },
      "source": [
        "model = cnn_lstm(4).to(dev)\n",
        "optimizer = torch.optim.Adam(model.parameters(), lr=1e-4)\n",
        "criterion = nn.CrossEntropyLoss()\n",
        "epoch = 20\n",
        "#train\n",
        "shuffled = np.arange(len(train_dataset))\n",
        "\n",
        "tguess = []\n",
        "tanswers = []\n",
        "tcorrect = 0\n",
        "ttotal = 0\n",
        "for t in range(epoch):\n",
        "    train_loss = 0\n",
        "    valid_loss = 0\n",
        "    tguess = []\n",
        "    tanswers = []\n",
        "    tcorrect = 0\n",
        "    ttotal = 0\n",
        "    random.shuffle(shuffled)\n",
        "\n",
        "    for i in range(len(train_dataset)):\n",
        "        if i % 20 == 0:\n",
        "          print(i)\n",
        "        optimizer.zero_grad()\n",
        "        torch.cuda.empty_cache()\n",
        "        data = train_dataset[shuffled[i]]\n",
        "        inpt = data['x'].to(dev)\n",
        "        label = torch.tensor(data['y']).unsqueeze(0).to(dev)\n",
        "        output = model(inpt).unsqueeze(0)\n",
        "        loss = criterion(output, label) #.view(-1)\n",
        "        loss.backward()\n",
        "        #grads = []\n",
        "        #for param in model.parameters():\n",
        "        #    if param.grad is not None:\n",
        "        #        grads.append(param.grad.view(-1))\n",
        "        \n",
        "        #grads = torch.cat(grads)\n",
        "        #print(torch.sum(grads))\n",
        "        #print(torch.norm(grads))\n",
        "        optimizer.step()  \n",
        "        #optimizer.zero_grad()\n",
        "        train_loss += loss.item()\n",
        "        \n",
        "        if torch.argmax(output.squeeze()) == label:\n",
        "            tcorrect += 1\n",
        "        ttotal += 1\n",
        "        tanswers.append(label.item())\n",
        "        #tguess.append(output[0][1].item())\n",
        "        tguess.append(torch.argmax(output.squeeze()))\n",
        "        \n",
        "    '''grads = []\n",
        "    for param in model.parameters():\n",
        "        if param.grad is not None:\n",
        "            grads.append(param.grad.view(-1))\n",
        "        \n",
        "    grads = torch.cat(grads)\n",
        "    print(\"norms: \", torch.norm(grads))'''\n",
        "    \n",
        "    torch.cuda.empty_cache()   \n",
        "\n",
        "    '''with torch.no_grad():\n",
        "        for i in range(len(valid_dataset)):\n",
        "            torch.cuda.empty_cache()\n",
        "            data = valid_dataset[i]\n",
        "            inpt = data['x'].to(dev)\n",
        "            label = torch.tensor(data['y']).unsqueeze(0).to(dev)\n",
        "            output = model(inpt).unsqueeze(0)\n",
        "            loss = criterion(output, label)\n",
        "            valid_loss += loss.item()'''\n",
        "    print(\"epoch:\", t, \" \", valid_loss / len(valid_dataset), train_loss / len(train_dataset))\n",
        "    if t % 3 == 0:\n",
        "        torch.save(model.state_dict(), model_dir + str(t) + '_state_dict.pt')\n",
        "\n"
      ],
      "execution_count": 6,
      "outputs": [
        {
          "output_type": "stream",
          "text": [
            "0\n"
          ],
          "name": "stdout"
        },
        {
          "output_type": "error",
          "ename": "RuntimeError",
          "evalue": "ignored",
          "traceback": [
            "\u001b[0;31m---------------------------------------------------------------------------\u001b[0m",
            "\u001b[0;31mRuntimeError\u001b[0m                              Traceback (most recent call last)",
            "\u001b[0;32m<ipython-input-6-870cb7b0e84b>\u001b[0m in \u001b[0;36m<module>\u001b[0;34m()\u001b[0m\n\u001b[1;32m     29\u001b[0m         \u001b[0moutput\u001b[0m \u001b[0;34m=\u001b[0m \u001b[0mmodel\u001b[0m\u001b[0;34m(\u001b[0m\u001b[0minpt\u001b[0m\u001b[0;34m)\u001b[0m\u001b[0;34m.\u001b[0m\u001b[0munsqueeze\u001b[0m\u001b[0;34m(\u001b[0m\u001b[0;36m0\u001b[0m\u001b[0;34m)\u001b[0m\u001b[0;34m\u001b[0m\u001b[0;34m\u001b[0m\u001b[0m\n\u001b[1;32m     30\u001b[0m         \u001b[0mloss\u001b[0m \u001b[0;34m=\u001b[0m \u001b[0mcriterion\u001b[0m\u001b[0;34m(\u001b[0m\u001b[0moutput\u001b[0m\u001b[0;34m,\u001b[0m \u001b[0mlabel\u001b[0m\u001b[0;34m)\u001b[0m \u001b[0;31m#.view(-1)\u001b[0m\u001b[0;34m\u001b[0m\u001b[0;34m\u001b[0m\u001b[0m\n\u001b[0;32m---> 31\u001b[0;31m         \u001b[0mloss\u001b[0m\u001b[0;34m.\u001b[0m\u001b[0mbackward\u001b[0m\u001b[0;34m(\u001b[0m\u001b[0;34m)\u001b[0m\u001b[0;34m\u001b[0m\u001b[0;34m\u001b[0m\u001b[0m\n\u001b[0m\u001b[1;32m     32\u001b[0m         \u001b[0;31m#grads = []\u001b[0m\u001b[0;34m\u001b[0m\u001b[0;34m\u001b[0m\u001b[0;34m\u001b[0m\u001b[0m\n\u001b[1;32m     33\u001b[0m         \u001b[0;31m#for param in model.parameters():\u001b[0m\u001b[0;34m\u001b[0m\u001b[0;34m\u001b[0m\u001b[0;34m\u001b[0m\u001b[0m\n",
            "\u001b[0;32m/usr/local/lib/python3.7/dist-packages/torch/tensor.py\u001b[0m in \u001b[0;36mbackward\u001b[0;34m(self, gradient, retain_graph, create_graph, inputs)\u001b[0m\n\u001b[1;32m    243\u001b[0m                 \u001b[0mcreate_graph\u001b[0m\u001b[0;34m=\u001b[0m\u001b[0mcreate_graph\u001b[0m\u001b[0;34m,\u001b[0m\u001b[0;34m\u001b[0m\u001b[0;34m\u001b[0m\u001b[0m\n\u001b[1;32m    244\u001b[0m                 inputs=inputs)\n\u001b[0;32m--> 245\u001b[0;31m         \u001b[0mtorch\u001b[0m\u001b[0;34m.\u001b[0m\u001b[0mautograd\u001b[0m\u001b[0;34m.\u001b[0m\u001b[0mbackward\u001b[0m\u001b[0;34m(\u001b[0m\u001b[0mself\u001b[0m\u001b[0;34m,\u001b[0m \u001b[0mgradient\u001b[0m\u001b[0;34m,\u001b[0m \u001b[0mretain_graph\u001b[0m\u001b[0;34m,\u001b[0m \u001b[0mcreate_graph\u001b[0m\u001b[0;34m,\u001b[0m \u001b[0minputs\u001b[0m\u001b[0;34m=\u001b[0m\u001b[0minputs\u001b[0m\u001b[0;34m)\u001b[0m\u001b[0;34m\u001b[0m\u001b[0;34m\u001b[0m\u001b[0m\n\u001b[0m\u001b[1;32m    246\u001b[0m \u001b[0;34m\u001b[0m\u001b[0m\n\u001b[1;32m    247\u001b[0m     \u001b[0;32mdef\u001b[0m \u001b[0mregister_hook\u001b[0m\u001b[0;34m(\u001b[0m\u001b[0mself\u001b[0m\u001b[0;34m,\u001b[0m \u001b[0mhook\u001b[0m\u001b[0;34m)\u001b[0m\u001b[0;34m:\u001b[0m\u001b[0;34m\u001b[0m\u001b[0;34m\u001b[0m\u001b[0m\n",
            "\u001b[0;32m/usr/local/lib/python3.7/dist-packages/torch/autograd/__init__.py\u001b[0m in \u001b[0;36mbackward\u001b[0;34m(tensors, grad_tensors, retain_graph, create_graph, grad_variables, inputs)\u001b[0m\n\u001b[1;32m    145\u001b[0m     Variable._execution_engine.run_backward(\n\u001b[1;32m    146\u001b[0m         \u001b[0mtensors\u001b[0m\u001b[0;34m,\u001b[0m \u001b[0mgrad_tensors_\u001b[0m\u001b[0;34m,\u001b[0m \u001b[0mretain_graph\u001b[0m\u001b[0;34m,\u001b[0m \u001b[0mcreate_graph\u001b[0m\u001b[0;34m,\u001b[0m \u001b[0minputs\u001b[0m\u001b[0;34m,\u001b[0m\u001b[0;34m\u001b[0m\u001b[0;34m\u001b[0m\u001b[0m\n\u001b[0;32m--> 147\u001b[0;31m         allow_unreachable=True, accumulate_grad=True)  # allow_unreachable flag\n\u001b[0m\u001b[1;32m    148\u001b[0m \u001b[0;34m\u001b[0m\u001b[0m\n\u001b[1;32m    149\u001b[0m \u001b[0;34m\u001b[0m\u001b[0m\n",
            "\u001b[0;31mRuntimeError\u001b[0m: CUDA error: device-side assert triggered"
          ]
        }
      ]
    },
    {
      "cell_type": "code",
      "metadata": {
        "id": "xlTXhuu5fipQ"
      },
      "source": [
        "del output2\n",
        "del loss"
      ],
      "execution_count": null,
      "outputs": []
    },
    {
      "cell_type": "code",
      "metadata": {
        "id": "QVBp8g4ifipR"
      },
      "source": [
        "'''model = cnn_lstm(11).to(dev)\n",
        "optimizer = torch.optim.Adam(model.parameters(), lr=1e-4)\n",
        "criterion = nn.CrossEntropyLoss()'''"
      ],
      "execution_count": null,
      "outputs": []
    },
    {
      "cell_type": "code",
      "metadata": {
        "id": "rcX5FKvmfipR"
      },
      "source": [
        "#valid_dataset[i]['x'].shape"
      ],
      "execution_count": null,
      "outputs": []
    },
    {
      "cell_type": "code",
      "metadata": {
        "id": "h2hj7GU4fipR"
      },
      "source": [
        "#print(torch.cuda.memory_summary(dev))"
      ],
      "execution_count": null,
      "outputs": []
    },
    {
      "cell_type": "code",
      "metadata": {
        "id": "KALkYqUn2E5d"
      },
      "source": [
        "guess = []\n",
        "answers = []\n",
        "correct = 0\n",
        "total = 0\n",
        "dev = torch.device(\"cuda:0\")\n",
        "model = model.to(dev)\n",
        "#with torch.no_grad():\n",
        "for i in range(len(test_dataset)):\n",
        "    if i % 10 == 0:\n",
        "      print(i)\n",
        "    data = test_dataset[i]\n",
        "    inpt = data['x'].to(dev)\n",
        "    label = torch.tensor(data['y']).to(dev)\n",
        "    output2 = model(inpt)\n",
        "    if torch.argmax(output2.squeeze()) == label:\n",
        "        correct += 1\n",
        "    total += 1\n",
        "    answers.append(label.item())\n",
        "    guess.append(output2[1].item())\n",
        "    del output2\n",
        "    torch.cuda.empty_cache()\n",
        "#guess = torch.argmax(guess.squeeze(), dim=1)\n",
        "#guess = np.array(guess).squeeze()\n",
        "print(\"train accuracy = \" + str(tcorrect / ttotal))\n",
        "print(\"test accuracy = \" + str(correct / total))\n",
        "#print('CNN AUC: %.4f' % roc_auc_score(testlabel, guess), ' AUPRC: %.4f' % average_precision_score(testlabel, guess))\n",
        "#torch.save(model, '/content/gdrive/MyDrive/cnn_lstm.torch')"
      ],
      "execution_count": null,
      "outputs": []
    },
    {
      "cell_type": "code",
      "metadata": {
        "id": "peZCSf5_fipS"
      },
      "source": [
        "from torch.autograd import Variable\n",
        "class GradientAttack():\n",
        "        \n",
        "        \"\"\"\n",
        "        \n",
        "        \"\"\"\n",
        "        \n",
        "        def __init__(self, loss, epsilon):\n",
        "            \"\"\"\n",
        "            \n",
        "            \"\"\"\n",
        "            self.loss = loss\n",
        "            self.epsilon = epsilon\n",
        "\n",
        "        def forward(self, x, y_true, model):\n",
        "            \"\"\"\n",
        "            \n",
        "            \"\"\"\n",
        "            # TODO: Implement a one step gradient attack\n",
        "            # Step 1: Calculate the Loss and then calculate the\n",
        "            # gradient of the Loss w.r.t the image\n",
        "            y_true = torch.Tensor([y_true]).cuda()\n",
        "            loss = self.loss(model(x).unsqueeze(0), y_true.long())\n",
        "            #x.requires_grad = True\n",
        "            loss.backward()\n",
        "            # Step 2: Add the gradient (or its sign for each pixel),\n",
        "            # multiplied by a small step size, to \n",
        "            # the original image\n",
        "            # you might need to clamp the modified image to \n",
        "            # make sure the values of each pixel are between [0,1]\n",
        "            x = x + torch.sign(x.grad) * self.epsilon\n",
        "            return x"
      ],
      "execution_count": null,
      "outputs": []
    },
    {
      "cell_type": "code",
      "metadata": {
        "id": "tab6Li0PfipV"
      },
      "source": [
        "adv_attack = GradientAttack(criterion, 0.1)\n",
        "guess = []\n",
        "answers = []\n",
        "correct = 0\n",
        "total = 0\n",
        "dev = torch.device('cuda:0')\n",
        "model = model.to(dev)\n",
        "\n",
        "for i in range(len(test_dataset)):\n",
        "    data = test_dataset[i]\n",
        "    inpt = data['x'].to(dev)\n",
        "    inpt2 = Variable(inpt, requires_grad=True)\n",
        "    label = torch.tensor(data['y']).to(dev)\n",
        "    inpt3 = adv_attack.forward(inpt2, label, model)\n",
        "    output3 = model(inpt3)\n",
        "    if torch.argmax(output3.squeeze()) == label:\n",
        "        correct += 1\n",
        "    total += 1\n",
        "    answers.append(label.item())\n",
        "    guess.append(output3[1].item())\n",
        "    del output3\n",
        "    torch.cuda.empty_cache()\n",
        "#guess = torch.argmax(guess.squeeze(), dim=1)\n",
        "#guess = np.array(guess).squeeze()\n",
        "print(\"train accuracy = \" + str(tcorrect / ttotal))\n",
        "print(\"test accuracy = \" + str(correct / total))"
      ],
      "execution_count": null,
      "outputs": []
    },
    {
      "cell_type": "code",
      "metadata": {
        "id": "PuZtNhi_pBiR"
      },
      "source": [
        "print(torch.cuda.memory_summary(dev))"
      ],
      "execution_count": null,
      "outputs": []
    },
    {
      "cell_type": "code",
      "metadata": {
        "id": "l6yCWP7BfipV"
      },
      "source": [
        ""
      ],
      "execution_count": null,
      "outputs": []
    }
  ]
}