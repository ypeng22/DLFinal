{
  "nbformat": 4,
  "nbformat_minor": 0,
  "metadata": {
    "accelerator": "GPU",
    "colab": {
      "name": "Copy of image_cnn_lstm.ipynb",
      "provenance": [],
      "collapsed_sections": [],
      "include_colab_link": true
    },
    "kernelspec": {
      "display_name": "Python 3",
      "language": "python",
      "name": "python3"
    },
    "language_info": {
      "codemirror_mode": {
        "name": "ipython",
        "version": 3
      },
      "file_extension": ".py",
      "mimetype": "text/x-python",
      "name": "python",
      "nbconvert_exporter": "python",
      "pygments_lexer": "ipython3",
      "version": "3.8.3"
    }
  },
  "cells": [
    {
      "cell_type": "markdown",
      "metadata": {
        "id": "view-in-github",
        "colab_type": "text"
      },
      "source": [
        "<a href=\"https://colab.research.google.com/github/ypeng22/DLFinal/blob/main/image_cnn_lstm.ipynb\" target=\"_parent\"><img src=\"https://colab.research.google.com/assets/colab-badge.svg\" alt=\"Open In Colab\"/></a>"
      ]
    },
    {
      "cell_type": "code",
      "metadata": {
        "colab": {
          "base_uri": "https://localhost:8080/"
        },
        "id": "uaeIrmEl47Zu",
        "outputId": "82945aff-5250-4408-feaa-0c80d7d876ea"
      },
      "source": [
        "## Mount Google Drive Data (If using Google Colaboratory)\n",
        "try:\n",
        "    from google.colab import drive\n",
        "    drive.mount('/content/gdrive')\n",
        "except:\n",
        "    print(\"Mounting Failed.\")"
      ],
      "execution_count": null,
      "outputs": [
        {
          "output_type": "stream",
          "text": [
            "Mounted at /content/gdrive\n"
          ],
          "name": "stdout"
        }
      ]
    },
    {
      "cell_type": "code",
      "metadata": {
        "id": "lFBxxrDl5IAD"
      },
      "source": [
        "data_dir = \"/content/gdrive/MyDrive/rgb_video_data\""
      ],
      "execution_count": null,
      "outputs": []
    },
    {
      "cell_type": "code",
      "metadata": {
        "colab": {
          "base_uri": "https://localhost:8080/",
          "height": 303
        },
        "id": "GU0-4AKI2E5Z",
        "outputId": "195ea193-122d-4658-8aaf-8f6e5376df2c"
      },
      "source": [
        "import numpy as np\n",
        "import matplotlib.pyplot as plt\n",
        "import torch\n",
        "from torch.utils.data import Dataset, DataLoader\n",
        "import os\n",
        "import torch\n",
        "import torch.nn as nn\n",
        "import matplotlib.pyplot as plt\n",
        "import torchvision.transforms as transforms\n",
        "from torchvision.models import resnet101\n",
        "import random\n",
        "import torch.nn.functional as F\n",
        "\n",
        "subjects = ['S01', 'S02', 'S03', 'S04', 'S05','S06', 'S07', 'S08', 'S09', 'S10', 'S11', 'S12']\n",
        "actions = ['A01', 'A02', 'A03', 'A04', 'A05','A06', 'A07', 'A08', 'A09', 'A10', 'A11']\n",
        "reps = ['R01', 'R02', 'R03', 'R04', 'R05']\n",
        "\n",
        "class BerkeleyMHAD(Dataset):\n",
        "\n",
        "    def __init__(self, vid_names, root_dir, classes, transform=None):\n",
        "        self.vid_names = vid_names # list of file names for videos (ex. S01_A01_R01)\n",
        "        self.root_dir = root_dir # directory where videos are stored\n",
        "        self.transform = transform\n",
        "        self.classes = classes\n",
        "        \n",
        "    def __len__(self):\n",
        "        return len(self.vid_names)\n",
        "\n",
        "    def __getitem__(self, idx):\n",
        "        if torch.is_tensor(idx):\n",
        "            idx = idx.tolist()\n",
        "\n",
        "        path = os.path.join(self.root_dir, self.vid_names[idx])\n",
        "        x = np.load(path)['x']\n",
        "        \n",
        "        data = []\n",
        "        if self.transform:\n",
        "            for i in range(x.shape[0]):\n",
        "                data.append(self.transform(x[i]))\n",
        "        \n",
        "        vid_tensor = torch.stack(data)\n",
        "        label = self.classes.index(np.load(path)['y']) \n",
        "        sample = {'x': vid_tensor, 'y': label}\n",
        "\n",
        "        return sample\n",
        "\n",
        "class cnn_lstm(nn.Module):\n",
        "    def __init__(self, classes):\n",
        "        super(cnn_lstm, self).__init__()\n",
        "        self.conv1 = nn.Conv2d(3, 16, 3)\n",
        "        self.conv2 = nn.Conv2d(16, 32, 3)\n",
        "        self.conv3 = nn.Conv2d(32, 64, 3)\n",
        "        self.conv4 = nn.Conv2d(64, 100, 3)\n",
        "        self.pool1 = nn.MaxPool2d(3)\n",
        "        self.n_hidden = 128\n",
        "        self.n_layers = 3\n",
        "        self.l_lstm = torch.nn.LSTM(input_size = 1500, \n",
        "                                 hidden_size = self.n_hidden,\n",
        "                                 num_layers = self.n_layers, \n",
        "                                 batch_first = True)\n",
        "        self.fc2 = nn.Linear(128, 64)\n",
        "        self.fc3 = nn.Linear(64, classes)\n",
        "        #self.relu = nn.LeakyReLU(.1)\n",
        "        self.relu = nn.ReLU()\n",
        "\n",
        "        self._initialize_weights()\n",
        "        #self.resnet = resnet101(pretrained=True)\n",
        "        #for param in self.resnet.parameters():\n",
        "            #param.requires_grad = False\n",
        "        #self.soft = nn.Softmax(dim = 0)\n",
        "\n",
        "    def forward(self, x):\n",
        "        batch = x.shape[0]\n",
        "        #intialize lstm hidden state\n",
        "        hidden_state = torch.zeros(self.n_layers, 1, self.n_hidden, requires_grad=True).to(dev)\n",
        "        cell_state = torch.zeros(self.n_layers, 1, self.n_hidden).to(dev)\n",
        "        #hidden_state = torch.randn(self.n_layers, 1, self.n_hidden).to(dev)\n",
        "        #cell_state = torch.randn(self.n_layers, 1, self.n_hidden).to(dev)\n",
        "        self.hidden = (hidden_state, cell_state)\n",
        "        \n",
        "        #x = self.pool1(self.relu(self.conv1(x)))\n",
        "        #x = self.pool1(self.relu(self.conv2(x)))\n",
        "        #x = self.pool1(self.relu(self.conv3(x)))\n",
        "        #with torch.no_grad():\n",
        "        #x1 = self.resnet(x)\n",
        "        x1 = self.pool1(F.relu(self.conv1(x)))\n",
        "        x1 = self.pool1(F.relu(self.conv2(x1)))\n",
        "        x1 = self.pool1(F.relu(self.conv3(x1)))\n",
        "        x1 = F.relu(self.conv4(x1))\n",
        "        #print(x1.shape)\n",
        "        #print(x.shape)\n",
        "        x1 = x1.reshape(batch, -1).unsqueeze(0)\n",
        "        #x1 = F.relu(self.fc1(x1))\n",
        "        lstm_out, _ = self.l_lstm(x1, self.hidden) #lstm_out shape is batch_size, seq len, hidden state\n",
        "        lstm_out = lstm_out[:,-1,:]\n",
        "        lstm_out = self.relu(self.fc2(lstm_out.squeeze()))\n",
        "        lstm_out = self.fc3(lstm_out)\n",
        "        #print(lstm_out.shape)\n",
        "        #lstm_out = self.soft(lstm_out)\n",
        "        return lstm_out\n",
        "\n",
        "    def _initialize_weights(self):\n",
        "        for m in self.modules():\n",
        "            if isinstance(m, nn.Conv2d):\n",
        "                nn.init.kaiming_normal_(m.weight, mode='fan_out',\n",
        "                                        nonlinearity='relu')\n",
        "                if m.bias is not None:\n",
        "                    nn.init.constant_(m.bias, 0)\n",
        "            elif isinstance(m, nn.Linear):\n",
        "                nn.init.kaiming_normal_(m.weight, mode='fan_out',\n",
        "                                        nonlinearity='relu')\n",
        "                nn.init.constant_(m.bias, 0)    \n",
        "\n",
        "def check(i):\n",
        "    #insert more i.find terms for each action\n",
        "    return i.find('A01') != -1 or i.find('A02') != -1 or i.find('A05') != -1 or i.find('A07') != -1 \n",
        "vid_names = [i for i in next(os.walk(data_dir))[2] if check(i)]\n",
        "\n",
        "#vid_names = os.listdir(data_dir)\n",
        "train_vid_names = [i for i in vid_names if i.find('S09') == -1 and i.find('S10') == -1 and i.find('S11') == -1 and i.find('S12') == -1]\n",
        "valid_vid_names = [i for i in vid_names if i.find('S09') != -1 ]\n",
        "test_vid_names = [i for i in vid_names if i.find('S10') != -1 or i.find('S11') != -1 or i.find('S12') != -1]\n",
        "\n",
        "#data shape is (num_pics, height, width, channel)\n",
        "Normalize = transforms.Normalize(mean=[0.485, 0.456, 0.406],\n",
        "                                 std=[0.229, 0.224, 0.225])\n",
        "train_dataset = BerkeleyMHAD(train_vid_names, data_dir, classes = [0, 1, 4, 6], transform=transforms.Compose([transforms.ToTensor(), Normalize]))\n",
        "valid_dataset = BerkeleyMHAD(valid_vid_names, data_dir, classes = [0, 1, 4, 6], transform=transforms.Compose([transforms.ToTensor(), Normalize]))\n",
        "test_dataset = BerkeleyMHAD(test_vid_names, data_dir, classes = [0, 1, 4, 6], transform=transforms.Compose([transforms.ToTensor(), Normalize]))\n",
        "plt.imshow(np.transpose(train_dataset[0]['x'][0]))\n",
        "print(train_dataset[0]['x'].shape)\n",
        "\n",
        "batch_size = 1\n",
        "\n",
        "dev = torch.device(\"cuda:0\" if torch.cuda.is_available() else \"cpu\")\n",
        "#change 2 to number of classes"
      ],
      "execution_count": null,
      "outputs": [
        {
          "output_type": "stream",
          "text": [
            "Clipping input data to the valid range for imshow with RGB data ([0..1] for floats or [0..255] for integers).\n"
          ],
          "name": "stderr"
        },
        {
          "output_type": "stream",
          "text": [
            "torch.Size([126, 3, 240, 180])\n"
          ],
          "name": "stdout"
        },
        {
          "output_type": "display_data",
          "data": {
            "image/png": "[encoded data removed]",
            "text/plain": [
              "<Figure size 432x288 with 1 Axes>"
            ]
          },
          "metadata": {
            "tags": [],
            "needs_background": "light"
          }
        }
      ]
    },
    {
      "cell_type": "code",
      "metadata": {
        "id": "1J_1SIW4PKTy"
      },
      "source": [
        "train_dataloader = DataLoader(train_dataset, batch_size=1, shuffle=True)\n",
        "valid_dataloader = DataLoader(valid_dataset, batch_size=1, shuffle=True)\n",
        "test_dataloader = DataLoader(test_dataset, batch_size=1, shuffle=True)"
      ],
      "execution_count": null,
      "outputs": []
    },
    {
      "cell_type": "code",
      "metadata": {
        "id": "8RA1GWKl2E5c",
        "colab": {
          "base_uri": "https://localhost:8080/"
        },
        "outputId": "41e5ec0d-c176-4a59-a71f-c9a4aef38064"
      },
      "source": [
        "model = cnn_lstm(4).to(dev)\n",
        "#model.load_state_dict(torch.load('/content/gdrive/MyDrive/lstm_checkpoints/cnn_lstm_epoch_20_state_dict.pt'))\n",
        "#resnet = resnet101(pretrained=True).to(dev)\n",
        "#for param in resnet.parameters():\n",
        "#    param.requires_grad = False\n",
        "\n",
        "optimizer = torch.optim.Adam(model.parameters(), lr=1e-4)\n",
        "criterion = nn.CrossEntropyLoss()\n",
        "epoch = 20\n",
        "#train\n",
        "shuffled = np.arange(len(train_dataset))\n",
        "\n",
        "train_losses = []\n",
        "val_losses = []\n",
        "tcorrect = 0\n",
        "ttotal = 0\n",
        "\n",
        "for t in range(epoch):\n",
        "    train_loss = 0\n",
        "    valid_loss = 0\n",
        "    tguess = []\n",
        "    tanswers = []\n",
        "    tcorrect = 0\n",
        "    ttotal = 0\n",
        "    random.shuffle(shuffled)\n",
        "\n",
        "    for i in range(len(train_dataset)):\n",
        "        optimizer.zero_grad()\n",
        "\n",
        "        data = train_dataset[shuffled[i]]\n",
        "        inpt = data['x'].to(dev)\n",
        "        label = torch.tensor(data['y']).unsqueeze(0).to(dev)\n",
        "        output = model(inpt).unsqueeze(0)\n",
        "        loss = criterion(output, label) #.view(-1)\n",
        "        loss.backward()\n",
        "        optimizer.step()  \n",
        "        train_loss += loss.item()\n",
        "        \n",
        "        if torch.argmax(output.squeeze()) == label:\n",
        "            tcorrect += 1\n",
        "        ttotal += 1\n",
        "    \n",
        "    torch.cuda.empty_cache()   \n",
        "\n",
        "    with torch.no_grad():\n",
        "        for i in range(len(valid_dataset)):\n",
        "            data = valid_dataset[i]\n",
        "            inpt = data['x'].to(dev)\n",
        "            label = torch.tensor(data['y']).unsqueeze(0).to(dev)\n",
        "            #inpt = resnet(inpt)\n",
        "            output = model(inpt).unsqueeze(0)\n",
        "            loss = criterion(output, label)\n",
        "            valid_loss += loss.item()\n",
        "    print(\"epoch:\", valid_loss / len(valid_dataset), train_loss / len(train_dataset))\n",
        "    train_losses.append(train_loss / len(train_dataset))\n",
        "    val_losses.append(valid_loss / len(valid_dataset))\n",
        "    if valid_loss / len(valid_dataset) <= min(val_losses):\n",
        "        torch.save(model.state_dict(), '/content/gdrive/MyDrive/lstm_checkpoints/gru_best_state_dict.pt')\n",
        "    \n",
        "\n"
      ],
      "execution_count": null,
      "outputs": [
        {
          "output_type": "stream",
          "text": [
            "epoch: 1.4142863988876342 1.4324573319405318\n",
            "epoch: 1.381662094593048 1.4045347798615695\n",
            "epoch: 1.3934125661849976 1.3373730033636093\n",
            "epoch: 1.438843587040901 1.2487257109954952\n",
            "epoch: 1.2852488800883293 1.101845929119736\n",
            "epoch: 1.2388637974858283 0.8423232199973427\n",
            "epoch: 1.17932870388031 0.7335747314209584\n",
            "epoch: 0.7335460764355958 0.505670765353716\n",
            "epoch: 0.6517629604786634 0.3303128747982555\n",
            "epoch: 0.9241575127001852 0.20803302611548133\n",
            "epoch: 0.6370715679251588 0.12951466689319205\n",
            "epoch: 0.7430198622285389 0.006868164180923486\n",
            "epoch: 0.4940453487681225 0.0018490112868676078\n",
            "epoch: 0.5387790406995918 0.0011603342567468645\n",
            "epoch: 0.5377165327998228 0.000823987326475617\n",
            "epoch: 0.5059725300539867 0.0006459256008838566\n",
            "epoch: 0.47804637541994455 0.0005207259991948376\n",
            "epoch: 0.4593622192987823 0.0004274388639259996\n",
            "epoch: 0.4361598691626568 0.00035617087260106926\n",
            "epoch: 0.421240153178951 0.0003006840742273198\n"
          ],
          "name": "stdout"
        }
      ]
    },
    {
      "cell_type": "code",
      "metadata": {
        "colab": {
          "base_uri": "https://localhost:8080/"
        },
        "id": "KALkYqUn2E5d",
        "outputId": "d7046a05-efb0-466e-e5d5-3a15407826b7"
      },
      "source": [
        "model = cnn_lstm(4).to(dev)\n",
        "model.load_state_dict(torch.load('/content/gdrive/MyDrive/lstm_checkpoints/gru_best_state_dict.pt'))\n",
        "criterion = nn.CrossEntropyLoss()\n",
        "\n",
        "guess = []\n",
        "answers = []\n",
        "correct = 0\n",
        "total = 0\n",
        "with torch.no_grad():\n",
        "    for i in range(len(test_dataset)):\n",
        "        data = test_dataset[i]\n",
        "        inpt = data['x'].to(dev)\n",
        "        label = torch.tensor(data['y']).to(dev)\n",
        "        #inpt = resnet(inpt)\n",
        "        output2 = model(inpt)\n",
        "        if torch.argmax(output2.squeeze()) == label:\n",
        "            correct += 1\n",
        "        total += 1\n",
        "        answers.append(label.item())\n",
        "        guess.append(output2[1].item())\n",
        "#guess = torch.argmax(guess.squeeze(), dim=1)\n",
        "#guess = np.array(guess).squeeze()\n",
        "print(\"train accuracy = \" + str(tcorrect / ttotal))\n",
        "print(\"test accuracy = \" + str(correct / total))\n",
        "#print('CNN AUC: %.4f' % roc_auc_score(testlabel, guess), ' AUPRC: %.4f' % average_precision_score(testlabel, guess))\n",
        "#torch.save(model, '/content/gdrive/MyDrive/cnn_lstm.torch')"
      ],
      "execution_count": null,
      "outputs": [
        {
          "output_type": "stream",
          "text": [
            "train accuracy = 1.0\n",
            "test accuracy = 0.9411764705882353\n"
          ],
          "name": "stdout"
        }
      ]
    },
    {
      "cell_type": "code",
      "metadata": {
        "id": "aWeLiJLm_V5V"
      },
      "source": [
        "from torch.autograd import Variable\n",
        "class GradientAttack():\n",
        "        \n",
        "        \"\"\"\n",
        "        \n",
        "        \"\"\"\n",
        "        \n",
        "        def __init__(self, loss, epsilon):\n",
        "            \"\"\"\n",
        "            \n",
        "            \"\"\"\n",
        "            self.loss = loss\n",
        "            self.epsilon = epsilon\n",
        "\n",
        "        def forward(self, x, y, model, num_iter=1, alpha=0.01):\n",
        "            \"\"\"\n",
        "            \n",
        "            \"\"\"\n",
        "            # TODO: Implement a one step gradient attack\n",
        "            # Step 1: Calculate the Loss and then calculate the\n",
        "            # gradient of the Loss w.r.t the image\n",
        "            y = torch.Tensor([y]).cuda()\n",
        "            model.train()\n",
        "            # Step 2: Add the gradient (or its sign for each pixel),\n",
        "            # multiplied by a small step size, to \n",
        "            # the original image\n",
        "            # you might need to clamp the modified image to \n",
        "            # make sure the values of each pixel are between [0,1]\n",
        "            x_adv = x\n",
        "            for iteration in range(num_iter):\n",
        "                x_adv = x_adv.cuda()\n",
        "                x_adv = Variable(x_adv, requires_grad=True)\n",
        "                # Step 1: Calculate the Loss and then calculate the\n",
        "                # gradient of the Loss w.r.t the image\n",
        "                loss_adv = self.loss(model(x_adv).unsqueeze(0), y.long())\n",
        "                loss_adv.backward(retain_graph=True) \n",
        "                with torch.no_grad():\n",
        "                    # Step 2: Add the gradient (or its sign for each pixel),\n",
        "                    # multiplied by a small step size, to the original image                   \n",
        "                    # You might need to clamp the modified image to \n",
        "                    # make sure the values of each pixel are between [0,1]    \n",
        "                    if num_iter > 1:                                                           \n",
        "                        x_temp = x_adv + torch.sign(x_adv.grad) * alpha\n",
        "                        # Clamp the attack to be within such that the maximum difference is epsilon\n",
        "                        x_adv = x + torch.clamp(x_temp - x, -self.epsilon, self.epsilon)\n",
        "                    else:\n",
        "                        x_adv = x + torch.sign(x_adv.grad) * self.epsilon\n",
        "            \n",
        "            x_adv = torch.clamp(x_adv, 0, 1)\n",
        "            return x_adv"
      ],
      "execution_count": null,
      "outputs": []
    },
    {
      "cell_type": "code",
      "metadata": {
        "id": "odr3eXKsBjAx"
      },
      "source": [
        "class HAttack():\n",
        "        \n",
        "        \"\"\"\n",
        "        \n",
        "        \"\"\"\n",
        "        \n",
        "        def __init__(self, loss_function, epsilon):\n",
        "            \"\"\"\n",
        "            \n",
        "            \"\"\"\n",
        "            self.loss_function = loss_function\n",
        "            self.epsilon = epsilon\n",
        "\n",
        "        def forward(self, x, y, model, num_iter=1, pmp_iter = 1, alpha=0.01, inner_alpha=1):\n",
        "            \"\"\"\n",
        "            \n",
        "            \"\"\"       \n",
        "            if num_iter == 1:\n",
        "              alpha = self.epsilon\n",
        "            # TODO: Implement a one step gradient attack\n",
        "            # Step 1: Calculate the Loss and then calculate the\n",
        "            # gradient of the Loss w.r.t the image\n",
        "            y = torch.Tensor([y]).cuda()\n",
        "            model.train()\n",
        "            # Step 2: Add the gradient (or its sign for each pixel),\n",
        "            # multiplied by a small step size, to \n",
        "            # the original image\n",
        "            # you might need to clamp the modified image to \n",
        "            # make sure the values of each pixel are between [0,1]\n",
        "            x_adv = x\n",
        "            for iteration in range(num_iter):\n",
        "                x_adv = x_adv.cuda()\n",
        "                x_adv = Variable(x_adv, requires_grad=True)\n",
        "                for k in range(pmp_iter):\n",
        "                  # Step 1: Calculate the Loss and then calculate the\n",
        "                  # gradient of the Loss w.r.t the image\n",
        "                  step = torch.zeros(x.shape, requires_grad=True)\n",
        "                  step = step.to(dev)\n",
        "                  loss_adv = self.loss_function(model(x_adv + step).unsqueeze(0), y.long())\n",
        "                  loss_adv.backward(retain_graph=True) \n",
        "                      # Step 2: Add the gradient (or its sign for each pixel),\n",
        "                      # multiplied by a small step size, to the original image                   \n",
        "                      # You might need to clamp the modified image to\n",
        "                  step += torch.sign(step.grad) * inner_alpha #if want to be = to PGD at pmp_iter = 1, then need to be inner_alpha = 1\n",
        "                x_adv = x + torch.clamp(x_adv + step - x, -self.epsilon, self.epsilon)\n",
        "                #x_adv = x + torch.clamp(x_adv + torch.sign(x_adv.grad) * alpha - x, -self.epsilon, self.epsilon)\n",
        "\n",
        "              # make sure the values of each pixel are between [0,1]\n",
        "              x_adv = torch.clamp(x_adv, 0, 1)\n",
        "            return x_adv    "
      ],
      "execution_count": null,
      "outputs": []
    },
    {
      "cell_type": "code",
      "metadata": {
        "id": "bs6uOIFb_hVo"
      },
      "source": [
        "model = cnn_lstm(4).to(dev)\n",
        "model.load_state_dict(torch.load('/content/gdrive/MyDrive/lstm_checkpoints/gru_best_state_dict.pt'))\n",
        "\n",
        "#resnet = resnet101(pretrained=True).to(dev)\n",
        "#for param in resnet.parameters():\n",
        "#    param.requires_grad = False\n",
        "\n",
        "loss = nn.CrossEntropyLoss()\n",
        "adv_attack = GradientAttack(loss, 0.1)    "
      ],
      "execution_count": null,
      "outputs": []
    },
    {
      "cell_type": "code",
      "metadata": {
        "colab": {
          "base_uri": "https://localhost:8080/",
          "height": 303
        },
        "id": "vbYnTBoML7FP",
        "outputId": "9e9b132f-bcb5-40d7-94a9-03264acbffe6"
      },
      "source": [
        "plt.imshow(np.rot90(np.transpose(inpt[0].cpu().detach().numpy()), k=3))"
      ],
      "execution_count": null,
      "outputs": [
        {
          "output_type": "stream",
          "text": [
            "Clipping input data to the valid range for imshow with RGB data ([0..1] for floats or [0..255] for integers).\n"
          ],
          "name": "stderr"
        },
        {
          "output_type": "execute_result",
          "data": {
            "text/plain": [
              "<matplotlib.image.AxesImage at 0x7f9898966790>"
            ]
          },
          "metadata": {
            "tags": []
          },
          "execution_count": 8
        },
        {
          "output_type": "display_data",
          "data": {
            "image/png": "[encoded data removed]",
            "text/plain": [
              "<Figure size 432x288 with 1 Axes>"
            ]
          },
          "metadata": {
            "tags": [],
            "needs_background": "light"
          }
        }
      ]
    },
    {
      "cell_type": "code",
      "metadata": {
        "colab": {
          "base_uri": "https://localhost:8080/",
          "height": 303
        },
        "id": "1UGWbXBtKfmV",
        "outputId": "00850648-3724-4b43-c3de-dea13d5d267c"
      },
      "source": [
        "plt.imshow(np.rot90(np.transpose(inpt3[0].cpu().detach().numpy()), k=3))"
      ],
      "execution_count": null,
      "outputs": [
        {
          "output_type": "stream",
          "text": [
            "Clipping input data to the valid range for imshow with RGB data ([0..1] for floats or [0..255] for integers).\n"
          ],
          "name": "stderr"
        },
        {
          "output_type": "execute_result",
          "data": {
            "text/plain": [
              "<matplotlib.image.AxesImage at 0x7f98980c5e90>"
            ]
          },
          "metadata": {
            "tags": []
          },
          "execution_count": 9
        },
        {
          "output_type": "display_data",
          "data": {
            "image/png": "[encoded data removed]",
            "text/plain": [
              "<Figure size 432x288 with 1 Axes>"
            ]
          },
          "metadata": {
            "tags": [],
            "needs_background": "light"
          }
        }
      ]
    },
    {
      "cell_type": "markdown",
      "metadata": {
        "id": "ww5ou3F6cDcr"
      },
      "source": [
        "## Results for Fast Gradient Sign Method"
      ]
    },
    {
      "cell_type": "code",
      "metadata": {
        "colab": {
          "base_uri": "https://localhost:8080/"
        },
        "id": "6LrwPYzV_nnR",
        "outputId": "d751d9b4-d5a8-4c7a-b8f6-50327aa90402"
      },
      "source": [
        "################ Model Accuracy On Train Dataset Post Training #################\n",
        "accurates = 0\n",
        "for data in train_dataloader:\n",
        "  torch.cuda.empty_cache()   \n",
        "  input = data['x'][0].to(dev)\n",
        "  label = torch.tensor(data['y']).unsqueeze(0).to(dev)\n",
        "  input.requires_grad = True\n",
        "  input = adv_attack.forward(input, label, model, num_iter=1)\n",
        "  model.eval()\n",
        "  out = model(input)\n",
        "  if torch.argmax(out).item() == label:\n",
        "    accurates += 1\n",
        "\n",
        "accuracy = accurates / len(train_dataloader)\n",
        "print('The model accuracy on the train dataset after training is ' + str(accuracy))"
      ],
      "execution_count": null,
      "outputs": [
        {
          "output_type": "stream",
          "text": [
            "/usr/local/lib/python3.7/dist-packages/ipykernel_launcher.py:6: UserWarning: To copy construct from a tensor, it is recommended to use sourceTensor.clone().detach() or sourceTensor.clone().detach().requires_grad_(True), rather than torch.tensor(sourceTensor).\n",
            "  \n"
          ],
          "name": "stderr"
        },
        {
          "output_type": "stream",
          "text": [
            "The model accuracy on the train dataset after training is 0.61875\n"
          ],
          "name": "stdout"
        }
      ]
    },
    {
      "cell_type": "code",
      "metadata": {
        "colab": {
          "base_uri": "https://localhost:8080/"
        },
        "id": "7fEbhNrx_sLR",
        "outputId": "da6a48a4-14e6-4696-8435-66c5f22e7bff"
      },
      "source": [
        "################ Model Accuracy On Validation Dataset Post Training #################\n",
        "accurates = 0\n",
        "for data in valid_dataloader:\n",
        "  torch.cuda.empty_cache()   \n",
        "  input = data['x'][0].to(dev)\n",
        "  label = torch.tensor(data['y']).unsqueeze(0).to(dev)\n",
        "  input.requires_grad = True\n",
        "  input = adv_attack.forward(input, label, model, num_iter=1)\n",
        "  model.eval()\n",
        "  out = model(input)\n",
        "  if torch.argmax(out).item() == label:\n",
        "    accurates += 1\n",
        "\n",
        "accuracy = accurates / len(valid_dataloader)\n",
        "print('The model accuracy on the validation dataset after training is ' + str(accuracy))\n",
        "    \n",
        "accurates = 0\n",
        "for data in test_dataloader:\n",
        "  torch.cuda.empty_cache()   \n",
        "  input = data['x'][0].to(dev)\n",
        "  label = torch.tensor(data['y']).unsqueeze(0).to(dev)\n",
        "  input.requires_grad = True\n",
        "  input = adv_attack.forward(input, label, model, num_iter=1)\n",
        "  model.eval()\n",
        "  out = model(input)\n",
        "  if torch.argmax(out).item() == label:\n",
        "    accurates += 1\n",
        "\n",
        "accuracy = accurates / len(test_dataloader)\n",
        "print('The model accuracy on the testing dataset after training is ' + str(accuracy))"
      ],
      "execution_count": null,
      "outputs": [
        {
          "output_type": "stream",
          "text": [
            "/usr/local/lib/python3.7/dist-packages/ipykernel_launcher.py:6: UserWarning: To copy construct from a tensor, it is recommended to use sourceTensor.clone().detach() or sourceTensor.clone().detach().requires_grad_(True), rather than torch.tensor(sourceTensor).\n",
            "  \n"
          ],
          "name": "stderr"
        },
        {
          "output_type": "stream",
          "text": [
            "The model accuracy on the validation dataset after training is 0.35\n"
          ],
          "name": "stdout"
        },
        {
          "output_type": "stream",
          "text": [
            "/usr/local/lib/python3.7/dist-packages/ipykernel_launcher.py:21: UserWarning: To copy construct from a tensor, it is recommended to use sourceTensor.clone().detach() or sourceTensor.clone().detach().requires_grad_(True), rather than torch.tensor(sourceTensor).\n"
          ],
          "name": "stderr"
        },
        {
          "output_type": "stream",
          "text": [
            "The model accuracy on the testing dataset after training is 0.43137254901960786\n"
          ],
          "name": "stdout"
        }
      ]
    },
    {
      "cell_type": "code",
      "metadata": {
        "colab": {
          "base_uri": "https://localhost:8080/"
        },
        "id": "RBXyVywMeY2V",
        "outputId": "f68fac83-b04b-42b1-d8b8-3932b83fbf5a"
      },
      "source": [
        "np.arange(0, 1, 0.05)"
      ],
      "execution_count": null,
      "outputs": [
        {
          "output_type": "execute_result",
          "data": {
            "text/plain": [
              "array([0.  , 0.05, 0.1 , 0.15, 0.2 , 0.25, 0.3 , 0.35, 0.4 , 0.45, 0.5 ,\n",
              "       0.55, 0.6 , 0.65, 0.7 , 0.75, 0.8 , 0.85, 0.9 , 0.95])"
            ]
          },
          "metadata": {
            "tags": []
          },
          "execution_count": 91
        }
      ]
    },
    {
      "cell_type": "code",
      "metadata": {
        "colab": {
          "base_uri": "https://localhost:8080/"
        },
        "id": "Fpm3xOJLeQSW",
        "outputId": "48e7e7c1-2387-4af5-d481-982b6bf1f134"
      },
      "source": [
        "epsilon_range = np.arange(0, 1, 0.5)\n",
        "accs = []\n",
        "loss = nn.CrossEntropyLoss()\n",
        "\n",
        "for epsilon in epsilon_range:\n",
        "  accurates = 0\n",
        "  adv_attack = GradientAttack(loss, epsilon) \n",
        "  for data in test_dataloader:\n",
        "    torch.cuda.empty_cache()   \n",
        "    input = data['x'][0].to(dev)\n",
        "    label = torch.tensor(data['y']).unsqueeze(0).to(dev)\n",
        "    input.requires_grad = True\n",
        "    input = adv_attack.forward(input, label, model, num_iter=1)\n",
        "    model.eval()\n",
        "    out = model(input)\n",
        "    if torch.argmax(out).item() == label:\n",
        "      accurates += 1\n",
        "\n",
        "  accs.append(accurates / len(test_dataloader))\n"
      ],
      "execution_count": null,
      "outputs": [
        {
          "output_type": "stream",
          "text": [
            "/usr/local/lib/python3.7/dist-packages/ipykernel_launcher.py:11: UserWarning: To copy construct from a tensor, it is recommended to use sourceTensor.clone().detach() or sourceTensor.clone().detach().requires_grad_(True), rather than torch.tensor(sourceTensor).\n",
            "  # This is added back by InteractiveShellApp.init_path()\n"
          ],
          "name": "stderr"
        }
      ]
    },
    {
      "cell_type": "code",
      "metadata": {
        "colab": {
          "base_uri": "https://localhost:8080/",
          "height": 298
        },
        "id": "6NWMfU1DfK26",
        "outputId": "b69ba665-b189-44fd-b611-de4a1e07c5d9"
      },
      "source": [
        "plt.plot(epsilon_range, accs)\n",
        "plt.title(\"Epsilon vs. Accuracy for FGSM\")"
      ],
      "execution_count": null,
      "outputs": [
        {
          "output_type": "execute_result",
          "data": {
            "text/plain": [
              "Text(0.5, 1.0, 'Epsilon vs. Accuracy for FGSM')"
            ]
          },
          "metadata": {
            "tags": []
          },
          "execution_count": 98
        },
        {
          "output_type": "display_data",
          "data": {
            "image/png": "[encoded data removed]",
            "text/plain": [
              "<Figure size 432x288 with 1 Axes>"
            ]
          },
          "metadata": {
            "tags": [],
            "needs_background": "light"
          }
        }
      ]
    },
    {
      "cell_type": "markdown",
      "metadata": {
        "id": "XI6-GEvvhiUN"
      },
      "source": [
        "## Results for PGD"
      ]
    },
    {
      "cell_type": "code",
      "metadata": {
        "colab": {
          "base_uri": "https://localhost:8080/"
        },
        "id": "XqghgEylhgDu",
        "outputId": "6dcf95d6-d406-4f8c-d94e-4f0059767b66"
      },
      "source": [
        "iteration_range = np.arange(2, 51, 2)\n",
        "accs = []\n",
        "loss = nn.CrossEntropyLoss()\n",
        "\n",
        "for iteration in iteration_range:\n",
        "  accurates = 0\n",
        "  adv_attack = GradientAttack(loss, 0.1)\n",
        "  adv_attack2 = HAttack(loss, 0.1)\n",
        "  for data in test_dataloader:\n",
        "    torch.cuda.empty_cache()   \n",
        "    input = data['x'][0].to(dev)\n",
        "    label = torch.tensor(data['y']).unsqueeze(0).to(dev)\n",
        "    input.requires_grad = True\n",
        "    input = adv_attack.forward(input, label, model, num_iter=iteration)\n",
        "    model.eval()\n",
        "    out = model(input)\n",
        "    if torch.argmax(out).item() == label:\n",
        "      accurates += 1\n",
        "\n",
        "    input = data['x'][0].to(dev)\n",
        "    label = torch.tensor(data['y']).unsqueeze(0).to(dev)\n",
        "    input.requires_grad = True\n",
        "    input = adv_attack2.forward(input, label, model, num_iter=iteration, pmp_iter=5)\n",
        "    model.eval()\n",
        "    out = model(input)\n",
        "    if torch.argmax(out).item() == label:\n",
        "      accurates += 1\n",
        "\n",
        "  accs.append(accurates / len(test_dataloader))"
      ],
      "execution_count": null,
      "outputs": [
        {
          "output_type": "stream",
          "text": [
            "/usr/local/lib/python3.7/dist-packages/ipykernel_launcher.py:11: UserWarning: To copy construct from a tensor, it is recommended to use sourceTensor.clone().detach() or sourceTensor.clone().detach().requires_grad_(True), rather than torch.tensor(sourceTensor).\n",
            "  # This is added back by InteractiveShellApp.init_path()\n"
          ],
          "name": "stderr"
        }
      ]
    },
    {
      "cell_type": "code",
      "metadata": {
        "colab": {
          "base_uri": "https://localhost:8080/",
          "height": 298
        },
        "id": "Se-Qm53YjHGR",
        "outputId": "a6f79f0f-5dca-47a7-c3c7-1711d2c094c3"
      },
      "source": [
        "plt.plot(iteration_range, accs)\n",
        "plt.title(\"Iteration vs. Accuracy for PGM\")"
      ],
      "execution_count": null,
      "outputs": [
        {
          "output_type": "execute_result",
          "data": {
            "text/plain": [
              "Text(0.5, 1.0, 'Iteration vs. Accuracy for PGM')"
            ]
          },
          "metadata": {
            "tags": []
          },
          "execution_count": 15
        },
        {
          "output_type": "display_data",
          "data": {
            "image/png": "[encoded data removed]",
            "text/plain": [
              "<Figure size 432x288 with 1 Axes>"
            ]
          },
          "metadata": {
            "tags": [],
            "needs_background": "light"
          }
        }
      ]
    }
  ]
}